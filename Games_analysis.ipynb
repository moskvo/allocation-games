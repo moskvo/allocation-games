{
 "cells": [
  {
   "cell_type": "code",
   "execution_count": 1,
   "metadata": {},
   "outputs": [],
   "source": [
    "import pandas as pd\n",
    "import numpy as np\n",
    "import matplotlib.pyplot as plt\n",
    "import os.path as ospath"
   ]
  },
  {
   "cell_type": "code",
   "execution_count": 2,
   "metadata": {},
   "outputs": [
    {
     "name": "stdout",
     "output_type": "stream",
     "text": [
      "Index(['Game', 'Time', 'Subject', 'Group', 'GrSubject', 'Type', 'Gain',\n",
      "       'Penalty', 'x', 's1', 's2', 's3', 'AcceptAdvice', 'CalcCount',\n",
      "       'CalcAdviceCount', 'UseHelp'],\n",
      "      dtype='object')\n"
     ]
    },
    {
     "data": {
      "text/plain": [
       "Index(['Session', 'Game', 'Date', 'Place', 'GamersCount', 'R',\n",
       "       'Parametr1_alfa', 'Parametr2_beta', 'Mechname', 'GameMech',\n",
       "       'Cooperation', 'talks', 'Name', 'Datafile', 'Sbjfile', 'стимул',\n",
       "       'Group', 'Курс балла', 'End step'],\n",
       "      dtype='object')"
      ]
     },
     "execution_count": 2,
     "metadata": {},
     "output_type": "execute_result"
    }
   ],
   "source": [
    "excelfile = ospath.join('..','Serious games','Games','БД4_Лёгкая.xlsm')\n",
    "\n",
    "Alldata = pd.read_excel(excelfile,sheet_name='Данные')\n",
    "print(Alldata.columns)\n",
    "Games = pd.read_excel(excelfile,sheet_name='Игры')\n",
    "Games.columns"
   ]
  },
  {
   "cell_type": "code",
   "execution_count": 3,
   "metadata": {},
   "outputs": [
    {
     "name": "stdout",
     "output_type": "stream",
     "text": [
      "(1035, 16) (90, 16)\n"
     ]
    }
   ],
   "source": [
    "YHGames=Games[(Games.Mechname=='yh') & (Games.GameMech=='agree')]\n",
    "YHExpGames=Games[(Games.Mechname=='yh') & (Games.GameMech=='exp')]\n",
    "\n",
    "YHData=Alldata[Alldata.Game.isin(YHGames.Game)]\n",
    "YHEData=Alldata[Alldata.Game.isin(YHExpGames.Game)]\n",
    "\n",
    "print(YHData.shape,YHEData.shape)"
   ]
  },
  {
   "cell_type": "code",
   "execution_count": 4,
   "metadata": {},
   "outputs": [
    {
     "data": {
      "text/plain": [
       "(2847, 16)"
      ]
     },
     "execution_count": 4,
     "metadata": {},
     "output_type": "execute_result"
    }
   ],
   "source": [
    "GLGames=Games[(Games.Mechname=='gl') & (Games.GameMech=='agree')]\n",
    "GLData=Alldata[Alldata.Game.isin(GLGames.Game)]\n",
    "\n",
    "GLEGames=Games[(Games.Mechname=='gl') & (Games.GameMech=='exp')]\n",
    "GLEData=Alldata[Alldata.Game.isin(GLEGames.Game)]\n",
    "\n",
    "GLData.shape"
   ]
  },
  {
   "cell_type": "code",
   "execution_count": 4,
   "metadata": {},
   "outputs": [],
   "source": [
    "from scipy.spatial import distance"
   ]
  },
  {
   "cell_type": "code",
   "execution_count": 5,
   "metadata": {},
   "outputs": [
    {
     "data": {
      "text/plain": [
       "26.700000000000003"
      ]
     },
     "execution_count": 5,
     "metadata": {},
     "output_type": "execute_result"
    }
   ],
   "source": [
    "distance.cityblock([49,41,25],[38.3,38.3,38.3])"
   ]
  },
  {
   "cell_type": "markdown",
   "metadata": {},
   "source": [
    "## Добавляем столбец с Наилучшим ответом и гамма (вел-на шага в индикаторном поведении"
   ]
  },
  {
   "cell_type": "code",
   "execution_count": 5,
   "metadata": {},
   "outputs": [
    {
     "data": {
      "text/html": [
       "<div>\n",
       "<style scoped>\n",
       "    .dataframe tbody tr th:only-of-type {\n",
       "        vertical-align: middle;\n",
       "    }\n",
       "\n",
       "    .dataframe tbody tr th {\n",
       "        vertical-align: top;\n",
       "    }\n",
       "\n",
       "    .dataframe thead th {\n",
       "        text-align: right;\n",
       "    }\n",
       "</style>\n",
       "<table border=\"1\" class=\"dataframe\">\n",
       "  <thead>\n",
       "    <tr style=\"text-align: right;\">\n",
       "      <th></th>\n",
       "      <th>Game</th>\n",
       "      <th>Time</th>\n",
       "      <th>g</th>\n",
       "      <th>br</th>\n",
       "      <th>GrSubject</th>\n",
       "    </tr>\n",
       "  </thead>\n",
       "  <tbody>\n",
       "    <tr>\n",
       "      <th>0</th>\n",
       "      <td>40.0</td>\n",
       "      <td>2.0</td>\n",
       "      <td>0.013325</td>\n",
       "      <td>8.504692</td>\n",
       "      <td>1</td>\n",
       "    </tr>\n",
       "    <tr>\n",
       "      <th>1</th>\n",
       "      <td>40.0</td>\n",
       "      <td>3.0</td>\n",
       "      <td>-0.013505</td>\n",
       "      <td>8.504692</td>\n",
       "      <td>1</td>\n",
       "    </tr>\n",
       "    <tr>\n",
       "      <th>2</th>\n",
       "      <td>40.0</td>\n",
       "      <td>4.0</td>\n",
       "      <td>0.013325</td>\n",
       "      <td>8.504692</td>\n",
       "      <td>1</td>\n",
       "    </tr>\n",
       "    <tr>\n",
       "      <th>3</th>\n",
       "      <td>40.0</td>\n",
       "      <td>5.0</td>\n",
       "      <td>2.953944</td>\n",
       "      <td>39.658624</td>\n",
       "      <td>1</td>\n",
       "    </tr>\n",
       "    <tr>\n",
       "      <th>4</th>\n",
       "      <td>40.0</td>\n",
       "      <td>6.0</td>\n",
       "      <td>1.513113</td>\n",
       "      <td>39.658624</td>\n",
       "      <td>1</td>\n",
       "    </tr>\n",
       "  </tbody>\n",
       "</table>\n",
       "</div>"
      ],
      "text/plain": [
       "   Game  Time         g         br  GrSubject\n",
       "0  40.0   2.0  0.013325   8.504692          1\n",
       "1  40.0   3.0 -0.013505   8.504692          1\n",
       "2  40.0   4.0  0.013325   8.504692          1\n",
       "3  40.0   5.0  2.953944  39.658624          1\n",
       "4  40.0   6.0  1.513113  39.658624          1"
      ]
     },
     "execution_count": 5,
     "metadata": {},
     "output_type": "execute_result"
    }
   ],
   "source": [
    "csvfile = ospath.join('..','Serious games','YHBRdata.csv')\n",
    "\n",
    "BRdata = pd.read_csv(csvfile,header=None)\n",
    "BRdata.columns = ['Game','Time','g1','g2','g3','br1','br2','br3']\n",
    "\n",
    "br1 = BRdata[['Game','Time','g1','br1']].copy()\n",
    "br1.columns = ['Game','Time','g','br']\n",
    "br1['GrSubject'] = 1\n",
    "#br1.insert(br1.shape[1],'GrSubject',1)\n",
    "\n",
    "br2 = BRdata[['Game','Time','g2','br2']].copy()\n",
    "br2.columns = ['Game','Time','g','br']\n",
    "br2['GrSubject'] = 2\n",
    "#br2.insert(br2.shape[1],'GrSubject',2)\n",
    "\n",
    "br3 = BRdata[['Game','Time','g3','br3']].copy()\n",
    "br3.columns = ['Game','Time','g','br']\n",
    "br3['GrSubject'] = 3\n",
    "#br3.insert(br3.shape[1],'GrSubject',3)\n",
    "\n",
    "BRdata=pd.concat([br1,br2,br3])\n",
    "\n",
    "BRdata.head()"
   ]
  },
  {
   "cell_type": "code",
   "execution_count": 6,
   "metadata": {},
   "outputs": [
    {
     "data": {
      "text/html": [
       "<div>\n",
       "<style scoped>\n",
       "    .dataframe tbody tr th:only-of-type {\n",
       "        vertical-align: middle;\n",
       "    }\n",
       "\n",
       "    .dataframe tbody tr th {\n",
       "        vertical-align: top;\n",
       "    }\n",
       "\n",
       "    .dataframe thead th {\n",
       "        text-align: right;\n",
       "    }\n",
       "</style>\n",
       "<table border=\"1\" class=\"dataframe\">\n",
       "  <thead>\n",
       "    <tr style=\"text-align: right;\">\n",
       "      <th></th>\n",
       "      <th>Game</th>\n",
       "      <th>Time</th>\n",
       "      <th>Subject</th>\n",
       "      <th>Group</th>\n",
       "      <th>GrSubject</th>\n",
       "      <th>Type</th>\n",
       "      <th>Gain</th>\n",
       "      <th>Penalty</th>\n",
       "      <th>x</th>\n",
       "      <th>s1</th>\n",
       "      <th>s2</th>\n",
       "      <th>s3</th>\n",
       "      <th>AcceptAdvice</th>\n",
       "      <th>CalcCount</th>\n",
       "      <th>CalcAdviceCount</th>\n",
       "      <th>UseHelp</th>\n",
       "      <th>g</th>\n",
       "      <th>br</th>\n",
       "    </tr>\n",
       "  </thead>\n",
       "  <tbody>\n",
       "    <tr>\n",
       "      <th>0</th>\n",
       "      <td>40</td>\n",
       "      <td>1</td>\n",
       "      <td>6</td>\n",
       "      <td>1</td>\n",
       "      <td>2</td>\n",
       "      <td>9.0</td>\n",
       "      <td>2.129054</td>\n",
       "      <td>5.74200</td>\n",
       "      <td>52.953488</td>\n",
       "      <td>NaN</td>\n",
       "      <td>99.0</td>\n",
       "      <td>NaN</td>\n",
       "      <td>0.0</td>\n",
       "      <td>0.0</td>\n",
       "      <td>0.0</td>\n",
       "      <td>0.0</td>\n",
       "      <td>NaN</td>\n",
       "      <td>NaN</td>\n",
       "    </tr>\n",
       "    <tr>\n",
       "      <th>1</th>\n",
       "      <td>40</td>\n",
       "      <td>1</td>\n",
       "      <td>10</td>\n",
       "      <td>1</td>\n",
       "      <td>3</td>\n",
       "      <td>25.0</td>\n",
       "      <td>3.551163</td>\n",
       "      <td>5.75000</td>\n",
       "      <td>61.511628</td>\n",
       "      <td>NaN</td>\n",
       "      <td>115.0</td>\n",
       "      <td>NaN</td>\n",
       "      <td>0.0</td>\n",
       "      <td>0.0</td>\n",
       "      <td>0.0</td>\n",
       "      <td>0.0</td>\n",
       "      <td>NaN</td>\n",
       "      <td>NaN</td>\n",
       "    </tr>\n",
       "    <tr>\n",
       "      <th>2</th>\n",
       "      <td>40</td>\n",
       "      <td>1</td>\n",
       "      <td>11</td>\n",
       "      <td>1</td>\n",
       "      <td>1</td>\n",
       "      <td>1.0</td>\n",
       "      <td>1.131904</td>\n",
       "      <td>0.10700</td>\n",
       "      <td>0.534884</td>\n",
       "      <td>NaN</td>\n",
       "      <td>1.0</td>\n",
       "      <td>NaN</td>\n",
       "      <td>0.0</td>\n",
       "      <td>0.0</td>\n",
       "      <td>0.0</td>\n",
       "      <td>2.0</td>\n",
       "      <td>NaN</td>\n",
       "      <td>NaN</td>\n",
       "    </tr>\n",
       "    <tr>\n",
       "      <th>3</th>\n",
       "      <td>40</td>\n",
       "      <td>2</td>\n",
       "      <td>6</td>\n",
       "      <td>1</td>\n",
       "      <td>2</td>\n",
       "      <td>9.0</td>\n",
       "      <td>2.122540</td>\n",
       "      <td>5.74695</td>\n",
       "      <td>52.928870</td>\n",
       "      <td>NaN</td>\n",
       "      <td>99.0</td>\n",
       "      <td>NaN</td>\n",
       "      <td>0.0</td>\n",
       "      <td>0.0</td>\n",
       "      <td>0.0</td>\n",
       "      <td>1.0</td>\n",
       "      <td>0.0</td>\n",
       "      <td>27.598804</td>\n",
       "    </tr>\n",
       "    <tr>\n",
       "      <th>4</th>\n",
       "      <td>40</td>\n",
       "      <td>2</td>\n",
       "      <td>10</td>\n",
       "      <td>1</td>\n",
       "      <td>3</td>\n",
       "      <td>25.0</td>\n",
       "      <td>3.543875</td>\n",
       "      <td>5.75575</td>\n",
       "      <td>61.483031</td>\n",
       "      <td>NaN</td>\n",
       "      <td>115.0</td>\n",
       "      <td>NaN</td>\n",
       "      <td>0.0</td>\n",
       "      <td>3.0</td>\n",
       "      <td>0.0</td>\n",
       "      <td>1.0</td>\n",
       "      <td>0.0</td>\n",
       "      <td>27.605742</td>\n",
       "    </tr>\n",
       "  </tbody>\n",
       "</table>\n",
       "</div>"
      ],
      "text/plain": [
       "   Game  Time Subject  Group  GrSubject  Type      Gain  Penalty          x  \\\n",
       "0    40     1       6      1          2   9.0  2.129054  5.74200  52.953488   \n",
       "1    40     1      10      1          3  25.0  3.551163  5.75000  61.511628   \n",
       "2    40     1      11      1          1   1.0  1.131904  0.10700   0.534884   \n",
       "3    40     2       6      1          2   9.0  2.122540  5.74695  52.928870   \n",
       "4    40     2      10      1          3  25.0  3.543875  5.75575  61.483031   \n",
       "\n",
       "   s1     s2  s3  AcceptAdvice  CalcCount  CalcAdviceCount  UseHelp    g  \\\n",
       "0 NaN   99.0 NaN           0.0        0.0              0.0      0.0  NaN   \n",
       "1 NaN  115.0 NaN           0.0        0.0              0.0      0.0  NaN   \n",
       "2 NaN    1.0 NaN           0.0        0.0              0.0      2.0  NaN   \n",
       "3 NaN   99.0 NaN           0.0        0.0              0.0      1.0  0.0   \n",
       "4 NaN  115.0 NaN           0.0        3.0              0.0      1.0  0.0   \n",
       "\n",
       "          br  \n",
       "0        NaN  \n",
       "1        NaN  \n",
       "2        NaN  \n",
       "3  27.598804  \n",
       "4  27.605742  "
      ]
     },
     "execution_count": 6,
     "metadata": {},
     "output_type": "execute_result"
    }
   ],
   "source": [
    "YHData = pd.merge(YHData, BRdata, on=['Game', 'Time','GrSubject'], how='outer')\n",
    "YHData.head()"
   ]
  },
  {
   "cell_type": "code",
   "execution_count": 7,
   "metadata": {},
   "outputs": [],
   "source": [
    "c1,c2 = YHData['s2'],YHData['br']\n",
    "\n",
    "YHData['br0'] = ((c1-c2).abs() < 0.01).astype('float64')\n",
    "YHData['br0.5'] = ((c1-c2).abs() < 0.51).astype('float64')\n",
    "YHData['br1'] = ((c1-c2).abs() < 1.01).astype('float64')\n",
    "YHData['twbr'] = (YHData['g'] > 0).astype('float64')"
   ]
  },
  {
   "cell_type": "code",
   "execution_count": 8,
   "metadata": {},
   "outputs": [
    {
     "data": {
      "text/html": [
       "<div>\n",
       "<style scoped>\n",
       "    .dataframe tbody tr th:only-of-type {\n",
       "        vertical-align: middle;\n",
       "    }\n",
       "\n",
       "    .dataframe tbody tr th {\n",
       "        vertical-align: top;\n",
       "    }\n",
       "\n",
       "    .dataframe thead th {\n",
       "        text-align: right;\n",
       "    }\n",
       "</style>\n",
       "<table border=\"1\" class=\"dataframe\">\n",
       "  <thead>\n",
       "    <tr style=\"text-align: right;\">\n",
       "      <th></th>\n",
       "      <th>Game</th>\n",
       "      <th>Time</th>\n",
       "      <th>Subject</th>\n",
       "      <th>Group</th>\n",
       "      <th>GrSubject</th>\n",
       "      <th>Type</th>\n",
       "      <th>Gain</th>\n",
       "      <th>Penalty</th>\n",
       "      <th>x</th>\n",
       "      <th>s1</th>\n",
       "      <th>...</th>\n",
       "      <th>AcceptAdvice</th>\n",
       "      <th>CalcCount</th>\n",
       "      <th>CalcAdviceCount</th>\n",
       "      <th>UseHelp</th>\n",
       "      <th>g</th>\n",
       "      <th>br</th>\n",
       "      <th>br0</th>\n",
       "      <th>br0.5</th>\n",
       "      <th>br1</th>\n",
       "      <th>twbr</th>\n",
       "    </tr>\n",
       "  </thead>\n",
       "  <tbody>\n",
       "    <tr>\n",
       "      <th>0</th>\n",
       "      <td>40</td>\n",
       "      <td>1</td>\n",
       "      <td>6</td>\n",
       "      <td>1</td>\n",
       "      <td>2</td>\n",
       "      <td>9.0</td>\n",
       "      <td>2.129054</td>\n",
       "      <td>5.74200</td>\n",
       "      <td>52.953488</td>\n",
       "      <td>NaN</td>\n",
       "      <td>...</td>\n",
       "      <td>0.0</td>\n",
       "      <td>0.0</td>\n",
       "      <td>0.0</td>\n",
       "      <td>0.0</td>\n",
       "      <td>NaN</td>\n",
       "      <td>NaN</td>\n",
       "      <td>0.0</td>\n",
       "      <td>0.0</td>\n",
       "      <td>0.0</td>\n",
       "      <td>0.0</td>\n",
       "    </tr>\n",
       "    <tr>\n",
       "      <th>1</th>\n",
       "      <td>40</td>\n",
       "      <td>1</td>\n",
       "      <td>10</td>\n",
       "      <td>1</td>\n",
       "      <td>3</td>\n",
       "      <td>25.0</td>\n",
       "      <td>3.551163</td>\n",
       "      <td>5.75000</td>\n",
       "      <td>61.511628</td>\n",
       "      <td>NaN</td>\n",
       "      <td>...</td>\n",
       "      <td>0.0</td>\n",
       "      <td>0.0</td>\n",
       "      <td>0.0</td>\n",
       "      <td>0.0</td>\n",
       "      <td>NaN</td>\n",
       "      <td>NaN</td>\n",
       "      <td>0.0</td>\n",
       "      <td>0.0</td>\n",
       "      <td>0.0</td>\n",
       "      <td>0.0</td>\n",
       "    </tr>\n",
       "    <tr>\n",
       "      <th>2</th>\n",
       "      <td>40</td>\n",
       "      <td>1</td>\n",
       "      <td>11</td>\n",
       "      <td>1</td>\n",
       "      <td>1</td>\n",
       "      <td>1.0</td>\n",
       "      <td>1.131904</td>\n",
       "      <td>0.10700</td>\n",
       "      <td>0.534884</td>\n",
       "      <td>NaN</td>\n",
       "      <td>...</td>\n",
       "      <td>0.0</td>\n",
       "      <td>0.0</td>\n",
       "      <td>0.0</td>\n",
       "      <td>2.0</td>\n",
       "      <td>NaN</td>\n",
       "      <td>NaN</td>\n",
       "      <td>0.0</td>\n",
       "      <td>0.0</td>\n",
       "      <td>0.0</td>\n",
       "      <td>0.0</td>\n",
       "    </tr>\n",
       "    <tr>\n",
       "      <th>3</th>\n",
       "      <td>40</td>\n",
       "      <td>2</td>\n",
       "      <td>6</td>\n",
       "      <td>1</td>\n",
       "      <td>2</td>\n",
       "      <td>9.0</td>\n",
       "      <td>2.122540</td>\n",
       "      <td>5.74695</td>\n",
       "      <td>52.928870</td>\n",
       "      <td>NaN</td>\n",
       "      <td>...</td>\n",
       "      <td>0.0</td>\n",
       "      <td>0.0</td>\n",
       "      <td>0.0</td>\n",
       "      <td>1.0</td>\n",
       "      <td>0.0</td>\n",
       "      <td>27.598804</td>\n",
       "      <td>0.0</td>\n",
       "      <td>0.0</td>\n",
       "      <td>0.0</td>\n",
       "      <td>0.0</td>\n",
       "    </tr>\n",
       "    <tr>\n",
       "      <th>4</th>\n",
       "      <td>40</td>\n",
       "      <td>2</td>\n",
       "      <td>10</td>\n",
       "      <td>1</td>\n",
       "      <td>3</td>\n",
       "      <td>25.0</td>\n",
       "      <td>3.543875</td>\n",
       "      <td>5.75575</td>\n",
       "      <td>61.483031</td>\n",
       "      <td>NaN</td>\n",
       "      <td>...</td>\n",
       "      <td>0.0</td>\n",
       "      <td>3.0</td>\n",
       "      <td>0.0</td>\n",
       "      <td>1.0</td>\n",
       "      <td>0.0</td>\n",
       "      <td>27.605742</td>\n",
       "      <td>0.0</td>\n",
       "      <td>0.0</td>\n",
       "      <td>0.0</td>\n",
       "      <td>0.0</td>\n",
       "    </tr>\n",
       "  </tbody>\n",
       "</table>\n",
       "<p>5 rows × 22 columns</p>\n",
       "</div>"
      ],
      "text/plain": [
       "   Game  Time Subject  Group  GrSubject  Type      Gain  Penalty          x  \\\n",
       "0    40     1       6      1          2   9.0  2.129054  5.74200  52.953488   \n",
       "1    40     1      10      1          3  25.0  3.551163  5.75000  61.511628   \n",
       "2    40     1      11      1          1   1.0  1.131904  0.10700   0.534884   \n",
       "3    40     2       6      1          2   9.0  2.122540  5.74695  52.928870   \n",
       "4    40     2      10      1          3  25.0  3.543875  5.75575  61.483031   \n",
       "\n",
       "   s1  ...   AcceptAdvice  CalcCount  CalcAdviceCount  UseHelp    g  \\\n",
       "0 NaN  ...            0.0        0.0              0.0      0.0  NaN   \n",
       "1 NaN  ...            0.0        0.0              0.0      0.0  NaN   \n",
       "2 NaN  ...            0.0        0.0              0.0      2.0  NaN   \n",
       "3 NaN  ...            0.0        0.0              0.0      1.0  0.0   \n",
       "4 NaN  ...            0.0        3.0              0.0      1.0  0.0   \n",
       "\n",
       "          br  br0  br0.5  br1  twbr  \n",
       "0        NaN  0.0    0.0  0.0   0.0  \n",
       "1        NaN  0.0    0.0  0.0   0.0  \n",
       "2        NaN  0.0    0.0  0.0   0.0  \n",
       "3  27.598804  0.0    0.0  0.0   0.0  \n",
       "4  27.605742  0.0    0.0  0.0   0.0  \n",
       "\n",
       "[5 rows x 22 columns]"
      ]
     },
     "execution_count": 8,
     "metadata": {},
     "output_type": "execute_result"
    }
   ],
   "source": [
    "YHData.head()"
   ]
  },
  {
   "cell_type": "markdown",
   "metadata": {},
   "source": [
    "### КП"
   ]
  },
  {
   "cell_type": "code",
   "execution_count": 9,
   "metadata": {},
   "outputs": [],
   "source": [
    "def aheadCB(diter,eps,metric='cityblock'):\n",
    "    \"\"\" return next CB start and stop and remaining iterator \"\"\"\n",
    "    from scipy.spatial import distance\n",
    "    from itertools import chain as mchain\n",
    "    start,vals = next(diter)\n",
    "    vals = [ vals ]\n",
    "    \n",
    "    prev = start\n",
    "    for i,v in diter:\n",
    "        if np.asscalar(max(distance.cdist(vals,[v],metric))) > eps :\n",
    "            return ((start,prev),mchain([(i,v)],diter))\n",
    "        else:\n",
    "            prev = i\n",
    "            vals.append( v )\n",
    "    return ((start,prev),diter)\n",
    "\n",
    "def getCB(data,eps=0,metric='cityblock'): # colon data[0] must be 1,2,3,... to properly work of data[end-1] \n",
    "    from itertools import chain as mchain\n",
    "    dend = data.index[-1]\n",
    "    (start,end),diter = aheadCB(zip(data.index.values,data.values),eps,metric=metric)\n",
    "    if start != end :\n",
    "        cblist = [(start,end)]\n",
    "        diter = mchain([(end,data.loc[end].values)],diter)\n",
    "    else :\n",
    "        cblist = []\n",
    "\n",
    "    while end != dend :\n",
    "        ((start,end),diter) = aheadCB(diter,eps)\n",
    "        if start != end :\n",
    "            cblist.append((start,end))\n",
    "            diter = mchain([(end,data.loc[end].values)],diter)\n",
    "    return cblist"
   ]
  },
  {
   "cell_type": "code",
   "execution_count": 10,
   "metadata": {},
   "outputs": [],
   "source": [
    "def OnlySelfBidsOfGame(game): # s2 = sii\n",
    "    shiftgame = game.copy()\n",
    "    n = game.columns.get_loc('s1') - 1\n",
    "    shiftgame.loc[:,'s2']=shiftgame.apply(lambda x: x[n+x['GrSubject']], axis=1)\n",
    "    return shiftgame\n",
    "\n",
    "def getCBwithEps(gamesdata, eps=0,dim=1,metric='cityblock'):    \n",
    "    cols = ['s2'] if dim == 1 else ['s1','s2','s3']\n",
    "    gr = gamesdata.loc[:,['Game','Time','GrSubject']+cols].groupby(['GrSubject','Game'])\n",
    "    \n",
    "    lst = []\n",
    "    for (s,g),data in gr:\n",
    "        data = data.set_index('Time')\n",
    "        glen = data.index.max()\n",
    "        if dim == 1:\n",
    "            cb = getCB(data[cols],eps,metric=metric)\n",
    "        else:\n",
    "            cb = getCB(data[cols],eps,metric=metric)\n",
    "        data = pd.DataFrame(cb,columns=['ts','te'])\n",
    "        data['subject'] = s\n",
    "        data['game'] = g\n",
    "        data['gamelength'] = glen\n",
    "        lst.append(data)\n",
    "    return pd.concat(lst).reset_index(drop=True)\n",
    "    \n",
    "def getCBofAllGames(gamesdata, maxeps=10, dim=1,metric='cityblock'):\n",
    "    if dim == 1:\n",
    "        gr = gamesdata.loc[:,['Game','Time','GrSubject','s2']].groupby(['GrSubject','Game'])\n",
    "    else:\n",
    "        gr = gamesdata.loc[:,['Game','Time','GrSubject','s1','s2','s3']].groupby(['GrSubject','Game'])\n",
    "    cbCounts, stepsCounts = [],[]\n",
    "    for eps in range(maxeps+1):\n",
    "        lst = []\n",
    "        for (s,g),data in gr:\n",
    "            data = data.set_index('Time')\n",
    "            if dim == 1:\n",
    "                cb = getCB(data[['s2']],eps,metric=metric)\n",
    "            else:\n",
    "                cb = getCB(data[['s1','s2','s3']],eps,metric=metric)\n",
    "            data = pd.DataFrame(cb,columns=['ts','te'])\n",
    "            data['subject'] = s\n",
    "            data['game'] = g\n",
    "            lst.append(data)\n",
    "        cb = pd.concat(lst).reset_index(drop=True)\n",
    "        cbCounts.append(cb.shape[0])\n",
    "        stepsCounts.append((cb['te']-cb['ts']+1).sum())\n",
    "    Counts = pd.DataFrame({'CB Count':cbCounts,'Steps Count':stepsCounts})\n",
    "    Counts.index.name = 'eps'\n",
    "    return Counts\n",
    "def getCountsofCB(cbdata):\n",
    "    pass\n",
    "\n",
    "def DataWoCB(gamedata, CBdata, cbeps=0):\n",
    "    \"\"\"Game data without constant steps: it takes first steps of an each cb and drops out each other steps from game data.\"\"\"\n",
    "    if not CBdata is None:\n",
    "        CBdata = getCBwithEps(gamedata,cbeps)\n",
    "    wd = gamedata.copy()\n",
    "    for row in CBdata.itertuples(False):\n",
    "        wd = wd[(wd['Game']!=row.game) | (wd['GrSubject']!=row.subject) | (wd['Time']<=row.ts) | (wd['Time']>row.te)]\n",
    "    return wd\n",
    "\n",
    "def DataMarkedCB(gamedata, cb, column='iscb'):\n",
    "    \"\"\"Game data with constant steps: it marks steps of game with \"it's CB of the player i\" or not.\"\"\"\n",
    "    res = []\n",
    "    for row in gamedata.itertuples(False):\n",
    "        rowcb = cb[(cb['game']==row.Game) & (cb['subject']==row.GrSubject) & (cb['ts']<row.Time) & (row.Time<=cb['te'])]\n",
    "        cbflag = 1.0 if rowcb.shape[0] > 0 else 0.0           \n",
    "        res.append( list(row)+[cbflag])\n",
    "    return pd.DataFrame(res,columns=list(gamedata.columns)+[column])"
   ]
  },
  {
   "cell_type": "code",
   "execution_count": 51,
   "metadata": {},
   "outputs": [],
   "source": [
    "gr = YHData.loc[:,['Game','Time','GrSubject','s2']].groupby('Game')"
   ]
  },
  {
   "cell_type": "code",
   "execution_count": 52,
   "metadata": {},
   "outputs": [],
   "source": [
    "game40_1=gr.get_group(41)\n",
    "#game40_1 = game40_1[['Time','s2']].set_index('Time')"
   ]
  },
  {
   "cell_type": "code",
   "execution_count": 11,
   "metadata": {
    "collapsed": true
   },
   "outputs": [
    {
     "ename": "NameError",
     "evalue": "name 'game40_1' is not defined",
     "output_type": "error",
     "traceback": [
      "\u001b[1;31m---------------------------------------------------------------------------\u001b[0m",
      "\u001b[1;31mNameError\u001b[0m                                 Traceback (most recent call last)",
      "\u001b[1;32m<ipython-input-11-a5ceadf30047>\u001b[0m in \u001b[0;36m<module>\u001b[1;34m()\u001b[0m\n\u001b[1;32m----> 1\u001b[1;33m \u001b[0mgame40_1\u001b[0m\u001b[1;33m.\u001b[0m\u001b[0msort_values\u001b[0m\u001b[1;33m(\u001b[0m\u001b[0mby\u001b[0m\u001b[1;33m=\u001b[0m\u001b[1;33m[\u001b[0m\u001b[1;34m'Time'\u001b[0m\u001b[1;33m,\u001b[0m\u001b[1;34m'GrSubject'\u001b[0m\u001b[1;33m]\u001b[0m\u001b[1;33m)\u001b[0m\u001b[1;33m[\u001b[0m\u001b[1;33m[\u001b[0m\u001b[1;34m's2'\u001b[0m\u001b[1;33m,\u001b[0m\u001b[1;34m'GrSubject'\u001b[0m\u001b[1;33m]\u001b[0m\u001b[1;33m]\u001b[0m\u001b[1;33m.\u001b[0m\u001b[0mhead\u001b[0m\u001b[1;33m(\u001b[0m\u001b[1;33m)\u001b[0m\u001b[1;33m\u001b[0m\u001b[0m\n\u001b[0m",
      "\u001b[1;31mNameError\u001b[0m: name 'game40_1' is not defined"
     ]
    }
   ],
   "source": [
    "game40_1.sort_values(by=['Time','GrSubject'])[['s2','GrSubject']].head()"
   ]
  },
  {
   "cell_type": "code",
   "execution_count": 67,
   "metadata": {},
   "outputs": [],
   "source": [
    "game40_1 = game40_1.set_index('Time')"
   ]
  },
  {
   "cell_type": "code",
   "execution_count": 73,
   "metadata": {},
   "outputs": [
    {
     "data": {
      "text/plain": [
       "[(2, 3), (4, 5), (11, 13), (15, 19)]"
      ]
     },
     "execution_count": 73,
     "metadata": {},
     "output_type": "execute_result"
    }
   ],
   "source": [
    "list(getCB(game40_1.groupby('GrSubject').get_group(1)[['s2']],1))"
   ]
  },
  {
   "cell_type": "markdown",
   "metadata": {},
   "source": [
    "## Добавляем столбец является ли шаг константным поведением"
   ]
  },
  {
   "cell_type": "code",
   "execution_count": 11,
   "metadata": {},
   "outputs": [],
   "source": [
    "# Считает несколько секунд\n",
    "cb = getCBwithEps(YHData,eps=0)\n",
    "YHData = DataMarkedCB(YHData,cb,'iscb0')\n",
    "cb = getCBwithEps(YHData,eps=0.51)\n",
    "YHData = DataMarkedCB(YHData,cb,'iscb0.5')\n",
    "cb = getCBwithEps(YHData,eps=1.01)\n",
    "YHData = DataMarkedCB(YHData,cb,'iscb1')\n",
    "del cb"
   ]
  },
  {
   "cell_type": "code",
   "execution_count": 12,
   "metadata": {},
   "outputs": [
    {
     "data": {
      "text/html": [
       "<div>\n",
       "<style scoped>\n",
       "    .dataframe tbody tr th:only-of-type {\n",
       "        vertical-align: middle;\n",
       "    }\n",
       "\n",
       "    .dataframe tbody tr th {\n",
       "        vertical-align: top;\n",
       "    }\n",
       "\n",
       "    .dataframe thead th {\n",
       "        text-align: right;\n",
       "    }\n",
       "</style>\n",
       "<table border=\"1\" class=\"dataframe\">\n",
       "  <thead>\n",
       "    <tr style=\"text-align: right;\">\n",
       "      <th></th>\n",
       "      <th>Game</th>\n",
       "      <th>Time</th>\n",
       "      <th>s2</th>\n",
       "      <th>iscb0</th>\n",
       "      <th>iscb0.5</th>\n",
       "      <th>iscb1</th>\n",
       "    </tr>\n",
       "  </thead>\n",
       "  <tbody>\n",
       "    <tr>\n",
       "      <th>0</th>\n",
       "      <td>40</td>\n",
       "      <td>1</td>\n",
       "      <td>99.0</td>\n",
       "      <td>0.0</td>\n",
       "      <td>0.0</td>\n",
       "      <td>0.0</td>\n",
       "    </tr>\n",
       "    <tr>\n",
       "      <th>1</th>\n",
       "      <td>40</td>\n",
       "      <td>1</td>\n",
       "      <td>115.0</td>\n",
       "      <td>0.0</td>\n",
       "      <td>0.0</td>\n",
       "      <td>0.0</td>\n",
       "    </tr>\n",
       "    <tr>\n",
       "      <th>2</th>\n",
       "      <td>40</td>\n",
       "      <td>1</td>\n",
       "      <td>1.0</td>\n",
       "      <td>0.0</td>\n",
       "      <td>0.0</td>\n",
       "      <td>0.0</td>\n",
       "    </tr>\n",
       "    <tr>\n",
       "      <th>3</th>\n",
       "      <td>40</td>\n",
       "      <td>2</td>\n",
       "      <td>99.0</td>\n",
       "      <td>1.0</td>\n",
       "      <td>1.0</td>\n",
       "      <td>1.0</td>\n",
       "    </tr>\n",
       "    <tr>\n",
       "      <th>4</th>\n",
       "      <td>40</td>\n",
       "      <td>2</td>\n",
       "      <td>115.0</td>\n",
       "      <td>1.0</td>\n",
       "      <td>1.0</td>\n",
       "      <td>1.0</td>\n",
       "    </tr>\n",
       "  </tbody>\n",
       "</table>\n",
       "</div>"
      ],
      "text/plain": [
       "   Game  Time     s2  iscb0  iscb0.5  iscb1\n",
       "0    40     1   99.0    0.0      0.0    0.0\n",
       "1    40     1  115.0    0.0      0.0    0.0\n",
       "2    40     1    1.0    0.0      0.0    0.0\n",
       "3    40     2   99.0    1.0      1.0    1.0\n",
       "4    40     2  115.0    1.0      1.0    1.0"
      ]
     },
     "execution_count": 12,
     "metadata": {},
     "output_type": "execute_result"
    }
   ],
   "source": [
    "YHData.head()[['Game','Time','s2','iscb0','iscb0.5','iscb1']]"
   ]
  },
  {
   "cell_type": "markdown",
   "metadata": {},
   "source": [
    "## Добавляем столбцы про торги Нэша"
   ]
  },
  {
   "cell_type": "code",
   "execution_count": 13,
   "metadata": {},
   "outputs": [],
   "source": [
    "def Unash(f,f0):\n",
    "    df = f-f0\n",
    "    return (np.fabs(df)).prod() * np.min(np.sign(df)) # если хоть по одной ЦФ было уменьшение то отрицательна"
   ]
  },
  {
   "cell_type": "markdown",
   "metadata": {},
   "source": [
    "### Функции расчёта выигрышей в игре"
   ]
  },
  {
   "cell_type": "code",
   "execution_count": 14,
   "metadata": {},
   "outputs": [],
   "source": [
    "class Game:\n",
    "    import numpy as np\n",
    "    def __init__(self,R,s0,types):\n",
    "        self.R = R\n",
    "        self.s0 = np.array(s0)\n",
    "        self.n = len(s0)\n",
    "        self.types = np.array(types)\n",
    "    def u(self,x):\n",
    "        return self.np.sqrt(self.types+x)\n",
    "game = Game( 115,(115/3,115/3,115/3), (1,9,25))\n",
    "\n",
    "class Mechanism:\n",
    "    def __init__(self,game,params,xfunc,tfunc):\n",
    "        self.game = game\n",
    "        for k,v in params.items():\n",
    "            setattr(self,k,v)\n",
    "        self.xfunc = xfunc\n",
    "        self.tfunc = tfunc\n",
    "        \n",
    "    def x(self,s):\n",
    "        return self.xfunc(s,self.game)\n",
    "    def t(self,s):\n",
    "        return self.tfunc(s,self.game,self)\n",
    "    def f(self,s):\n",
    "        return game.u(self.x(s))-self.t(s)\n",
    "\n",
    "YHMechanism = Mechanism(game,\n",
    "                        {'beta':0.0005}, \n",
    "                        lambda s,g: s*g.R/s.sum(),\n",
    "                        lambda s,g,m: m.beta*s*(np.repeat(s.sum(),3)-s))\n",
    "\n",
    "class GLClass:\n",
    "    from scipy.spatial import distance\n",
    "    def __init__(self):\n",
    "        self.glx = lambda s,g: s.sum(axis=0) / g.n\n",
    "    def glt(self,s,g,m):\n",
    "        p = m.beta * self.distance.cdist([self.glx(s,g)],s,'sqeuclidean')\n",
    "        pmean = m.alfa * p.mean()\n",
    "        return p - pmean\n",
    "GL = GLClass()\n",
    "    \n",
    "GLMechanism = Mechanism(game,{'beta':0.0005,'alfa':1},\n",
    "                        GL.glx,\n",
    "                        GL.glt\n",
    "                        )"
   ]
  },
  {
   "cell_type": "code",
   "execution_count": 15,
   "metadata": {},
   "outputs": [
    {
     "name": "stdout",
     "output_type": "stream",
     "text": [
      "[0.072 1.624 1.648] [1.39040003 5.22828395 8.39727704]\n"
     ]
    }
   ],
   "source": [
    "s = np.array([1.2,40,80])\n",
    "print(YHMechanism.t(s),YHMechanism.f(s))"
   ]
  },
  {
   "cell_type": "code",
   "execution_count": 16,
   "metadata": {
    "scrolled": true
   },
   "outputs": [
    {
     "name": "stdout",
     "output_type": "stream",
     "text": [
      "[38.33333333 38.33333333 38.33333333]\n",
      "[1. 3. 5.]\n"
     ]
    },
    {
     "data": {
      "text/plain": [
       "-554.9999999999999"
      ]
     },
     "execution_count": 16,
     "metadata": {},
     "output_type": "execute_result"
    }
   ],
   "source": [
    "print(YHMechanism.game.s0)\n",
    "\n",
    "f0 = YHMechanism.game.u([0,0,0])\n",
    "print(f0)\n",
    "\n",
    "Unash(f0,s)"
   ]
  },
  {
   "cell_type": "code",
   "execution_count": 17,
   "metadata": {},
   "outputs": [],
   "source": [
    "# Функция получения исходных данных для Нэш-торгов\n",
    "def NashData(Data):\n",
    "    import itertools\n",
    "    prec = 0.000001\n",
    "    res = []\n",
    "    GroupedData = Data.groupby(['Game','Time'])\n",
    "    for name,group in GroupedData:\n",
    "        group = group.sort_values(by='GrSubject')\n",
    "        if name[1] == 1 :\n",
    "            curname = name[0]\n",
    "            prevg = group\n",
    "            continue\n",
    "\n",
    "        #fprev = prevg['Gain'].values\n",
    "        fprev = YHMechanism.f(prevg['s2'].values)\n",
    "        U = Unash(fprev,f0)\n",
    "        sprev = prevg['s2'].values\n",
    "        s = group['s2'].values\n",
    "        s1, s2, s3 = sprev.copy(), sprev.copy(), sprev.copy()\n",
    "        s1[0] = s[0]\n",
    "        s2[1] = s[1]\n",
    "        s3[2] = s[2]\n",
    "        \n",
    "        f1 = YHMechanism.f(s1)\n",
    "        U1 = Unash(f1,f0)\n",
    "        U1moreU = 1.0 if U1>U+prec else 0.0\n",
    "\n",
    "        f2 = YHMechanism.f(s2)\n",
    "        U2 = Unash(f2,f0)\n",
    "        U2moreU = 1.0 if U2>U+prec else 0.0\n",
    "        \n",
    "        f3 = YHMechanism.f(s3)\n",
    "        U3 = Unash(f3,f0)\n",
    "        U3moreU = 1.0 if U3>U+prec else 0.0\n",
    "        \n",
    "        fnew = YHMechanism.f(s)\n",
    "        FmoreFprev = 1.0 if (fnew>fprev).all() else 0.0\n",
    "        Unew = Unash(fnew,f0)\n",
    "        UNewmoreU = 1.0 if Unew>U else 0.0\n",
    "        res.append( [a for a in itertools.chain(name,[U1moreU,U2moreU,U3moreU,UNewmoreU,FmoreFprev,U,U1,U2,U3,Unew],s)] )\n",
    "        prevg = group\n",
    "        #print(name,prev['Gain'])\n",
    "    data_a = pd.DataFrame(np.vstack(res),\n",
    "                      columns=['Game','Time','U1>U','U2>U','U3>U','Unew>U','Fnew>F','U','U1','U2','U3','Unew','s1','s2','s3'])\n",
    "\n",
    "    return data_a"
   ]
  },
  {
   "cell_type": "code",
   "execution_count": 18,
   "metadata": {},
   "outputs": [
    {
     "data": {
      "text/html": [
       "<div>\n",
       "<style scoped>\n",
       "    .dataframe tbody tr th:only-of-type {\n",
       "        vertical-align: middle;\n",
       "    }\n",
       "\n",
       "    .dataframe tbody tr th {\n",
       "        vertical-align: top;\n",
       "    }\n",
       "\n",
       "    .dataframe thead th {\n",
       "        text-align: right;\n",
       "    }\n",
       "</style>\n",
       "<table border=\"1\" class=\"dataframe\">\n",
       "  <thead>\n",
       "    <tr style=\"text-align: right;\">\n",
       "      <th></th>\n",
       "      <th>Game</th>\n",
       "      <th>Time</th>\n",
       "      <th>U1&gt;U</th>\n",
       "      <th>U2&gt;U</th>\n",
       "      <th>U3&gt;U</th>\n",
       "      <th>Unew&gt;U</th>\n",
       "      <th>Fnew&gt;F</th>\n",
       "      <th>U</th>\n",
       "      <th>U1</th>\n",
       "      <th>U2</th>\n",
       "      <th>U3</th>\n",
       "      <th>Unew</th>\n",
       "      <th>s1</th>\n",
       "      <th>s2</th>\n",
       "      <th>s3</th>\n",
       "    </tr>\n",
       "  </thead>\n",
       "  <tbody>\n",
       "    <tr>\n",
       "      <th>0</th>\n",
       "      <td>40.0</td>\n",
       "      <td>2.0</td>\n",
       "      <td>0.0</td>\n",
       "      <td>0.0</td>\n",
       "      <td>0.0</td>\n",
       "      <td>0.0</td>\n",
       "      <td>0.0</td>\n",
       "      <td>-0.166445</td>\n",
       "      <td>-0.182068</td>\n",
       "      <td>-0.166445</td>\n",
       "      <td>-0.166445</td>\n",
       "      <td>-0.182068</td>\n",
       "      <td>1.1</td>\n",
       "      <td>99.0</td>\n",
       "      <td>115.0</td>\n",
       "    </tr>\n",
       "    <tr>\n",
       "      <th>1</th>\n",
       "      <td>40.0</td>\n",
       "      <td>3.0</td>\n",
       "      <td>1.0</td>\n",
       "      <td>0.0</td>\n",
       "      <td>0.0</td>\n",
       "      <td>1.0</td>\n",
       "      <td>0.0</td>\n",
       "      <td>-0.182068</td>\n",
       "      <td>-0.166445</td>\n",
       "      <td>-0.182068</td>\n",
       "      <td>-0.182068</td>\n",
       "      <td>-0.166445</td>\n",
       "      <td>1.0</td>\n",
       "      <td>99.0</td>\n",
       "      <td>115.0</td>\n",
       "    </tr>\n",
       "    <tr>\n",
       "      <th>2</th>\n",
       "      <td>40.0</td>\n",
       "      <td>4.0</td>\n",
       "      <td>0.0</td>\n",
       "      <td>1.0</td>\n",
       "      <td>1.0</td>\n",
       "      <td>1.0</td>\n",
       "      <td>1.0</td>\n",
       "      <td>-0.166445</td>\n",
       "      <td>-0.182068</td>\n",
       "      <td>0.663205</td>\n",
       "      <td>0.141136</td>\n",
       "      <td>4.637448</td>\n",
       "      <td>1.1</td>\n",
       "      <td>40.0</td>\n",
       "      <td>61.5</td>\n",
       "    </tr>\n",
       "    <tr>\n",
       "      <th>3</th>\n",
       "      <td>40.0</td>\n",
       "      <td>5.0</td>\n",
       "      <td>0.0</td>\n",
       "      <td>0.0</td>\n",
       "      <td>1.0</td>\n",
       "      <td>0.0</td>\n",
       "      <td>0.0</td>\n",
       "      <td>4.637448</td>\n",
       "      <td>-2.334728</td>\n",
       "      <td>4.523720</td>\n",
       "      <td>4.758127</td>\n",
       "      <td>-2.365943</td>\n",
       "      <td>115.0</td>\n",
       "      <td>41.0</td>\n",
       "      <td>60.5</td>\n",
       "    </tr>\n",
       "    <tr>\n",
       "      <th>4</th>\n",
       "      <td>40.0</td>\n",
       "      <td>6.0</td>\n",
       "      <td>1.0</td>\n",
       "      <td>0.0</td>\n",
       "      <td>1.0</td>\n",
       "      <td>1.0</td>\n",
       "      <td>0.0</td>\n",
       "      <td>-2.365943</td>\n",
       "      <td>4.312664</td>\n",
       "      <td>-42.795611</td>\n",
       "      <td>-2.119715</td>\n",
       "      <td>0.061842</td>\n",
       "      <td>1.0</td>\n",
       "      <td>91.0</td>\n",
       "      <td>80.0</td>\n",
       "    </tr>\n",
       "  </tbody>\n",
       "</table>\n",
       "</div>"
      ],
      "text/plain": [
       "   Game  Time  U1>U  U2>U  U3>U  Unew>U  Fnew>F         U        U1  \\\n",
       "0  40.0   2.0   0.0   0.0   0.0     0.0     0.0 -0.166445 -0.182068   \n",
       "1  40.0   3.0   1.0   0.0   0.0     1.0     0.0 -0.182068 -0.166445   \n",
       "2  40.0   4.0   0.0   1.0   1.0     1.0     1.0 -0.166445 -0.182068   \n",
       "3  40.0   5.0   0.0   0.0   1.0     0.0     0.0  4.637448 -2.334728   \n",
       "4  40.0   6.0   1.0   0.0   1.0     1.0     0.0 -2.365943  4.312664   \n",
       "\n",
       "          U2        U3      Unew     s1    s2     s3  \n",
       "0  -0.166445 -0.166445 -0.182068    1.1  99.0  115.0  \n",
       "1  -0.182068 -0.182068 -0.166445    1.0  99.0  115.0  \n",
       "2   0.663205  0.141136  4.637448    1.1  40.0   61.5  \n",
       "3   4.523720  4.758127 -2.365943  115.0  41.0   60.5  \n",
       "4 -42.795611 -2.119715  0.061842    1.0  91.0   80.0  "
      ]
     },
     "execution_count": 18,
     "metadata": {},
     "output_type": "execute_result"
    }
   ],
   "source": [
    "nbdata = NashData(YHData)\n",
    "nbdata.head()"
   ]
  },
  {
   "cell_type": "code",
   "execution_count": 19,
   "metadata": {},
   "outputs": [
    {
     "data": {
      "text/html": [
       "<div>\n",
       "<style scoped>\n",
       "    .dataframe tbody tr th:only-of-type {\n",
       "        vertical-align: middle;\n",
       "    }\n",
       "\n",
       "    .dataframe tbody tr th {\n",
       "        vertical-align: top;\n",
       "    }\n",
       "\n",
       "    .dataframe thead th {\n",
       "        text-align: right;\n",
       "    }\n",
       "</style>\n",
       "<table border=\"1\" class=\"dataframe\">\n",
       "  <thead>\n",
       "    <tr style=\"text-align: right;\">\n",
       "      <th></th>\n",
       "      <th>Game</th>\n",
       "      <th>Time</th>\n",
       "      <th>Ui&gt;U</th>\n",
       "      <th>Unew&gt;U</th>\n",
       "      <th>Fnew&gt;F</th>\n",
       "      <th>Ui</th>\n",
       "      <th>Unew</th>\n",
       "      <th>U</th>\n",
       "      <th>GrSubject</th>\n",
       "    </tr>\n",
       "  </thead>\n",
       "  <tbody>\n",
       "    <tr>\n",
       "      <th>0</th>\n",
       "      <td>40.0</td>\n",
       "      <td>2.0</td>\n",
       "      <td>0.0</td>\n",
       "      <td>0.0</td>\n",
       "      <td>0.0</td>\n",
       "      <td>-0.182068</td>\n",
       "      <td>-0.182068</td>\n",
       "      <td>-0.166445</td>\n",
       "      <td>1</td>\n",
       "    </tr>\n",
       "    <tr>\n",
       "      <th>1</th>\n",
       "      <td>40.0</td>\n",
       "      <td>3.0</td>\n",
       "      <td>1.0</td>\n",
       "      <td>1.0</td>\n",
       "      <td>0.0</td>\n",
       "      <td>-0.166445</td>\n",
       "      <td>-0.166445</td>\n",
       "      <td>-0.182068</td>\n",
       "      <td>1</td>\n",
       "    </tr>\n",
       "    <tr>\n",
       "      <th>2</th>\n",
       "      <td>40.0</td>\n",
       "      <td>4.0</td>\n",
       "      <td>0.0</td>\n",
       "      <td>1.0</td>\n",
       "      <td>1.0</td>\n",
       "      <td>-0.182068</td>\n",
       "      <td>4.637448</td>\n",
       "      <td>-0.166445</td>\n",
       "      <td>1</td>\n",
       "    </tr>\n",
       "    <tr>\n",
       "      <th>3</th>\n",
       "      <td>40.0</td>\n",
       "      <td>5.0</td>\n",
       "      <td>0.0</td>\n",
       "      <td>0.0</td>\n",
       "      <td>0.0</td>\n",
       "      <td>-2.334728</td>\n",
       "      <td>-2.365943</td>\n",
       "      <td>4.637448</td>\n",
       "      <td>1</td>\n",
       "    </tr>\n",
       "    <tr>\n",
       "      <th>4</th>\n",
       "      <td>40.0</td>\n",
       "      <td>6.0</td>\n",
       "      <td>1.0</td>\n",
       "      <td>1.0</td>\n",
       "      <td>0.0</td>\n",
       "      <td>4.312664</td>\n",
       "      <td>0.061842</td>\n",
       "      <td>-2.365943</td>\n",
       "      <td>1</td>\n",
       "    </tr>\n",
       "  </tbody>\n",
       "</table>\n",
       "</div>"
      ],
      "text/plain": [
       "   Game  Time  Ui>U  Unew>U  Fnew>F        Ui      Unew         U  GrSubject\n",
       "0  40.0   2.0   0.0     0.0     0.0 -0.182068 -0.182068 -0.166445          1\n",
       "1  40.0   3.0   1.0     1.0     0.0 -0.166445 -0.166445 -0.182068          1\n",
       "2  40.0   4.0   0.0     1.0     1.0 -0.182068  4.637448 -0.166445          1\n",
       "3  40.0   5.0   0.0     0.0     0.0 -2.334728 -2.365943  4.637448          1\n",
       "4  40.0   6.0   1.0     1.0     0.0  4.312664  0.061842 -2.365943          1"
      ]
     },
     "execution_count": 19,
     "metadata": {},
     "output_type": "execute_result"
    }
   ],
   "source": [
    "nb1 = nbdata[['Game','Time','U1>U','Unew>U','Fnew>F','U1','Unew','U']].copy()\n",
    "nb1.columns = ['Game','Time','Ui>U','Unew>U','Fnew>F','Ui','Unew','U']\n",
    "nb1['GrSubject'] = 1\n",
    "\n",
    "nb2 = nbdata[['Game','Time','U2>U','Unew>U','Fnew>F','U2','Unew','U']].copy()\n",
    "nb2.columns = ['Game','Time','Ui>U','Unew>U','Fnew>F','Ui','Unew','U']\n",
    "nb2['GrSubject'] = 2\n",
    "\n",
    "nb3 = nbdata[['Game','Time','U3>U','Unew>U','Fnew>F','U3','Unew','U']].copy()\n",
    "nb3.columns = ['Game','Time','Ui>U','Unew>U','Fnew>F','Ui','Unew','U']\n",
    "nb3['GrSubject'] = 3\n",
    "\n",
    "selfnbdata = pd.concat([nb1,nb2,nb3])\n",
    "selfnbdata.head()"
   ]
  },
  {
   "cell_type": "code",
   "execution_count": 20,
   "metadata": {},
   "outputs": [
    {
     "data": {
      "text/html": [
       "<div>\n",
       "<style scoped>\n",
       "    .dataframe tbody tr th:only-of-type {\n",
       "        vertical-align: middle;\n",
       "    }\n",
       "\n",
       "    .dataframe tbody tr th {\n",
       "        vertical-align: top;\n",
       "    }\n",
       "\n",
       "    .dataframe thead th {\n",
       "        text-align: right;\n",
       "    }\n",
       "</style>\n",
       "<table border=\"1\" class=\"dataframe\">\n",
       "  <thead>\n",
       "    <tr style=\"text-align: right;\">\n",
       "      <th></th>\n",
       "      <th>Game</th>\n",
       "      <th>Time</th>\n",
       "      <th>Subject</th>\n",
       "      <th>Group</th>\n",
       "      <th>GrSubject</th>\n",
       "      <th>Type</th>\n",
       "      <th>Gain</th>\n",
       "      <th>Penalty</th>\n",
       "      <th>x</th>\n",
       "      <th>s1</th>\n",
       "      <th>...</th>\n",
       "      <th>twbr</th>\n",
       "      <th>iscb0</th>\n",
       "      <th>iscb0.5</th>\n",
       "      <th>iscb1</th>\n",
       "      <th>Ui&gt;U</th>\n",
       "      <th>Unew&gt;U</th>\n",
       "      <th>Fnew&gt;F</th>\n",
       "      <th>Ui</th>\n",
       "      <th>Unew</th>\n",
       "      <th>U</th>\n",
       "    </tr>\n",
       "  </thead>\n",
       "  <tbody>\n",
       "    <tr>\n",
       "      <th>0</th>\n",
       "      <td>40</td>\n",
       "      <td>1</td>\n",
       "      <td>6</td>\n",
       "      <td>1</td>\n",
       "      <td>2</td>\n",
       "      <td>9.0</td>\n",
       "      <td>2.129054</td>\n",
       "      <td>5.74200</td>\n",
       "      <td>52.953488</td>\n",
       "      <td>NaN</td>\n",
       "      <td>...</td>\n",
       "      <td>0.0</td>\n",
       "      <td>0.0</td>\n",
       "      <td>0.0</td>\n",
       "      <td>0.0</td>\n",
       "      <td>NaN</td>\n",
       "      <td>NaN</td>\n",
       "      <td>NaN</td>\n",
       "      <td>NaN</td>\n",
       "      <td>NaN</td>\n",
       "      <td>NaN</td>\n",
       "    </tr>\n",
       "    <tr>\n",
       "      <th>1</th>\n",
       "      <td>40</td>\n",
       "      <td>1</td>\n",
       "      <td>10</td>\n",
       "      <td>1</td>\n",
       "      <td>3</td>\n",
       "      <td>25.0</td>\n",
       "      <td>3.551163</td>\n",
       "      <td>5.75000</td>\n",
       "      <td>61.511628</td>\n",
       "      <td>NaN</td>\n",
       "      <td>...</td>\n",
       "      <td>0.0</td>\n",
       "      <td>0.0</td>\n",
       "      <td>0.0</td>\n",
       "      <td>0.0</td>\n",
       "      <td>NaN</td>\n",
       "      <td>NaN</td>\n",
       "      <td>NaN</td>\n",
       "      <td>NaN</td>\n",
       "      <td>NaN</td>\n",
       "      <td>NaN</td>\n",
       "    </tr>\n",
       "    <tr>\n",
       "      <th>2</th>\n",
       "      <td>40</td>\n",
       "      <td>1</td>\n",
       "      <td>11</td>\n",
       "      <td>1</td>\n",
       "      <td>1</td>\n",
       "      <td>1.0</td>\n",
       "      <td>1.131904</td>\n",
       "      <td>0.10700</td>\n",
       "      <td>0.534884</td>\n",
       "      <td>NaN</td>\n",
       "      <td>...</td>\n",
       "      <td>0.0</td>\n",
       "      <td>0.0</td>\n",
       "      <td>0.0</td>\n",
       "      <td>0.0</td>\n",
       "      <td>NaN</td>\n",
       "      <td>NaN</td>\n",
       "      <td>NaN</td>\n",
       "      <td>NaN</td>\n",
       "      <td>NaN</td>\n",
       "      <td>NaN</td>\n",
       "    </tr>\n",
       "    <tr>\n",
       "      <th>3</th>\n",
       "      <td>40</td>\n",
       "      <td>2</td>\n",
       "      <td>6</td>\n",
       "      <td>1</td>\n",
       "      <td>2</td>\n",
       "      <td>9.0</td>\n",
       "      <td>2.122540</td>\n",
       "      <td>5.74695</td>\n",
       "      <td>52.928870</td>\n",
       "      <td>NaN</td>\n",
       "      <td>...</td>\n",
       "      <td>0.0</td>\n",
       "      <td>1.0</td>\n",
       "      <td>1.0</td>\n",
       "      <td>1.0</td>\n",
       "      <td>0.0</td>\n",
       "      <td>0.0</td>\n",
       "      <td>0.0</td>\n",
       "      <td>-0.166445</td>\n",
       "      <td>-0.182068</td>\n",
       "      <td>-0.166445</td>\n",
       "    </tr>\n",
       "    <tr>\n",
       "      <th>4</th>\n",
       "      <td>40</td>\n",
       "      <td>2</td>\n",
       "      <td>10</td>\n",
       "      <td>1</td>\n",
       "      <td>3</td>\n",
       "      <td>25.0</td>\n",
       "      <td>3.543875</td>\n",
       "      <td>5.75575</td>\n",
       "      <td>61.483031</td>\n",
       "      <td>NaN</td>\n",
       "      <td>...</td>\n",
       "      <td>0.0</td>\n",
       "      <td>1.0</td>\n",
       "      <td>1.0</td>\n",
       "      <td>1.0</td>\n",
       "      <td>0.0</td>\n",
       "      <td>0.0</td>\n",
       "      <td>0.0</td>\n",
       "      <td>-0.166445</td>\n",
       "      <td>-0.182068</td>\n",
       "      <td>-0.166445</td>\n",
       "    </tr>\n",
       "  </tbody>\n",
       "</table>\n",
       "<p>5 rows × 31 columns</p>\n",
       "</div>"
      ],
      "text/plain": [
       "   Game  Time Subject  Group  GrSubject  Type      Gain  Penalty          x  \\\n",
       "0    40     1       6      1          2   9.0  2.129054  5.74200  52.953488   \n",
       "1    40     1      10      1          3  25.0  3.551163  5.75000  61.511628   \n",
       "2    40     1      11      1          1   1.0  1.131904  0.10700   0.534884   \n",
       "3    40     2       6      1          2   9.0  2.122540  5.74695  52.928870   \n",
       "4    40     2      10      1          3  25.0  3.543875  5.75575  61.483031   \n",
       "\n",
       "   s1    ...     twbr  iscb0  iscb0.5  iscb1  Ui>U  Unew>U  Fnew>F        Ui  \\\n",
       "0 NaN    ...      0.0    0.0      0.0    0.0   NaN     NaN     NaN       NaN   \n",
       "1 NaN    ...      0.0    0.0      0.0    0.0   NaN     NaN     NaN       NaN   \n",
       "2 NaN    ...      0.0    0.0      0.0    0.0   NaN     NaN     NaN       NaN   \n",
       "3 NaN    ...      0.0    1.0      1.0    1.0   0.0     0.0     0.0 -0.166445   \n",
       "4 NaN    ...      0.0    1.0      1.0    1.0   0.0     0.0     0.0 -0.166445   \n",
       "\n",
       "       Unew         U  \n",
       "0       NaN       NaN  \n",
       "1       NaN       NaN  \n",
       "2       NaN       NaN  \n",
       "3 -0.182068 -0.166445  \n",
       "4 -0.182068 -0.166445  \n",
       "\n",
       "[5 rows x 31 columns]"
      ]
     },
     "execution_count": 20,
     "metadata": {},
     "output_type": "execute_result"
    }
   ],
   "source": [
    "YHData = pd.merge(YHData, selfnbdata, on=['Game', 'Time','GrSubject'], how='outer')\n",
    "YHData.head()"
   ]
  },
  {
   "cell_type": "code",
   "execution_count": 21,
   "metadata": {},
   "outputs": [],
   "source": [
    "YHData.to_csv('YH_BR_CB_NB_data.csv')"
   ]
  },
  {
   "cell_type": "markdown",
   "metadata": {},
   "source": [
    "## Отсчёт от конца"
   ]
  },
  {
   "cell_type": "code",
   "execution_count": 23,
   "metadata": {},
   "outputs": [],
   "source": [
    "res = []\n",
    "for name,group in YHData.groupby('Game'):\n",
    "    t = group.copy()\n",
    "    t['Time'] = t.Time.copy() - t['Time'].max()\n",
    "    res.append(t)\n",
    "timegrp = pd.concat(res).groupby('Time')"
   ]
  },
  {
   "cell_type": "code",
   "execution_count": 24,
   "metadata": {},
   "outputs": [],
   "source": [
    "def bhvrcount(x):\n",
    "    return pd.Series([x[x['br0.5']>0].shape[0], x[x.twbr>0].shape[0],x[x['iscb0.5']>0].shape[0],x[x['Ui>U']>0].shape[0]],\n",
    "                     index=['br0.5','twbr','cb0.5','twNB'])"
   ]
  },
  {
   "cell_type": "code",
   "execution_count": 25,
   "metadata": {},
   "outputs": [
    {
     "data": {
      "image/png": "[encoded data removed]",
      "text/plain": [
       "<Figure size 432x288 with 1 Axes>"
      ]
     },
     "metadata": {
      "needs_background": "light"
     },
     "output_type": "display_data"
    }
   ],
   "source": [
    "endbhvr = timegrp.apply(bhvrcount).sort_index(ascending=False)\n",
    "endbhvr.to_csv('EndBehavior.csv')\n",
    "endbhvr.plot();"
   ]
  },
  {
   "cell_type": "code",
   "execution_count": 27,
   "metadata": {},
   "outputs": [
    {
     "data": {
      "image/png": "[encoded data removed]",
      "text/plain": [
       "<Figure size 432x288 with 1 Axes>"
      ]
     },
     "metadata": {
      "needs_background": "light"
     },
     "output_type": "display_data"
    }
   ],
   "source": [
    "endbhvrLenMore2 = timegrp.filter(lambda x: x.Time.max() < -1).groupby('Time').apply(bhvrcount)\n",
    "endbhvrLenMore2.to_csv('EndBehavior,gamelen more 2.csv')\n",
    "endbhvrLenMore2.plot();"
   ]
  },
  {
   "cell_type": "code",
   "execution_count": 28,
   "metadata": {},
   "outputs": [
    {
     "data": {
      "image/png": "[encoded data removed]",
      "text/plain": [
       "<Figure size 432x288 with 1 Axes>"
      ]
     },
     "metadata": {
      "needs_background": "light"
     },
     "output_type": "display_data"
    }
   ],
   "source": [
    "endbhvrLenMore6 = timegrp.filter(lambda x: x.Time.max() < -5).groupby('Time').apply(bhvrcount)\n",
    "endbhvrLenMore6.to_csv('EndBehavior,gamelen more 6.csv')\n",
    "endbhvrLenMore6.plot();"
   ]
  },
  {
   "cell_type": "code",
   "execution_count": 89,
   "metadata": {},
   "outputs": [
    {
     "data": {
      "text/plain": [
       "array([40, 41, 43, 56, 57, 58, 60, 61, 92, 93, 94], dtype=int64)"
      ]
     },
     "execution_count": 89,
     "metadata": {},
     "output_type": "execute_result"
    }
   ],
   "source": [
    "timegrp.filter(lambda x: x.Time.max() < -5).Game.unique()"
   ]
  },
  {
   "cell_type": "code",
   "execution_count": 24,
   "metadata": {},
   "outputs": [
    {
     "data": {
      "text/html": [
       "<div>\n",
       "<style scoped>\n",
       "    .dataframe tbody tr th:only-of-type {\n",
       "        vertical-align: middle;\n",
       "    }\n",
       "\n",
       "    .dataframe tbody tr th {\n",
       "        vertical-align: top;\n",
       "    }\n",
       "\n",
       "    .dataframe thead th {\n",
       "        text-align: right;\n",
       "    }\n",
       "</style>\n",
       "<table border=\"1\" class=\"dataframe\">\n",
       "  <thead>\n",
       "    <tr style=\"text-align: right;\">\n",
       "      <th></th>\n",
       "      <th>Time</th>\n",
       "    </tr>\n",
       "    <tr>\n",
       "      <th>Game</th>\n",
       "      <th></th>\n",
       "    </tr>\n",
       "  </thead>\n",
       "  <tbody>\n",
       "    <tr>\n",
       "      <th>40</th>\n",
       "      <td>60</td>\n",
       "    </tr>\n",
       "    <tr>\n",
       "      <th>41</th>\n",
       "      <td>19</td>\n",
       "    </tr>\n",
       "    <tr>\n",
       "      <th>42</th>\n",
       "      <td>6</td>\n",
       "    </tr>\n",
       "    <tr>\n",
       "      <th>43</th>\n",
       "      <td>60</td>\n",
       "    </tr>\n",
       "    <tr>\n",
       "      <th>56</th>\n",
       "      <td>31</td>\n",
       "    </tr>\n",
       "    <tr>\n",
       "      <th>57</th>\n",
       "      <td>60</td>\n",
       "    </tr>\n",
       "    <tr>\n",
       "      <th>58</th>\n",
       "      <td>15</td>\n",
       "    </tr>\n",
       "    <tr>\n",
       "      <th>59</th>\n",
       "      <td>2</td>\n",
       "    </tr>\n",
       "    <tr>\n",
       "      <th>60</th>\n",
       "      <td>15</td>\n",
       "    </tr>\n",
       "    <tr>\n",
       "      <th>61</th>\n",
       "      <td>15</td>\n",
       "    </tr>\n",
       "    <tr>\n",
       "      <th>62</th>\n",
       "      <td>2</td>\n",
       "    </tr>\n",
       "    <tr>\n",
       "      <th>92</th>\n",
       "      <td>20</td>\n",
       "    </tr>\n",
       "    <tr>\n",
       "      <th>93</th>\n",
       "      <td>20</td>\n",
       "    </tr>\n",
       "    <tr>\n",
       "      <th>94</th>\n",
       "      <td>20</td>\n",
       "    </tr>\n",
       "  </tbody>\n",
       "</table>\n",
       "</div>"
      ],
      "text/plain": [
       "      Time\n",
       "Game      \n",
       "40      60\n",
       "41      19\n",
       "42       6\n",
       "43      60\n",
       "56      31\n",
       "57      60\n",
       "58      15\n",
       "59       2\n",
       "60      15\n",
       "61      15\n",
       "62       2\n",
       "92      20\n",
       "93      20\n",
       "94      20"
      ]
     },
     "execution_count": 24,
     "metadata": {},
     "output_type": "execute_result"
    }
   ],
   "source": [
    "lastSteps=YHData[['Game','Time']].groupby('Game').max(); lastSteps"
   ]
  },
  {
   "cell_type": "markdown",
   "metadata": {},
   "source": [
    "## Для правого столбца"
   ]
  },
  {
   "cell_type": "code",
   "execution_count": 29,
   "metadata": {},
   "outputs": [
    {
     "data": {
      "text/plain": [
       "Index(['Game', 'Time', 'Subject', 'Group', 'GrSubject', 'Type', 'Gain',\n",
       "       'Penalty', 'x', 's1', 's2', 's3', 'AcceptAdvice', 'CalcCount',\n",
       "       'CalcAdviceCount', 'UseHelp', 'g', 'br', 'br0', 'br0.5', 'br1', 'twbr',\n",
       "       'iscb0', 'iscb0.5', 'iscb1', 'Ui>U', 'Unew>U', 'Fnew>F', 'Ui', 'Unew',\n",
       "       'U'],\n",
       "      dtype='object')"
      ]
     },
     "execution_count": 29,
     "metadata": {},
     "output_type": "execute_result"
    }
   ],
   "source": [
    "YHData.columns"
   ]
  },
  {
   "cell_type": "code",
   "execution_count": null,
   "metadata": {},
   "outputs": [],
   "source": [
    "tg = YHData.groupby(['Game','Time'])"
   ]
  },
  {
   "cell_type": "code",
   "execution_count": 32,
   "metadata": {},
   "outputs": [
    {
     "data": {
      "text/plain": [
       "25"
      ]
     },
     "execution_count": 32,
     "metadata": {},
     "output_type": "execute_result"
    }
   ],
   "source": [
    "cnt = 0\n",
    "for name,group in tg:\n",
    "    if (group['Unew>U']>0).all() and (group['iscb1']>0).all(): cnt += 1\n",
    "cnt"
   ]
  },
  {
   "cell_type": "code",
   "execution_count": 36,
   "metadata": {},
   "outputs": [
    {
     "data": {
      "text/plain": [
       "29"
      ]
     },
     "execution_count": 36,
     "metadata": {},
     "output_type": "execute_result"
    }
   ],
   "source": [
    "cnt = 0\n",
    "for name,group in tg:\n",
    "    if (group['twbr']>0).all(): cnt += 1\n",
    "cnt"
   ]
  },
  {
   "cell_type": "markdown",
   "metadata": {},
   "source": [
    "### График длин игр"
   ]
  },
  {
   "cell_type": "code",
   "execution_count": 64,
   "metadata": {},
   "outputs": [],
   "source": [
    "gamelength=YHData[['Game','Time']].groupby('Game').max()"
   ]
  },
  {
   "cell_type": "code",
   "execution_count": 65,
   "metadata": {},
   "outputs": [],
   "source": [
    "a=gamelength.sort_values(by='Time')"
   ]
  },
  {
   "cell_type": "code",
   "execution_count": 66,
   "metadata": {},
   "outputs": [],
   "source": [
    "a['Game']=range(1,15)"
   ]
  },
  {
   "cell_type": "code",
   "execution_count": 67,
   "metadata": {},
   "outputs": [],
   "source": [
    "b=a.rename(columns={'Time':'Game length'})"
   ]
  },
  {
   "cell_type": "code",
   "execution_count": 68,
   "metadata": {},
   "outputs": [
    {
     "data": {
      "image/png": "[encoded data removed]",
      "text/plain": [
       "<Figure size 432x288 with 1 Axes>"
      ]
     },
     "metadata": {},
     "output_type": "display_data"
    }
   ],
   "source": [
    "p=b.plot.scatter(x='Game',y='Game length')"
   ]
  },
  {
   "cell_type": "code",
   "execution_count": 69,
   "metadata": {},
   "outputs": [],
   "source": [
    "p.get_figure().savefig('Gameslen.png',dpi=100)"
   ]
  },
  {
   "cell_type": "code",
   "execution_count": 31,
   "metadata": {},
   "outputs": [
    {
     "data": {
      "text/plain": [
       "[Int64Index([6573, 6574, 6575, 6576, 6577, 6578, 6579, 6580, 6581, 6582, 6583,\n",
       "             6584, 6585, 6586, 6587, 6588, 6589, 6590, 6591, 6592, 6593, 6594,\n",
       "             6595, 6596, 6597, 6598, 6599, 6600, 6601, 6602, 6603, 6604, 6605,\n",
       "             6606, 6607, 6608, 6609, 6610, 6611, 6612, 6613, 6614, 6615, 6616,\n",
       "             6617, 6618, 6619, 6620, 6621, 6622, 6623, 6624, 6625, 6626, 6627,\n",
       "             6628, 6629, 6630, 6631, 6632],\n",
       "            dtype='int64'),\n",
       " Index(['Game', 'Time', 'Subject', 'Group', 'GrSubject', 'Type', 'Gain',\n",
       "        'Penalty', 'x', 's1', 's2', 's3', 'AcceptAdvice', 'CalcCount',\n",
       "        'CalcAdviceCount', 'UseHelp'],\n",
       "       dtype='object')]"
      ]
     },
     "execution_count": 31,
     "metadata": {},
     "output_type": "execute_result"
    }
   ],
   "source": [
    "GLData.axes"
   ]
  },
  {
   "cell_type": "markdown",
   "metadata": {},
   "source": [
    "### Доля КП в GL experimental design"
   ]
  },
  {
   "cell_type": "code",
   "execution_count": 9,
   "metadata": {},
   "outputs": [
    {
     "data": {
      "text/html": [
       "<div>\n",
       "<style scoped>\n",
       "    .dataframe tbody tr th:only-of-type {\n",
       "        vertical-align: middle;\n",
       "    }\n",
       "\n",
       "    .dataframe tbody tr th {\n",
       "        vertical-align: top;\n",
       "    }\n",
       "\n",
       "    .dataframe thead th {\n",
       "        text-align: right;\n",
       "    }\n",
       "</style>\n",
       "<table border=\"1\" class=\"dataframe\">\n",
       "  <thead>\n",
       "    <tr style=\"text-align: right;\">\n",
       "      <th></th>\n",
       "      <th>CB Count</th>\n",
       "      <th>Steps Count</th>\n",
       "      <th>Steps Count %</th>\n",
       "    </tr>\n",
       "    <tr>\n",
       "      <th>eps</th>\n",
       "      <th></th>\n",
       "      <th></th>\n",
       "      <th></th>\n",
       "    </tr>\n",
       "  </thead>\n",
       "  <tbody>\n",
       "    <tr>\n",
       "      <th>0</th>\n",
       "      <td>340</td>\n",
       "      <td>1004</td>\n",
       "      <td>35.265191</td>\n",
       "    </tr>\n",
       "    <tr>\n",
       "      <th>1</th>\n",
       "      <td>419</td>\n",
       "      <td>1238</td>\n",
       "      <td>43.484370</td>\n",
       "    </tr>\n",
       "    <tr>\n",
       "      <th>2</th>\n",
       "      <td>486</td>\n",
       "      <td>1452</td>\n",
       "      <td>51.001054</td>\n",
       "    </tr>\n",
       "    <tr>\n",
       "      <th>3</th>\n",
       "      <td>507</td>\n",
       "      <td>1519</td>\n",
       "      <td>53.354408</td>\n",
       "    </tr>\n",
       "    <tr>\n",
       "      <th>4</th>\n",
       "      <td>512</td>\n",
       "      <td>1595</td>\n",
       "      <td>56.023885</td>\n",
       "    </tr>\n",
       "    <tr>\n",
       "      <th>5</th>\n",
       "      <td>525</td>\n",
       "      <td>1652</td>\n",
       "      <td>58.025992</td>\n",
       "    </tr>\n",
       "    <tr>\n",
       "      <th>6</th>\n",
       "      <td>529</td>\n",
       "      <td>1692</td>\n",
       "      <td>59.430980</td>\n",
       "    </tr>\n",
       "    <tr>\n",
       "      <th>7</th>\n",
       "      <td>532</td>\n",
       "      <td>1714</td>\n",
       "      <td>60.203723</td>\n",
       "    </tr>\n",
       "    <tr>\n",
       "      <th>8</th>\n",
       "      <td>544</td>\n",
       "      <td>1764</td>\n",
       "      <td>61.959958</td>\n",
       "    </tr>\n",
       "    <tr>\n",
       "      <th>9</th>\n",
       "      <td>547</td>\n",
       "      <td>1785</td>\n",
       "      <td>62.697576</td>\n",
       "    </tr>\n",
       "    <tr>\n",
       "      <th>10</th>\n",
       "      <td>587</td>\n",
       "      <td>1969</td>\n",
       "      <td>69.160520</td>\n",
       "    </tr>\n",
       "    <tr>\n",
       "      <th>11</th>\n",
       "      <td>592</td>\n",
       "      <td>2004</td>\n",
       "      <td>70.389884</td>\n",
       "    </tr>\n",
       "    <tr>\n",
       "      <th>12</th>\n",
       "      <td>596</td>\n",
       "      <td>2034</td>\n",
       "      <td>71.443625</td>\n",
       "    </tr>\n",
       "    <tr>\n",
       "      <th>13</th>\n",
       "      <td>598</td>\n",
       "      <td>2061</td>\n",
       "      <td>72.391992</td>\n",
       "    </tr>\n",
       "    <tr>\n",
       "      <th>14</th>\n",
       "      <td>600</td>\n",
       "      <td>2090</td>\n",
       "      <td>73.410608</td>\n",
       "    </tr>\n",
       "    <tr>\n",
       "      <th>15</th>\n",
       "      <td>607</td>\n",
       "      <td>2138</td>\n",
       "      <td>75.096593</td>\n",
       "    </tr>\n",
       "    <tr>\n",
       "      <th>16</th>\n",
       "      <td>611</td>\n",
       "      <td>2167</td>\n",
       "      <td>76.115209</td>\n",
       "    </tr>\n",
       "    <tr>\n",
       "      <th>17</th>\n",
       "      <td>610</td>\n",
       "      <td>2176</td>\n",
       "      <td>76.431331</td>\n",
       "    </tr>\n",
       "    <tr>\n",
       "      <th>18</th>\n",
       "      <td>606</td>\n",
       "      <td>2189</td>\n",
       "      <td>76.887952</td>\n",
       "    </tr>\n",
       "    <tr>\n",
       "      <th>19</th>\n",
       "      <td>607</td>\n",
       "      <td>2205</td>\n",
       "      <td>77.449947</td>\n",
       "    </tr>\n",
       "    <tr>\n",
       "      <th>20</th>\n",
       "      <td>652</td>\n",
       "      <td>2390</td>\n",
       "      <td>83.948015</td>\n",
       "    </tr>\n",
       "  </tbody>\n",
       "</table>\n",
       "</div>"
      ],
      "text/plain": [
       "     CB Count  Steps Count  Steps Count %\n",
       "eps                                      \n",
       "0         340         1004      35.265191\n",
       "1         419         1238      43.484370\n",
       "2         486         1452      51.001054\n",
       "3         507         1519      53.354408\n",
       "4         512         1595      56.023885\n",
       "5         525         1652      58.025992\n",
       "6         529         1692      59.430980\n",
       "7         532         1714      60.203723\n",
       "8         544         1764      61.959958\n",
       "9         547         1785      62.697576\n",
       "10        587         1969      69.160520\n",
       "11        592         2004      70.389884\n",
       "12        596         2034      71.443625\n",
       "13        598         2061      72.391992\n",
       "14        600         2090      73.410608\n",
       "15        607         2138      75.096593\n",
       "16        611         2167      76.115209\n",
       "17        610         2176      76.431331\n",
       "18        606         2189      76.887952\n",
       "19        607         2205      77.449947\n",
       "20        652         2390      83.948015"
      ]
     },
     "execution_count": 9,
     "metadata": {},
     "output_type": "execute_result"
    }
   ],
   "source": [
    "GLCounts = getCBofAllGames(GLData,dim=3)\n",
    "GLCounts['Steps Count %'] = GLCounts['Steps Count']/(2847/100)\n",
    "GLCounts"
   ]
  },
  {
   "cell_type": "code",
   "execution_count": 10,
   "metadata": {},
   "outputs": [],
   "source": [
    "GLCounts.to_clipboard()"
   ]
  },
  {
   "cell_type": "code",
   "execution_count": 15,
   "metadata": {
    "scrolled": true
   },
   "outputs": [
    {
     "data": {
      "text/html": [
       "<div>\n",
       "<style scoped>\n",
       "    .dataframe tbody tr th:only-of-type {\n",
       "        vertical-align: middle;\n",
       "    }\n",
       "\n",
       "    .dataframe tbody tr th {\n",
       "        vertical-align: top;\n",
       "    }\n",
       "\n",
       "    .dataframe thead th {\n",
       "        text-align: right;\n",
       "    }\n",
       "</style>\n",
       "<table border=\"1\" class=\"dataframe\">\n",
       "  <thead>\n",
       "    <tr style=\"text-align: right;\">\n",
       "      <th></th>\n",
       "      <th>CB Count</th>\n",
       "      <th>Steps Count</th>\n",
       "      <th>Steps Count %</th>\n",
       "    </tr>\n",
       "    <tr>\n",
       "      <th>eps</th>\n",
       "      <th></th>\n",
       "      <th></th>\n",
       "      <th></th>\n",
       "    </tr>\n",
       "  </thead>\n",
       "  <tbody>\n",
       "    <tr>\n",
       "      <th>0</th>\n",
       "      <td>5</td>\n",
       "      <td>11</td>\n",
       "      <td>18.333333</td>\n",
       "    </tr>\n",
       "    <tr>\n",
       "      <th>1</th>\n",
       "      <td>5</td>\n",
       "      <td>11</td>\n",
       "      <td>18.333333</td>\n",
       "    </tr>\n",
       "    <tr>\n",
       "      <th>2</th>\n",
       "      <td>6</td>\n",
       "      <td>13</td>\n",
       "      <td>21.666667</td>\n",
       "    </tr>\n",
       "    <tr>\n",
       "      <th>3</th>\n",
       "      <td>6</td>\n",
       "      <td>13</td>\n",
       "      <td>21.666667</td>\n",
       "    </tr>\n",
       "    <tr>\n",
       "      <th>4</th>\n",
       "      <td>8</td>\n",
       "      <td>17</td>\n",
       "      <td>28.333333</td>\n",
       "    </tr>\n",
       "    <tr>\n",
       "      <th>5</th>\n",
       "      <td>9</td>\n",
       "      <td>19</td>\n",
       "      <td>31.666667</td>\n",
       "    </tr>\n",
       "    <tr>\n",
       "      <th>6</th>\n",
       "      <td>10</td>\n",
       "      <td>21</td>\n",
       "      <td>35.000000</td>\n",
       "    </tr>\n",
       "    <tr>\n",
       "      <th>7</th>\n",
       "      <td>10</td>\n",
       "      <td>21</td>\n",
       "      <td>35.000000</td>\n",
       "    </tr>\n",
       "    <tr>\n",
       "      <th>8</th>\n",
       "      <td>9</td>\n",
       "      <td>21</td>\n",
       "      <td>35.000000</td>\n",
       "    </tr>\n",
       "    <tr>\n",
       "      <th>9</th>\n",
       "      <td>9</td>\n",
       "      <td>21</td>\n",
       "      <td>35.000000</td>\n",
       "    </tr>\n",
       "    <tr>\n",
       "      <th>10</th>\n",
       "      <td>14</td>\n",
       "      <td>32</td>\n",
       "      <td>53.333333</td>\n",
       "    </tr>\n",
       "  </tbody>\n",
       "</table>\n",
       "</div>"
      ],
      "text/plain": [
       "     CB Count  Steps Count  Steps Count %\n",
       "eps                                      \n",
       "0           5           11      18.333333\n",
       "1           5           11      18.333333\n",
       "2           6           13      21.666667\n",
       "3           6           13      21.666667\n",
       "4           8           17      28.333333\n",
       "5           9           19      31.666667\n",
       "6          10           21      35.000000\n",
       "7          10           21      35.000000\n",
       "8           9           21      35.000000\n",
       "9           9           21      35.000000\n",
       "10         14           32      53.333333"
      ]
     },
     "execution_count": 15,
     "metadata": {},
     "output_type": "execute_result"
    }
   ],
   "source": [
    "GLECounts = getCBofAllGames(GLEData,dim=3)\n",
    "GLECounts['Steps Count %'] = GLECounts['Steps Count']/(60/100)\n",
    "GLECounts"
   ]
  },
  {
   "cell_type": "markdown",
   "metadata": {},
   "source": [
    "### Доля КП в YH"
   ]
  },
  {
   "cell_type": "code",
   "execution_count": 16,
   "metadata": {},
   "outputs": [
    {
     "name": "stdout",
     "output_type": "stream",
     "text": [
      "(1035, 16) (90, 16)\n"
     ]
    }
   ],
   "source": [
    "print(YHData.shape,YHEData.shape)"
   ]
  },
  {
   "cell_type": "code",
   "execution_count": 67,
   "metadata": {
    "scrolled": true
   },
   "outputs": [
    {
     "data": {
      "text/html": [
       "<div>\n",
       "<style scoped>\n",
       "    .dataframe tbody tr th:only-of-type {\n",
       "        vertical-align: middle;\n",
       "    }\n",
       "\n",
       "    .dataframe tbody tr th {\n",
       "        vertical-align: top;\n",
       "    }\n",
       "\n",
       "    .dataframe thead th {\n",
       "        text-align: right;\n",
       "    }\n",
       "</style>\n",
       "<table border=\"1\" class=\"dataframe\">\n",
       "  <thead>\n",
       "    <tr style=\"text-align: right;\">\n",
       "      <th></th>\n",
       "      <th>ts</th>\n",
       "      <th>te</th>\n",
       "      <th>subject</th>\n",
       "      <th>game</th>\n",
       "      <th>gamelength</th>\n",
       "    </tr>\n",
       "  </thead>\n",
       "  <tbody>\n",
       "    <tr>\n",
       "      <th>0</th>\n",
       "      <td>1</td>\n",
       "      <td>4</td>\n",
       "      <td>1</td>\n",
       "      <td>40</td>\n",
       "      <td>60</td>\n",
       "    </tr>\n",
       "    <tr>\n",
       "      <th>42</th>\n",
       "      <td>1</td>\n",
       "      <td>3</td>\n",
       "      <td>2</td>\n",
       "      <td>40</td>\n",
       "      <td>60</td>\n",
       "    </tr>\n",
       "    <tr>\n",
       "      <th>100</th>\n",
       "      <td>1</td>\n",
       "      <td>3</td>\n",
       "      <td>3</td>\n",
       "      <td>40</td>\n",
       "      <td>60</td>\n",
       "    </tr>\n",
       "    <tr>\n",
       "      <th>1</th>\n",
       "      <td>6</td>\n",
       "      <td>8</td>\n",
       "      <td>1</td>\n",
       "      <td>40</td>\n",
       "      <td>60</td>\n",
       "    </tr>\n",
       "    <tr>\n",
       "      <th>101</th>\n",
       "      <td>6</td>\n",
       "      <td>8</td>\n",
       "      <td>3</td>\n",
       "      <td>40</td>\n",
       "      <td>60</td>\n",
       "    </tr>\n",
       "  </tbody>\n",
       "</table>\n",
       "</div>"
      ],
      "text/plain": [
       "    ts te  subject  game  gamelength\n",
       "0    1  4        1    40          60\n",
       "42   1  3        2    40          60\n",
       "100  1  3        3    40          60\n",
       "1    6  8        1    40          60\n",
       "101  6  8        3    40          60"
      ]
     },
     "execution_count": 67,
     "metadata": {},
     "output_type": "execute_result"
    }
   ],
   "source": [
    "YHCB = getCBwithEps(YHData,eps=0.5)\n",
    "YHCB.sort_values(by=['game','ts']).head()"
   ]
  },
  {
   "cell_type": "code",
   "execution_count": 55,
   "metadata": {},
   "outputs": [
    {
     "ename": "NameError",
     "evalue": "name 'YHCB' is not defined",
     "output_type": "error",
     "traceback": [
      "\u001b[1;31m---------------------------------------------------------------------------\u001b[0m",
      "\u001b[1;31mNameError\u001b[0m                                 Traceback (most recent call last)",
      "\u001b[1;32m<ipython-input-55-3906e42b6529>\u001b[0m in \u001b[0;36m<module>\u001b[1;34m()\u001b[0m\n\u001b[1;32m----> 1\u001b[1;33m \u001b[1;33m(\u001b[0m\u001b[0mYHCB\u001b[0m\u001b[1;33m[\u001b[0m\u001b[1;34m'te'\u001b[0m\u001b[1;33m]\u001b[0m\u001b[1;33m-\u001b[0m\u001b[0mYHCB\u001b[0m\u001b[1;33m[\u001b[0m\u001b[1;34m'ts'\u001b[0m\u001b[1;33m]\u001b[0m\u001b[1;33m)\u001b[0m\u001b[1;33m.\u001b[0m\u001b[0msum\u001b[0m\u001b[1;33m(\u001b[0m\u001b[1;33m)\u001b[0m\u001b[1;33m\u001b[0m\u001b[0m\n\u001b[0m",
      "\u001b[1;31mNameError\u001b[0m: name 'YHCB' is not defined"
     ]
    }
   ],
   "source": [
    "(YHCB['te']-YHCB['ts']).sum()"
   ]
  },
  {
   "cell_type": "code",
   "execution_count": 10,
   "metadata": {},
   "outputs": [],
   "source": [
    "def cbStepsCount(cbdata,sh=0):\n",
    "    return (cbdata['te']-cbdata['ts']+sh).sum()"
   ]
  },
  {
   "cell_type": "code",
   "execution_count": 11,
   "metadata": {},
   "outputs": [
    {
     "data": {
      "text/html": [
       "<div>\n",
       "<style scoped>\n",
       "    .dataframe tbody tr th:only-of-type {\n",
       "        vertical-align: middle;\n",
       "    }\n",
       "\n",
       "    .dataframe tbody tr th {\n",
       "        vertical-align: top;\n",
       "    }\n",
       "\n",
       "    .dataframe thead th {\n",
       "        text-align: right;\n",
       "    }\n",
       "</style>\n",
       "<table border=\"1\" class=\"dataframe\">\n",
       "  <thead>\n",
       "    <tr style=\"text-align: right;\">\n",
       "      <th></th>\n",
       "      <th>Steps count</th>\n",
       "    </tr>\n",
       "  </thead>\n",
       "  <tbody>\n",
       "    <tr>\n",
       "      <th>CB(0)</th>\n",
       "      <td>329</td>\n",
       "    </tr>\n",
       "    <tr>\n",
       "      <th>CB(0.5)</th>\n",
       "      <td>388</td>\n",
       "    </tr>\n",
       "    <tr>\n",
       "      <th>CB(1)</th>\n",
       "      <td>462</td>\n",
       "    </tr>\n",
       "  </tbody>\n",
       "</table>\n",
       "</div>"
      ],
      "text/plain": [
       "         Steps count\n",
       "CB(0)            329\n",
       "CB(0.5)          388\n",
       "CB(1)            462"
      ]
     },
     "execution_count": 11,
     "metadata": {},
     "output_type": "execute_result"
    }
   ],
   "source": [
    "pd.DataFrame(data=[cbStepsCount(getCBwithEps(YHData,e),0) for e in [0,0.5,1]],\n",
    "             columns=['Steps count'], index=['CB(0)','CB(0.5)','CB(1)'])"
   ]
  },
  {
   "cell_type": "code",
   "execution_count": 43,
   "metadata": {},
   "outputs": [
    {
     "data": {
      "text/plain": [
       "(152, 5)"
      ]
     },
     "execution_count": 43,
     "metadata": {},
     "output_type": "execute_result"
    }
   ],
   "source": [
    "YHCB.shape"
   ]
  },
  {
   "cell_type": "code",
   "execution_count": 68,
   "metadata": {
    "scrolled": true
   },
   "outputs": [],
   "source": [
    "dcb = DataMarkedCB(YHData,YHCB)"
   ]
  },
  {
   "cell_type": "code",
   "execution_count": 35,
   "metadata": {},
   "outputs": [
    {
     "name": "stdout",
     "output_type": "stream",
     "text": [
      "Stored 'dcb' (DataFrame)\n"
     ]
    }
   ],
   "source": [
    "%store dcb"
   ]
  },
  {
   "cell_type": "code",
   "execution_count": 70,
   "metadata": {},
   "outputs": [
    {
     "data": {
      "text/html": [
       "<div>\n",
       "<style scoped>\n",
       "    .dataframe tbody tr th:only-of-type {\n",
       "        vertical-align: middle;\n",
       "    }\n",
       "\n",
       "    .dataframe tbody tr th {\n",
       "        vertical-align: top;\n",
       "    }\n",
       "\n",
       "    .dataframe thead th {\n",
       "        text-align: right;\n",
       "    }\n",
       "</style>\n",
       "<table border=\"1\" class=\"dataframe\">\n",
       "  <thead>\n",
       "    <tr style=\"text-align: right;\">\n",
       "      <th></th>\n",
       "      <th>Game</th>\n",
       "      <th>Time</th>\n",
       "      <th>Subject</th>\n",
       "      <th>Group</th>\n",
       "      <th>GrSubject</th>\n",
       "      <th>Type</th>\n",
       "      <th>Gain</th>\n",
       "      <th>Penalty</th>\n",
       "      <th>x</th>\n",
       "      <th>s1</th>\n",
       "      <th>s2</th>\n",
       "      <th>s3</th>\n",
       "      <th>AcceptAdvice</th>\n",
       "      <th>CalcCount</th>\n",
       "      <th>CalcAdviceCount</th>\n",
       "      <th>UseHelp</th>\n",
       "      <th>iscb</th>\n",
       "    </tr>\n",
       "  </thead>\n",
       "  <tbody>\n",
       "    <tr>\n",
       "      <th>0</th>\n",
       "      <td>40</td>\n",
       "      <td>1</td>\n",
       "      <td>6</td>\n",
       "      <td>1</td>\n",
       "      <td>2</td>\n",
       "      <td>9.0</td>\n",
       "      <td>2.129054</td>\n",
       "      <td>5.74200</td>\n",
       "      <td>52.953488</td>\n",
       "      <td>NaN</td>\n",
       "      <td>99.0</td>\n",
       "      <td>NaN</td>\n",
       "      <td>0.0</td>\n",
       "      <td>0.0</td>\n",
       "      <td>0.0</td>\n",
       "      <td>0.0</td>\n",
       "      <td>0.0</td>\n",
       "    </tr>\n",
       "    <tr>\n",
       "      <th>1</th>\n",
       "      <td>40</td>\n",
       "      <td>1</td>\n",
       "      <td>10</td>\n",
       "      <td>1</td>\n",
       "      <td>3</td>\n",
       "      <td>25.0</td>\n",
       "      <td>3.551163</td>\n",
       "      <td>5.75000</td>\n",
       "      <td>61.511628</td>\n",
       "      <td>NaN</td>\n",
       "      <td>115.0</td>\n",
       "      <td>NaN</td>\n",
       "      <td>0.0</td>\n",
       "      <td>0.0</td>\n",
       "      <td>0.0</td>\n",
       "      <td>0.0</td>\n",
       "      <td>0.0</td>\n",
       "    </tr>\n",
       "    <tr>\n",
       "      <th>2</th>\n",
       "      <td>40</td>\n",
       "      <td>1</td>\n",
       "      <td>11</td>\n",
       "      <td>1</td>\n",
       "      <td>1</td>\n",
       "      <td>1.0</td>\n",
       "      <td>1.131904</td>\n",
       "      <td>0.10700</td>\n",
       "      <td>0.534884</td>\n",
       "      <td>NaN</td>\n",
       "      <td>1.0</td>\n",
       "      <td>NaN</td>\n",
       "      <td>0.0</td>\n",
       "      <td>0.0</td>\n",
       "      <td>0.0</td>\n",
       "      <td>2.0</td>\n",
       "      <td>0.0</td>\n",
       "    </tr>\n",
       "    <tr>\n",
       "      <th>3</th>\n",
       "      <td>40</td>\n",
       "      <td>2</td>\n",
       "      <td>6</td>\n",
       "      <td>1</td>\n",
       "      <td>2</td>\n",
       "      <td>9.0</td>\n",
       "      <td>2.122540</td>\n",
       "      <td>5.74695</td>\n",
       "      <td>52.928870</td>\n",
       "      <td>NaN</td>\n",
       "      <td>99.0</td>\n",
       "      <td>NaN</td>\n",
       "      <td>0.0</td>\n",
       "      <td>0.0</td>\n",
       "      <td>0.0</td>\n",
       "      <td>1.0</td>\n",
       "      <td>1.0</td>\n",
       "    </tr>\n",
       "    <tr>\n",
       "      <th>4</th>\n",
       "      <td>40</td>\n",
       "      <td>2</td>\n",
       "      <td>10</td>\n",
       "      <td>1</td>\n",
       "      <td>3</td>\n",
       "      <td>25.0</td>\n",
       "      <td>3.543875</td>\n",
       "      <td>5.75575</td>\n",
       "      <td>61.483031</td>\n",
       "      <td>NaN</td>\n",
       "      <td>115.0</td>\n",
       "      <td>NaN</td>\n",
       "      <td>0.0</td>\n",
       "      <td>3.0</td>\n",
       "      <td>0.0</td>\n",
       "      <td>1.0</td>\n",
       "      <td>1.0</td>\n",
       "    </tr>\n",
       "    <tr>\n",
       "      <th>5</th>\n",
       "      <td>40</td>\n",
       "      <td>2</td>\n",
       "      <td>11</td>\n",
       "      <td>1</td>\n",
       "      <td>1</td>\n",
       "      <td>1.0</td>\n",
       "      <td>1.142498</td>\n",
       "      <td>0.11770</td>\n",
       "      <td>0.588099</td>\n",
       "      <td>NaN</td>\n",
       "      <td>1.1</td>\n",
       "      <td>NaN</td>\n",
       "      <td>0.0</td>\n",
       "      <td>0.0</td>\n",
       "      <td>0.0</td>\n",
       "      <td>1.0</td>\n",
       "      <td>1.0</td>\n",
       "    </tr>\n",
       "  </tbody>\n",
       "</table>\n",
       "</div>"
      ],
      "text/plain": [
       "   Game  Time Subject  Group  GrSubject  Type      Gain  Penalty          x  \\\n",
       "0    40     1       6      1          2   9.0  2.129054  5.74200  52.953488   \n",
       "1    40     1      10      1          3  25.0  3.551163  5.75000  61.511628   \n",
       "2    40     1      11      1          1   1.0  1.131904  0.10700   0.534884   \n",
       "3    40     2       6      1          2   9.0  2.122540  5.74695  52.928870   \n",
       "4    40     2      10      1          3  25.0  3.543875  5.75575  61.483031   \n",
       "5    40     2      11      1          1   1.0  1.142498  0.11770   0.588099   \n",
       "\n",
       "   s1     s2  s3  AcceptAdvice  CalcCount  CalcAdviceCount  UseHelp  iscb  \n",
       "0 NaN   99.0 NaN           0.0        0.0              0.0      0.0   0.0  \n",
       "1 NaN  115.0 NaN           0.0        0.0              0.0      0.0   0.0  \n",
       "2 NaN    1.0 NaN           0.0        0.0              0.0      2.0   0.0  \n",
       "3 NaN   99.0 NaN           0.0        0.0              0.0      1.0   1.0  \n",
       "4 NaN  115.0 NaN           0.0        3.0              0.0      1.0   1.0  \n",
       "5 NaN    1.1 NaN           0.0        0.0              0.0      1.0   1.0  "
      ]
     },
     "execution_count": 70,
     "metadata": {},
     "output_type": "execute_result"
    }
   ],
   "source": [
    "dcb.head(6)"
   ]
  },
  {
   "cell_type": "code",
   "execution_count": 45,
   "metadata": {},
   "outputs": [
    {
     "data": {
      "text/plain": [
       "Game               388\n",
       "Time               388\n",
       "Subject            388\n",
       "Group              388\n",
       "GrSubject          388\n",
       "Type               388\n",
       "Gain               388\n",
       "Penalty            388\n",
       "x                  388\n",
       "s1                   0\n",
       "s2                 388\n",
       "s3                   0\n",
       "AcceptAdvice       388\n",
       "CalcCount          388\n",
       "CalcAdviceCount    388\n",
       "UseHelp            111\n",
       "iscb               388\n",
       "dtype: int64"
      ]
     },
     "execution_count": 45,
     "metadata": {},
     "output_type": "execute_result"
    }
   ],
   "source": [
    "dcb[dcb['iscb']>0].count()"
   ]
  },
  {
   "cell_type": "code",
   "execution_count": 36,
   "metadata": {},
   "outputs": [
    {
     "data": {
      "text/plain": [
       "Game               706\n",
       "Time               706\n",
       "Subject            706\n",
       "Group              706\n",
       "GrSubject          706\n",
       "Type               706\n",
       "Gain               706\n",
       "Penalty            706\n",
       "x                  706\n",
       "s1                   0\n",
       "s2                 706\n",
       "s3                   0\n",
       "AcceptAdvice       706\n",
       "CalcCount          706\n",
       "CalcAdviceCount    706\n",
       "UseHelp            264\n",
       "iscb               706\n",
       "dtype: int64"
      ]
     },
     "execution_count": 36,
     "metadata": {},
     "output_type": "execute_result"
    }
   ],
   "source": [
    "dcb[dcb['iscb']<1].count()"
   ]
  },
  {
   "cell_type": "code",
   "execution_count": 10,
   "metadata": {},
   "outputs": [
    {
     "data": {
      "text/plain": [
       "Index(['Game', 'Time', 'Subject', 'Group', 'GrSubject', 'Type', 'Gain',\n",
       "       'Penalty', 'x', 's1', 's2', 's3', 'AcceptAdvice', 'CalcCount',\n",
       "       'CalcAdviceCount', 'UseHelp'],\n",
       "      dtype='object')"
      ]
     },
     "execution_count": 10,
     "metadata": {},
     "output_type": "execute_result"
    }
   ],
   "source": [
    "YHData.columns"
   ]
  },
  {
   "cell_type": "code",
   "execution_count": 11,
   "metadata": {},
   "outputs": [
    {
     "data": {
      "text/html": [
       "<div>\n",
       "<style scoped>\n",
       "    .dataframe tbody tr th:only-of-type {\n",
       "        vertical-align: middle;\n",
       "    }\n",
       "\n",
       "    .dataframe tbody tr th {\n",
       "        vertical-align: top;\n",
       "    }\n",
       "\n",
       "    .dataframe thead th {\n",
       "        text-align: right;\n",
       "    }\n",
       "</style>\n",
       "<table border=\"1\" class=\"dataframe\">\n",
       "  <thead>\n",
       "    <tr style=\"text-align: right;\">\n",
       "      <th></th>\n",
       "      <th>Game</th>\n",
       "      <th>Time</th>\n",
       "      <th>Subject</th>\n",
       "      <th>Group</th>\n",
       "      <th>GrSubject</th>\n",
       "      <th>Type</th>\n",
       "      <th>Gain</th>\n",
       "      <th>Penalty</th>\n",
       "      <th>x</th>\n",
       "      <th>s1</th>\n",
       "      <th>s2</th>\n",
       "      <th>s3</th>\n",
       "      <th>AcceptAdvice</th>\n",
       "      <th>CalcCount</th>\n",
       "      <th>CalcAdviceCount</th>\n",
       "      <th>UseHelp</th>\n",
       "    </tr>\n",
       "  </thead>\n",
       "  <tbody>\n",
       "    <tr>\n",
       "      <th>2624</th>\n",
       "      <td>40</td>\n",
       "      <td>31</td>\n",
       "      <td>11</td>\n",
       "      <td>1</td>\n",
       "      <td>1</td>\n",
       "      <td>1.0</td>\n",
       "      <td>1.623527</td>\n",
       "      <td>0.0325</td>\n",
       "      <td>1.742424</td>\n",
       "      <td>NaN</td>\n",
       "      <td>1.0</td>\n",
       "      <td>NaN</td>\n",
       "      <td>0.0</td>\n",
       "      <td>0.0</td>\n",
       "      <td>0.0</td>\n",
       "      <td>1.0</td>\n",
       "    </tr>\n",
       "    <tr>\n",
       "      <th>2627</th>\n",
       "      <td>40</td>\n",
       "      <td>32</td>\n",
       "      <td>11</td>\n",
       "      <td>1</td>\n",
       "      <td>1</td>\n",
       "      <td>1.0</td>\n",
       "      <td>5.393992</td>\n",
       "      <td>1.3000</td>\n",
       "      <td>43.809524</td>\n",
       "      <td>NaN</td>\n",
       "      <td>40.0</td>\n",
       "      <td>NaN</td>\n",
       "      <td>0.0</td>\n",
       "      <td>0.0</td>\n",
       "      <td>0.0</td>\n",
       "      <td>1.0</td>\n",
       "    </tr>\n",
       "    <tr>\n",
       "      <th>2630</th>\n",
       "      <td>40</td>\n",
       "      <td>33</td>\n",
       "      <td>11</td>\n",
       "      <td>1</td>\n",
       "      <td>1</td>\n",
       "      <td>1.0</td>\n",
       "      <td>5.046249</td>\n",
       "      <td>1.4400</td>\n",
       "      <td>41.071429</td>\n",
       "      <td>NaN</td>\n",
       "      <td>40.0</td>\n",
       "      <td>NaN</td>\n",
       "      <td>0.0</td>\n",
       "      <td>0.0</td>\n",
       "      <td>0.0</td>\n",
       "      <td>1.0</td>\n",
       "    </tr>\n",
       "    <tr>\n",
       "      <th>2633</th>\n",
       "      <td>40</td>\n",
       "      <td>34</td>\n",
       "      <td>11</td>\n",
       "      <td>1</td>\n",
       "      <td>1</td>\n",
       "      <td>1.0</td>\n",
       "      <td>4.935892</td>\n",
       "      <td>1.4430</td>\n",
       "      <td>39.690265</td>\n",
       "      <td>NaN</td>\n",
       "      <td>39.0</td>\n",
       "      <td>NaN</td>\n",
       "      <td>0.0</td>\n",
       "      <td>4.0</td>\n",
       "      <td>0.0</td>\n",
       "      <td>6.0</td>\n",
       "    </tr>\n",
       "  </tbody>\n",
       "</table>\n",
       "</div>"
      ],
      "text/plain": [
       "      Game  Time Subject  Group  GrSubject  Type      Gain  Penalty  \\\n",
       "2624    40    31      11      1          1   1.0  1.623527   0.0325   \n",
       "2627    40    32      11      1          1   1.0  5.393992   1.3000   \n",
       "2630    40    33      11      1          1   1.0  5.046249   1.4400   \n",
       "2633    40    34      11      1          1   1.0  4.935892   1.4430   \n",
       "\n",
       "              x  s1    s2  s3  AcceptAdvice  CalcCount  CalcAdviceCount  \\\n",
       "2624   1.742424 NaN   1.0 NaN           0.0        0.0              0.0   \n",
       "2627  43.809524 NaN  40.0 NaN           0.0        0.0              0.0   \n",
       "2630  41.071429 NaN  40.0 NaN           0.0        0.0              0.0   \n",
       "2633  39.690265 NaN  39.0 NaN           0.0        4.0              0.0   \n",
       "\n",
       "      UseHelp  \n",
       "2624      1.0  \n",
       "2627      1.0  \n",
       "2630      1.0  \n",
       "2633      6.0  "
      ]
     },
     "execution_count": 11,
     "metadata": {},
     "output_type": "execute_result"
    }
   ],
   "source": [
    "YHData[(YHData['Game']==40) & (YHData['GrSubject']==1) & (YHData['Time']>=31) & (YHData['Time']<=34)]"
   ]
  },
  {
   "cell_type": "code",
   "execution_count": 44,
   "metadata": {},
   "outputs": [
    {
     "data": {
      "text/plain": [
       "329"
      ]
     },
     "execution_count": 44,
     "metadata": {},
     "output_type": "execute_result"
    }
   ],
   "source": [
    "(YHCB['te']-YHCB['ts']).sum()"
   ]
  },
  {
   "cell_type": "code",
   "execution_count": 28,
   "metadata": {
    "scrolled": true
   },
   "outputs": [
    {
     "data": {
      "text/html": [
       "<div>\n",
       "<style scoped>\n",
       "    .dataframe tbody tr th:only-of-type {\n",
       "        vertical-align: middle;\n",
       "    }\n",
       "\n",
       "    .dataframe tbody tr th {\n",
       "        vertical-align: top;\n",
       "    }\n",
       "\n",
       "    .dataframe thead th {\n",
       "        text-align: right;\n",
       "    }\n",
       "</style>\n",
       "<table border=\"1\" class=\"dataframe\">\n",
       "  <thead>\n",
       "    <tr style=\"text-align: right;\">\n",
       "      <th></th>\n",
       "      <th>CB Count</th>\n",
       "      <th>Steps Count</th>\n",
       "      <th>Steps Count %</th>\n",
       "    </tr>\n",
       "    <tr>\n",
       "      <th>eps</th>\n",
       "      <th></th>\n",
       "      <th></th>\n",
       "      <th></th>\n",
       "    </tr>\n",
       "  </thead>\n",
       "  <tbody>\n",
       "    <tr>\n",
       "      <th>0</th>\n",
       "      <td>139</td>\n",
       "      <td>468</td>\n",
       "      <td>45.217391</td>\n",
       "    </tr>\n",
       "    <tr>\n",
       "      <th>1</th>\n",
       "      <td>189</td>\n",
       "      <td>651</td>\n",
       "      <td>62.898551</td>\n",
       "    </tr>\n",
       "    <tr>\n",
       "      <th>2</th>\n",
       "      <td>201</td>\n",
       "      <td>713</td>\n",
       "      <td>68.888889</td>\n",
       "    </tr>\n",
       "    <tr>\n",
       "      <th>3</th>\n",
       "      <td>207</td>\n",
       "      <td>752</td>\n",
       "      <td>72.657005</td>\n",
       "    </tr>\n",
       "    <tr>\n",
       "      <th>4</th>\n",
       "      <td>212</td>\n",
       "      <td>785</td>\n",
       "      <td>75.845411</td>\n",
       "    </tr>\n",
       "    <tr>\n",
       "      <th>5</th>\n",
       "      <td>238</td>\n",
       "      <td>892</td>\n",
       "      <td>86.183575</td>\n",
       "    </tr>\n",
       "    <tr>\n",
       "      <th>6</th>\n",
       "      <td>230</td>\n",
       "      <td>890</td>\n",
       "      <td>85.990338</td>\n",
       "    </tr>\n",
       "    <tr>\n",
       "      <th>7</th>\n",
       "      <td>223</td>\n",
       "      <td>890</td>\n",
       "      <td>85.990338</td>\n",
       "    </tr>\n",
       "    <tr>\n",
       "      <th>8</th>\n",
       "      <td>221</td>\n",
       "      <td>897</td>\n",
       "      <td>86.666667</td>\n",
       "    </tr>\n",
       "    <tr>\n",
       "      <th>9</th>\n",
       "      <td>211</td>\n",
       "      <td>893</td>\n",
       "      <td>86.280193</td>\n",
       "    </tr>\n",
       "    <tr>\n",
       "      <th>10</th>\n",
       "      <td>211</td>\n",
       "      <td>946</td>\n",
       "      <td>91.400966</td>\n",
       "    </tr>\n",
       "  </tbody>\n",
       "</table>\n",
       "</div>"
      ],
      "text/plain": [
       "     CB Count  Steps Count  Steps Count %\n",
       "eps                                      \n",
       "0         139          468      45.217391\n",
       "1         189          651      62.898551\n",
       "2         201          713      68.888889\n",
       "3         207          752      72.657005\n",
       "4         212          785      75.845411\n",
       "5         238          892      86.183575\n",
       "6         230          890      85.990338\n",
       "7         223          890      85.990338\n",
       "8         221          897      86.666667\n",
       "9         211          893      86.280193\n",
       "10        211          946      91.400966"
      ]
     },
     "execution_count": 28,
     "metadata": {},
     "output_type": "execute_result"
    }
   ],
   "source": [
    "Counts = getCBofAllGames(YHData)\n",
    "Counts['Steps Count %'] = Counts['Steps Count']/(YHData.shape[0]/100)\n",
    "Counts"
   ]
  },
  {
   "cell_type": "code",
   "execution_count": 19,
   "metadata": {},
   "outputs": [
    {
     "data": {
      "text/plain": [
       "(1035, 16)"
      ]
     },
     "execution_count": 19,
     "metadata": {},
     "output_type": "execute_result"
    }
   ],
   "source": [
    "YHData.shape"
   ]
  },
  {
   "cell_type": "code",
   "execution_count": 58,
   "metadata": {},
   "outputs": [],
   "source": [
    "Counts.to_clipboard()"
   ]
  },
  {
   "cell_type": "code",
   "execution_count": 17,
   "metadata": {},
   "outputs": [
    {
     "data": {
      "image/png": "[encoded data removed]",
      "text/plain": [
       "<Figure size 432x288 with 2 Axes>"
      ]
     },
     "metadata": {
      "needs_background": "light"
     },
     "output_type": "display_data"
    }
   ],
   "source": [
    "fig, axes = plt.subplots(nrows=2, ncols=1)\n",
    "axes[0].set_title('CB Count')\n",
    "axes[1].set_title('Steps Count')\n",
    "Counts['CB Count'].plot(ax=axes[0])\n",
    "Counts['Steps Count'].plot(ax=axes[1])\n",
    "fig.tight_layout(h_pad=0.1)\n",
    "fig.savefig('CB_StepsCount.png',dpi=100)"
   ]
  },
  {
   "cell_type": "code",
   "execution_count": 19,
   "metadata": {},
   "outputs": [
    {
     "data": {
      "text/plain": [
       "(75, 16)"
      ]
     },
     "execution_count": 19,
     "metadata": {},
     "output_type": "execute_result"
    }
   ],
   "source": [
    "YHEData.shape"
   ]
  },
  {
   "cell_type": "code",
   "execution_count": 56,
   "metadata": {},
   "outputs": [
    {
     "data": {
      "text/html": [
       "<div>\n",
       "<style scoped>\n",
       "    .dataframe tbody tr th:only-of-type {\n",
       "        vertical-align: middle;\n",
       "    }\n",
       "\n",
       "    .dataframe tbody tr th {\n",
       "        vertical-align: top;\n",
       "    }\n",
       "\n",
       "    .dataframe thead th {\n",
       "        text-align: right;\n",
       "    }\n",
       "</style>\n",
       "<table border=\"1\" class=\"dataframe\">\n",
       "  <thead>\n",
       "    <tr style=\"text-align: right;\">\n",
       "      <th></th>\n",
       "      <th>CB Count</th>\n",
       "      <th>Steps Count</th>\n",
       "      <th>Steps Count %</th>\n",
       "    </tr>\n",
       "    <tr>\n",
       "      <th>eps</th>\n",
       "      <th></th>\n",
       "      <th></th>\n",
       "      <th></th>\n",
       "    </tr>\n",
       "  </thead>\n",
       "  <tbody>\n",
       "    <tr>\n",
       "      <th>0</th>\n",
       "      <td>11</td>\n",
       "      <td>27</td>\n",
       "      <td>36.000000</td>\n",
       "    </tr>\n",
       "    <tr>\n",
       "      <th>1</th>\n",
       "      <td>11</td>\n",
       "      <td>28</td>\n",
       "      <td>37.333333</td>\n",
       "    </tr>\n",
       "    <tr>\n",
       "      <th>2</th>\n",
       "      <td>12</td>\n",
       "      <td>30</td>\n",
       "      <td>40.000000</td>\n",
       "    </tr>\n",
       "    <tr>\n",
       "      <th>3</th>\n",
       "      <td>12</td>\n",
       "      <td>30</td>\n",
       "      <td>40.000000</td>\n",
       "    </tr>\n",
       "    <tr>\n",
       "      <th>4</th>\n",
       "      <td>12</td>\n",
       "      <td>30</td>\n",
       "      <td>40.000000</td>\n",
       "    </tr>\n",
       "    <tr>\n",
       "      <th>5</th>\n",
       "      <td>17</td>\n",
       "      <td>40</td>\n",
       "      <td>53.333333</td>\n",
       "    </tr>\n",
       "    <tr>\n",
       "      <th>6</th>\n",
       "      <td>17</td>\n",
       "      <td>40</td>\n",
       "      <td>53.333333</td>\n",
       "    </tr>\n",
       "    <tr>\n",
       "      <th>7</th>\n",
       "      <td>17</td>\n",
       "      <td>40</td>\n",
       "      <td>53.333333</td>\n",
       "    </tr>\n",
       "    <tr>\n",
       "      <th>8</th>\n",
       "      <td>17</td>\n",
       "      <td>40</td>\n",
       "      <td>53.333333</td>\n",
       "    </tr>\n",
       "    <tr>\n",
       "      <th>9</th>\n",
       "      <td>17</td>\n",
       "      <td>40</td>\n",
       "      <td>53.333333</td>\n",
       "    </tr>\n",
       "    <tr>\n",
       "      <th>10</th>\n",
       "      <td>19</td>\n",
       "      <td>51</td>\n",
       "      <td>68.000000</td>\n",
       "    </tr>\n",
       "  </tbody>\n",
       "</table>\n",
       "</div>"
      ],
      "text/plain": [
       "     CB Count  Steps Count  Steps Count %\n",
       "eps                                      \n",
       "0          11           27      36.000000\n",
       "1          11           28      37.333333\n",
       "2          12           30      40.000000\n",
       "3          12           30      40.000000\n",
       "4          12           30      40.000000\n",
       "5          17           40      53.333333\n",
       "6          17           40      53.333333\n",
       "7          17           40      53.333333\n",
       "8          17           40      53.333333\n",
       "9          17           40      53.333333\n",
       "10         19           51      68.000000"
      ]
     },
     "execution_count": 56,
     "metadata": {},
     "output_type": "execute_result"
    }
   ],
   "source": [
    "CountsExp = getCBofAllGames(YHEData)\n",
    "CountsExp['Steps Count %'] = CountsExp['Steps Count']/(YHEData.shape[0]/100)\n",
    "CountsExp"
   ]
  },
  {
   "cell_type": "markdown",
   "metadata": {},
   "source": [
    "## Для графиков числа КП и шагов в них"
   ]
  },
  {
   "cell_type": "code",
   "execution_count": 16,
   "metadata": {},
   "outputs": [],
   "source": [
    "Meta={'basecount':YHData.shape[0],'expcount':YHEData.shape[0]}"
   ]
  },
  {
   "cell_type": "markdown",
   "metadata": {},
   "source": [
    "### Для статьи \"КП итог\""
   ]
  },
  {
   "cell_type": "code",
   "execution_count": 27,
   "metadata": {},
   "outputs": [
    {
     "data": {
      "image/png": "[encoded data removed]",
      "text/plain": [
       "<Figure size 720x360 with 4 Axes>"
      ]
     },
     "metadata": {},
     "output_type": "display_data"
    }
   ],
   "source": [
    "fig, axes = plt.subplots(nrows=2, ncols=2)\n",
    "axes[0,0].set_title('YH - CB Count')\n",
    "axes[1,0].set_title('Experim. YH - CB Count')\n",
    "axes[0,1].set_title('YH - Steps Count (%)')\n",
    "axes[1,1].set_title('Experim. YH - Steps Count (%)')\n",
    "CountsExp['CB Count'].plot(ax=axes[1,0])\n",
    "(CountsExp['Steps Count']/(Meta['expcount']/100)).plot(ax=axes[1,1])\n",
    "Counts['CB Count'].plot(ax=axes[0,0])\n",
    "(Counts['Steps Count']/(Meta['basecount']/100)).plot(ax=axes[0,1])\n",
    "fig.tight_layout(h_pad=0.1)\n",
    "fig.set_size_inches((10,5))\n",
    "fig.savefig('YHE_CB_StepsCount.png',dpi=150)"
   ]
  },
  {
   "cell_type": "markdown",
   "metadata": {},
   "source": [
    "### Для презентации на УБС-2018"
   ]
  },
  {
   "cell_type": "code",
   "execution_count": 15,
   "metadata": {},
   "outputs": [
    {
     "data": {
      "image/png": "[encoded data removed]",
      "text/plain": [
       "<Figure size 432x288 with 2 Axes>"
      ]
     },
     "metadata": {
      "needs_background": "light"
     },
     "output_type": "display_data"
    }
   ],
   "source": [
    "fig, axes = plt.subplots(nrows=2, ncols=1)\n",
    "#axes[0,0].set_title('YH - CB Count')\n",
    "#axes[1,0].set_title('Experim. YH - CB Count')\n",
    "axes[0].set_title('YH - Steps Count (%)')\n",
    "axes[1].set_title('Experim. YH - Steps Count (%)')\n",
    "#CountsExp['CB Count'].plot(ax=axes[1,0])\n",
    "CountsExp['Steps Count'].plot(ax=axes[1])\n",
    "#Counts['CB Count'].plot(ax=axes[0,0])\n",
    "Counts['Steps Count'].plot(ax=axes[0])\n",
    "fig.tight_layout(h_pad=0.1)\n",
    "#fig.set_size_inches((10,5))\n",
    "fig.savefig('YHE_CB_StepsCount.png',dpi=150)"
   ]
  },
  {
   "cell_type": "code",
   "execution_count": 82,
   "metadata": {},
   "outputs": [
    {
     "data": {
      "text/plain": [
       "eps\n",
       "0     0.360000\n",
       "1     0.373333\n",
       "2     0.400000\n",
       "3     0.400000\n",
       "4     0.400000\n",
       "5     0.533333\n",
       "6     0.533333\n",
       "7     0.533333\n",
       "8     0.533333\n",
       "9     0.533333\n",
       "10    0.680000\n",
       "Name: Steps Count, dtype: float64"
      ]
     },
     "execution_count": 82,
     "metadata": {},
     "output_type": "execute_result"
    }
   ],
   "source": [
    "CountsExp['Steps Count']/75"
   ]
  },
  {
   "cell_type": "code",
   "execution_count": 61,
   "metadata": {},
   "outputs": [
    {
     "data": {
      "image/png": "[encoded data removed]",
      "text/plain": [
       "<Figure size 432x288 with 2 Axes>"
      ]
     },
     "metadata": {},
     "output_type": "display_data"
    }
   ],
   "source": [
    "fig, axes = plt.subplots(nrows=2, ncols=1)\n",
    "CountsExp['CB Count'].plot(ax=axes[0])\n",
    "CountsExp['Steps Count'].plot(ax=axes[1])\n",
    "fig.savefig('YHE_CB_StepsCount.png',dpi=100)"
   ]
  },
  {
   "cell_type": "code",
   "execution_count": 64,
   "metadata": {},
   "outputs": [
    {
     "data": {
      "text/html": [
       "<div>\n",
       "<style scoped>\n",
       "    .dataframe tbody tr th:only-of-type {\n",
       "        vertical-align: middle;\n",
       "    }\n",
       "\n",
       "    .dataframe tbody tr th {\n",
       "        vertical-align: top;\n",
       "    }\n",
       "\n",
       "    .dataframe thead th {\n",
       "        text-align: right;\n",
       "    }\n",
       "</style>\n",
       "<table border=\"1\" class=\"dataframe\">\n",
       "  <thead>\n",
       "    <tr style=\"text-align: right;\">\n",
       "      <th></th>\n",
       "      <th>Time</th>\n",
       "      <th>x</th>\n",
       "    </tr>\n",
       "  </thead>\n",
       "  <tbody>\n",
       "    <tr>\n",
       "      <th>6411</th>\n",
       "      <td>8</td>\n",
       "      <td>22.133333</td>\n",
       "    </tr>\n",
       "    <tr>\n",
       "      <th>6412</th>\n",
       "      <td>8</td>\n",
       "      <td>42.333333</td>\n",
       "    </tr>\n",
       "    <tr>\n",
       "      <th>6413</th>\n",
       "      <td>8</td>\n",
       "      <td>50.533333</td>\n",
       "    </tr>\n",
       "  </tbody>\n",
       "</table>\n",
       "</div>"
      ],
      "text/plain": [
       "      Time          x\n",
       "6411     8  22.133333\n",
       "6412     8  42.333333\n",
       "6413     8  50.533333"
      ]
     },
     "execution_count": 64,
     "metadata": {},
     "output_type": "execute_result"
    }
   ],
   "source": [
    "GLData[['Time','x']].iloc[-3:]"
   ]
  },
  {
   "cell_type": "markdown",
   "metadata": {},
   "source": [
    "### Распределение, эфф-е по Нэш-торгам"
   ]
  },
  {
   "cell_type": "markdown",
   "metadata": {},
   "source": [
    "NashOpt - оптимальное распределение ресурсов для максимизации функции торгов Нэша $ \\Pi_i (u_i(x_i)-u_i(0)) $ :"
   ]
  },
  {
   "cell_type": "code",
   "execution_count": null,
   "metadata": {},
   "outputs": [],
   "source": [
    "NashOpt=[32.0724,39.1355,43.7921]"
   ]
  },
  {
   "cell_type": "code",
   "execution_count": 115,
   "metadata": {},
   "outputs": [],
   "source": [
    "gamegroups = GLData.groupby('Game')\n",
    "\n",
    "a = []\n",
    "for g,data in gamegroups:\n",
    "    data.sort_values(by=['Time','GrSubject'])\n",
    "    a.append( data['x'].iloc[-3:].values )"
   ]
  },
  {
   "cell_type": "code",
   "execution_count": 116,
   "metadata": {},
   "outputs": [
    {
     "data": {
      "text/plain": [
       "[array([38.13333333, 44.        , 32.86666667]),\n",
       " array([42.06666667, 41.70833333, 31.225     ]),\n",
       " array([ 166.66666667,   53.75      , -152.5       ]),\n",
       " array([ 0.15, 66.25, 48.6 ]),\n",
       " array([33.       , 28.5034256, 53.4965744]),\n",
       " array([41., 49., 25.]),\n",
       " array([25., 49., 41.]),\n",
       " array([41., 25., 49.]),\n",
       " array([25., 49., 41.]),\n",
       " array([24.83333333, 41.33333333, 48.83333333]),\n",
       " array([65.,  0., 50.]),\n",
       " array([ 43.33333333, -28.33333333, 100.        ]),\n",
       " array([45.  , 45.75, 24.25]),\n",
       " array([25., 41., 49.]),\n",
       " array([ 0. , 69.5, 45.5]),\n",
       " array([34.33333333, 42.        , 38.66666667]),\n",
       " array([32.33333333, 32.66666667, 46.66666667]),\n",
       " array([47.33333333, 21.66666667, 46.        ]),\n",
       " array([25., 49., 41.]),\n",
       " array([53.66666667, 26.75      , 34.58333333]),\n",
       " array([37.6       , 38.96666667, 38.4       ]),\n",
       " array([27.5       , 40.25      , 45.83333333]),\n",
       " array([48.33333333, 22.13333333, 44.53333333]),\n",
       " array([52.83333333, 38.33333333, 23.5       ]),\n",
       " array([46.33333333, 22.33333333, 46.33333333]),\n",
       " array([26.66666667, 46.66666667, 41.66666667]),\n",
       " array([50.        , 28.33333333, 36.66666667]),\n",
       " array([38.33333333, 25.33333333, 35.66666667]),\n",
       " array([34.85      , 42.76666667, 37.35      ]),\n",
       " array([68.66666667, 11.        , 33.66666667]),\n",
       " array([44.9       , 46.        , 24.06666667]),\n",
       " array([43.66666667, 47.66666667, 23.66666667]),\n",
       " array([23.39166667, 39.50833333, 52.1       ]),\n",
       " array([12.        , 89.        ,  9.83333333]),\n",
       " array([33.86666667, 49.43333333, 31.7       ]),\n",
       " array([34.43333333, 36.73333333, 43.43333333]),\n",
       " array([32.525     , 57.45868036, 25.01631964]),\n",
       " array([38.75, 49.25, 27.  ]),\n",
       " array([56.66666667, 42.5       , 15.83333333]),\n",
       " array([42.2919906 , 36.16666667, 36.54134273]),\n",
       " array([22.13333333, 42.33333333, 50.53333333])]"
      ]
     },
     "execution_count": 116,
     "metadata": {},
     "output_type": "execute_result"
    }
   ],
   "source": [
    "a"
   ]
  },
  {
   "cell_type": "code",
   "execution_count": 81,
   "metadata": {},
   "outputs": [],
   "source": [
    "from scipy.spatial import distance"
   ]
  },
  {
   "cell_type": "code",
   "execution_count": 119,
   "metadata": {},
   "outputs": [
    {
     "data": {
      "text/plain": [
       "[array([41.02181685, 49.6502236 , 42.39936481]),\n",
       " array([26.79171582, 32.52246141, 27.75504135])]"
      ]
     },
     "execution_count": 119,
     "metadata": {},
     "output_type": "execute_result"
    }
   ],
   "source": [
    "npd = distance.cdist(a,[[115/3,115/3,115/3],[49,41,25],[32.0724, 39.1355, 43.7921]],'cityblock')\n",
    "npd2 = distance.cdist(a,[[115/3,115/3,115/3],[49,41,25],[32.0724, 39.1355, 43.7921]],'euclidean')\n",
    "\n",
    "[np.mean(npd,axis=0),np.mean(npd2,axis=0)]"
   ]
  },
  {
   "cell_type": "code",
   "execution_count": 96,
   "metadata": {},
   "outputs": [],
   "source": [
    "gamegroups = YHData.groupby('Game')"
   ]
  },
  {
   "cell_type": "code",
   "execution_count": 97,
   "metadata": {},
   "outputs": [],
   "source": [
    "a = []\n",
    "for g,data in gamegroups:\n",
    "    data.sort_values(by=['Time','GrSubject'])\n",
    "    a.append( data['x'].iloc[-3:].values )"
   ]
  },
  {
   "cell_type": "code",
   "execution_count": 99,
   "metadata": {},
   "outputs": [],
   "source": [
    "npd = distance.cdist(a,[[49,41,25],[22.81,115/3,53.85]],'cityblock')\n",
    "npd2 = distance.cdist(a,[[49,41,25],[22.81,115/3,53.85]],'euclidean')"
   ]
  },
  {
   "cell_type": "code",
   "execution_count": 100,
   "metadata": {},
   "outputs": [
    {
     "data": {
      "text/plain": [
       "array([51.26294136, 53.61308444])"
      ]
     },
     "execution_count": 100,
     "metadata": {},
     "output_type": "execute_result"
    }
   ],
   "source": [
    "np.mean(npd,axis=0)"
   ]
  },
  {
   "cell_type": "code",
   "execution_count": 101,
   "metadata": {},
   "outputs": [
    {
     "data": {
      "text/plain": [
       "array([32.4326487 , 34.89020465])"
      ]
     },
     "execution_count": 101,
     "metadata": {},
     "output_type": "execute_result"
    }
   ],
   "source": [
    "np.mean(npd2,axis=0)"
   ]
  },
  {
   "cell_type": "code",
   "execution_count": 98,
   "metadata": {},
   "outputs": [
    {
     "data": {
      "text/plain": [
       "[array([38.33333333, 38.33333333, 38.33333333]),\n",
       " array([50.88495575, 40.7079646 , 23.40707965]),\n",
       " array([68.69666408, 44.60822343,  1.69511249]),\n",
       " array([43.07116105, 22.39700375, 49.53183521]),\n",
       " array([24.64285714, 65.71428571, 24.64285714]),\n",
       " array([45.72289157, 53.1124498 , 16.16465863]),\n",
       " array([  3.74230431,  10.11433597, 101.14335972]),\n",
       " array([37.77444254, 39.45111492, 37.77444254]),\n",
       " array([ 8.69747899,  9.66386555, 96.63865546]),\n",
       " array([37.57523646, 37.87188306, 39.55288048]),\n",
       " array([35.63511327, 43.72977346, 35.63511327]),\n",
       " array([32.45967742, 46.37096774, 36.16935484]),\n",
       " array([27.38095238, 21.9047619 , 65.71428571]),\n",
       " array([39.57322552, 37.1967655 , 38.23000898])]"
      ]
     },
     "execution_count": 98,
     "metadata": {},
     "output_type": "execute_result"
    }
   ],
   "source": [
    "a"
   ]
  },
  {
   "cell_type": "code",
   "execution_count": null,
   "metadata": {},
   "outputs": [],
   "source": []
  },
  {
   "cell_type": "code",
   "execution_count": 102,
   "metadata": {},
   "outputs": [],
   "source": [
    "def f(x,r):\n",
    "    import math\n",
    "    return math.sqrt(r+x)-math.sqrt(r)"
   ]
  },
  {
   "cell_type": "code",
   "execution_count": 103,
   "metadata": {},
   "outputs": [],
   "source": [
    "def Nf(x,r):\n",
    "    return f(x[0],r[0])*f(x[1],r[1])*f(x[2],r[2])"
   ]
  },
  {
   "cell_type": "code",
   "execution_count": 107,
   "metadata": {},
   "outputs": [
    {
     "data": {
      "text/plain": [
       "58.39938875025514"
      ]
     },
     "execution_count": 107,
     "metadata": {},
     "output_type": "execute_result"
    }
   ],
   "source": [
    "Nf([22.81,115/3,53.85],[1,9,25])"
   ]
  },
  {
   "cell_type": "code",
   "execution_count": 105,
   "metadata": {},
   "outputs": [
    {
     "data": {
      "text/plain": [
       "56.522610716240145"
      ]
     },
     "execution_count": 105,
     "metadata": {},
     "output_type": "execute_result"
    }
   ],
   "source": [
    "Nf([20,40,55],[1,9,25])"
   ]
  },
  {
   "cell_type": "code",
   "execution_count": 108,
   "metadata": {},
   "outputs": [
    {
     "data": {
      "text/plain": [
       "60.50607771202381"
      ]
     },
     "execution_count": 108,
     "metadata": {},
     "output_type": "execute_result"
    }
   ],
   "source": [
    "Nf([115/3,115/3,115/3],[1,9,25])"
   ]
  },
  {
   "cell_type": "code",
   "execution_count": 109,
   "metadata": {},
   "outputs": [
    {
     "data": {
      "text/plain": [
       "114.99333333333334"
      ]
     },
     "execution_count": 109,
     "metadata": {},
     "output_type": "execute_result"
    }
   ],
   "source": [
    "22.81+115/3+53.85"
   ]
  },
  {
   "cell_type": "code",
   "execution_count": 110,
   "metadata": {},
   "outputs": [
    {
     "data": {
      "text/plain": [
       "61.62857193511759"
      ]
     },
     "execution_count": 110,
     "metadata": {},
     "output_type": "execute_result"
    }
   ],
   "source": [
    "Nf([32.0724, 39.1355, 43.7921],[1,9,25])"
   ]
  },
  {
   "cell_type": "code",
   "execution_count": 114,
   "metadata": {},
   "outputs": [
    {
     "data": {
      "text/plain": [
       "51.187950266179705"
      ]
     },
     "execution_count": 114,
     "metadata": {},
     "output_type": "execute_result"
    }
   ],
   "source": [
    "Nf([49,41,25],[1,9,25])"
   ]
  },
  {
   "cell_type": "markdown",
   "metadata": {},
   "source": [
    "## Оценка распределения длин КП"
   ]
  },
  {
   "cell_type": "code",
   "execution_count": 10,
   "metadata": {},
   "outputs": [],
   "source": [
    "cbs = getCBwithEps(YHData)"
   ]
  },
  {
   "cell_type": "code",
   "execution_count": 11,
   "metadata": {},
   "outputs": [],
   "source": [
    "notStoppedCbs = cbs[cbs['te']!=cbs['gamelength']]"
   ]
  },
  {
   "cell_type": "code",
   "execution_count": 12,
   "metadata": {},
   "outputs": [],
   "source": [
    "lengths = (notStoppedCbs['te']-notStoppedCbs['ts'])"
   ]
  },
  {
   "cell_type": "code",
   "execution_count": 13,
   "metadata": {},
   "outputs": [
    {
     "data": {
      "text/plain": [
       "array([1, 1, 1, 1, 1, 2, 1, 1, 1, 2, 1, 1, 2, 2, 1, 3, 8, 3, 5, 1, 1, 1,\n",
       "       1, 2, 3, 2, 2, 2, 1, 5, 1, 1, 6, 2, 3, 3, 1, 1, 1, 1, 1, 1, 1, 1,\n",
       "       4, 2, 5, 1, 1, 1, 1, 1, 5, 4, 1, 1, 1, 1, 1, 1, 1, 5, 1, 1, 1, 1,\n",
       "       1, 4, 5, 1, 3, 2, 1, 2, 2, 2, 1, 7, 3, 2, 1, 1, 1, 1, 3, 2, 3, 6,\n",
       "       1, 6, 8, 1, 8, 1, 3, 11, 1, 2, 5, 1, 1, 1, 2, 1, 2, 6, 3, 1, 3, 1,\n",
       "       2, 4, 1, 1, 4, 1, 3, 2], dtype=object)"
      ]
     },
     "execution_count": 13,
     "metadata": {},
     "output_type": "execute_result"
    }
   ],
   "source": [
    "lengths.values"
   ]
  },
  {
   "cell_type": "code",
   "execution_count": 2,
   "metadata": {},
   "outputs": [],
   "source": [
    "from scipy import stats\n",
    "from scipy.stats import logser\n",
    "from statsmodels.base.model import GenericLikelihoodModel"
   ]
  },
  {
   "cell_type": "code",
   "execution_count": 15,
   "metadata": {},
   "outputs": [],
   "source": [
    "class LogFit(GenericLikelihoodModel):\n",
    "    def __init__(self, endog, exog=None, **kwds):\n",
    "        if exog is None:\n",
    "            exog = np.zeros_like(endog)\n",
    "            \n",
    "        super(LogFit, self).__init__(endog, exog, **kwds)\n",
    "    \n",
    "    def nloglikeobs(self, params):\n",
    "\n",
    "        return -np.log(logser.pmf(self.endog, p=params[0]))\n",
    "    \n",
    "    def fit(self, start_params=None, maxiter=10000, maxfun=5000, **kwds):\n",
    "        if start_params is None:\n",
    "            excess_zeros = 0.5 #(self.endog == 0).mean() - stats.poisson.pmf(0, lambda_start)\n",
    "            \n",
    "            start_params = np.array([excess_zeros])\n",
    "            \n",
    "        return super(LogFit, self).fit(start_params=start_params,\n",
    "                                                    maxiter=maxiter, maxfun=maxfun, **kwds)"
   ]
  },
  {
   "cell_type": "code",
   "execution_count": 20,
   "metadata": {},
   "outputs": [
    {
     "name": "stdout",
     "output_type": "stream",
     "text": [
      "Optimization terminated successfully.\n",
      "         Current function value: 1.520917\n",
      "         Iterations: 14\n",
      "         Function evaluations: 28\n"
     ]
    }
   ],
   "source": [
    "results = LogFit(lengths.values.tolist()).fit()"
   ]
  },
  {
   "cell_type": "code",
   "execution_count": 21,
   "metadata": {},
   "outputs": [],
   "source": [
    "plog = results.params.item()"
   ]
  },
  {
   "cell_type": "code",
   "execution_count": 22,
   "metadata": {},
   "outputs": [
    {
     "data": {
      "text/plain": [
       "0.7646484375000007"
      ]
     },
     "execution_count": 22,
     "metadata": {},
     "output_type": "execute_result"
    }
   ],
   "source": [
    "plog"
   ]
  },
  {
   "cell_type": "code",
   "execution_count": 66,
   "metadata": {},
   "outputs": [
    {
     "data": {
      "text/plain": [
       "(118, 5)"
      ]
     },
     "execution_count": 66,
     "metadata": {},
     "output_type": "execute_result"
    }
   ],
   "source": [
    "notStoppedCbs.shape"
   ]
  },
  {
   "cell_type": "code",
   "execution_count": 74,
   "metadata": {},
   "outputs": [
    {
     "data": {
      "text/plain": [
       "5.676809626210824"
      ]
     },
     "execution_count": 74,
     "metadata": {},
     "output_type": "execute_result"
    }
   ],
   "source": [
    "118*(1-logser.pmf(1,plog)-logser.pmf(2,plog)-logser.pmf(3,plog)-logser.pmf(4,plog)-logser.pmf(5,plog)-logser.pmf(6,plog)) #smallclass"
   ]
  },
  {
   "cell_type": "markdown",
   "metadata": {},
   "source": [
    "smallclass <~ 5 then use classes 1,2,3,4,5,[6,...]"
   ]
  },
  {
   "cell_type": "code",
   "execution_count": 108,
   "metadata": {},
   "outputs": [],
   "source": [
    "def myclass(a):\n",
    "    if a > 4:\n",
    "        return 5\n",
    "    else:\n",
    "        return a"
   ]
  },
  {
   "cell_type": "code",
   "execution_count": 96,
   "metadata": {},
   "outputs": [],
   "source": [
    "lengths.index = lengths.values"
   ]
  },
  {
   "cell_type": "code",
   "execution_count": 109,
   "metadata": {},
   "outputs": [],
   "source": [
    "histclasses = lengths.groupby(myclass).count()"
   ]
  },
  {
   "cell_type": "code",
   "execution_count": 110,
   "metadata": {},
   "outputs": [
    {
     "data": {
      "text/plain": [
       "1    63\n",
       "2    21\n",
       "3    13\n",
       "4     5\n",
       "5    16\n",
       "dtype: int64"
      ]
     },
     "execution_count": 110,
     "metadata": {},
     "output_type": "execute_result"
    }
   ],
   "source": [
    "histclasses"
   ]
  },
  {
   "cell_type": "code",
   "execution_count": 113,
   "metadata": {},
   "outputs": [],
   "source": [
    "expclassesp = [logser.pmf(1,plog),logser.pmf(2,plog),logser.pmf(3,plog),logser.pmf(4,plog)]\n",
    "expclassesp.append( 1 - np.sum(expclassesp) )"
   ]
  },
  {
   "cell_type": "code",
   "execution_count": 114,
   "metadata": {},
   "outputs": [],
   "source": [
    "expclasses = np.multiply(118,expclassesp)"
   ]
  },
  {
   "cell_type": "code",
   "execution_count": 117,
   "metadata": {},
   "outputs": [
    {
     "data": {
      "text/plain": [
       "Power_divergenceResult(statistic=1.84401018997024, pvalue=0.6054049725007631)"
      ]
     },
     "execution_count": 117,
     "metadata": {},
     "output_type": "execute_result"
    }
   ],
   "source": [
    "stats.chisquare(histclasses.values,expclasses,1)"
   ]
  },
  {
   "cell_type": "markdown",
   "metadata": {},
   "source": [
    "### Гипотеза падения выигрышей"
   ]
  },
  {
   "cell_type": "code",
   "execution_count": 67,
   "metadata": {},
   "outputs": [],
   "source": [
    "arr = np.loadtxt('2.txt')"
   ]
  },
  {
   "cell_type": "code",
   "execution_count": 61,
   "metadata": {},
   "outputs": [
    {
     "data": {
      "text/plain": [
       "(2, 198)"
      ]
     },
     "execution_count": 61,
     "metadata": {},
     "output_type": "execute_result"
    }
   ],
   "source": [
    "np.shape(arr)"
   ]
  },
  {
   "cell_type": "code",
   "execution_count": 46,
   "metadata": {},
   "outputs": [
    {
     "data": {
      "text/plain": [
       "WilcoxonResult(statistic=2110.0, pvalue=6.705348674323277e-06)"
      ]
     },
     "execution_count": 46,
     "metadata": {},
     "output_type": "execute_result"
    }
   ],
   "source": [
    "stats.wilcoxon(arr[0],arr[1],zero_method='wilcox')"
   ]
  },
  {
   "cell_type": "code",
   "execution_count": 23,
   "metadata": {},
   "outputs": [],
   "source": [
    "d=pd.DataFrame(arr[0]-arr[1])"
   ]
  },
  {
   "cell_type": "code",
   "execution_count": 25,
   "metadata": {},
   "outputs": [],
   "source": [
    "d['abs']=abs(d[0])"
   ]
  },
  {
   "cell_type": "code",
   "execution_count": 30,
   "metadata": {},
   "outputs": [],
   "source": [
    "dsrt = d.sort_values(by='abs')"
   ]
  },
  {
   "cell_type": "code",
   "execution_count": 39,
   "metadata": {},
   "outputs": [],
   "source": [
    "dsrtnn = dsrt[dsrt['abs']>0].copy()"
   ]
  },
  {
   "cell_type": "code",
   "execution_count": 40,
   "metadata": {},
   "outputs": [],
   "source": [
    "dsrtnn['rank'] = range(1,dsrtnn.shape[0]+1)"
   ]
  },
  {
   "cell_type": "code",
   "execution_count": 45,
   "metadata": {},
   "outputs": [
    {
     "data": {
      "text/plain": [
       "2110"
      ]
     },
     "execution_count": 45,
     "metadata": {},
     "output_type": "execute_result"
    }
   ],
   "source": [
    "dsrtnn[dsrtnn[0]<0]['rank'].sum()"
   ]
  },
  {
   "cell_type": "code",
   "execution_count": 51,
   "metadata": {},
   "outputs": [
    {
     "data": {
      "text/plain": [
       "3655.0"
      ]
     },
     "execution_count": 51,
     "metadata": {},
     "output_type": "execute_result"
    }
   ],
   "source": [
    "(np.sign(dsrtnn[0])*dsrtnn['rank']).sum()"
   ]
  },
  {
   "cell_type": "code",
   "execution_count": 52,
   "metadata": {},
   "outputs": [],
   "source": [
    "from math import sqrt"
   ]
  },
  {
   "cell_type": "code",
   "execution_count": 53,
   "metadata": {},
   "outputs": [],
   "source": [
    "n = 125\n",
    "sigma = sqrt( n*(n+1)*(2*n+1)/6 )"
   ]
  },
  {
   "cell_type": "code",
   "execution_count": 54,
   "metadata": {},
   "outputs": [
    {
     "data": {
      "text/plain": [
       "811.7111555227019"
      ]
     },
     "execution_count": 54,
     "metadata": {},
     "output_type": "execute_result"
    }
   ],
   "source": [
    "sigma"
   ]
  },
  {
   "cell_type": "code",
   "execution_count": 55,
   "metadata": {},
   "outputs": [
    {
     "data": {
      "text/plain": [
       "1590.9538648244957"
      ]
     },
     "execution_count": 55,
     "metadata": {},
     "output_type": "execute_result"
    }
   ],
   "source": [
    "sigma*1.96"
   ]
  },
  {
   "cell_type": "code",
   "execution_count": 57,
   "metadata": {},
   "outputs": [
    {
     "data": {
      "text/plain": [
       "6.7053486743073876e-06"
      ]
     },
     "execution_count": 57,
     "metadata": {},
     "output_type": "execute_result"
    }
   ],
   "source": [
    "2*(1-stats.norm.cdf(3655.0/sigma))"
   ]
  },
  {
   "cell_type": "code",
   "execution_count": 68,
   "metadata": {},
   "outputs": [
    {
     "data": {
      "text/plain": [
       "MannwhitneyuResult(statistic=20470.5, pvalue=0.9997420978922387)"
      ]
     },
     "execution_count": 68,
     "metadata": {},
     "output_type": "execute_result"
    }
   ],
   "source": [
    "stats.mannwhitneyu(arr[0],arr[1],alternative='less')"
   ]
  },
  {
   "cell_type": "markdown",
   "metadata": {},
   "source": [
    "# К GTM2019"
   ]
  },
  {
   "cell_type": "code",
   "execution_count": 25,
   "metadata": {},
   "outputs": [
    {
     "data": {
      "text/plain": [
       "892    186.007148\n",
       "23      96.172919\n",
       "300     67.404161\n",
       "728     54.492703\n",
       "759     44.189762\n",
       "600     30.202106\n",
       "771     21.696942\n",
       "312     20.520242\n",
       "200     12.280710\n",
       "453     10.840655\n",
       "Name: g, dtype: float64"
      ]
     },
     "execution_count": 25,
     "metadata": {},
     "output_type": "execute_result"
    }
   ],
   "source": [
    "totYHdata['g'].nlargest(10)"
   ]
  },
  {
   "cell_type": "code",
   "execution_count": 23,
   "metadata": {},
   "outputs": [
    {
     "data": {
      "text/plain": [
       "(47, 18)"
      ]
     },
     "execution_count": 23,
     "metadata": {},
     "output_type": "execute_result"
    }
   ],
   "source": [
    "\"br\"\n",
    "brcnt=totYHdata[(totYHdata['s2']>totYHdata['br']-1) & (totYHdata['s2']<totYHdata['br']+1)]\n",
    "brcnt.shape"
   ]
  },
  {
   "cell_type": "code",
   "execution_count": 28,
   "metadata": {},
   "outputs": [
    {
     "data": {
      "text/plain": [
       "(441, 18)"
      ]
     },
     "execution_count": 28,
     "metadata": {},
     "output_type": "execute_result"
    }
   ],
   "source": [
    "\"twBR\"\n",
    "twbrcnt = totYHdata[totYHdata['g']>0]\n",
    "twbrcnt.shape"
   ]
  },
  {
   "cell_type": "code",
   "execution_count": 52,
   "metadata": {},
   "outputs": [
    {
     "name": "stdout",
     "output_type": "stream",
     "text": [
      "29\n",
      "345\n"
     ]
    }
   ],
   "source": [
    "\"twBR общие шаги\"\n",
    "commtwbr = totYHdata.groupby(by=['Game','Time'])\n",
    "\n",
    "cnt = 0\n",
    "for name,group in commtwbr:\n",
    "    if (group['g']>0).all(): cnt += 1\n",
    "print(cnt)\n",
    "\n",
    "allcnt = 0\n",
    "for _ in YHData.groupby(['Game','Time']):\n",
    "    allcnt+=1\n",
    "print(allcnt)"
   ]
  },
  {
   "cell_type": "code",
   "execution_count": null,
   "metadata": {},
   "outputs": [],
   "source": [
    "\"CB общие шаги\""
   ]
  },
  {
   "cell_type": "code",
   "execution_count": 68,
   "metadata": {},
   "outputs": [],
   "source": [
    "YHCB = getCBwithEps(YHData,eps=1)"
   ]
  },
  {
   "cell_type": "code",
   "execution_count": 69,
   "metadata": {
    "scrolled": true
   },
   "outputs": [
    {
     "data": {
      "text/plain": [
       "(462, 17)"
      ]
     },
     "execution_count": 69,
     "metadata": {},
     "output_type": "execute_result"
    }
   ],
   "source": [
    "dcb = DataMarkedCB(totYHData,YHCB)\n",
    "dcb[dcb['iscb']>0].shape"
   ]
  },
  {
   "cell_type": "code",
   "execution_count": 70,
   "metadata": {},
   "outputs": [
    {
     "name": "stdout",
     "output_type": "stream",
     "text": [
      "46\n"
     ]
    }
   ],
   "source": [
    "commCB = dcb.groupby(['Game','Time'])\n",
    "cnt = 0\n",
    "for name,group in commCB:\n",
    "    if (group['iscb']>0).all(): cnt += 1\n",
    "print(cnt)"
   ]
  },
  {
   "cell_type": "code",
   "execution_count": 61,
   "metadata": {},
   "outputs": [
    {
     "data": {
      "text/plain": [
       "Index(['Game', 'Time', 'Subject', 'Group', 'GrSubject', 'Type', 'Gain',\n",
       "       'Penalty', 'x', 's1', 's2', 's3', 'AcceptAdvice', 'CalcCount',\n",
       "       'CalcAdviceCount', 'UseHelp', 'iscb'],\n",
       "      dtype='object')"
      ]
     },
     "execution_count": 61,
     "metadata": {},
     "output_type": "execute_result"
    }
   ],
   "source": [
    "dcb.columns"
   ]
  },
  {
   "cell_type": "code",
   "execution_count": 72,
   "metadata": {},
   "outputs": [
    {
     "name": "stdout",
     "output_type": "stream",
     "text": [
      "Stored 'dcb' (DataFrame)\n"
     ]
    }
   ],
   "source": [
    "%store dcb"
   ]
  },
  {
   "cell_type": "code",
   "execution_count": null,
   "metadata": {},
   "outputs": [],
   "source": []
  }
 ],
 "metadata": {
  "kernelspec": {
   "display_name": "Python 3",
   "language": "python",
   "name": "python3"
  },
  "language_info": {
   "codemirror_mode": {
    "name": "ipython",
    "version": 3
   },
   "file_extension": ".py",
   "mimetype": "text/x-python",
   "name": "python",
   "nbconvert_exporter": "python",
   "pygments_lexer": "ipython3",
   "version": "3.7.0"
  }
 },
 "nbformat": 4,
 "nbformat_minor": 2
}
