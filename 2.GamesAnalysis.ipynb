{
 "cells": [
  {
   "cell_type": "code",
   "execution_count": 3,
   "metadata": {
    "tags": []
   },
   "outputs": [
    {
     "name": "stdout",
     "output_type": "stream",
     "text": [
      "BR\n",
      "[38.33333333 38.33333333 38.33333333]\n",
      "[1. 3. 5.]\n"
     ]
    }
   ],
   "source": [
    "%run 0.GamesDefinitions.ipynb"
   ]
  },
  {
   "cell_type": "markdown",
   "metadata": {
    "heading_collapsed": "true",
    "tags": []
   },
   "source": [
    "# Статья 2019 по результату GTM2019. Нэш-торги в механизме распределения ресурса YH"
   ]
  },
  {
   "cell_type": "code",
   "execution_count": 4,
   "metadata": {
    "hidden": true
   },
   "outputs": [],
   "source": [
    "YHBadGames = [58,59,62]\n",
    "YHConsensusGames = [41,42,56]\n",
    "YHGames = Games[(Games.Mechname=='yh') & (Games.GameMech=='agree') & (~Games.Game.isin(YHBadGames))]"
   ]
  },
  {
   "cell_type": "markdown",
   "metadata": {
    "hidden": true
   },
   "source": [
    "Игры не включённые (BadGames):\n",
    "\n",
    "* 58 - все кроме одного вообще не меняют заявки в течение 15 шагов, а один меняет с точностью 0.1\n",
    "* 59,62 - два шага"
   ]
  },
  {
   "cell_type": "code",
   "execution_count": 5,
   "metadata": {
    "hidden": true
   },
   "outputs": [
    {
     "data": {
      "text/plain": [
       "array([40, 41, 42, 43, 56, 57, 60, 61, 92, 93, 94], dtype=int64)"
      ]
     },
     "execution_count": 5,
     "metadata": {},
     "output_type": "execute_result"
    }
   ],
   "source": [
    "YHData = Alldata[Alldata.Game.isin(YHGames.Game)].copy()\n",
    "YHData.Game.unique()"
   ]
  },
  {
   "cell_type": "code",
   "execution_count": 6,
   "metadata": {
    "hidden": true
   },
   "outputs": [
    {
     "data": {
      "text/plain": [
       "(978, 18)"
      ]
     },
     "execution_count": 6,
     "metadata": {},
     "output_type": "execute_result"
    }
   ],
   "source": [
    "YHData.shape"
   ]
  },
  {
   "cell_type": "markdown",
   "metadata": {
    "hidden": true
   },
   "source": [
    "## Добавляем столбец является ли шаг константным поведением"
   ]
  },
  {
   "cell_type": "code",
   "execution_count": 7,
   "metadata": {
    "hidden": true
   },
   "outputs": [],
   "source": [
    "# Считает несколько секунд\n",
    "cb = getCBwithEps(YHData,eps=0)\n",
    "YHData = DataMarkedCB(YHData,cb,'iscb0')\n",
    "cb = getCBwithEps(YHData,eps=0.51)\n",
    "YHData = DataMarkedCB(YHData,cb,'iscb0.5')\n",
    "cb = getCBwithEps(YHData,eps=1.01)\n",
    "YHData = DataMarkedCB(YHData,cb,'iscb1')\n",
    "del cb"
   ]
  },
  {
   "cell_type": "markdown",
   "metadata": {
    "hidden": true
   },
   "source": [
    "## Nash bargaining\n",
    "\n",
    "Fi>Fprev == Uiloc == LNI"
   ]
  },
  {
   "cell_type": "code",
   "execution_count": 8,
   "metadata": {
    "hidden": true
   },
   "outputs": [
    {
     "data": {
      "text/html": [
       "<div>\n",
       "<style scoped>\n",
       "    .dataframe tbody tr th:only-of-type {\n",
       "        vertical-align: middle;\n",
       "    }\n",
       "\n",
       "    .dataframe tbody tr th {\n",
       "        vertical-align: top;\n",
       "    }\n",
       "\n",
       "    .dataframe thead th {\n",
       "        text-align: right;\n",
       "    }\n",
       "</style>\n",
       "<table border=\"1\" class=\"dataframe\">\n",
       "  <thead>\n",
       "    <tr style=\"text-align: right;\">\n",
       "      <th></th>\n",
       "      <th>Game</th>\n",
       "      <th>Time</th>\n",
       "      <th>Subject</th>\n",
       "      <th>Group</th>\n",
       "      <th>GrSubject</th>\n",
       "      <th>Type</th>\n",
       "      <th>Gain</th>\n",
       "      <th>Penalty</th>\n",
       "      <th>x</th>\n",
       "      <th>s1</th>\n",
       "      <th>...</th>\n",
       "      <th>Unew&gt;Uprev</th>\n",
       "      <th>Fnew&gt;Fprev</th>\n",
       "      <th>Fi&gt;Fprev</th>\n",
       "      <th>Fii&gt;Fiprev</th>\n",
       "      <th>Ui</th>\n",
       "      <th>Uloci</th>\n",
       "      <th>Unew</th>\n",
       "      <th>Uprev</th>\n",
       "      <th>Ulocnew</th>\n",
       "      <th>Ulocnew&gt;Ulocprev</th>\n",
       "    </tr>\n",
       "  </thead>\n",
       "  <tbody>\n",
       "    <tr>\n",
       "      <th>0</th>\n",
       "      <td>40</td>\n",
       "      <td>1</td>\n",
       "      <td>11</td>\n",
       "      <td>1</td>\n",
       "      <td>1</td>\n",
       "      <td>1</td>\n",
       "      <td>1.131904</td>\n",
       "      <td>0.10700</td>\n",
       "      <td>0.534884</td>\n",
       "      <td>NaN</td>\n",
       "      <td>...</td>\n",
       "      <td>NaN</td>\n",
       "      <td>NaN</td>\n",
       "      <td>NaN</td>\n",
       "      <td>NaN</td>\n",
       "      <td>NaN</td>\n",
       "      <td>NaN</td>\n",
       "      <td>NaN</td>\n",
       "      <td>NaN</td>\n",
       "      <td>NaN</td>\n",
       "      <td>NaN</td>\n",
       "    </tr>\n",
       "    <tr>\n",
       "      <th>1</th>\n",
       "      <td>40</td>\n",
       "      <td>1</td>\n",
       "      <td>6</td>\n",
       "      <td>1</td>\n",
       "      <td>2</td>\n",
       "      <td>9</td>\n",
       "      <td>2.129054</td>\n",
       "      <td>5.74200</td>\n",
       "      <td>52.953488</td>\n",
       "      <td>NaN</td>\n",
       "      <td>...</td>\n",
       "      <td>NaN</td>\n",
       "      <td>NaN</td>\n",
       "      <td>NaN</td>\n",
       "      <td>NaN</td>\n",
       "      <td>NaN</td>\n",
       "      <td>NaN</td>\n",
       "      <td>NaN</td>\n",
       "      <td>NaN</td>\n",
       "      <td>NaN</td>\n",
       "      <td>NaN</td>\n",
       "    </tr>\n",
       "    <tr>\n",
       "      <th>2</th>\n",
       "      <td>40</td>\n",
       "      <td>1</td>\n",
       "      <td>10</td>\n",
       "      <td>1</td>\n",
       "      <td>3</td>\n",
       "      <td>25</td>\n",
       "      <td>3.551163</td>\n",
       "      <td>5.75000</td>\n",
       "      <td>61.511628</td>\n",
       "      <td>NaN</td>\n",
       "      <td>...</td>\n",
       "      <td>NaN</td>\n",
       "      <td>NaN</td>\n",
       "      <td>NaN</td>\n",
       "      <td>NaN</td>\n",
       "      <td>NaN</td>\n",
       "      <td>NaN</td>\n",
       "      <td>NaN</td>\n",
       "      <td>NaN</td>\n",
       "      <td>NaN</td>\n",
       "      <td>NaN</td>\n",
       "    </tr>\n",
       "    <tr>\n",
       "      <th>3</th>\n",
       "      <td>40</td>\n",
       "      <td>2</td>\n",
       "      <td>11</td>\n",
       "      <td>1</td>\n",
       "      <td>1</td>\n",
       "      <td>1</td>\n",
       "      <td>1.142498</td>\n",
       "      <td>0.11770</td>\n",
       "      <td>0.588099</td>\n",
       "      <td>NaN</td>\n",
       "      <td>...</td>\n",
       "      <td>0.0</td>\n",
       "      <td>0.0</td>\n",
       "      <td>0.0</td>\n",
       "      <td>1.0</td>\n",
       "      <td>-0.182068</td>\n",
       "      <td>-1.0</td>\n",
       "      <td>-0.182068</td>\n",
       "      <td>-0.166445</td>\n",
       "      <td>-5.028777e-07</td>\n",
       "      <td>-1.0</td>\n",
       "    </tr>\n",
       "    <tr>\n",
       "      <th>4</th>\n",
       "      <td>40</td>\n",
       "      <td>2</td>\n",
       "      <td>6</td>\n",
       "      <td>1</td>\n",
       "      <td>2</td>\n",
       "      <td>9</td>\n",
       "      <td>2.122540</td>\n",
       "      <td>5.74695</td>\n",
       "      <td>52.928870</td>\n",
       "      <td>NaN</td>\n",
       "      <td>...</td>\n",
       "      <td>0.0</td>\n",
       "      <td>0.0</td>\n",
       "      <td>0.0</td>\n",
       "      <td>0.0</td>\n",
       "      <td>-0.166445</td>\n",
       "      <td>-1.0</td>\n",
       "      <td>-0.182068</td>\n",
       "      <td>-0.166445</td>\n",
       "      <td>-5.028777e-07</td>\n",
       "      <td>-1.0</td>\n",
       "    </tr>\n",
       "  </tbody>\n",
       "</table>\n",
       "<p>5 rows × 34 columns</p>\n",
       "</div>"
      ],
      "text/plain": [
       "   Game  Time  Subject  Group  GrSubject  Type      Gain  Penalty          x  \\\n",
       "0    40     1       11      1          1     1  1.131904  0.10700   0.534884   \n",
       "1    40     1        6      1          2     9  2.129054  5.74200  52.953488   \n",
       "2    40     1       10      1          3    25  3.551163  5.75000  61.511628   \n",
       "3    40     2       11      1          1     1  1.142498  0.11770   0.588099   \n",
       "4    40     2        6      1          2     9  2.122540  5.74695  52.928870   \n",
       "\n",
       "   s1  ...  Unew>Uprev  Fnew>Fprev  Fi>Fprev  Fii>Fiprev        Ui  Uloci  \\\n",
       "0 NaN  ...         NaN         NaN       NaN         NaN       NaN    NaN   \n",
       "1 NaN  ...         NaN         NaN       NaN         NaN       NaN    NaN   \n",
       "2 NaN  ...         NaN         NaN       NaN         NaN       NaN    NaN   \n",
       "3 NaN  ...         0.0         0.0       0.0         1.0 -0.182068   -1.0   \n",
       "4 NaN  ...         0.0         0.0       0.0         0.0 -0.166445   -1.0   \n",
       "\n",
       "       Unew     Uprev       Ulocnew  Ulocnew>Ulocprev  \n",
       "0       NaN       NaN           NaN               NaN  \n",
       "1       NaN       NaN           NaN               NaN  \n",
       "2       NaN       NaN           NaN               NaN  \n",
       "3 -0.182068 -0.166445 -5.028777e-07              -1.0  \n",
       "4 -0.182068 -0.166445 -5.028777e-07              -1.0  \n",
       "\n",
       "[5 rows x 34 columns]"
      ]
     },
     "execution_count": 8,
     "metadata": {},
     "output_type": "execute_result"
    }
   ],
   "source": [
    "YHNB = NashData_bySubjects(YHMechanism, YHData, [0,0,0])\n",
    "YHData = pd.merge(YHData, YHNB, on=['Game', 'Time','GrSubject'], how='outer')\n",
    "YHData.head()"
   ]
  },
  {
   "cell_type": "markdown",
   "metadata": {
    "hidden": true,
    "tags": []
   },
   "source": [
    "## Добавляем столбец с Наилучшим ответом и гамма (вел-на шага в индикаторном поведении)"
   ]
  },
  {
   "cell_type": "code",
   "execution_count": 9,
   "metadata": {
    "hidden": true
   },
   "outputs": [
    {
     "data": {
      "text/html": [
       "<div>\n",
       "<style scoped>\n",
       "    .dataframe tbody tr th:only-of-type {\n",
       "        vertical-align: middle;\n",
       "    }\n",
       "\n",
       "    .dataframe tbody tr th {\n",
       "        vertical-align: top;\n",
       "    }\n",
       "\n",
       "    .dataframe thead th {\n",
       "        text-align: right;\n",
       "    }\n",
       "</style>\n",
       "<table border=\"1\" class=\"dataframe\">\n",
       "  <thead>\n",
       "    <tr style=\"text-align: right;\">\n",
       "      <th></th>\n",
       "      <th>Game</th>\n",
       "      <th>Time</th>\n",
       "      <th>g</th>\n",
       "      <th>br</th>\n",
       "      <th>GrSubject</th>\n",
       "    </tr>\n",
       "  </thead>\n",
       "  <tbody>\n",
       "    <tr>\n",
       "      <th>0</th>\n",
       "      <td>40.0</td>\n",
       "      <td>2.0</td>\n",
       "      <td>0.013325</td>\n",
       "      <td>8.504692</td>\n",
       "      <td>1</td>\n",
       "    </tr>\n",
       "    <tr>\n",
       "      <th>1</th>\n",
       "      <td>40.0</td>\n",
       "      <td>3.0</td>\n",
       "      <td>-0.013505</td>\n",
       "      <td>8.504692</td>\n",
       "      <td>1</td>\n",
       "    </tr>\n",
       "    <tr>\n",
       "      <th>2</th>\n",
       "      <td>40.0</td>\n",
       "      <td>4.0</td>\n",
       "      <td>0.013325</td>\n",
       "      <td>8.504692</td>\n",
       "      <td>1</td>\n",
       "    </tr>\n",
       "    <tr>\n",
       "      <th>3</th>\n",
       "      <td>40.0</td>\n",
       "      <td>5.0</td>\n",
       "      <td>2.953944</td>\n",
       "      <td>39.658624</td>\n",
       "      <td>1</td>\n",
       "    </tr>\n",
       "    <tr>\n",
       "      <th>4</th>\n",
       "      <td>40.0</td>\n",
       "      <td>6.0</td>\n",
       "      <td>1.513113</td>\n",
       "      <td>39.658624</td>\n",
       "      <td>1</td>\n",
       "    </tr>\n",
       "  </tbody>\n",
       "</table>\n",
       "</div>"
      ],
      "text/plain": [
       "   Game  Time         g         br  GrSubject\n",
       "0  40.0   2.0  0.013325   8.504692          1\n",
       "1  40.0   3.0 -0.013505   8.504692          1\n",
       "2  40.0   4.0  0.013325   8.504692          1\n",
       "3  40.0   5.0  2.953944  39.658624          1\n",
       "4  40.0   6.0  1.513113  39.658624          1"
      ]
     },
     "execution_count": 9,
     "metadata": {},
     "output_type": "execute_result"
    }
   ],
   "source": [
    "csvfile = ospath.join('.','YHBRdata.csv')\n",
    "\n",
    "BRdata = pd.read_csv(csvfile,header=None)\n",
    "BRdata.columns = ['Game','Time','g1','g2','g3','br1','br2','br3']\n",
    "\n",
    "br1 = BRdata[['Game','Time','g1','br1']].copy()\n",
    "br1.columns = ['Game','Time','g','br']\n",
    "br1['GrSubject'] = 1\n",
    "##br1.insert(br1.shape[1],'GrSubject',1)\n",
    "\n",
    "br2 = BRdata[['Game','Time','g2','br2']].copy()\n",
    "br2.columns = ['Game','Time','g','br']\n",
    "br2['GrSubject'] = 2\n",
    "##br2.insert(br2.shape[1],'GrSubject',2)\n",
    "\n",
    "br3 = BRdata[['Game','Time','g3','br3']].copy()\n",
    "br3.columns = ['Game','Time','g','br']\n",
    "br3['GrSubject'] = 3\n",
    "##br3.insert(br3.shape[1],'GrSubject',3)\n",
    "\n",
    "BRdata=pd.concat([br1,br2,br3])\n",
    "\n",
    "BRdata.head()"
   ]
  },
  {
   "cell_type": "code",
   "execution_count": 10,
   "metadata": {
    "hidden": true
   },
   "outputs": [
    {
     "data": {
      "text/html": [
       "<div>\n",
       "<style scoped>\n",
       "    .dataframe tbody tr th:only-of-type {\n",
       "        vertical-align: middle;\n",
       "    }\n",
       "\n",
       "    .dataframe tbody tr th {\n",
       "        vertical-align: top;\n",
       "    }\n",
       "\n",
       "    .dataframe thead th {\n",
       "        text-align: right;\n",
       "    }\n",
       "</style>\n",
       "<table border=\"1\" class=\"dataframe\">\n",
       "  <thead>\n",
       "    <tr style=\"text-align: right;\">\n",
       "      <th></th>\n",
       "      <th>Game</th>\n",
       "      <th>Time</th>\n",
       "      <th>Subject</th>\n",
       "      <th>Group</th>\n",
       "      <th>GrSubject</th>\n",
       "      <th>Type</th>\n",
       "      <th>Gain</th>\n",
       "      <th>Penalty</th>\n",
       "      <th>x</th>\n",
       "      <th>s1</th>\n",
       "      <th>...</th>\n",
       "      <th>Fi&gt;Fprev</th>\n",
       "      <th>Fii&gt;Fiprev</th>\n",
       "      <th>Ui</th>\n",
       "      <th>Uloci</th>\n",
       "      <th>Unew</th>\n",
       "      <th>Uprev</th>\n",
       "      <th>Ulocnew</th>\n",
       "      <th>Ulocnew&gt;Ulocprev</th>\n",
       "      <th>g</th>\n",
       "      <th>br</th>\n",
       "    </tr>\n",
       "  </thead>\n",
       "  <tbody>\n",
       "    <tr>\n",
       "      <th>0</th>\n",
       "      <td>40</td>\n",
       "      <td>1</td>\n",
       "      <td>11</td>\n",
       "      <td>1</td>\n",
       "      <td>1</td>\n",
       "      <td>1</td>\n",
       "      <td>1.131904</td>\n",
       "      <td>0.10700</td>\n",
       "      <td>0.534884</td>\n",
       "      <td>NaN</td>\n",
       "      <td>...</td>\n",
       "      <td>NaN</td>\n",
       "      <td>NaN</td>\n",
       "      <td>NaN</td>\n",
       "      <td>NaN</td>\n",
       "      <td>NaN</td>\n",
       "      <td>NaN</td>\n",
       "      <td>NaN</td>\n",
       "      <td>NaN</td>\n",
       "      <td>NaN</td>\n",
       "      <td>NaN</td>\n",
       "    </tr>\n",
       "    <tr>\n",
       "      <th>1</th>\n",
       "      <td>40</td>\n",
       "      <td>1</td>\n",
       "      <td>6</td>\n",
       "      <td>1</td>\n",
       "      <td>2</td>\n",
       "      <td>9</td>\n",
       "      <td>2.129054</td>\n",
       "      <td>5.74200</td>\n",
       "      <td>52.953488</td>\n",
       "      <td>NaN</td>\n",
       "      <td>...</td>\n",
       "      <td>NaN</td>\n",
       "      <td>NaN</td>\n",
       "      <td>NaN</td>\n",
       "      <td>NaN</td>\n",
       "      <td>NaN</td>\n",
       "      <td>NaN</td>\n",
       "      <td>NaN</td>\n",
       "      <td>NaN</td>\n",
       "      <td>NaN</td>\n",
       "      <td>NaN</td>\n",
       "    </tr>\n",
       "    <tr>\n",
       "      <th>2</th>\n",
       "      <td>40</td>\n",
       "      <td>1</td>\n",
       "      <td>10</td>\n",
       "      <td>1</td>\n",
       "      <td>3</td>\n",
       "      <td>25</td>\n",
       "      <td>3.551163</td>\n",
       "      <td>5.75000</td>\n",
       "      <td>61.511628</td>\n",
       "      <td>NaN</td>\n",
       "      <td>...</td>\n",
       "      <td>NaN</td>\n",
       "      <td>NaN</td>\n",
       "      <td>NaN</td>\n",
       "      <td>NaN</td>\n",
       "      <td>NaN</td>\n",
       "      <td>NaN</td>\n",
       "      <td>NaN</td>\n",
       "      <td>NaN</td>\n",
       "      <td>NaN</td>\n",
       "      <td>NaN</td>\n",
       "    </tr>\n",
       "    <tr>\n",
       "      <th>3</th>\n",
       "      <td>40</td>\n",
       "      <td>2</td>\n",
       "      <td>11</td>\n",
       "      <td>1</td>\n",
       "      <td>1</td>\n",
       "      <td>1</td>\n",
       "      <td>1.142498</td>\n",
       "      <td>0.11770</td>\n",
       "      <td>0.588099</td>\n",
       "      <td>NaN</td>\n",
       "      <td>...</td>\n",
       "      <td>0.0</td>\n",
       "      <td>1.0</td>\n",
       "      <td>-0.182068</td>\n",
       "      <td>-1.0</td>\n",
       "      <td>-0.182068</td>\n",
       "      <td>-0.166445</td>\n",
       "      <td>-5.028777e-07</td>\n",
       "      <td>-1.0</td>\n",
       "      <td>0.013325</td>\n",
       "      <td>8.504692</td>\n",
       "    </tr>\n",
       "    <tr>\n",
       "      <th>4</th>\n",
       "      <td>40</td>\n",
       "      <td>2</td>\n",
       "      <td>6</td>\n",
       "      <td>1</td>\n",
       "      <td>2</td>\n",
       "      <td>9</td>\n",
       "      <td>2.122540</td>\n",
       "      <td>5.74695</td>\n",
       "      <td>52.928870</td>\n",
       "      <td>NaN</td>\n",
       "      <td>...</td>\n",
       "      <td>0.0</td>\n",
       "      <td>0.0</td>\n",
       "      <td>-0.166445</td>\n",
       "      <td>-1.0</td>\n",
       "      <td>-0.182068</td>\n",
       "      <td>-0.166445</td>\n",
       "      <td>-5.028777e-07</td>\n",
       "      <td>-1.0</td>\n",
       "      <td>0.000000</td>\n",
       "      <td>27.598804</td>\n",
       "    </tr>\n",
       "  </tbody>\n",
       "</table>\n",
       "<p>5 rows × 36 columns</p>\n",
       "</div>"
      ],
      "text/plain": [
       "   Game  Time  Subject  Group  GrSubject  Type      Gain  Penalty          x  \\\n",
       "0    40     1       11      1          1     1  1.131904  0.10700   0.534884   \n",
       "1    40     1        6      1          2     9  2.129054  5.74200  52.953488   \n",
       "2    40     1       10      1          3    25  3.551163  5.75000  61.511628   \n",
       "3    40     2       11      1          1     1  1.142498  0.11770   0.588099   \n",
       "4    40     2        6      1          2     9  2.122540  5.74695  52.928870   \n",
       "\n",
       "   s1  ...  Fi>Fprev  Fii>Fiprev        Ui  Uloci      Unew     Uprev  \\\n",
       "0 NaN  ...       NaN         NaN       NaN    NaN       NaN       NaN   \n",
       "1 NaN  ...       NaN         NaN       NaN    NaN       NaN       NaN   \n",
       "2 NaN  ...       NaN         NaN       NaN    NaN       NaN       NaN   \n",
       "3 NaN  ...       0.0         1.0 -0.182068   -1.0 -0.182068 -0.166445   \n",
       "4 NaN  ...       0.0         0.0 -0.166445   -1.0 -0.182068 -0.166445   \n",
       "\n",
       "        Ulocnew  Ulocnew>Ulocprev         g         br  \n",
       "0           NaN               NaN       NaN        NaN  \n",
       "1           NaN               NaN       NaN        NaN  \n",
       "2           NaN               NaN       NaN        NaN  \n",
       "3 -5.028777e-07              -1.0  0.013325   8.504692  \n",
       "4 -5.028777e-07              -1.0  0.000000  27.598804  \n",
       "\n",
       "[5 rows x 36 columns]"
      ]
     },
     "execution_count": 10,
     "metadata": {},
     "output_type": "execute_result"
    }
   ],
   "source": [
    "YHData = pd.merge(YHData, BRdata[~BRdata.Game.isin(YHBadGames)], on=['Game', 'Time','GrSubject'], how='outer')\n",
    "YHData.head()"
   ]
  },
  {
   "cell_type": "code",
   "execution_count": 27,
   "metadata": {
    "hidden": true
   },
   "outputs": [],
   "source": [
    "c1,c2 = YHData['s2'],YHData['br']\n",
    "\n",
    "YHData['br0'] = ((c1-c2).abs() < 0.01).astype('float64')\n",
    "YHData['br0.5'] = ((c1-c2).abs() < 0.51).astype('float64')\n",
    "YHData['br1'] = ((c1-c2).abs() < 1.01).astype('float64')\n",
    "YHData['twbr'] = (YHData['g'] > 0).astype('float64')"
   ]
  },
  {
   "cell_type": "code",
   "execution_count": 28,
   "metadata": {
    "hidden": true
   },
   "outputs": [],
   "source": [
    "YHData.to_csv('YH_BR_CB_NB_data_2021jun24.csv',sep=';')"
   ]
  },
  {
   "cell_type": "code",
   "execution_count": 29,
   "metadata": {},
   "outputs": [
    {
     "data": {
      "text/plain": [
       "Index(['Game', 'Time', 'Subject', 'Group', 'GrSubject', 'Type', 'Gain',\n",
       "       'Penalty', 'x', 's1', 's2', 's3', 'AcceptAdvice', 'CalcCount',\n",
       "       'CalcAdviceCount', 'UseHelp', 'Unnamed: 16', 'Util', 'iscb0', 'iscb0.5',\n",
       "       'iscb1', 'Ui>Uprev', 'Uloci>Ulocprev', 'Uall>Uprev', 'Unew>Uprev',\n",
       "       'Fnew>Fprev', 'Fi>Fprev', 'Fii>Fiprev', 'Ui', 'Uloci', 'Unew', 'Uprev',\n",
       "       'Ulocnew', 'Ulocnew>Ulocprev', 'g', 'br', 'br0', 'br0.5', 'br1',\n",
       "       'twbr'],\n",
       "      dtype='object')"
      ]
     },
     "execution_count": 29,
     "metadata": {},
     "output_type": "execute_result"
    }
   ],
   "source": [
    "YHData.columns"
   ]
  },
  {
   "cell_type": "code",
   "execution_count": 30,
   "metadata": {},
   "outputs": [
    {
     "data": {
      "text/plain": [
       "101"
      ]
     },
     "execution_count": 30,
     "metadata": {},
     "output_type": "execute_result"
    }
   ],
   "source": [
    "(YHData['Uloci']>0).sum()"
   ]
  },
  {
   "cell_type": "markdown",
   "metadata": {},
   "source": [
    "## Individual decisions"
   ]
  },
  {
   "cell_type": "code",
   "execution_count": 33,
   "metadata": {},
   "outputs": [
    {
     "data": {
      "text/plain": [
       "Index(['Game', 'Time', 'Subject', 'Group', 'GrSubject', 'Type', 'Gain',\n",
       "       'Penalty', 'x', 's1', 's2', 's3', 'AcceptAdvice', 'CalcCount',\n",
       "       'CalcAdviceCount', 'UseHelp', 'Util', 'iscb0', 'iscb0.5', 'iscb1',\n",
       "       'Ui>Uprev', 'Uloci>Ulocprev', 'Uall>Uprev', 'Unew>Uprev', 'Fnew>Fprev',\n",
       "       'Fi>Fprev', 'Fii>Fiprev', 'Ui', 'Uloci', 'Unew', 'Uprev', 'Ulocnew',\n",
       "       'Ulocnew>Ulocprev', 'g', 'br', 'br0', 'br0.5', 'br1', 'twbr'],\n",
       "      dtype='object')"
      ]
     },
     "execution_count": 33,
     "metadata": {},
     "output_type": "execute_result"
    }
   ],
   "source": [
    "YHData.columns"
   ]
  },
  {
   "cell_type": "code",
   "execution_count": 34,
   "metadata": {},
   "outputs": [
    {
     "data": {
      "text/plain": [
       "435.0"
      ]
     },
     "execution_count": 34,
     "metadata": {},
     "output_type": "execute_result"
    }
   ],
   "source": [
    "YHData.twbr.sum() "
   ]
  },
  {
   "cell_type": "code",
   "execution_count": 35,
   "metadata": {},
   "outputs": [
    {
     "data": {
      "text/plain": [
       "{'games': 11,\n",
       " 'total iterations': 315,\n",
       " 'total decisions': 945,\n",
       " 'Rtnl': 373,\n",
       " 'Toward BR': 435,\n",
       " 'BR(1)': 49,\n",
       " 'Agree CB': 295,\n",
       " 'Waiting CB(1)\\\\ACB': 120,\n",
       " 'Rational WCB(1)\\\\ACB': 74,\n",
       " 'NI': 311,\n",
       " 'NI\\\\WCB(1)': 253,\n",
       " 'Rational NI\\\\WCB(1)': 161,\n",
       " 'Local NI': 582,\n",
       " 'Local NI & NI': 188,\n",
       " 'LNI\\\\WCB(1)': 275,\n",
       " 'Rational LNI\\\\WCB(1)': 191,\n",
       " 'LNI\\\\NI': 394,\n",
       " 'LNI\\\\NI\\\\WCB(1)': 126,\n",
       " 'LNI&LN>0': 82,\n",
       " 'LNI>0\\\\WCB(1)': 82,\n",
       " 'LNI>0\\\\NI': 10}"
      ]
     },
     "execution_count": 35,
     "metadata": {},
     "output_type": "execute_result"
    }
   ],
   "source": [
    "individual_decisions(YHData)"
   ]
  },
  {
   "cell_type": "code",
   "execution_count": 32,
   "metadata": {},
   "outputs": [],
   "source": [
    "YHIndDecCons = individual_decisions(YHData[YHData.Game.isin(YHConsensusGames)])\n",
    "\n",
    "YHIndDecNotCons = individual_decisions(YHData[~YHData.Game.isin(YHConsensusGames)])\n",
    "\n",
    "YHIndDec = individual_decisions(YHData)"
   ]
  },
  {
   "cell_type": "code",
   "execution_count": 38,
   "metadata": {},
   "outputs": [
    {
     "data": {
      "text/plain": [
       "Index(['Game', 'Time', 'Subject', 'Group', 'GrSubject', 'Type', 'Gain',\n",
       "       'Penalty', 'x', 's1', 's2', 's3', 'AcceptAdvice', 'CalcCount',\n",
       "       'CalcAdviceCount', 'UseHelp', 'Unnamed: 16', 'Util', 'iscb0', 'iscb0.5',\n",
       "       'iscb1', 'Ui>Uprev', 'Uloci>Ulocprev', 'Uall>Uprev', 'Unew>Uprev',\n",
       "       'Fnew>Fprev', 'Fi>Fprev', 'Fii>Fiprev', 'Ui', 'Uloci', 'Unew', 'Uprev',\n",
       "       'Ulocnew', 'Ulocnew>Ulocprev', 'g', 'br', 'br0', 'br0.5', 'br1',\n",
       "       'twbr'],\n",
       "      dtype='object')"
      ]
     },
     "execution_count": 38,
     "metadata": {},
     "output_type": "execute_result"
    }
   ],
   "source": [
    "YHData.columns"
   ]
  },
  {
   "cell_type": "code",
   "execution_count": 41,
   "metadata": {},
   "outputs": [
    {
     "data": {
      "text/html": [
       "<div>\n",
       "<style scoped>\n",
       "    .dataframe tbody tr th:only-of-type {\n",
       "        vertical-align: middle;\n",
       "    }\n",
       "\n",
       "    .dataframe tbody tr th {\n",
       "        vertical-align: top;\n",
       "    }\n",
       "\n",
       "    .dataframe thead th {\n",
       "        text-align: right;\n",
       "    }\n",
       "</style>\n",
       "<table border=\"1\" class=\"dataframe\">\n",
       "  <thead>\n",
       "    <tr style=\"text-align: right;\">\n",
       "      <th></th>\n",
       "      <th>All games</th>\n",
       "      <th>NotConsensus</th>\n",
       "      <th>Consensus</th>\n",
       "    </tr>\n",
       "  </thead>\n",
       "  <tbody>\n",
       "    <tr>\n",
       "      <th>games</th>\n",
       "      <td>11</td>\n",
       "      <td>8</td>\n",
       "      <td>3</td>\n",
       "    </tr>\n",
       "    <tr>\n",
       "      <th>total iterations</th>\n",
       "      <td>315</td>\n",
       "      <td>262</td>\n",
       "      <td>53</td>\n",
       "    </tr>\n",
       "    <tr>\n",
       "      <th>total decisions</th>\n",
       "      <td>945</td>\n",
       "      <td>786</td>\n",
       "      <td>159</td>\n",
       "    </tr>\n",
       "    <tr>\n",
       "      <th>Rtnl</th>\n",
       "      <td>373</td>\n",
       "      <td>306</td>\n",
       "      <td>67</td>\n",
       "    </tr>\n",
       "    <tr>\n",
       "      <th>Toward BR</th>\n",
       "      <td>435</td>\n",
       "      <td>361</td>\n",
       "      <td>74</td>\n",
       "    </tr>\n",
       "    <tr>\n",
       "      <th>BR(1)</th>\n",
       "      <td>49</td>\n",
       "      <td>31</td>\n",
       "      <td>18</td>\n",
       "    </tr>\n",
       "    <tr>\n",
       "      <th>Agree CB</th>\n",
       "      <td>295</td>\n",
       "      <td>240</td>\n",
       "      <td>55</td>\n",
       "    </tr>\n",
       "    <tr>\n",
       "      <th>Waiting CB(1)\\ACB</th>\n",
       "      <td>120</td>\n",
       "      <td>115</td>\n",
       "      <td>5</td>\n",
       "    </tr>\n",
       "    <tr>\n",
       "      <th>Rational WCB(1)\\ACB</th>\n",
       "      <td>74</td>\n",
       "      <td>70</td>\n",
       "      <td>4</td>\n",
       "    </tr>\n",
       "    <tr>\n",
       "      <th>NI</th>\n",
       "      <td>311</td>\n",
       "      <td>258</td>\n",
       "      <td>53</td>\n",
       "    </tr>\n",
       "    <tr>\n",
       "      <th>NI\\WCB(1)</th>\n",
       "      <td>253</td>\n",
       "      <td>201</td>\n",
       "      <td>52</td>\n",
       "    </tr>\n",
       "    <tr>\n",
       "      <th>Rational NI\\WCB(1)</th>\n",
       "      <td>161</td>\n",
       "      <td>121</td>\n",
       "      <td>40</td>\n",
       "    </tr>\n",
       "    <tr>\n",
       "      <th>Local NI</th>\n",
       "      <td>101</td>\n",
       "      <td>71</td>\n",
       "      <td>30</td>\n",
       "    </tr>\n",
       "    <tr>\n",
       "      <th>Local NI &amp; NI</th>\n",
       "      <td>87</td>\n",
       "      <td>58</td>\n",
       "      <td>29</td>\n",
       "    </tr>\n",
       "    <tr>\n",
       "      <th>LNI\\WCB(1)</th>\n",
       "      <td>100</td>\n",
       "      <td>70</td>\n",
       "      <td>30</td>\n",
       "    </tr>\n",
       "    <tr>\n",
       "      <th>LNI\\NI</th>\n",
       "      <td>14</td>\n",
       "      <td>13</td>\n",
       "      <td>1</td>\n",
       "    </tr>\n",
       "    <tr>\n",
       "      <th>LNI\\NI\\WCB(1)</th>\n",
       "      <td>14</td>\n",
       "      <td>13</td>\n",
       "      <td>1</td>\n",
       "    </tr>\n",
       "    <tr>\n",
       "      <th>Rational LNI\\WCB(1)</th>\n",
       "      <td>100</td>\n",
       "      <td>70</td>\n",
       "      <td>30</td>\n",
       "    </tr>\n",
       "    <tr>\n",
       "      <th>LN&gt;LNprev&amp;LNI</th>\n",
       "      <td>82</td>\n",
       "      <td>60</td>\n",
       "      <td>22</td>\n",
       "    </tr>\n",
       "    <tr>\n",
       "      <th>LN&gt;LNprev\\WCB(1)</th>\n",
       "      <td>82</td>\n",
       "      <td>60</td>\n",
       "      <td>22</td>\n",
       "    </tr>\n",
       "    <tr>\n",
       "      <th>LN&gt;LNprev\\NI</th>\n",
       "      <td>10</td>\n",
       "      <td>9</td>\n",
       "      <td>1</td>\n",
       "    </tr>\n",
       "  </tbody>\n",
       "</table>\n",
       "</div>"
      ],
      "text/plain": [
       "                     All games  NotConsensus  Consensus\n",
       "games                       11             8          3\n",
       "total iterations           315           262         53\n",
       "total decisions            945           786        159\n",
       "Rtnl                       373           306         67\n",
       "Toward BR                  435           361         74\n",
       "BR(1)                       49            31         18\n",
       "Agree CB                   295           240         55\n",
       "Waiting CB(1)\\ACB          120           115          5\n",
       "Rational WCB(1)\\ACB         74            70          4\n",
       "NI                         311           258         53\n",
       "NI\\WCB(1)                  253           201         52\n",
       "Rational NI\\WCB(1)         161           121         40\n",
       "Local NI                   101            71         30\n",
       "Local NI & NI               87            58         29\n",
       "LNI\\WCB(1)                 100            70         30\n",
       "LNI\\NI                      14            13          1\n",
       "LNI\\NI\\WCB(1)               14            13          1\n",
       "Rational LNI\\WCB(1)        100            70         30\n",
       "LN>LNprev&LNI               82            60         22\n",
       "LN>LNprev\\WCB(1)            82            60         22\n",
       "LN>LNprev\\NI                10             9          1"
      ]
     },
     "execution_count": 41,
     "metadata": {},
     "output_type": "execute_result"
    }
   ],
   "source": [
    "YHIndDecResult = pd.concat([pd.DataFrame.from_dict(YHIndDec,'index',columns=['All games']), pd.DataFrame.from_dict(YHIndDecNotCons,'index',columns=['NotConsensus']),\n",
    "                          pd.DataFrame.from_dict(YHIndDecCons,'index',columns=['Consensus'])], axis=1 )\n",
    "YHIndDecResult"
   ]
  },
  {
   "cell_type": "code",
   "execution_count": 42,
   "metadata": {},
   "outputs": [],
   "source": [
    "YHIndDecResult.to_csv('YHNash_IndividualDecisions.csv',sep=';')"
   ]
  },
  {
   "cell_type": "code",
   "execution_count": 43,
   "metadata": {},
   "outputs": [
    {
     "data": {
      "text/plain": [
       "array([40, 41, 42, 43, 56, 57, 60, 61, 92, 93, 94], dtype=int64)"
      ]
     },
     "execution_count": 43,
     "metadata": {},
     "output_type": "execute_result"
    }
   ],
   "source": [
    "YHData.Game.unique()"
   ]
  },
  {
   "cell_type": "markdown",
   "metadata": {
    "hidden": true,
    "tags": []
   },
   "source": [
    "## Decision situations"
   ]
  },
  {
   "cell_type": "code",
   "execution_count": 59,
   "metadata": {},
   "outputs": [
    {
     "data": {
      "text/html": [
       "<div>\n",
       "<style scoped>\n",
       "    .dataframe tbody tr th:only-of-type {\n",
       "        vertical-align: middle;\n",
       "    }\n",
       "\n",
       "    .dataframe tbody tr th {\n",
       "        vertical-align: top;\n",
       "    }\n",
       "\n",
       "    .dataframe thead th {\n",
       "        text-align: right;\n",
       "    }\n",
       "</style>\n",
       "<table border=\"1\" class=\"dataframe\">\n",
       "  <thead>\n",
       "    <tr style=\"text-align: right;\">\n",
       "      <th></th>\n",
       "      <th>All games</th>\n",
       "      <th>Not Consensus</th>\n",
       "      <th>Consensus</th>\n",
       "    </tr>\n",
       "  </thead>\n",
       "  <tbody>\n",
       "    <tr>\n",
       "      <th>games</th>\n",
       "      <td>11</td>\n",
       "      <td>8</td>\n",
       "      <td>3</td>\n",
       "    </tr>\n",
       "    <tr>\n",
       "      <th>total situations</th>\n",
       "      <td>315</td>\n",
       "      <td>262</td>\n",
       "      <td>53</td>\n",
       "    </tr>\n",
       "    <tr>\n",
       "      <th>One Rtnl</th>\n",
       "      <td>252</td>\n",
       "      <td>208</td>\n",
       "      <td>44</td>\n",
       "    </tr>\n",
       "    <tr>\n",
       "      <th>All Rtnl</th>\n",
       "      <td>18</td>\n",
       "      <td>14</td>\n",
       "      <td>4</td>\n",
       "    </tr>\n",
       "    <tr>\n",
       "      <th>One BR(1)</th>\n",
       "      <td>44</td>\n",
       "      <td>27</td>\n",
       "      <td>17</td>\n",
       "    </tr>\n",
       "    <tr>\n",
       "      <th>Two BR(1)</th>\n",
       "      <td>5</td>\n",
       "      <td>4</td>\n",
       "      <td>1</td>\n",
       "    </tr>\n",
       "    <tr>\n",
       "      <th>All BR(1)</th>\n",
       "      <td>0</td>\n",
       "      <td>0</td>\n",
       "      <td>0</td>\n",
       "    </tr>\n",
       "    <tr>\n",
       "      <th>One TBR</th>\n",
       "      <td>273</td>\n",
       "      <td>227</td>\n",
       "      <td>46</td>\n",
       "    </tr>\n",
       "    <tr>\n",
       "      <th>Two TBR</th>\n",
       "      <td>133</td>\n",
       "      <td>111</td>\n",
       "      <td>22</td>\n",
       "    </tr>\n",
       "    <tr>\n",
       "      <th>All TBR</th>\n",
       "      <td>29</td>\n",
       "      <td>23</td>\n",
       "      <td>6</td>\n",
       "    </tr>\n",
       "    <tr>\n",
       "      <th>One ACB</th>\n",
       "      <td>215</td>\n",
       "      <td>175</td>\n",
       "      <td>40</td>\n",
       "    </tr>\n",
       "    <tr>\n",
       "      <th>Two ACB</th>\n",
       "      <td>77</td>\n",
       "      <td>65</td>\n",
       "      <td>12</td>\n",
       "    </tr>\n",
       "    <tr>\n",
       "      <th>All ACB</th>\n",
       "      <td>3</td>\n",
       "      <td>0</td>\n",
       "      <td>3</td>\n",
       "    </tr>\n",
       "    <tr>\n",
       "      <th>One Waiting CB(1)</th>\n",
       "      <td>253</td>\n",
       "      <td>211</td>\n",
       "      <td>42</td>\n",
       "    </tr>\n",
       "    <tr>\n",
       "      <th>Two Waiting CB(1)</th>\n",
       "      <td>131</td>\n",
       "      <td>116</td>\n",
       "      <td>15</td>\n",
       "    </tr>\n",
       "    <tr>\n",
       "      <th>All Waiting CB(1)</th>\n",
       "      <td>31</td>\n",
       "      <td>28</td>\n",
       "      <td>3</td>\n",
       "    </tr>\n",
       "    <tr>\n",
       "      <th>One Waiting CB(1)\\ACB</th>\n",
       "      <td>111</td>\n",
       "      <td>106</td>\n",
       "      <td>5</td>\n",
       "    </tr>\n",
       "    <tr>\n",
       "      <th>Two Waiting CB(1)\\ACB</th>\n",
       "      <td>8</td>\n",
       "      <td>8</td>\n",
       "      <td>0</td>\n",
       "    </tr>\n",
       "    <tr>\n",
       "      <th>All Waiting CB(1)\\ACB</th>\n",
       "      <td>1</td>\n",
       "      <td>1</td>\n",
       "      <td>0</td>\n",
       "    </tr>\n",
       "    <tr>\n",
       "      <th>One Rational WCB(1)\\ACB</th>\n",
       "      <td>70</td>\n",
       "      <td>66</td>\n",
       "      <td>4</td>\n",
       "    </tr>\n",
       "    <tr>\n",
       "      <th>Two Rational WCB(1)\\ACB</th>\n",
       "      <td>4</td>\n",
       "      <td>4</td>\n",
       "      <td>0</td>\n",
       "    </tr>\n",
       "    <tr>\n",
       "      <th>All Rational WCB(1)\\ACB</th>\n",
       "      <td>0</td>\n",
       "      <td>0</td>\n",
       "      <td>0</td>\n",
       "    </tr>\n",
       "  </tbody>\n",
       "</table>\n",
       "</div>"
      ],
      "text/plain": [
       "                         All games  Not Consensus  Consensus\n",
       "games                           11              8          3\n",
       "total situations               315            262         53\n",
       "One Rtnl                       252            208         44\n",
       "All Rtnl                        18             14          4\n",
       "One BR(1)                       44             27         17\n",
       "Two BR(1)                        5              4          1\n",
       "All BR(1)                        0              0          0\n",
       "One TBR                        273            227         46\n",
       "Two TBR                        133            111         22\n",
       "All TBR                         29             23          6\n",
       "One ACB                        215            175         40\n",
       "Two ACB                         77             65         12\n",
       "All ACB                          3              0          3\n",
       "One Waiting CB(1)              253            211         42\n",
       "Two Waiting CB(1)              131            116         15\n",
       "All Waiting CB(1)               31             28          3\n",
       "One Waiting CB(1)\\ACB          111            106          5\n",
       "Two Waiting CB(1)\\ACB            8              8          0\n",
       "All Waiting CB(1)\\ACB            1              1          0\n",
       "One Rational WCB(1)\\ACB         70             66          4\n",
       "Two Rational WCB(1)\\ACB          4              4          0\n",
       "All Rational WCB(1)\\ACB          0              0          0"
      ]
     },
     "execution_count": 59,
     "metadata": {},
     "output_type": "execute_result"
    }
   ],
   "source": [
    "sittable = getSituationsTable(situations,YHData, YHConsensusGames)\n",
    "sittable"
   ]
  },
  {
   "cell_type": "code",
   "execution_count": 60,
   "metadata": {},
   "outputs": [],
   "source": [
    "sittable.to_csv('YHNash_Situations.csv',sep=';')"
   ]
  },
  {
   "cell_type": "code",
   "execution_count": 61,
   "metadata": {},
   "outputs": [
    {
     "data": {
      "text/html": [
       "<div>\n",
       "<style scoped>\n",
       "    .dataframe tbody tr th:only-of-type {\n",
       "        vertical-align: middle;\n",
       "    }\n",
       "\n",
       "    .dataframe tbody tr th {\n",
       "        vertical-align: top;\n",
       "    }\n",
       "\n",
       "    .dataframe thead th {\n",
       "        text-align: right;\n",
       "    }\n",
       "</style>\n",
       "<table border=\"1\" class=\"dataframe\">\n",
       "  <thead>\n",
       "    <tr style=\"text-align: right;\">\n",
       "      <th></th>\n",
       "      <th>All games</th>\n",
       "      <th>Not Consensus</th>\n",
       "      <th>Consensus</th>\n",
       "    </tr>\n",
       "  </thead>\n",
       "  <tbody>\n",
       "    <tr>\n",
       "      <th>games</th>\n",
       "      <td>11</td>\n",
       "      <td>8</td>\n",
       "      <td>3</td>\n",
       "    </tr>\n",
       "    <tr>\n",
       "      <th>total situations</th>\n",
       "      <td>315</td>\n",
       "      <td>262</td>\n",
       "      <td>53</td>\n",
       "    </tr>\n",
       "    <tr>\n",
       "      <th>One NI</th>\n",
       "      <td>224</td>\n",
       "      <td>189</td>\n",
       "      <td>35</td>\n",
       "    </tr>\n",
       "    <tr>\n",
       "      <th>Two NI</th>\n",
       "      <td>76</td>\n",
       "      <td>62</td>\n",
       "      <td>14</td>\n",
       "    </tr>\n",
       "    <tr>\n",
       "      <th>All NI</th>\n",
       "      <td>11</td>\n",
       "      <td>7</td>\n",
       "      <td>4</td>\n",
       "    </tr>\n",
       "    <tr>\n",
       "      <th>One NI\\WCB(1)</th>\n",
       "      <td>187</td>\n",
       "      <td>153</td>\n",
       "      <td>34</td>\n",
       "    </tr>\n",
       "    <tr>\n",
       "      <th>Two NI\\WCB(1)</th>\n",
       "      <td>58</td>\n",
       "      <td>44</td>\n",
       "      <td>14</td>\n",
       "    </tr>\n",
       "    <tr>\n",
       "      <th>All NI\\WCB(1)</th>\n",
       "      <td>8</td>\n",
       "      <td>4</td>\n",
       "      <td>4</td>\n",
       "    </tr>\n",
       "    <tr>\n",
       "      <th>One Rational NI\\WCB(1)</th>\n",
       "      <td>128</td>\n",
       "      <td>100</td>\n",
       "      <td>28</td>\n",
       "    </tr>\n",
       "    <tr>\n",
       "      <th>Two Rational NI\\WCB(1)</th>\n",
       "      <td>28</td>\n",
       "      <td>19</td>\n",
       "      <td>9</td>\n",
       "    </tr>\n",
       "    <tr>\n",
       "      <th>All Rational NI\\WCB(1)</th>\n",
       "      <td>5</td>\n",
       "      <td>2</td>\n",
       "      <td>3</td>\n",
       "    </tr>\n",
       "    <tr>\n",
       "      <th>One Local NI</th>\n",
       "      <td>71</td>\n",
       "      <td>50</td>\n",
       "      <td>21</td>\n",
       "    </tr>\n",
       "    <tr>\n",
       "      <th>Two Local NI</th>\n",
       "      <td>25</td>\n",
       "      <td>17</td>\n",
       "      <td>8</td>\n",
       "    </tr>\n",
       "    <tr>\n",
       "      <th>All Local NI</th>\n",
       "      <td>5</td>\n",
       "      <td>4</td>\n",
       "      <td>1</td>\n",
       "    </tr>\n",
       "    <tr>\n",
       "      <th>Real NI</th>\n",
       "      <td>156</td>\n",
       "      <td>131</td>\n",
       "      <td>25</td>\n",
       "    </tr>\n",
       "    <tr>\n",
       "      <th>Real LNI</th>\n",
       "      <td>49</td>\n",
       "      <td>32</td>\n",
       "      <td>17</td>\n",
       "    </tr>\n",
       "    <tr>\n",
       "      <th>Real LNI &amp; Real NI</th>\n",
       "      <td>49</td>\n",
       "      <td>32</td>\n",
       "      <td>17</td>\n",
       "    </tr>\n",
       "    <tr>\n",
       "      <th>Real LNI &amp; All LNI</th>\n",
       "      <td>5</td>\n",
       "      <td>4</td>\n",
       "      <td>1</td>\n",
       "    </tr>\n",
       "    <tr>\n",
       "      <th>Real LNI &amp; All LNI &amp; Real NI</th>\n",
       "      <td>5</td>\n",
       "      <td>4</td>\n",
       "      <td>1</td>\n",
       "    </tr>\n",
       "    <tr>\n",
       "      <th>LNI\\WCB(1)</th>\n",
       "      <td>70</td>\n",
       "      <td>49</td>\n",
       "      <td>21</td>\n",
       "    </tr>\n",
       "    <tr>\n",
       "      <th>Rational LNI\\WCB(1)</th>\n",
       "      <td>70</td>\n",
       "      <td>49</td>\n",
       "      <td>21</td>\n",
       "    </tr>\n",
       "    <tr>\n",
       "      <th>LNI\\NI</th>\n",
       "      <td>66</td>\n",
       "      <td>45</td>\n",
       "      <td>21</td>\n",
       "    </tr>\n",
       "    <tr>\n",
       "      <th>LNI&amp;LN&gt;0</th>\n",
       "      <td>60</td>\n",
       "      <td>44</td>\n",
       "      <td>16</td>\n",
       "    </tr>\n",
       "    <tr>\n",
       "      <th>LNI&gt;0\\WCB(1)</th>\n",
       "      <td>60</td>\n",
       "      <td>44</td>\n",
       "      <td>16</td>\n",
       "    </tr>\n",
       "  </tbody>\n",
       "</table>\n",
       "</div>"
      ],
      "text/plain": [
       "                              All games  Not Consensus  Consensus\n",
       "games                                11              8          3\n",
       "total situations                    315            262         53\n",
       "One NI                              224            189         35\n",
       "Two NI                               76             62         14\n",
       "All NI                               11              7          4\n",
       "One NI\\WCB(1)                       187            153         34\n",
       "Two NI\\WCB(1)                        58             44         14\n",
       "All NI\\WCB(1)                         8              4          4\n",
       "One Rational NI\\WCB(1)              128            100         28\n",
       "Two Rational NI\\WCB(1)               28             19          9\n",
       "All Rational NI\\WCB(1)                5              2          3\n",
       "One Local NI                         71             50         21\n",
       "Two Local NI                         25             17          8\n",
       "All Local NI                          5              4          1\n",
       "Real NI                             156            131         25\n",
       "Real LNI                             49             32         17\n",
       "Real LNI & Real NI                   49             32         17\n",
       "Real LNI & All LNI                    5              4          1\n",
       "Real LNI & All LNI & Real NI          5              4          1\n",
       "LNI\\WCB(1)                           70             49         21\n",
       "Rational LNI\\WCB(1)                  70             49         21\n",
       "LNI\\NI                               66             45         21\n",
       "LNI&LN>0                             60             44         16\n",
       "LNI>0\\WCB(1)                         60             44         16"
      ]
     },
     "execution_count": 61,
     "metadata": {},
     "output_type": "execute_result"
    }
   ],
   "source": [
    "nashsittable = getSituationsTable(Nash_situations, YHData, YHConsensusGames)\n",
    "nashsittable"
   ]
  },
  {
   "cell_type": "code",
   "execution_count": 62,
   "metadata": {},
   "outputs": [],
   "source": [
    "nashsittable.to_csv('YHNash_NashSituations.csv',sep=';')"
   ]
  },
  {
   "cell_type": "markdown",
   "metadata": {
    "heading_collapsed": "true",
    "hidden": true,
    "tags": []
   },
   "source": [
    "### Check situations"
   ]
  },
  {
   "cell_type": "code",
   "execution_count": 22,
   "metadata": {
    "hidden": true
   },
   "outputs": [
    {
     "data": {
      "text/plain": [
       "32"
      ]
     },
     "execution_count": 22,
     "metadata": {},
     "output_type": "execute_result"
    }
   ],
   "source": [
    "tlst = 0\n",
    "for name, group in cons_sits:\n",
    "    if ((group['Uloci>Ulocprev']==1) ).any():\n",
    "        tlst += 1\n",
    "tlst"
   ]
  },
  {
   "cell_type": "code",
   "execution_count": 93,
   "metadata": {
    "hidden": true
   },
   "outputs": [
    {
     "data": {
      "text/plain": [
       "67"
      ]
     },
     "execution_count": 93,
     "metadata": {},
     "output_type": "execute_result"
    }
   ],
   "source": [
    "tlst = 0\n",
    "for name, group in sits:\n",
    "    if ((group['Unew>U']==1) & (group['Ui>U']==1)).sum() >= 2:\n",
    "        tlst += 1\n",
    "tlst"
   ]
  },
  {
   "cell_type": "code",
   "execution_count": 94,
   "metadata": {
    "hidden": true
   },
   "outputs": [
    {
     "ename": "NameError",
     "evalue": "name 'conssits' is not defined",
     "output_type": "error",
     "traceback": [
      "\u001b[1;31m---------------------------------------------------------------------------\u001b[0m",
      "\u001b[1;31mNameError\u001b[0m                                 Traceback (most recent call last)",
      "\u001b[1;32m<ipython-input-94-89f2b73d3c85>\u001b[0m in \u001b[0;36m<module>\u001b[1;34m\u001b[0m\n\u001b[0;32m      1\u001b[0m \u001b[0mtlst\u001b[0m \u001b[1;33m=\u001b[0m \u001b[1;36m0\u001b[0m\u001b[1;33m\u001b[0m\u001b[1;33m\u001b[0m\u001b[0m\n\u001b[1;32m----> 2\u001b[1;33m \u001b[1;32mfor\u001b[0m \u001b[0mname\u001b[0m\u001b[1;33m,\u001b[0m \u001b[0mgroup\u001b[0m \u001b[1;32min\u001b[0m \u001b[0mconssits\u001b[0m\u001b[1;33m:\u001b[0m\u001b[1;33m\u001b[0m\u001b[1;33m\u001b[0m\u001b[0m\n\u001b[0m\u001b[0;32m      3\u001b[0m     \u001b[1;32mif\u001b[0m \u001b[1;33m(\u001b[0m\u001b[1;33m(\u001b[0m\u001b[0mgroup\u001b[0m\u001b[1;33m[\u001b[0m\u001b[1;34m'Unew>U'\u001b[0m\u001b[1;33m]\u001b[0m\u001b[1;33m==\u001b[0m\u001b[1;36m1\u001b[0m\u001b[1;33m)\u001b[0m \u001b[1;33m&\u001b[0m \u001b[1;33m(\u001b[0m\u001b[0mgroup\u001b[0m\u001b[1;33m[\u001b[0m\u001b[1;34m'Ui>U'\u001b[0m\u001b[1;33m]\u001b[0m\u001b[1;33m==\u001b[0m\u001b[1;36m1\u001b[0m\u001b[1;33m)\u001b[0m\u001b[1;33m)\u001b[0m\u001b[1;33m.\u001b[0m\u001b[0msum\u001b[0m\u001b[1;33m(\u001b[0m\u001b[1;33m)\u001b[0m \u001b[1;33m>=\u001b[0m \u001b[1;36m2\u001b[0m\u001b[1;33m:\u001b[0m\u001b[1;33m\u001b[0m\u001b[1;33m\u001b[0m\u001b[0m\n\u001b[0;32m      4\u001b[0m         \u001b[0mtlst\u001b[0m \u001b[1;33m+=\u001b[0m \u001b[1;36m1\u001b[0m\u001b[1;33m\u001b[0m\u001b[1;33m\u001b[0m\u001b[0m\n\u001b[0;32m      5\u001b[0m \u001b[0mtlst\u001b[0m\u001b[1;33m\u001b[0m\u001b[1;33m\u001b[0m\u001b[0m\n",
      "\u001b[1;31mNameError\u001b[0m: name 'conssits' is not defined"
     ]
    }
   ],
   "source": [
    "tlst = 0\n",
    "for name, group in conssits:\n",
    "    if ((group['Unew>U']==1) & (group['Ui>U']==1)).sum() >= 2:\n",
    "        tlst += 1\n",
    "tlst"
   ]
  },
  {
   "cell_type": "code",
   "execution_count": 18,
   "metadata": {
    "hidden": true
   },
   "outputs": [],
   "source": [
    "tmp = sits.get_group((40,1))"
   ]
  },
  {
   "cell_type": "code",
   "execution_count": 95,
   "metadata": {
    "hidden": true
   },
   "outputs": [
    {
     "ename": "NameError",
     "evalue": "name 'tmp' is not defined",
     "output_type": "error",
     "traceback": [
      "\u001b[1;31m---------------------------------------------------------------------------\u001b[0m",
      "\u001b[1;31mNameError\u001b[0m                                 Traceback (most recent call last)",
      "\u001b[1;32m<ipython-input-95-427ddc8c9bf5>\u001b[0m in \u001b[0;36m<module>\u001b[1;34m\u001b[0m\n\u001b[1;32m----> 1\u001b[1;33m \u001b[1;33m(\u001b[0m\u001b[0mtmp\u001b[0m\u001b[1;33m[\u001b[0m\u001b[1;34m'GrSubject'\u001b[0m\u001b[1;33m]\u001b[0m\u001b[1;33m==\u001b[0m\u001b[1;36m1\u001b[0m\u001b[1;33m)\u001b[0m\u001b[1;33m.\u001b[0m\u001b[0many\u001b[0m\u001b[1;33m(\u001b[0m\u001b[1;33m)\u001b[0m\u001b[1;33m\u001b[0m\u001b[1;33m\u001b[0m\u001b[0m\n\u001b[0m",
      "\u001b[1;31mNameError\u001b[0m: name 'tmp' is not defined"
     ]
    }
   ],
   "source": [
    "(tmp['GrSubject']==1).any()"
   ]
  },
  {
   "cell_type": "code",
   "execution_count": 96,
   "metadata": {
    "hidden": true
   },
   "outputs": [
    {
     "ename": "NameError",
     "evalue": "name 'tmp' is not defined",
     "output_type": "error",
     "traceback": [
      "\u001b[1;31m---------------------------------------------------------------------------\u001b[0m",
      "\u001b[1;31mNameError\u001b[0m                                 Traceback (most recent call last)",
      "\u001b[1;32m<ipython-input-96-67ab330fb6a9>\u001b[0m in \u001b[0;36m<module>\u001b[1;34m\u001b[0m\n\u001b[1;32m----> 1\u001b[1;33m \u001b[1;33m(\u001b[0m\u001b[0mtmp\u001b[0m\u001b[1;33m[\u001b[0m\u001b[1;34m'br1'\u001b[0m\u001b[1;33m]\u001b[0m\u001b[1;33m==\u001b[0m\u001b[1;36m1\u001b[0m\u001b[1;33m)\u001b[0m\u001b[1;33m.\u001b[0m\u001b[0mall\u001b[0m\u001b[1;33m(\u001b[0m\u001b[1;33m)\u001b[0m\u001b[1;33m\u001b[0m\u001b[1;33m\u001b[0m\u001b[0m\n\u001b[0m",
      "\u001b[1;31mNameError\u001b[0m: name 'tmp' is not defined"
     ]
    }
   ],
   "source": [
    "(tmp['br1']==1).all()"
   ]
  },
  {
   "cell_type": "code",
   "execution_count": 113,
   "metadata": {
    "hidden": true
   },
   "outputs": [
    {
     "ename": "KeyError",
     "evalue": "'twbr'",
     "output_type": "error",
     "traceback": [
      "\u001b[1;31m---------------------------------------------------------------------------\u001b[0m",
      "\u001b[1;31mKeyError\u001b[0m                                  Traceback (most recent call last)",
      "\u001b[1;32mD:\\Programs\\Miniconda3\\lib\\site-packages\\pandas\\core\\indexes\\base.py\u001b[0m in \u001b[0;36mget_loc\u001b[1;34m(self, key, method, tolerance)\u001b[0m\n\u001b[0;32m   2645\u001b[0m             \u001b[1;32mtry\u001b[0m\u001b[1;33m:\u001b[0m\u001b[1;33m\u001b[0m\u001b[1;33m\u001b[0m\u001b[0m\n\u001b[1;32m-> 2646\u001b[1;33m                 \u001b[1;32mreturn\u001b[0m \u001b[0mself\u001b[0m\u001b[1;33m.\u001b[0m\u001b[0m_engine\u001b[0m\u001b[1;33m.\u001b[0m\u001b[0mget_loc\u001b[0m\u001b[1;33m(\u001b[0m\u001b[0mkey\u001b[0m\u001b[1;33m)\u001b[0m\u001b[1;33m\u001b[0m\u001b[1;33m\u001b[0m\u001b[0m\n\u001b[0m\u001b[0;32m   2647\u001b[0m             \u001b[1;32mexcept\u001b[0m \u001b[0mKeyError\u001b[0m\u001b[1;33m:\u001b[0m\u001b[1;33m\u001b[0m\u001b[1;33m\u001b[0m\u001b[0m\n",
      "\u001b[1;32mpandas\\_libs\\index.pyx\u001b[0m in \u001b[0;36mpandas._libs.index.IndexEngine.get_loc\u001b[1;34m()\u001b[0m\n",
      "\u001b[1;32mpandas\\_libs\\index.pyx\u001b[0m in \u001b[0;36mpandas._libs.index.IndexEngine.get_loc\u001b[1;34m()\u001b[0m\n",
      "\u001b[1;32mpandas\\_libs\\hashtable_class_helper.pxi\u001b[0m in \u001b[0;36mpandas._libs.hashtable.PyObjectHashTable.get_item\u001b[1;34m()\u001b[0m\n",
      "\u001b[1;32mpandas\\_libs\\hashtable_class_helper.pxi\u001b[0m in \u001b[0;36mpandas._libs.hashtable.PyObjectHashTable.get_item\u001b[1;34m()\u001b[0m\n",
      "\u001b[1;31mKeyError\u001b[0m: 'twbr'",
      "\nDuring handling of the above exception, another exception occurred:\n",
      "\u001b[1;31mKeyError\u001b[0m                                  Traceback (most recent call last)",
      "\u001b[1;32m<ipython-input-113-2af89e0087a6>\u001b[0m in \u001b[0;36m<module>\u001b[1;34m\u001b[0m\n\u001b[0;32m      1\u001b[0m \u001b[0mgr\u001b[0m \u001b[1;33m=\u001b[0m \u001b[0msits\u001b[0m\u001b[1;33m.\u001b[0m\u001b[0mget_group\u001b[0m\u001b[1;33m(\u001b[0m\u001b[1;33m(\u001b[0m\u001b[1;36m40\u001b[0m\u001b[1;33m,\u001b[0m\u001b[1;36m4\u001b[0m\u001b[1;33m)\u001b[0m\u001b[1;33m)\u001b[0m\u001b[1;33m\u001b[0m\u001b[1;33m\u001b[0m\u001b[0m\n\u001b[0;32m      2\u001b[0m \u001b[1;31m#print(gr)\u001b[0m\u001b[1;33m\u001b[0m\u001b[1;33m\u001b[0m\u001b[1;33m\u001b[0m\u001b[0m\n\u001b[1;32m----> 3\u001b[1;33m \u001b[1;33m(\u001b[0m\u001b[0mgr\u001b[0m\u001b[1;33m[\u001b[0m\u001b[1;34m'twbr'\u001b[0m\u001b[1;33m]\u001b[0m\u001b[1;33m==\u001b[0m\u001b[1;36m1\u001b[0m\u001b[1;33m)\u001b[0m\u001b[1;33m.\u001b[0m\u001b[0mall\u001b[0m\u001b[1;33m(\u001b[0m\u001b[1;33m)\u001b[0m\u001b[1;33m\u001b[0m\u001b[1;33m\u001b[0m\u001b[0m\n\u001b[0m",
      "\u001b[1;32mD:\\Programs\\Miniconda3\\lib\\site-packages\\pandas\\core\\frame.py\u001b[0m in \u001b[0;36m__getitem__\u001b[1;34m(self, key)\u001b[0m\n\u001b[0;32m   2798\u001b[0m             \u001b[1;32mif\u001b[0m \u001b[0mself\u001b[0m\u001b[1;33m.\u001b[0m\u001b[0mcolumns\u001b[0m\u001b[1;33m.\u001b[0m\u001b[0mnlevels\u001b[0m \u001b[1;33m>\u001b[0m \u001b[1;36m1\u001b[0m\u001b[1;33m:\u001b[0m\u001b[1;33m\u001b[0m\u001b[1;33m\u001b[0m\u001b[0m\n\u001b[0;32m   2799\u001b[0m                 \u001b[1;32mreturn\u001b[0m \u001b[0mself\u001b[0m\u001b[1;33m.\u001b[0m\u001b[0m_getitem_multilevel\u001b[0m\u001b[1;33m(\u001b[0m\u001b[0mkey\u001b[0m\u001b[1;33m)\u001b[0m\u001b[1;33m\u001b[0m\u001b[1;33m\u001b[0m\u001b[0m\n\u001b[1;32m-> 2800\u001b[1;33m             \u001b[0mindexer\u001b[0m \u001b[1;33m=\u001b[0m \u001b[0mself\u001b[0m\u001b[1;33m.\u001b[0m\u001b[0mcolumns\u001b[0m\u001b[1;33m.\u001b[0m\u001b[0mget_loc\u001b[0m\u001b[1;33m(\u001b[0m\u001b[0mkey\u001b[0m\u001b[1;33m)\u001b[0m\u001b[1;33m\u001b[0m\u001b[1;33m\u001b[0m\u001b[0m\n\u001b[0m\u001b[0;32m   2801\u001b[0m             \u001b[1;32mif\u001b[0m \u001b[0mis_integer\u001b[0m\u001b[1;33m(\u001b[0m\u001b[0mindexer\u001b[0m\u001b[1;33m)\u001b[0m\u001b[1;33m:\u001b[0m\u001b[1;33m\u001b[0m\u001b[1;33m\u001b[0m\u001b[0m\n\u001b[0;32m   2802\u001b[0m                 \u001b[0mindexer\u001b[0m \u001b[1;33m=\u001b[0m \u001b[1;33m[\u001b[0m\u001b[0mindexer\u001b[0m\u001b[1;33m]\u001b[0m\u001b[1;33m\u001b[0m\u001b[1;33m\u001b[0m\u001b[0m\n",
      "\u001b[1;32mD:\\Programs\\Miniconda3\\lib\\site-packages\\pandas\\core\\indexes\\base.py\u001b[0m in \u001b[0;36mget_loc\u001b[1;34m(self, key, method, tolerance)\u001b[0m\n\u001b[0;32m   2646\u001b[0m                 \u001b[1;32mreturn\u001b[0m \u001b[0mself\u001b[0m\u001b[1;33m.\u001b[0m\u001b[0m_engine\u001b[0m\u001b[1;33m.\u001b[0m\u001b[0mget_loc\u001b[0m\u001b[1;33m(\u001b[0m\u001b[0mkey\u001b[0m\u001b[1;33m)\u001b[0m\u001b[1;33m\u001b[0m\u001b[1;33m\u001b[0m\u001b[0m\n\u001b[0;32m   2647\u001b[0m             \u001b[1;32mexcept\u001b[0m \u001b[0mKeyError\u001b[0m\u001b[1;33m:\u001b[0m\u001b[1;33m\u001b[0m\u001b[1;33m\u001b[0m\u001b[0m\n\u001b[1;32m-> 2648\u001b[1;33m                 \u001b[1;32mreturn\u001b[0m \u001b[0mself\u001b[0m\u001b[1;33m.\u001b[0m\u001b[0m_engine\u001b[0m\u001b[1;33m.\u001b[0m\u001b[0mget_loc\u001b[0m\u001b[1;33m(\u001b[0m\u001b[0mself\u001b[0m\u001b[1;33m.\u001b[0m\u001b[0m_maybe_cast_indexer\u001b[0m\u001b[1;33m(\u001b[0m\u001b[0mkey\u001b[0m\u001b[1;33m)\u001b[0m\u001b[1;33m)\u001b[0m\u001b[1;33m\u001b[0m\u001b[1;33m\u001b[0m\u001b[0m\n\u001b[0m\u001b[0;32m   2649\u001b[0m         \u001b[0mindexer\u001b[0m \u001b[1;33m=\u001b[0m \u001b[0mself\u001b[0m\u001b[1;33m.\u001b[0m\u001b[0mget_indexer\u001b[0m\u001b[1;33m(\u001b[0m\u001b[1;33m[\u001b[0m\u001b[0mkey\u001b[0m\u001b[1;33m]\u001b[0m\u001b[1;33m,\u001b[0m \u001b[0mmethod\u001b[0m\u001b[1;33m=\u001b[0m\u001b[0mmethod\u001b[0m\u001b[1;33m,\u001b[0m \u001b[0mtolerance\u001b[0m\u001b[1;33m=\u001b[0m\u001b[0mtolerance\u001b[0m\u001b[1;33m)\u001b[0m\u001b[1;33m\u001b[0m\u001b[1;33m\u001b[0m\u001b[0m\n\u001b[0;32m   2650\u001b[0m         \u001b[1;32mif\u001b[0m \u001b[0mindexer\u001b[0m\u001b[1;33m.\u001b[0m\u001b[0mndim\u001b[0m \u001b[1;33m>\u001b[0m \u001b[1;36m1\u001b[0m \u001b[1;32mor\u001b[0m \u001b[0mindexer\u001b[0m\u001b[1;33m.\u001b[0m\u001b[0msize\u001b[0m \u001b[1;33m>\u001b[0m \u001b[1;36m1\u001b[0m\u001b[1;33m:\u001b[0m\u001b[1;33m\u001b[0m\u001b[1;33m\u001b[0m\u001b[0m\n",
      "\u001b[1;32mpandas\\_libs\\index.pyx\u001b[0m in \u001b[0;36mpandas._libs.index.IndexEngine.get_loc\u001b[1;34m()\u001b[0m\n",
      "\u001b[1;32mpandas\\_libs\\index.pyx\u001b[0m in \u001b[0;36mpandas._libs.index.IndexEngine.get_loc\u001b[1;34m()\u001b[0m\n",
      "\u001b[1;32mpandas\\_libs\\hashtable_class_helper.pxi\u001b[0m in \u001b[0;36mpandas._libs.hashtable.PyObjectHashTable.get_item\u001b[1;34m()\u001b[0m\n",
      "\u001b[1;32mpandas\\_libs\\hashtable_class_helper.pxi\u001b[0m in \u001b[0;36mpandas._libs.hashtable.PyObjectHashTable.get_item\u001b[1;34m()\u001b[0m\n",
      "\u001b[1;31mKeyError\u001b[0m: 'twbr'"
     ]
    }
   ],
   "source": [
    "gr = sits.get_group((40,4))\n",
    "#print(gr)\n",
    "(gr['twbr']==1).all()"
   ]
  },
  {
   "cell_type": "markdown",
   "metadata": {
    "tags": []
   },
   "source": [
    "# GTM2020. Нэш-торги в механизме распределения ресурса GL"
   ]
  },
  {
   "cell_type": "code",
   "execution_count": 2,
   "metadata": {},
   "outputs": [],
   "source": [
    "GLBadGames = [26,36,50,70,71,106] # big penalties\n",
    "GLConsensusGames = [11,12,13,14,15,26,30,33,38,48,49,51,71,72,107]\n",
    "Old2013Games = [11,12,13,14,15,26,30,33,36,38]\n",
    "GLGames = Games[(Games.Mechname=='gl') & (Games.GameMech=='agree') & (Games.Parametr1_alfa==1) \n",
    "                & (Games.Parametr2_beta==0.0005) & (Games.GamersCount==3) \n",
    "                & (~Games.Game.isin(GLBadGames)) & (~Games.Game.isin(Old2013Games))]\n",
    "\n",
    "GoodConsensusGames = set(GLGames.Game) & set(GLConsensusGames)"
   ]
  },
  {
   "cell_type": "markdown",
   "metadata": {},
   "source": [
    "Игры не включённые (BadGames):\n",
    "\n",
    "* BadGames - большие штрафы за уход одного игрока в минус по ресурсу"
   ]
  },
  {
   "cell_type": "code",
   "execution_count": 7,
   "metadata": {},
   "outputs": [
    {
     "name": "stdout",
     "output_type": "stream",
     "text": [
      "[ 48  49  51  68  69  72  83  84  85 107]\n"
     ]
    },
    {
     "data": {
      "text/plain": [
       "(798, 18)"
      ]
     },
     "execution_count": 7,
     "metadata": {},
     "output_type": "execute_result"
    }
   ],
   "source": [
    "GLData = Alldata[Alldata.Game.isin(GLGames.Game)].copy()\n",
    "print(GLData.Game.unique())\n",
    "\n",
    "GLData.shape"
   ]
  },
  {
   "cell_type": "code",
   "execution_count": 8,
   "metadata": {},
   "outputs": [
    {
     "data": {
      "text/plain": [
       "Index(['Game', 'Time', 'Subject', 'Group', 'GrSubject', 'Type', 'Gain',\n",
       "       'Penalty', 'x', 's1', 's2', 's3', 'AcceptAdvice', 'CalcCount',\n",
       "       'CalcAdviceCount', 'UseHelp', 'Unnamed: 16', 'Util'],\n",
       "      dtype='object')"
      ]
     },
     "execution_count": 8,
     "metadata": {},
     "output_type": "execute_result"
    }
   ],
   "source": [
    "GLData.columns"
   ]
  },
  {
   "cell_type": "markdown",
   "metadata": {},
   "source": [
    "## Добавляем столбец является ли шаг константным поведением"
   ]
  },
  {
   "cell_type": "code",
   "execution_count": 4,
   "metadata": {},
   "outputs": [
    {
     "data": {
      "text/html": [
       "<div>\n",
       "<style scoped>\n",
       "    .dataframe tbody tr th:only-of-type {\n",
       "        vertical-align: middle;\n",
       "    }\n",
       "\n",
       "    .dataframe tbody tr th {\n",
       "        vertical-align: top;\n",
       "    }\n",
       "\n",
       "    .dataframe thead th {\n",
       "        text-align: right;\n",
       "    }\n",
       "</style>\n",
       "<table border=\"1\" class=\"dataframe\">\n",
       "  <thead>\n",
       "    <tr style=\"text-align: right;\">\n",
       "      <th></th>\n",
       "      <th>Game</th>\n",
       "      <th>Time</th>\n",
       "      <th>Subject</th>\n",
       "      <th>Group</th>\n",
       "      <th>GrSubject</th>\n",
       "      <th>Type</th>\n",
       "      <th>Gain</th>\n",
       "      <th>Penalty</th>\n",
       "      <th>x</th>\n",
       "      <th>s1</th>\n",
       "      <th>...</th>\n",
       "      <th>s3</th>\n",
       "      <th>AcceptAdvice</th>\n",
       "      <th>CalcCount</th>\n",
       "      <th>CalcAdviceCount</th>\n",
       "      <th>UseHelp</th>\n",
       "      <th>Unnamed: 16</th>\n",
       "      <th>Util</th>\n",
       "      <th>iscb0</th>\n",
       "      <th>iscb0.5</th>\n",
       "      <th>iscb1</th>\n",
       "    </tr>\n",
       "  </thead>\n",
       "  <tbody>\n",
       "    <tr>\n",
       "      <th>3312</th>\n",
       "      <td>48</td>\n",
       "      <td>1</td>\n",
       "      <td>1</td>\n",
       "      <td>1</td>\n",
       "      <td>2</td>\n",
       "      <td>9.0</td>\n",
       "      <td>6.708204</td>\n",
       "      <td>0.000000</td>\n",
       "      <td>36.000000</td>\n",
       "      <td>38.300000</td>\n",
       "      <td>...</td>\n",
       "      <td>38.3</td>\n",
       "      <td>1.0</td>\n",
       "      <td>0.0</td>\n",
       "      <td>0.0</td>\n",
       "      <td>NaN</td>\n",
       "      <td>NaN</td>\n",
       "      <td>6.708204</td>\n",
       "      <td>0.0</td>\n",
       "      <td>0.0</td>\n",
       "      <td>0.0</td>\n",
       "    </tr>\n",
       "    <tr>\n",
       "      <th>3313</th>\n",
       "      <td>48</td>\n",
       "      <td>1</td>\n",
       "      <td>3</td>\n",
       "      <td>1</td>\n",
       "      <td>1</td>\n",
       "      <td>1.0</td>\n",
       "      <td>6.268971</td>\n",
       "      <td>0.000000</td>\n",
       "      <td>38.300000</td>\n",
       "      <td>38.300000</td>\n",
       "      <td>...</td>\n",
       "      <td>38.3</td>\n",
       "      <td>1.0</td>\n",
       "      <td>0.0</td>\n",
       "      <td>0.0</td>\n",
       "      <td>NaN</td>\n",
       "      <td>NaN</td>\n",
       "      <td>6.268971</td>\n",
       "      <td>0.0</td>\n",
       "      <td>0.0</td>\n",
       "      <td>0.0</td>\n",
       "    </tr>\n",
       "    <tr>\n",
       "      <th>3314</th>\n",
       "      <td>48</td>\n",
       "      <td>1</td>\n",
       "      <td>2</td>\n",
       "      <td>1</td>\n",
       "      <td>3</td>\n",
       "      <td>25.0</td>\n",
       "      <td>7.956130</td>\n",
       "      <td>0.000000</td>\n",
       "      <td>38.300000</td>\n",
       "      <td>38.300000</td>\n",
       "      <td>...</td>\n",
       "      <td>38.3</td>\n",
       "      <td>1.0</td>\n",
       "      <td>0.0</td>\n",
       "      <td>0.0</td>\n",
       "      <td>NaN</td>\n",
       "      <td>NaN</td>\n",
       "      <td>7.956130</td>\n",
       "      <td>0.0</td>\n",
       "      <td>0.0</td>\n",
       "      <td>0.0</td>\n",
       "    </tr>\n",
       "    <tr>\n",
       "      <th>3315</th>\n",
       "      <td>48</td>\n",
       "      <td>2</td>\n",
       "      <td>1</td>\n",
       "      <td>1</td>\n",
       "      <td>2</td>\n",
       "      <td>9.0</td>\n",
       "      <td>6.336449</td>\n",
       "      <td>0.325632</td>\n",
       "      <td>35.383333</td>\n",
       "      <td>1.000000</td>\n",
       "      <td>...</td>\n",
       "      <td>1.0</td>\n",
       "      <td>0.0</td>\n",
       "      <td>1.0</td>\n",
       "      <td>1.0</td>\n",
       "      <td>NaN</td>\n",
       "      <td>NaN</td>\n",
       "      <td>6.662082</td>\n",
       "      <td>0.0</td>\n",
       "      <td>0.0</td>\n",
       "      <td>0.0</td>\n",
       "    </tr>\n",
       "    <tr>\n",
       "      <th>3316</th>\n",
       "      <td>48</td>\n",
       "      <td>2</td>\n",
       "      <td>2</td>\n",
       "      <td>1</td>\n",
       "      <td>3</td>\n",
       "      <td>25.0</td>\n",
       "      <td>7.249945</td>\n",
       "      <td>-0.215506</td>\n",
       "      <td>24.483333</td>\n",
       "      <td>38.300000</td>\n",
       "      <td>...</td>\n",
       "      <td>38.3</td>\n",
       "      <td>0.0</td>\n",
       "      <td>1.0</td>\n",
       "      <td>0.0</td>\n",
       "      <td>NaN</td>\n",
       "      <td>NaN</td>\n",
       "      <td>7.034439</td>\n",
       "      <td>0.0</td>\n",
       "      <td>0.0</td>\n",
       "      <td>0.0</td>\n",
       "    </tr>\n",
       "    <tr>\n",
       "      <th>...</th>\n",
       "      <td>...</td>\n",
       "      <td>...</td>\n",
       "      <td>...</td>\n",
       "      <td>...</td>\n",
       "      <td>...</td>\n",
       "      <td>...</td>\n",
       "      <td>...</td>\n",
       "      <td>...</td>\n",
       "      <td>...</td>\n",
       "      <td>...</td>\n",
       "      <td>...</td>\n",
       "      <td>...</td>\n",
       "      <td>...</td>\n",
       "      <td>...</td>\n",
       "      <td>...</td>\n",
       "      <td>...</td>\n",
       "      <td>...</td>\n",
       "      <td>...</td>\n",
       "      <td>...</td>\n",
       "      <td>...</td>\n",
       "      <td>...</td>\n",
       "    </tr>\n",
       "    <tr>\n",
       "      <th>6412</th>\n",
       "      <td>107</td>\n",
       "      <td>7</td>\n",
       "      <td>5</td>\n",
       "      <td>2</td>\n",
       "      <td>3</td>\n",
       "      <td>25.0</td>\n",
       "      <td>7.767302</td>\n",
       "      <td>0.438387</td>\n",
       "      <td>42.333333</td>\n",
       "      <td>14.190625</td>\n",
       "      <td>...</td>\n",
       "      <td>115.0</td>\n",
       "      <td>1.0</td>\n",
       "      <td>2.0</td>\n",
       "      <td>1.0</td>\n",
       "      <td>NaN</td>\n",
       "      <td>NaN</td>\n",
       "      <td>8.205689</td>\n",
       "      <td>0.0</td>\n",
       "      <td>0.0</td>\n",
       "      <td>0.0</td>\n",
       "    </tr>\n",
       "    <tr>\n",
       "      <th>6413</th>\n",
       "      <td>107</td>\n",
       "      <td>7</td>\n",
       "      <td>6</td>\n",
       "      <td>2</td>\n",
       "      <td>1</td>\n",
       "      <td>1.0</td>\n",
       "      <td>7.582648</td>\n",
       "      <td>-0.404193</td>\n",
       "      <td>50.530208</td>\n",
       "      <td>115.000000</td>\n",
       "      <td>...</td>\n",
       "      <td>9.4</td>\n",
       "      <td>0.0</td>\n",
       "      <td>0.0</td>\n",
       "      <td>1.0</td>\n",
       "      <td>NaN</td>\n",
       "      <td>NaN</td>\n",
       "      <td>7.178454</td>\n",
       "      <td>0.0</td>\n",
       "      <td>1.0</td>\n",
       "      <td>1.0</td>\n",
       "    </tr>\n",
       "    <tr>\n",
       "      <th>6414</th>\n",
       "      <td>107</td>\n",
       "      <td>8</td>\n",
       "      <td>4</td>\n",
       "      <td>2</td>\n",
       "      <td>2</td>\n",
       "      <td>9.0</td>\n",
       "      <td>5.613619</td>\n",
       "      <td>-0.033893</td>\n",
       "      <td>22.133333</td>\n",
       "      <td>22.400000</td>\n",
       "      <td>...</td>\n",
       "      <td>2.6</td>\n",
       "      <td>0.0</td>\n",
       "      <td>2.0</td>\n",
       "      <td>0.0</td>\n",
       "      <td>NaN</td>\n",
       "      <td>NaN</td>\n",
       "      <td>5.579725</td>\n",
       "      <td>1.0</td>\n",
       "      <td>1.0</td>\n",
       "      <td>1.0</td>\n",
       "    </tr>\n",
       "    <tr>\n",
       "      <th>6415</th>\n",
       "      <td>107</td>\n",
       "      <td>8</td>\n",
       "      <td>5</td>\n",
       "      <td>2</td>\n",
       "      <td>3</td>\n",
       "      <td>25.0</td>\n",
       "      <td>7.767302</td>\n",
       "      <td>0.438387</td>\n",
       "      <td>42.333333</td>\n",
       "      <td>14.200000</td>\n",
       "      <td>...</td>\n",
       "      <td>115.0</td>\n",
       "      <td>0.0</td>\n",
       "      <td>0.0</td>\n",
       "      <td>0.0</td>\n",
       "      <td>NaN</td>\n",
       "      <td>NaN</td>\n",
       "      <td>8.205689</td>\n",
       "      <td>0.0</td>\n",
       "      <td>1.0</td>\n",
       "      <td>1.0</td>\n",
       "    </tr>\n",
       "    <tr>\n",
       "      <th>6416</th>\n",
       "      <td>107</td>\n",
       "      <td>8</td>\n",
       "      <td>6</td>\n",
       "      <td>2</td>\n",
       "      <td>1</td>\n",
       "      <td>1.0</td>\n",
       "      <td>7.583165</td>\n",
       "      <td>-0.404493</td>\n",
       "      <td>50.533333</td>\n",
       "      <td>115.000000</td>\n",
       "      <td>...</td>\n",
       "      <td>9.4</td>\n",
       "      <td>0.0</td>\n",
       "      <td>1.0</td>\n",
       "      <td>1.0</td>\n",
       "      <td>NaN</td>\n",
       "      <td>NaN</td>\n",
       "      <td>7.178672</td>\n",
       "      <td>1.0</td>\n",
       "      <td>1.0</td>\n",
       "      <td>1.0</td>\n",
       "    </tr>\n",
       "  </tbody>\n",
       "</table>\n",
       "<p>798 rows × 21 columns</p>\n",
       "</div>"
      ],
      "text/plain": [
       "      Game  Time  Subject  Group  GrSubject  Type      Gain   Penalty  \\\n",
       "3312    48     1        1      1          2   9.0  6.708204  0.000000   \n",
       "3313    48     1        3      1          1   1.0  6.268971  0.000000   \n",
       "3314    48     1        2      1          3  25.0  7.956130  0.000000   \n",
       "3315    48     2        1      1          2   9.0  6.336449  0.325632   \n",
       "3316    48     2        2      1          3  25.0  7.249945 -0.215506   \n",
       "...    ...   ...      ...    ...        ...   ...       ...       ...   \n",
       "6412   107     7        5      2          3  25.0  7.767302  0.438387   \n",
       "6413   107     7        6      2          1   1.0  7.582648 -0.404193   \n",
       "6414   107     8        4      2          2   9.0  5.613619 -0.033893   \n",
       "6415   107     8        5      2          3  25.0  7.767302  0.438387   \n",
       "6416   107     8        6      2          1   1.0  7.583165 -0.404493   \n",
       "\n",
       "              x          s1  ...     s3  AcceptAdvice  CalcCount  \\\n",
       "3312  36.000000   38.300000  ...   38.3           1.0        0.0   \n",
       "3313  38.300000   38.300000  ...   38.3           1.0        0.0   \n",
       "3314  38.300000   38.300000  ...   38.3           1.0        0.0   \n",
       "3315  35.383333    1.000000  ...    1.0           0.0        1.0   \n",
       "3316  24.483333   38.300000  ...   38.3           0.0        1.0   \n",
       "...         ...         ...  ...    ...           ...        ...   \n",
       "6412  42.333333   14.190625  ...  115.0           1.0        2.0   \n",
       "6413  50.530208  115.000000  ...    9.4           0.0        0.0   \n",
       "6414  22.133333   22.400000  ...    2.6           0.0        2.0   \n",
       "6415  42.333333   14.200000  ...  115.0           0.0        0.0   \n",
       "6416  50.533333  115.000000  ...    9.4           0.0        1.0   \n",
       "\n",
       "      CalcAdviceCount  UseHelp  Unnamed: 16      Util  iscb0  iscb0.5  iscb1  \n",
       "3312              0.0      NaN          NaN  6.708204    0.0      0.0    0.0  \n",
       "3313              0.0      NaN          NaN  6.268971    0.0      0.0    0.0  \n",
       "3314              0.0      NaN          NaN  7.956130    0.0      0.0    0.0  \n",
       "3315              1.0      NaN          NaN  6.662082    0.0      0.0    0.0  \n",
       "3316              0.0      NaN          NaN  7.034439    0.0      0.0    0.0  \n",
       "...               ...      ...          ...       ...    ...      ...    ...  \n",
       "6412              1.0      NaN          NaN  8.205689    0.0      0.0    0.0  \n",
       "6413              1.0      NaN          NaN  7.178454    0.0      1.0    1.0  \n",
       "6414              0.0      NaN          NaN  5.579725    1.0      1.0    1.0  \n",
       "6415              0.0      NaN          NaN  8.205689    0.0      1.0    1.0  \n",
       "6416              1.0      NaN          NaN  7.178672    1.0      1.0    1.0  \n",
       "\n",
       "[798 rows x 21 columns]"
      ]
     },
     "execution_count": 4,
     "metadata": {},
     "output_type": "execute_result"
    }
   ],
   "source": [
    "# Считает несколько секунд\n",
    "cb = getCBwithEps(GLData,eps=0,dim=3)\n",
    "GLData = DataMarkedCB(GLData,cb,'iscb0')\n",
    "cb = getCBwithEps(GLData,eps=0.51,dim=3)\n",
    "GLData = DataMarkedCB(GLData,cb,'iscb0.5')\n",
    "cb = getCBwithEps(GLData,eps=1.01,dim=3)\n",
    "GLData = DataMarkedCB(GLData,cb,'iscb1')\n",
    "del cb\n",
    "\n",
    "GLData"
   ]
  },
  {
   "cell_type": "markdown",
   "metadata": {},
   "source": [
    "## Nash bargaining"
   ]
  },
  {
   "cell_type": "code",
   "execution_count": 5,
   "metadata": {},
   "outputs": [
    {
     "data": {
      "text/html": [
       "<div>\n",
       "<style scoped>\n",
       "    .dataframe tbody tr th:only-of-type {\n",
       "        vertical-align: middle;\n",
       "    }\n",
       "\n",
       "    .dataframe tbody tr th {\n",
       "        vertical-align: top;\n",
       "    }\n",
       "\n",
       "    .dataframe thead th {\n",
       "        text-align: right;\n",
       "    }\n",
       "</style>\n",
       "<table border=\"1\" class=\"dataframe\">\n",
       "  <thead>\n",
       "    <tr style=\"text-align: right;\">\n",
       "      <th></th>\n",
       "      <th>Game</th>\n",
       "      <th>Time</th>\n",
       "      <th>Subject</th>\n",
       "      <th>Group</th>\n",
       "      <th>GrSubject</th>\n",
       "      <th>Type</th>\n",
       "      <th>Gain</th>\n",
       "      <th>Penalty</th>\n",
       "      <th>x</th>\n",
       "      <th>s1</th>\n",
       "      <th>...</th>\n",
       "      <th>Unew&gt;Uprev</th>\n",
       "      <th>Fnew&gt;Fprev</th>\n",
       "      <th>Fi&gt;Fprev</th>\n",
       "      <th>Fii&gt;Fiprev</th>\n",
       "      <th>Ui</th>\n",
       "      <th>Uloci</th>\n",
       "      <th>Unew</th>\n",
       "      <th>Uprev</th>\n",
       "      <th>Ulocnew</th>\n",
       "      <th>Ulocnew&gt;Ulocprev</th>\n",
       "    </tr>\n",
       "  </thead>\n",
       "  <tbody>\n",
       "    <tr>\n",
       "      <th>0</th>\n",
       "      <td>48</td>\n",
       "      <td>1</td>\n",
       "      <td>1</td>\n",
       "      <td>1</td>\n",
       "      <td>2</td>\n",
       "      <td>9.0</td>\n",
       "      <td>6.708204</td>\n",
       "      <td>0.000000</td>\n",
       "      <td>36.000000</td>\n",
       "      <td>38.3</td>\n",
       "      <td>...</td>\n",
       "      <td>NaN</td>\n",
       "      <td>NaN</td>\n",
       "      <td>NaN</td>\n",
       "      <td>NaN</td>\n",
       "      <td>NaN</td>\n",
       "      <td>NaN</td>\n",
       "      <td>NaN</td>\n",
       "      <td>NaN</td>\n",
       "      <td>NaN</td>\n",
       "      <td>NaN</td>\n",
       "    </tr>\n",
       "    <tr>\n",
       "      <th>1</th>\n",
       "      <td>48</td>\n",
       "      <td>1</td>\n",
       "      <td>3</td>\n",
       "      <td>1</td>\n",
       "      <td>1</td>\n",
       "      <td>1.0</td>\n",
       "      <td>6.268971</td>\n",
       "      <td>0.000000</td>\n",
       "      <td>38.300000</td>\n",
       "      <td>38.3</td>\n",
       "      <td>...</td>\n",
       "      <td>NaN</td>\n",
       "      <td>NaN</td>\n",
       "      <td>NaN</td>\n",
       "      <td>NaN</td>\n",
       "      <td>NaN</td>\n",
       "      <td>NaN</td>\n",
       "      <td>NaN</td>\n",
       "      <td>NaN</td>\n",
       "      <td>NaN</td>\n",
       "      <td>NaN</td>\n",
       "    </tr>\n",
       "    <tr>\n",
       "      <th>2</th>\n",
       "      <td>48</td>\n",
       "      <td>1</td>\n",
       "      <td>2</td>\n",
       "      <td>1</td>\n",
       "      <td>3</td>\n",
       "      <td>25.0</td>\n",
       "      <td>7.956130</td>\n",
       "      <td>0.000000</td>\n",
       "      <td>38.300000</td>\n",
       "      <td>38.3</td>\n",
       "      <td>...</td>\n",
       "      <td>NaN</td>\n",
       "      <td>NaN</td>\n",
       "      <td>NaN</td>\n",
       "      <td>NaN</td>\n",
       "      <td>NaN</td>\n",
       "      <td>NaN</td>\n",
       "      <td>NaN</td>\n",
       "      <td>NaN</td>\n",
       "      <td>NaN</td>\n",
       "      <td>NaN</td>\n",
       "    </tr>\n",
       "    <tr>\n",
       "      <th>3</th>\n",
       "      <td>48</td>\n",
       "      <td>2</td>\n",
       "      <td>1</td>\n",
       "      <td>1</td>\n",
       "      <td>2</td>\n",
       "      <td>9.0</td>\n",
       "      <td>6.336449</td>\n",
       "      <td>0.325632</td>\n",
       "      <td>35.383333</td>\n",
       "      <td>1.0</td>\n",
       "      <td>...</td>\n",
       "      <td>0.0</td>\n",
       "      <td>0.0</td>\n",
       "      <td>0.0</td>\n",
       "      <td>0.0</td>\n",
       "      <td>33.716166</td>\n",
       "      <td>-1.0</td>\n",
       "      <td>34.732348</td>\n",
       "      <td>57.758103</td>\n",
       "      <td>-0.168596</td>\n",
       "      <td>-1.0</td>\n",
       "    </tr>\n",
       "    <tr>\n",
       "      <th>4</th>\n",
       "      <td>48</td>\n",
       "      <td>2</td>\n",
       "      <td>2</td>\n",
       "      <td>1</td>\n",
       "      <td>3</td>\n",
       "      <td>25.0</td>\n",
       "      <td>7.249945</td>\n",
       "      <td>-0.215506</td>\n",
       "      <td>24.483333</td>\n",
       "      <td>38.3</td>\n",
       "      <td>...</td>\n",
       "      <td>0.0</td>\n",
       "      <td>0.0</td>\n",
       "      <td>0.0</td>\n",
       "      <td>0.0</td>\n",
       "      <td>58.640592</td>\n",
       "      <td>-1.0</td>\n",
       "      <td>34.732348</td>\n",
       "      <td>57.758103</td>\n",
       "      <td>-0.168596</td>\n",
       "      <td>-1.0</td>\n",
       "    </tr>\n",
       "  </tbody>\n",
       "</table>\n",
       "<p>5 rows × 34 columns</p>\n",
       "</div>"
      ],
      "text/plain": [
       "   Game  Time  Subject  Group  GrSubject  Type      Gain   Penalty          x  \\\n",
       "0    48     1        1      1          2   9.0  6.708204  0.000000  36.000000   \n",
       "1    48     1        3      1          1   1.0  6.268971  0.000000  38.300000   \n",
       "2    48     1        2      1          3  25.0  7.956130  0.000000  38.300000   \n",
       "3    48     2        1      1          2   9.0  6.336449  0.325632  35.383333   \n",
       "4    48     2        2      1          3  25.0  7.249945 -0.215506  24.483333   \n",
       "\n",
       "     s1  ...  Unew>Uprev  Fnew>Fprev  Fi>Fprev  Fii>Fiprev         Ui  Uloci  \\\n",
       "0  38.3  ...         NaN         NaN       NaN         NaN        NaN    NaN   \n",
       "1  38.3  ...         NaN         NaN       NaN         NaN        NaN    NaN   \n",
       "2  38.3  ...         NaN         NaN       NaN         NaN        NaN    NaN   \n",
       "3   1.0  ...         0.0         0.0       0.0         0.0  33.716166   -1.0   \n",
       "4  38.3  ...         0.0         0.0       0.0         0.0  58.640592   -1.0   \n",
       "\n",
       "        Unew      Uprev   Ulocnew  Ulocnew>Ulocprev  \n",
       "0        NaN        NaN       NaN               NaN  \n",
       "1        NaN        NaN       NaN               NaN  \n",
       "2        NaN        NaN       NaN               NaN  \n",
       "3  34.732348  57.758103 -0.168596              -1.0  \n",
       "4  34.732348  57.758103 -0.168596              -1.0  \n",
       "\n",
       "[5 rows x 34 columns]"
      ]
     },
     "execution_count": 5,
     "metadata": {},
     "output_type": "execute_result"
    }
   ],
   "source": [
    "GLNB = NashData_bySubjects(GLMechanism, GLData, [0,0,0])\n",
    "GLData = pd.merge(GLData, GLNB, on=['Game', 'Time', 'GrSubject'], how='outer')\n",
    "GLData.head()"
   ]
  },
  {
   "cell_type": "markdown",
   "metadata": {},
   "source": [
    "## Добавляем столбец с Наилучшим ответом и гамма (вел-на шага в индикаторном поведении)"
   ]
  },
  {
   "cell_type": "code",
   "execution_count": 6,
   "metadata": {},
   "outputs": [
    {
     "data": {
      "text/html": [
       "<div>\n",
       "<style scoped>\n",
       "    .dataframe tbody tr th:only-of-type {\n",
       "        vertical-align: middle;\n",
       "    }\n",
       "\n",
       "    .dataframe tbody tr th {\n",
       "        vertical-align: top;\n",
       "    }\n",
       "\n",
       "    .dataframe thead th {\n",
       "        text-align: right;\n",
       "    }\n",
       "</style>\n",
       "<table border=\"1\" class=\"dataframe\">\n",
       "  <thead>\n",
       "    <tr style=\"text-align: right;\">\n",
       "      <th></th>\n",
       "      <th>Game</th>\n",
       "      <th>Time</th>\n",
       "      <th>GrSubject</th>\n",
       "      <th>BR1</th>\n",
       "      <th>BR2</th>\n",
       "      <th>BR3</th>\n",
       "      <th>twdbr1</th>\n",
       "      <th>twdbr2</th>\n",
       "      <th>twdbr3</th>\n",
       "    </tr>\n",
       "  </thead>\n",
       "  <tbody>\n",
       "    <tr>\n",
       "      <th>0</th>\n",
       "      <td>48</td>\n",
       "      <td>2</td>\n",
       "      <td>1</td>\n",
       "      <td>103.160400</td>\n",
       "      <td>4.769800</td>\n",
       "      <td>7.069800</td>\n",
       "      <td>1</td>\n",
       "      <td>1</td>\n",
       "      <td>1</td>\n",
       "    </tr>\n",
       "    <tr>\n",
       "      <th>1</th>\n",
       "      <td>48</td>\n",
       "      <td>2</td>\n",
       "      <td>2</td>\n",
       "      <td>8.283046</td>\n",
       "      <td>98.433910</td>\n",
       "      <td>8.283046</td>\n",
       "      <td>1</td>\n",
       "      <td>1</td>\n",
       "      <td>1</td>\n",
       "    </tr>\n",
       "    <tr>\n",
       "      <th>2</th>\n",
       "      <td>48</td>\n",
       "      <td>2</td>\n",
       "      <td>3</td>\n",
       "      <td>11.487866</td>\n",
       "      <td>9.187866</td>\n",
       "      <td>94.324265</td>\n",
       "      <td>0</td>\n",
       "      <td>0</td>\n",
       "      <td>1</td>\n",
       "    </tr>\n",
       "    <tr>\n",
       "      <th>3</th>\n",
       "      <td>48</td>\n",
       "      <td>3</td>\n",
       "      <td>1</td>\n",
       "      <td>104.079760</td>\n",
       "      <td>14.210120</td>\n",
       "      <td>-3.289880</td>\n",
       "      <td>1</td>\n",
       "      <td>1</td>\n",
       "      <td>1</td>\n",
       "    </tr>\n",
       "    <tr>\n",
       "      <th>4</th>\n",
       "      <td>48</td>\n",
       "      <td>3</td>\n",
       "      <td>2</td>\n",
       "      <td>12.607043</td>\n",
       "      <td>97.210915</td>\n",
       "      <td>5.182044</td>\n",
       "      <td>1</td>\n",
       "      <td>1</td>\n",
       "      <td>1</td>\n",
       "    </tr>\n",
       "  </tbody>\n",
       "</table>\n",
       "</div>"
      ],
      "text/plain": [
       "   Game  Time  GrSubject         BR1        BR2        BR3  twdbr1  twdbr2  \\\n",
       "0    48     2          1  103.160400   4.769800   7.069800       1       1   \n",
       "1    48     2          2    8.283046  98.433910   8.283046       1       1   \n",
       "2    48     2          3   11.487866   9.187866  94.324265       0       0   \n",
       "3    48     3          1  104.079760  14.210120  -3.289880       1       1   \n",
       "4    48     3          2   12.607043  97.210915   5.182044       1       1   \n",
       "\n",
       "   twdbr3  \n",
       "0       1  \n",
       "1       1  \n",
       "2       1  \n",
       "3       1  \n",
       "4       1  "
      ]
     },
     "execution_count": 6,
     "metadata": {},
     "output_type": "execute_result"
    }
   ],
   "source": [
    "BRdata = pd.read_csv('GLBRdata.csv')\n",
    "\n",
    "BRdata.head()"
   ]
  },
  {
   "cell_type": "markdown",
   "metadata": {},
   "source": [
    "\"twdbrj\" - whether s_ij is toward i's BR, where i = GrSubject, s_i - bid of i's player"
   ]
  },
  {
   "cell_type": "code",
   "execution_count": 21,
   "metadata": {},
   "outputs": [],
   "source": [
    "# csvfile = ospath.join('..','Serious games','YHBRdata.csv')\n",
    "\n",
    "# BRdata = pd.read_csv(csvfile,header=None)\n",
    "# BRdata.columns = ['Game','Time','g1','g2','g3','br1','br2','br3']\n",
    "\n",
    "# br1 = BRdata[['Game','Time','g1','br1']].copy()\n",
    "# br1.columns = ['Game','Time','g','br']\n",
    "# br1['GrSubject'] = 1\n",
    "# #br1.insert(br1.shape[1],'GrSubject',1)\n",
    "\n",
    "# br2 = BRdata[['Game','Time','g2','br2']].copy()\n",
    "# br2.columns = ['Game','Time','g','br']\n",
    "# br2['GrSubject'] = 2\n",
    "# #br2.insert(br2.shape[1],'GrSubject',2)\n",
    "\n",
    "# br3 = BRdata[['Game','Time','g3','br3']].copy()\n",
    "# br3.columns = ['Game','Time','g','br']\n",
    "# br3['GrSubject'] = 3\n",
    "# #br3.insert(br3.shape[1],'GrSubject',3)\n",
    "\n",
    "# BRdata=pd.concat([br1,br2,br3])\n",
    "\n",
    "# BRdata.head()"
   ]
  },
  {
   "cell_type": "code",
   "execution_count": 7,
   "metadata": {},
   "outputs": [
    {
     "data": {
      "text/html": [
       "<div>\n",
       "<style scoped>\n",
       "    .dataframe tbody tr th:only-of-type {\n",
       "        vertical-align: middle;\n",
       "    }\n",
       "\n",
       "    .dataframe tbody tr th {\n",
       "        vertical-align: top;\n",
       "    }\n",
       "\n",
       "    .dataframe thead th {\n",
       "        text-align: right;\n",
       "    }\n",
       "</style>\n",
       "<table border=\"1\" class=\"dataframe\">\n",
       "  <thead>\n",
       "    <tr style=\"text-align: right;\">\n",
       "      <th></th>\n",
       "      <th>Game</th>\n",
       "      <th>Time</th>\n",
       "      <th>Subject</th>\n",
       "      <th>Group</th>\n",
       "      <th>GrSubject</th>\n",
       "      <th>Type</th>\n",
       "      <th>Gain</th>\n",
       "      <th>Penalty</th>\n",
       "      <th>x</th>\n",
       "      <th>s1</th>\n",
       "      <th>...</th>\n",
       "      <th>Unew</th>\n",
       "      <th>Uprev</th>\n",
       "      <th>Ulocnew</th>\n",
       "      <th>Ulocnew&gt;Ulocprev</th>\n",
       "      <th>BR1</th>\n",
       "      <th>BR2</th>\n",
       "      <th>BR3</th>\n",
       "      <th>twdbr1</th>\n",
       "      <th>twdbr2</th>\n",
       "      <th>twdbr3</th>\n",
       "    </tr>\n",
       "  </thead>\n",
       "  <tbody>\n",
       "    <tr>\n",
       "      <th>0</th>\n",
       "      <td>48</td>\n",
       "      <td>1</td>\n",
       "      <td>1</td>\n",
       "      <td>1</td>\n",
       "      <td>2</td>\n",
       "      <td>9.0</td>\n",
       "      <td>6.708204</td>\n",
       "      <td>0.000000</td>\n",
       "      <td>36.000000</td>\n",
       "      <td>38.3</td>\n",
       "      <td>...</td>\n",
       "      <td>NaN</td>\n",
       "      <td>NaN</td>\n",
       "      <td>NaN</td>\n",
       "      <td>NaN</td>\n",
       "      <td>NaN</td>\n",
       "      <td>NaN</td>\n",
       "      <td>NaN</td>\n",
       "      <td>NaN</td>\n",
       "      <td>NaN</td>\n",
       "      <td>NaN</td>\n",
       "    </tr>\n",
       "    <tr>\n",
       "      <th>1</th>\n",
       "      <td>48</td>\n",
       "      <td>1</td>\n",
       "      <td>3</td>\n",
       "      <td>1</td>\n",
       "      <td>1</td>\n",
       "      <td>1.0</td>\n",
       "      <td>6.268971</td>\n",
       "      <td>0.000000</td>\n",
       "      <td>38.300000</td>\n",
       "      <td>38.3</td>\n",
       "      <td>...</td>\n",
       "      <td>NaN</td>\n",
       "      <td>NaN</td>\n",
       "      <td>NaN</td>\n",
       "      <td>NaN</td>\n",
       "      <td>NaN</td>\n",
       "      <td>NaN</td>\n",
       "      <td>NaN</td>\n",
       "      <td>NaN</td>\n",
       "      <td>NaN</td>\n",
       "      <td>NaN</td>\n",
       "    </tr>\n",
       "    <tr>\n",
       "      <th>2</th>\n",
       "      <td>48</td>\n",
       "      <td>1</td>\n",
       "      <td>2</td>\n",
       "      <td>1</td>\n",
       "      <td>3</td>\n",
       "      <td>25.0</td>\n",
       "      <td>7.956130</td>\n",
       "      <td>0.000000</td>\n",
       "      <td>38.300000</td>\n",
       "      <td>38.3</td>\n",
       "      <td>...</td>\n",
       "      <td>NaN</td>\n",
       "      <td>NaN</td>\n",
       "      <td>NaN</td>\n",
       "      <td>NaN</td>\n",
       "      <td>NaN</td>\n",
       "      <td>NaN</td>\n",
       "      <td>NaN</td>\n",
       "      <td>NaN</td>\n",
       "      <td>NaN</td>\n",
       "      <td>NaN</td>\n",
       "    </tr>\n",
       "    <tr>\n",
       "      <th>3</th>\n",
       "      <td>48</td>\n",
       "      <td>2</td>\n",
       "      <td>1</td>\n",
       "      <td>1</td>\n",
       "      <td>2</td>\n",
       "      <td>9.0</td>\n",
       "      <td>6.336449</td>\n",
       "      <td>0.325632</td>\n",
       "      <td>35.383333</td>\n",
       "      <td>1.0</td>\n",
       "      <td>...</td>\n",
       "      <td>34.732348</td>\n",
       "      <td>57.758103</td>\n",
       "      <td>-0.168596</td>\n",
       "      <td>-1.0</td>\n",
       "      <td>8.283046</td>\n",
       "      <td>98.433910</td>\n",
       "      <td>8.283046</td>\n",
       "      <td>1.0</td>\n",
       "      <td>1.0</td>\n",
       "      <td>1.0</td>\n",
       "    </tr>\n",
       "    <tr>\n",
       "      <th>4</th>\n",
       "      <td>48</td>\n",
       "      <td>2</td>\n",
       "      <td>2</td>\n",
       "      <td>1</td>\n",
       "      <td>3</td>\n",
       "      <td>25.0</td>\n",
       "      <td>7.249945</td>\n",
       "      <td>-0.215506</td>\n",
       "      <td>24.483333</td>\n",
       "      <td>38.3</td>\n",
       "      <td>...</td>\n",
       "      <td>34.732348</td>\n",
       "      <td>57.758103</td>\n",
       "      <td>-0.168596</td>\n",
       "      <td>-1.0</td>\n",
       "      <td>11.487866</td>\n",
       "      <td>9.187866</td>\n",
       "      <td>94.324265</td>\n",
       "      <td>0.0</td>\n",
       "      <td>0.0</td>\n",
       "      <td>1.0</td>\n",
       "    </tr>\n",
       "  </tbody>\n",
       "</table>\n",
       "<p>5 rows × 40 columns</p>\n",
       "</div>"
      ],
      "text/plain": [
       "   Game  Time  Subject  Group  GrSubject  Type      Gain   Penalty          x  \\\n",
       "0    48     1        1      1          2   9.0  6.708204  0.000000  36.000000   \n",
       "1    48     1        3      1          1   1.0  6.268971  0.000000  38.300000   \n",
       "2    48     1        2      1          3  25.0  7.956130  0.000000  38.300000   \n",
       "3    48     2        1      1          2   9.0  6.336449  0.325632  35.383333   \n",
       "4    48     2        2      1          3  25.0  7.249945 -0.215506  24.483333   \n",
       "\n",
       "     s1  ...       Unew      Uprev   Ulocnew  Ulocnew>Ulocprev        BR1  \\\n",
       "0  38.3  ...        NaN        NaN       NaN               NaN        NaN   \n",
       "1  38.3  ...        NaN        NaN       NaN               NaN        NaN   \n",
       "2  38.3  ...        NaN        NaN       NaN               NaN        NaN   \n",
       "3   1.0  ...  34.732348  57.758103 -0.168596              -1.0   8.283046   \n",
       "4  38.3  ...  34.732348  57.758103 -0.168596              -1.0  11.487866   \n",
       "\n",
       "         BR2        BR3  twdbr1  twdbr2  twdbr3  \n",
       "0        NaN        NaN     NaN     NaN     NaN  \n",
       "1        NaN        NaN     NaN     NaN     NaN  \n",
       "2        NaN        NaN     NaN     NaN     NaN  \n",
       "3  98.433910   8.283046     1.0     1.0     1.0  \n",
       "4   9.187866  94.324265     0.0     0.0     1.0  \n",
       "\n",
       "[5 rows x 40 columns]"
      ]
     },
     "execution_count": 7,
     "metadata": {},
     "output_type": "execute_result"
    }
   ],
   "source": [
    "GLData = pd.merge(GLData, BRdata[BRdata.Game.isin(GLGames.Game)], on=['Game', 'Time','GrSubject'], how='outer')\n",
    "GLData.head()"
   ]
  },
  {
   "cell_type": "code",
   "execution_count": 8,
   "metadata": {},
   "outputs": [
    {
     "data": {
      "text/html": [
       "<div>\n",
       "<style scoped>\n",
       "    .dataframe tbody tr th:only-of-type {\n",
       "        vertical-align: middle;\n",
       "    }\n",
       "\n",
       "    .dataframe tbody tr th {\n",
       "        vertical-align: top;\n",
       "    }\n",
       "\n",
       "    .dataframe thead th {\n",
       "        text-align: right;\n",
       "    }\n",
       "</style>\n",
       "<table border=\"1\" class=\"dataframe\">\n",
       "  <thead>\n",
       "    <tr style=\"text-align: right;\">\n",
       "      <th></th>\n",
       "      <th>Game</th>\n",
       "      <th>Time</th>\n",
       "      <th>Subject</th>\n",
       "      <th>Group</th>\n",
       "      <th>GrSubject</th>\n",
       "      <th>Type</th>\n",
       "      <th>Gain</th>\n",
       "      <th>Penalty</th>\n",
       "      <th>x</th>\n",
       "      <th>s1</th>\n",
       "      <th>...</th>\n",
       "      <th>Ulocnew&gt;Ulocprev</th>\n",
       "      <th>BR1</th>\n",
       "      <th>BR2</th>\n",
       "      <th>BR3</th>\n",
       "      <th>twdbr1</th>\n",
       "      <th>twdbr2</th>\n",
       "      <th>twdbr3</th>\n",
       "      <th>br0</th>\n",
       "      <th>br0.5</th>\n",
       "      <th>br1</th>\n",
       "    </tr>\n",
       "  </thead>\n",
       "  <tbody>\n",
       "    <tr>\n",
       "      <th>0</th>\n",
       "      <td>48</td>\n",
       "      <td>1</td>\n",
       "      <td>1</td>\n",
       "      <td>1</td>\n",
       "      <td>2</td>\n",
       "      <td>9.0</td>\n",
       "      <td>6.708204</td>\n",
       "      <td>0.000000</td>\n",
       "      <td>36.000000</td>\n",
       "      <td>38.300000</td>\n",
       "      <td>...</td>\n",
       "      <td>NaN</td>\n",
       "      <td>NaN</td>\n",
       "      <td>NaN</td>\n",
       "      <td>NaN</td>\n",
       "      <td>NaN</td>\n",
       "      <td>NaN</td>\n",
       "      <td>NaN</td>\n",
       "      <td>0.0</td>\n",
       "      <td>0.0</td>\n",
       "      <td>0.0</td>\n",
       "    </tr>\n",
       "    <tr>\n",
       "      <th>1</th>\n",
       "      <td>48</td>\n",
       "      <td>1</td>\n",
       "      <td>3</td>\n",
       "      <td>1</td>\n",
       "      <td>1</td>\n",
       "      <td>1.0</td>\n",
       "      <td>6.268971</td>\n",
       "      <td>0.000000</td>\n",
       "      <td>38.300000</td>\n",
       "      <td>38.300000</td>\n",
       "      <td>...</td>\n",
       "      <td>NaN</td>\n",
       "      <td>NaN</td>\n",
       "      <td>NaN</td>\n",
       "      <td>NaN</td>\n",
       "      <td>NaN</td>\n",
       "      <td>NaN</td>\n",
       "      <td>NaN</td>\n",
       "      <td>0.0</td>\n",
       "      <td>0.0</td>\n",
       "      <td>0.0</td>\n",
       "    </tr>\n",
       "    <tr>\n",
       "      <th>2</th>\n",
       "      <td>48</td>\n",
       "      <td>1</td>\n",
       "      <td>2</td>\n",
       "      <td>1</td>\n",
       "      <td>3</td>\n",
       "      <td>25.0</td>\n",
       "      <td>7.956130</td>\n",
       "      <td>0.000000</td>\n",
       "      <td>38.300000</td>\n",
       "      <td>38.300000</td>\n",
       "      <td>...</td>\n",
       "      <td>NaN</td>\n",
       "      <td>NaN</td>\n",
       "      <td>NaN</td>\n",
       "      <td>NaN</td>\n",
       "      <td>NaN</td>\n",
       "      <td>NaN</td>\n",
       "      <td>NaN</td>\n",
       "      <td>0.0</td>\n",
       "      <td>0.0</td>\n",
       "      <td>0.0</td>\n",
       "    </tr>\n",
       "    <tr>\n",
       "      <th>3</th>\n",
       "      <td>48</td>\n",
       "      <td>2</td>\n",
       "      <td>1</td>\n",
       "      <td>1</td>\n",
       "      <td>2</td>\n",
       "      <td>9.0</td>\n",
       "      <td>6.336449</td>\n",
       "      <td>0.325632</td>\n",
       "      <td>35.383333</td>\n",
       "      <td>1.000000</td>\n",
       "      <td>...</td>\n",
       "      <td>-1.0</td>\n",
       "      <td>8.283046</td>\n",
       "      <td>98.433910</td>\n",
       "      <td>8.283046</td>\n",
       "      <td>1.0</td>\n",
       "      <td>1.0</td>\n",
       "      <td>1.0</td>\n",
       "      <td>0.0</td>\n",
       "      <td>0.0</td>\n",
       "      <td>0.0</td>\n",
       "    </tr>\n",
       "    <tr>\n",
       "      <th>4</th>\n",
       "      <td>48</td>\n",
       "      <td>2</td>\n",
       "      <td>2</td>\n",
       "      <td>1</td>\n",
       "      <td>3</td>\n",
       "      <td>25.0</td>\n",
       "      <td>7.249945</td>\n",
       "      <td>-0.215506</td>\n",
       "      <td>24.483333</td>\n",
       "      <td>38.300000</td>\n",
       "      <td>...</td>\n",
       "      <td>-1.0</td>\n",
       "      <td>11.487866</td>\n",
       "      <td>9.187866</td>\n",
       "      <td>94.324265</td>\n",
       "      <td>0.0</td>\n",
       "      <td>0.0</td>\n",
       "      <td>1.0</td>\n",
       "      <td>0.0</td>\n",
       "      <td>0.0</td>\n",
       "      <td>0.0</td>\n",
       "    </tr>\n",
       "    <tr>\n",
       "      <th>...</th>\n",
       "      <td>...</td>\n",
       "      <td>...</td>\n",
       "      <td>...</td>\n",
       "      <td>...</td>\n",
       "      <td>...</td>\n",
       "      <td>...</td>\n",
       "      <td>...</td>\n",
       "      <td>...</td>\n",
       "      <td>...</td>\n",
       "      <td>...</td>\n",
       "      <td>...</td>\n",
       "      <td>...</td>\n",
       "      <td>...</td>\n",
       "      <td>...</td>\n",
       "      <td>...</td>\n",
       "      <td>...</td>\n",
       "      <td>...</td>\n",
       "      <td>...</td>\n",
       "      <td>...</td>\n",
       "      <td>...</td>\n",
       "      <td>...</td>\n",
       "    </tr>\n",
       "    <tr>\n",
       "      <th>793</th>\n",
       "      <td>107</td>\n",
       "      <td>7</td>\n",
       "      <td>5</td>\n",
       "      <td>2</td>\n",
       "      <td>3</td>\n",
       "      <td>25.0</td>\n",
       "      <td>7.767302</td>\n",
       "      <td>0.438387</td>\n",
       "      <td>42.333333</td>\n",
       "      <td>14.190625</td>\n",
       "      <td>...</td>\n",
       "      <td>1.0</td>\n",
       "      <td>34.579056</td>\n",
       "      <td>6.197806</td>\n",
       "      <td>74.223140</td>\n",
       "      <td>0.0</td>\n",
       "      <td>1.0</td>\n",
       "      <td>0.0</td>\n",
       "      <td>0.0</td>\n",
       "      <td>0.0</td>\n",
       "      <td>0.0</td>\n",
       "    </tr>\n",
       "    <tr>\n",
       "      <th>794</th>\n",
       "      <td>107</td>\n",
       "      <td>7</td>\n",
       "      <td>6</td>\n",
       "      <td>2</td>\n",
       "      <td>1</td>\n",
       "      <td>1.0</td>\n",
       "      <td>7.582648</td>\n",
       "      <td>-0.404193</td>\n",
       "      <td>50.530208</td>\n",
       "      <td>115.000000</td>\n",
       "      <td>...</td>\n",
       "      <td>1.0</td>\n",
       "      <td>94.430000</td>\n",
       "      <td>-1.627500</td>\n",
       "      <td>22.197500</td>\n",
       "      <td>0.0</td>\n",
       "      <td>1.0</td>\n",
       "      <td>0.0</td>\n",
       "      <td>0.0</td>\n",
       "      <td>0.0</td>\n",
       "      <td>0.0</td>\n",
       "    </tr>\n",
       "    <tr>\n",
       "      <th>795</th>\n",
       "      <td>107</td>\n",
       "      <td>8</td>\n",
       "      <td>4</td>\n",
       "      <td>2</td>\n",
       "      <td>2</td>\n",
       "      <td>9.0</td>\n",
       "      <td>5.613619</td>\n",
       "      <td>-0.033893</td>\n",
       "      <td>22.133333</td>\n",
       "      <td>22.400000</td>\n",
       "      <td>...</td>\n",
       "      <td>1.0</td>\n",
       "      <td>17.725761</td>\n",
       "      <td>81.943794</td>\n",
       "      <td>15.330448</td>\n",
       "      <td>0.0</td>\n",
       "      <td>0.0</td>\n",
       "      <td>1.0</td>\n",
       "      <td>0.0</td>\n",
       "      <td>0.0</td>\n",
       "      <td>0.0</td>\n",
       "    </tr>\n",
       "    <tr>\n",
       "      <th>796</th>\n",
       "      <td>107</td>\n",
       "      <td>8</td>\n",
       "      <td>5</td>\n",
       "      <td>2</td>\n",
       "      <td>3</td>\n",
       "      <td>25.0</td>\n",
       "      <td>7.767302</td>\n",
       "      <td>0.438387</td>\n",
       "      <td>42.333333</td>\n",
       "      <td>14.200000</td>\n",
       "      <td>...</td>\n",
       "      <td>1.0</td>\n",
       "      <td>34.595867</td>\n",
       "      <td>6.195866</td>\n",
       "      <td>74.208270</td>\n",
       "      <td>1.0</td>\n",
       "      <td>0.0</td>\n",
       "      <td>0.0</td>\n",
       "      <td>0.0</td>\n",
       "      <td>0.0</td>\n",
       "      <td>0.0</td>\n",
       "    </tr>\n",
       "    <tr>\n",
       "      <th>797</th>\n",
       "      <td>107</td>\n",
       "      <td>8</td>\n",
       "      <td>6</td>\n",
       "      <td>2</td>\n",
       "      <td>1</td>\n",
       "      <td>1.0</td>\n",
       "      <td>7.583165</td>\n",
       "      <td>-0.404493</td>\n",
       "      <td>50.533333</td>\n",
       "      <td>115.000000</td>\n",
       "      <td>...</td>\n",
       "      <td>1.0</td>\n",
       "      <td>93.393620</td>\n",
       "      <td>0.355531</td>\n",
       "      <td>21.250843</td>\n",
       "      <td>0.0</td>\n",
       "      <td>1.0</td>\n",
       "      <td>1.0</td>\n",
       "      <td>0.0</td>\n",
       "      <td>0.0</td>\n",
       "      <td>0.0</td>\n",
       "    </tr>\n",
       "  </tbody>\n",
       "</table>\n",
       "<p>798 rows × 43 columns</p>\n",
       "</div>"
      ],
      "text/plain": [
       "     Game  Time  Subject  Group  GrSubject  Type      Gain   Penalty  \\\n",
       "0      48     1        1      1          2   9.0  6.708204  0.000000   \n",
       "1      48     1        3      1          1   1.0  6.268971  0.000000   \n",
       "2      48     1        2      1          3  25.0  7.956130  0.000000   \n",
       "3      48     2        1      1          2   9.0  6.336449  0.325632   \n",
       "4      48     2        2      1          3  25.0  7.249945 -0.215506   \n",
       "..    ...   ...      ...    ...        ...   ...       ...       ...   \n",
       "793   107     7        5      2          3  25.0  7.767302  0.438387   \n",
       "794   107     7        6      2          1   1.0  7.582648 -0.404193   \n",
       "795   107     8        4      2          2   9.0  5.613619 -0.033893   \n",
       "796   107     8        5      2          3  25.0  7.767302  0.438387   \n",
       "797   107     8        6      2          1   1.0  7.583165 -0.404493   \n",
       "\n",
       "             x          s1  ...  Ulocnew>Ulocprev        BR1        BR2  \\\n",
       "0    36.000000   38.300000  ...               NaN        NaN        NaN   \n",
       "1    38.300000   38.300000  ...               NaN        NaN        NaN   \n",
       "2    38.300000   38.300000  ...               NaN        NaN        NaN   \n",
       "3    35.383333    1.000000  ...              -1.0   8.283046  98.433910   \n",
       "4    24.483333   38.300000  ...              -1.0  11.487866   9.187866   \n",
       "..         ...         ...  ...               ...        ...        ...   \n",
       "793  42.333333   14.190625  ...               1.0  34.579056   6.197806   \n",
       "794  50.530208  115.000000  ...               1.0  94.430000  -1.627500   \n",
       "795  22.133333   22.400000  ...               1.0  17.725761  81.943794   \n",
       "796  42.333333   14.200000  ...               1.0  34.595867   6.195866   \n",
       "797  50.533333  115.000000  ...               1.0  93.393620   0.355531   \n",
       "\n",
       "           BR3  twdbr1  twdbr2  twdbr3  br0  br0.5  br1  \n",
       "0          NaN     NaN     NaN     NaN  0.0    0.0  0.0  \n",
       "1          NaN     NaN     NaN     NaN  0.0    0.0  0.0  \n",
       "2          NaN     NaN     NaN     NaN  0.0    0.0  0.0  \n",
       "3     8.283046     1.0     1.0     1.0  0.0    0.0  0.0  \n",
       "4    94.324265     0.0     0.0     1.0  0.0    0.0  0.0  \n",
       "..         ...     ...     ...     ...  ...    ...  ...  \n",
       "793  74.223140     0.0     1.0     0.0  0.0    0.0  0.0  \n",
       "794  22.197500     0.0     1.0     0.0  0.0    0.0  0.0  \n",
       "795  15.330448     0.0     0.0     1.0  0.0    0.0  0.0  \n",
       "796  74.208270     1.0     0.0     0.0  0.0    0.0  0.0  \n",
       "797  21.250843     0.0     1.0     1.0  0.0    0.0  0.0  \n",
       "\n",
       "[798 rows x 43 columns]"
      ]
     },
     "execution_count": 8,
     "metadata": {},
     "output_type": "execute_result"
    }
   ],
   "source": [
    "c1,c2 = GLData[['s1','s2','s3']],GLData[['BR1','BR2','BR3']].rename(columns={'BR1':'s1','BR2':'s2','BR3':'s3'})\n",
    "\n",
    "GLData['br0'] = (c1.sub(c2,fill_value=1000).abs().sum(axis=1)<0.01).astype('float64')\n",
    "GLData['br0.5'] = (c1.sub(c2,fill_value=1000).abs().sum(axis=1)<0.51).astype('float64')\n",
    "GLData['br1'] = (c1.sub(c2,fill_value=1000).abs().sum(axis=1)<1.01).astype('float64')\n",
    "\n",
    "GLData"
   ]
  },
  {
   "cell_type": "code",
   "execution_count": 9,
   "metadata": {},
   "outputs": [],
   "source": [
    "t = GLData[['twdbr1','twdbr2','twdbr3']].copy();\n",
    "GLData['twbr'] = (t.sum(axis=1) == 3).astype('float64')"
   ]
  },
  {
   "cell_type": "code",
   "execution_count": 10,
   "metadata": {},
   "outputs": [],
   "source": [
    "# export to csv\n",
    "GLData.to_csv('GL_BR_CB_NB_data_2021jun22.csv',sep=';',)"
   ]
  },
  {
   "cell_type": "code",
   "execution_count": 9,
   "metadata": {},
   "outputs": [],
   "source": [
    "# import from csv\n",
    "GLData = pd.read_csv('GL_BR_CB_NB_data_2021jun22.csv',sep=';',)"
   ]
  },
  {
   "cell_type": "markdown",
   "metadata": {},
   "source": [
    "## Individual decisions"
   ]
  },
  {
   "cell_type": "code",
   "execution_count": 48,
   "metadata": {},
   "outputs": [
    {
     "data": {
      "text/plain": [
       "Index(['Unnamed: 0', 'Game', 'Time', 'Subject', 'Group', 'GrSubject', 'Type',\n",
       "       'Gain', 'Penalty', 'x', 's1', 's2', 's3', 'AcceptAdvice', 'CalcCount',\n",
       "       'CalcAdviceCount', 'UseHelp', 'Unnamed: 16', 'Util', 'iscb0', 'iscb0.5',\n",
       "       'iscb1', 'Ui>Uprev', 'Uloci>Ulocprev', 'Uall>Uprev', 'Unew>Uprev',\n",
       "       'Fnew>Fprev', 'Fi>Fprev', 'Fii>Fiprev', 'Ui', 'Uloci', 'Unew', 'Uprev',\n",
       "       'Ulocnew', 'Ulocnew>Ulocprev', 'BR1', 'BR2', 'BR3', 'twdbr1', 'twdbr2',\n",
       "       'twdbr3', 'br0', 'br0.5', 'br1', 'twbr'],\n",
       "      dtype='object')"
      ]
     },
     "execution_count": 48,
     "metadata": {},
     "output_type": "execute_result"
    }
   ],
   "source": [
    "GLData.columns"
   ]
  },
  {
   "cell_type": "code",
   "execution_count": 49,
   "metadata": {},
   "outputs": [
    {
     "data": {
      "text/plain": [
       "176.0"
      ]
     },
     "execution_count": 49,
     "metadata": {},
     "output_type": "execute_result"
    }
   ],
   "source": [
    "GLData.twbr.sum() "
   ]
  },
  {
   "cell_type": "code",
   "execution_count": 7,
   "metadata": {},
   "outputs": [],
   "source": [
    "def individual_decisions(data):\n",
    "    dec = data[data.Time>1]\n",
    "    results = { \n",
    "        'games' : len(dec.Game.unique()),\n",
    "        'total iterations' : len(dec.groupby(['Game','Time'])),\n",
    "        'total decisions' : len(dec),\n",
    "        \n",
    "        'Rtnl' : (data['Fii>Fiprev']==1).sum(),\n",
    "        'Toward BR' : (data.twbr==1).sum(),\n",
    "        'BR(1)' : (data.br1==1).sum(),\n",
    "        \n",
    "        'Agree CB' : (data.iscb0==1).sum(),\n",
    "        'Waiting CB(1)\\ACB' : ((data.iscb1==1) & (data.iscb0==0)).sum(),\n",
    "        'Rational WCB(1)\\ACB' : ((data.twbr==1) & (data.iscb1==1) & (data.iscb0==0)).sum(),\n",
    "        \n",
    "        'NI' : (data['Ui>Uprev']==1).sum(),\n",
    "        'NI\\WCB(1)' : ((data['Ui>Uprev']==1) & (data.iscb1==0)).sum(),\n",
    "        'Rational NI\\WCB(1)' : ((data.twbr==1) & (data['Ui>Uprev']==1) & (data.iscb1==0)).sum(),\n",
    "        \n",
    "        'Local NI' : (data['Uloci']>0.00001).sum(),\n",
    "        'Local NI & NI': ((data['Uloci']>0.00001) & (data['Ui>Uprev']==1) ).sum(),\n",
    "        'LNI\\WCB(1)' : ((data['Uloci']>0.00001) & (data.iscb1==0)).sum(),\n",
    "        'LNI\\\\NI' : ((data['Uloci']>0.00001) & (data['Ui>Uprev']==0)).sum(),\n",
    "        'LNI\\\\NI\\\\WCB(1)' : ((data['Uloci']>0.00001) & (data['Ui>Uprev']==0) & (data.iscb1==0)).sum(),\n",
    "        'Rational LNI\\WCB(1)' : ((data.twbr==1) & (data['Uloci']>0.00001) & (data.iscb1==0)).sum(),\n",
    "        'LN>LNprev&LNI' : ((data['Uloci>Ulocprev']==1) & (data['Uloci']>0.00001)).sum(),\n",
    "        'LN>LNprev\\\\WCB(1)' : ((data['Uloci>Ulocprev']==1) & (data['Uloci']>0.00001) & (data.iscb1==0)).sum(),\n",
    "        'LN>LNprev\\\\NI' : ((data['Uloci>Ulocprev']==1) & (data['Uloci']>0.00001) & (data['Ui>Uprev']==0)).sum()\n",
    "        }\n",
    "    return results\n",
    "\n",
    "#         'Local NI' : (data['Uloci>Ulocprev']==1).sum(),\n",
    "#         'Local NI & NI': ((data['Uloci>Ulocprev']==1) & (data['Ui>Uprev']==1) ).sum(),\n",
    "#         'LNI\\WCB(1)' : ((data['Uloci>Ulocprev']==1) & (data.iscb1==0)).sum(),\n",
    "#         'Rational LNI\\WCB(1)' : ((data.twbr==1) & (data['Uloci>Ulocprev']==1) & (data.iscb1==0)).sum(),\n",
    "#         'LNI\\\\NI' : ((data['Uloci>Ulocprev']==1) & (data['Ui>Uprev']==0)).sum(),\n",
    "#         'LNI\\\\NI\\\\WCB(1)' : ((data['Uloci>Ulocprev']==1) & (data['Ui>Uprev']==0) & (data.iscb1==0)).sum(),\n",
    "#         'LNI&LN>0' : ((data['Uloci>Ulocprev']==1) & (data['Uloci']>0.00001)).sum(),\n",
    "#         'LNI>0\\\\WCB(1)' : ((data['Uloci>Ulocprev']==1) & (data['Uloci']>0.00001) & (data.iscb1==0)).sum(),\n",
    "#         'LNI>0\\\\NI' : ((data['Uloci>Ulocprev']==1) & (data['Uloci']>0.00001) & (data['Ui>Uprev']==0)).sum()\n"
   ]
  },
  {
   "cell_type": "code",
   "execution_count": 21,
   "metadata": {},
   "outputs": [
    {
     "data": {
      "text/plain": [
       "{'games': 10,\n",
       " 'total iterations': 256,\n",
       " 'total decisions': 768,\n",
       " 'Rtnl': 382,\n",
       " 'Toward BR': 176,\n",
       " 'BR(1)': 2,\n",
       " 'Agree CB': 173,\n",
       " 'Waiting CB(1)\\\\ACB': 55,\n",
       " 'Rational WCB(1)\\\\ACB': 4,\n",
       " 'NI': 285,\n",
       " 'NI\\\\WCB(1)': 260,\n",
       " 'Rational NI\\\\WCB(1)': 88,\n",
       " 'Local NI': 524,\n",
       " 'Local NI & NI': 199,\n",
       " 'LNI\\\\WCB(1)': 354,\n",
       " 'Rational LNI\\\\WCB(1)': 101,\n",
       " 'LNI\\\\NI': 325,\n",
       " 'LNI\\\\NI\\\\WCB(1)': 174,\n",
       " 'LNI&LN>0': 19,\n",
       " 'LNI>0\\\\WCB(1)': 19,\n",
       " 'LNI>0\\\\NI': 0}"
      ]
     },
     "execution_count": 21,
     "metadata": {},
     "output_type": "execute_result"
    }
   ],
   "source": [
    "individual_decisions(GLData)"
   ]
  },
  {
   "cell_type": "code",
   "execution_count": 8,
   "metadata": {},
   "outputs": [],
   "source": [
    "def getSituationsTable(statfunc,data,consensusgames):\n",
    "    sit_cons = statfunc(data[data.Game.isin(consensusgames)])\n",
    "    sit_notcons = statfunc(data[~data.Game.isin(consensusgames)])\n",
    "    sit = statfunc(data)\n",
    "\n",
    "    table = pd.concat([pd.DataFrame.from_dict(sit,'index',columns=['All games']), pd.DataFrame.from_dict(sit_notcons,'index',columns=['Not Consensus']),\n",
    "                          pd.DataFrame.from_dict(sit_cons,'index',columns=['Consensus'])], axis=1 )\n",
    "    return table\n"
   ]
  },
  {
   "cell_type": "code",
   "execution_count": 15,
   "metadata": {},
   "outputs": [
    {
     "data": {
      "text/html": [
       "<div>\n",
       "<style scoped>\n",
       "    .dataframe tbody tr th:only-of-type {\n",
       "        vertical-align: middle;\n",
       "    }\n",
       "\n",
       "    .dataframe tbody tr th {\n",
       "        vertical-align: top;\n",
       "    }\n",
       "\n",
       "    .dataframe thead th {\n",
       "        text-align: right;\n",
       "    }\n",
       "</style>\n",
       "<table border=\"1\" class=\"dataframe\">\n",
       "  <thead>\n",
       "    <tr style=\"text-align: right;\">\n",
       "      <th></th>\n",
       "      <th>All games</th>\n",
       "      <th>Not Consensus</th>\n",
       "      <th>Consensus</th>\n",
       "    </tr>\n",
       "  </thead>\n",
       "  <tbody>\n",
       "    <tr>\n",
       "      <th>games</th>\n",
       "      <td>10</td>\n",
       "      <td>5</td>\n",
       "      <td>5</td>\n",
       "    </tr>\n",
       "    <tr>\n",
       "      <th>total iterations</th>\n",
       "      <td>256</td>\n",
       "      <td>135</td>\n",
       "      <td>121</td>\n",
       "    </tr>\n",
       "    <tr>\n",
       "      <th>total decisions</th>\n",
       "      <td>768</td>\n",
       "      <td>405</td>\n",
       "      <td>363</td>\n",
       "    </tr>\n",
       "    <tr>\n",
       "      <th>Rtnl</th>\n",
       "      <td>382</td>\n",
       "      <td>205</td>\n",
       "      <td>177</td>\n",
       "    </tr>\n",
       "    <tr>\n",
       "      <th>Toward BR</th>\n",
       "      <td>176</td>\n",
       "      <td>86</td>\n",
       "      <td>90</td>\n",
       "    </tr>\n",
       "    <tr>\n",
       "      <th>BR(1)</th>\n",
       "      <td>2</td>\n",
       "      <td>2</td>\n",
       "      <td>0</td>\n",
       "    </tr>\n",
       "    <tr>\n",
       "      <th>Agree CB</th>\n",
       "      <td>173</td>\n",
       "      <td>89</td>\n",
       "      <td>84</td>\n",
       "    </tr>\n",
       "    <tr>\n",
       "      <th>Waiting CB(1)\\ACB</th>\n",
       "      <td>55</td>\n",
       "      <td>34</td>\n",
       "      <td>21</td>\n",
       "    </tr>\n",
       "    <tr>\n",
       "      <th>Rational WCB(1)\\ACB</th>\n",
       "      <td>4</td>\n",
       "      <td>1</td>\n",
       "      <td>3</td>\n",
       "    </tr>\n",
       "    <tr>\n",
       "      <th>NI</th>\n",
       "      <td>285</td>\n",
       "      <td>154</td>\n",
       "      <td>131</td>\n",
       "    </tr>\n",
       "    <tr>\n",
       "      <th>NI\\WCB(1)</th>\n",
       "      <td>260</td>\n",
       "      <td>136</td>\n",
       "      <td>124</td>\n",
       "    </tr>\n",
       "    <tr>\n",
       "      <th>Rational NI\\WCB(1)</th>\n",
       "      <td>88</td>\n",
       "      <td>49</td>\n",
       "      <td>39</td>\n",
       "    </tr>\n",
       "    <tr>\n",
       "      <th>Local NI</th>\n",
       "      <td>19</td>\n",
       "      <td>6</td>\n",
       "      <td>13</td>\n",
       "    </tr>\n",
       "    <tr>\n",
       "      <th>Local NI &amp; NI</th>\n",
       "      <td>19</td>\n",
       "      <td>6</td>\n",
       "      <td>13</td>\n",
       "    </tr>\n",
       "    <tr>\n",
       "      <th>LNI\\WCB(1)</th>\n",
       "      <td>19</td>\n",
       "      <td>6</td>\n",
       "      <td>13</td>\n",
       "    </tr>\n",
       "    <tr>\n",
       "      <th>LNI\\NI</th>\n",
       "      <td>0</td>\n",
       "      <td>0</td>\n",
       "      <td>0</td>\n",
       "    </tr>\n",
       "    <tr>\n",
       "      <th>LNI\\NI\\WCB(1)</th>\n",
       "      <td>0</td>\n",
       "      <td>0</td>\n",
       "      <td>0</td>\n",
       "    </tr>\n",
       "    <tr>\n",
       "      <th>Rational LNI\\WCB(1)</th>\n",
       "      <td>7</td>\n",
       "      <td>3</td>\n",
       "      <td>4</td>\n",
       "    </tr>\n",
       "    <tr>\n",
       "      <th>LN&gt;LNprev&amp;LNI</th>\n",
       "      <td>19</td>\n",
       "      <td>6</td>\n",
       "      <td>13</td>\n",
       "    </tr>\n",
       "    <tr>\n",
       "      <th>LN&gt;LNprev\\WCB(1)</th>\n",
       "      <td>19</td>\n",
       "      <td>6</td>\n",
       "      <td>13</td>\n",
       "    </tr>\n",
       "    <tr>\n",
       "      <th>LN&gt;LNprev\\NI</th>\n",
       "      <td>0</td>\n",
       "      <td>0</td>\n",
       "      <td>0</td>\n",
       "    </tr>\n",
       "  </tbody>\n",
       "</table>\n",
       "</div>"
      ],
      "text/plain": [
       "                     All games  Not Consensus  Consensus\n",
       "games                       10              5          5\n",
       "total iterations           256            135        121\n",
       "total decisions            768            405        363\n",
       "Rtnl                       382            205        177\n",
       "Toward BR                  176             86         90\n",
       "BR(1)                        2              2          0\n",
       "Agree CB                   173             89         84\n",
       "Waiting CB(1)\\ACB           55             34         21\n",
       "Rational WCB(1)\\ACB          4              1          3\n",
       "NI                         285            154        131\n",
       "NI\\WCB(1)                  260            136        124\n",
       "Rational NI\\WCB(1)          88             49         39\n",
       "Local NI                    19              6         13\n",
       "Local NI & NI               19              6         13\n",
       "LNI\\WCB(1)                  19              6         13\n",
       "LNI\\NI                       0              0          0\n",
       "LNI\\NI\\WCB(1)                0              0          0\n",
       "Rational LNI\\WCB(1)          7              3          4\n",
       "LN>LNprev&LNI               19              6         13\n",
       "LN>LNprev\\WCB(1)            19              6         13\n",
       "LN>LNprev\\NI                 0              0          0"
      ]
     },
     "execution_count": 15,
     "metadata": {},
     "output_type": "execute_result"
    }
   ],
   "source": [
    "IndDecResult = getSituationsTable(individual_decisions,GLData, GLConsensusGames)\n",
    "IndDecResult"
   ]
  },
  {
   "cell_type": "code",
   "execution_count": 52,
   "metadata": {},
   "outputs": [],
   "source": [
    "IndDecResult.to_csv('GLNash_IndividualDecisions.csv',sep=';')"
   ]
  },
  {
   "cell_type": "markdown",
   "metadata": {},
   "source": [
    "## Decision situations"
   ]
  },
  {
   "cell_type": "code",
   "execution_count": 9,
   "metadata": {},
   "outputs": [],
   "source": [
    "def situations(data):\n",
    "    dec = data[data.Time>1]\n",
    "    sits = dec.groupby(['Game','Time'])\n",
    "    results = { \n",
    "        'games' : len(dec.Game.unique()),\n",
    "        'total situations' : len(sits),\n",
    "        \n",
    "        'One Rtnl' : sits.apply(lambda x: (x['Fii>Fiprev']==1).any()).sum(),\n",
    "        'All Rtnl' : sits.apply(lambda x: (x['Fii>Fiprev']==1).all()).sum(),\n",
    "        'One BR(1)' : sits.apply(lambda x: (x.br1==1).any()).sum(),\n",
    "        'Two BR(1)' : sits.apply(lambda x: (x.br1==1).sum()>=2).sum(),\n",
    "        'All BR(1)' : sits.apply(lambda x: (x.br1==1).all()).sum(),\n",
    "        'One TBR' : sits.apply(lambda x: (x.twbr==1).any()).sum(),\n",
    "        'Two TBR' : sits.apply(lambda x: (x.twbr==1).sum()>=2).sum(),\n",
    "        'All TBR' : sits.apply(lambda x: (x.twbr==1).all()).sum(),\n",
    "        \n",
    "        'One ACB' : sits.apply(lambda x: (x.iscb0==1).any()).sum(),\n",
    "        'Two ACB' : sits.apply(lambda x: (x.iscb0==1).sum()>=2).sum(),        \n",
    "        'All ACB' : sits.apply(lambda x: (x.iscb0==1).all()).sum(),\n",
    "        'One Waiting CB(1)' : sits.apply(lambda x: ((x.iscb1==1) ).any()).sum(),\n",
    "        'Two Waiting CB(1)' : sits.apply(lambda x: ((x.iscb1==1) ).sum()>=2).sum(),\n",
    "        'All Waiting CB(1)' : sits.apply(lambda x: ((x.iscb1==1) ).all()).sum(),\n",
    "        'One Waiting CB(1)\\ACB' : sits.apply(lambda x: ((x.iscb1==1) & (x.iscb0==0)).any()).sum(),\n",
    "        'Two Waiting CB(1)\\ACB' : sits.apply(lambda x: ((x.iscb1==1) & (x.iscb0==0)).sum()>=2).sum(),\n",
    "        'All Waiting CB(1)\\ACB' : sits.apply(lambda x: ((x.iscb1==1) & (x.iscb0==0)).all()).sum(),\n",
    "        'One Rational WCB(1)\\ACB' : sits.apply(lambda x: ((x.twbr==1) & (x.iscb1==1) & (x.iscb0==0)).any()).sum(),\n",
    "        'Two Rational WCB(1)\\ACB' : sits.apply(lambda x: ((x.twbr==1) & (x.iscb1==1) & (x.iscb0==0)).sum()>=2).sum(),\n",
    "        'All Rational WCB(1)\\ACB' : sits.apply(lambda x: ((x.twbr==1) & (x.iscb1==1) & (x.iscb0==0)).all()).sum(),\n",
    "        }\n",
    "    return results\n",
    "\n",
    "def Nash_situations(data):\n",
    "    dec = data[data.Time>1]\n",
    "    sits = dec.groupby(['Game','Time'])\n",
    "    results = { \n",
    "        'games' : len(dec.Game.unique()),\n",
    "        'total situations' : len(sits),\n",
    "\n",
    "        'One NI' : sits.apply(lambda x: (x['Ui>Uprev']==1).any()).sum(),\n",
    "        'Two NI' : sits.apply(lambda x: (x['Ui>Uprev']==1).sum()>=2).sum(),\n",
    "        'All NI' : sits.apply(lambda x: (x['Ui>Uprev']==1).all()).sum(),\n",
    "        'One NI\\WCB(1)' : sits.apply(lambda x: ((x['Ui>Uprev']==1) & (x.iscb1==0)).any()).sum(),\n",
    "        'Two NI\\WCB(1)' : sits.apply(lambda x: ((x['Ui>Uprev']==1) & (x.iscb1==0)).sum()>=2).sum(),\n",
    "        'All NI\\WCB(1)' : sits.apply(lambda x: ((x['Ui>Uprev']==1) & (x.iscb1==0)).all()).sum(),\n",
    "        'One Rational NI\\WCB(1)' : sits.apply(lambda x: ((x.twbr==1) & (x['Ui>Uprev']==1) & (x.iscb1==0)).any()).sum(),\n",
    "        'Two Rational NI\\WCB(1)' : sits.apply(lambda x: ((x.twbr==1) & (x['Ui>Uprev']==1) & (x.iscb1==0)).sum()>=2).sum(),\n",
    "        'All Rational NI\\WCB(1)' : sits.apply(lambda x: ((x.twbr==1) & (x['Ui>Uprev']==1) & (x.iscb1==0)).all()).sum(),\n",
    "        \n",
    "        'One Local NI' : sits.apply(lambda x: (x['Uloci']>0.00001).any()).sum(),\n",
    "        'Two Local NI' : sits.apply(lambda x: (x['Uloci']>0.00001).sum()>=2).sum(),\n",
    "        'All Local NI' : sits.apply(lambda x: (x['Uloci']>0.00001).all()).sum(),\n",
    "\n",
    "        'Real NI' : sits.apply(lambda x: (x['Unew>Uprev']==1).all()).sum(),\n",
    "        'Real LNI': sits.apply(lambda x: (x['Ulocnew']>0.00001).all()).sum(),\n",
    "        'Real LNI & Real NI': sits.apply(lambda x: ((x['Unew>Uprev']==1) & (x['Ulocnew']>0.00001)).all()).sum(),\n",
    "        'Real LNI & All LNI': sits.apply(lambda x: ((x['Ulocnew']>0.00001) & (x['Uloci']>0.00001)).all()).sum(),\n",
    "        'Real LNI & All LNI & Real NI': sits.apply(lambda x: ((x['Ulocnew']>0.00001) & (x['Uloci']>0.00001) & (x['Unew>Uprev']==1)).all()).sum(),\n",
    "        \n",
    "        'LNI\\WCB(1)' : sits.apply(lambda x:  ((x['Uloci']>0.00001) & (x.iscb1==0)).any()).sum(),\n",
    "        'Rational LNI\\WCB(1)' : sits.apply(lambda x:  ((x.twbr==1) & (x['Uloci']>0.00001) & (x.iscb1==0)).any()).sum(),\n",
    "        \"LNI\\\\NI\" : sits.apply(lambda x:  ((x['Uloci']>0.00001) & (x['Ui>Uprev']==1)).any()).sum(),\n",
    "        'LNI&LN>0' : sits.apply(lambda x:  ((x['Uloci>Ulocprev']==1) & (x['Uloci']>0.00001)).any()).sum(),\n",
    "        'LNI>0\\WCB(1)' : sits.apply(lambda x:  ((x['Uloci>Ulocprev']==1) & (x['Uloci']>0.00001) & (x.iscb1==0)).any()).sum()\n",
    "        }\n",
    "    return results\n",
    "\n",
    "def RealNash_situations_origins(data):\n",
    "    def mydiv(a,b):\n",
    "        if b == 0:\n",
    "            return -1\n",
    "        return (a*100) // b;\n",
    "    dec = data[data.Time>1]\n",
    "    sits = dec.groupby(['Game','Time'])\n",
    "    results = { \n",
    "        'games' : len(dec.Game.unique()),\n",
    "        'total situations' : len(sits),\n",
    "\n",
    "        'Real NI' : sits.apply(lambda x: (x['Unew>Uprev']==1).all()).sum(),\n",
    "        'Real NI & no One NI' : sits.apply(lambda x: ((x['Unew>Uprev']==1) & (x['Ui>Uprev']==0)).all()).sum(),\n",
    "        'Real NI & no One LNI' : sits.apply(lambda x: ((x['Unew>Uprev']==1) & (x['Uloci>Ulocprev']==0)).all()).sum(),\n",
    "        'One NI vs Real NI %' : mydiv( sits.apply(lambda x: ((x['Unew>Uprev']==1) & (x['Ui>Uprev']==1)).sum()>=1).sum() ,\n",
    "                                sits.apply(lambda x: ((x['Unew>Uprev']==0) & (x['Ui>Uprev']==1)).sum()>=1).sum() ),\n",
    "        'Two NI vs Real NI %' : mydiv( sits.apply(lambda x: ((x['Unew>Uprev']==1) & (x['Ui>Uprev']==1)).sum()>=2).sum() ,\n",
    "                                sits.apply(lambda x: ((x['Unew>Uprev']==0) & (x['Ui>Uprev']==1)).sum()>=2).sum() ),\n",
    "        'All NI vs Real NI %' : mydiv( sits.apply(lambda x: ((x['Unew>Uprev']==1) & (x['Ui>Uprev']==1)).all()).sum() ,\n",
    "                                sits.apply(lambda x: ((x['Unew>Uprev']==0) & (x['Ui>Uprev']==1)).all()).sum() ),\n",
    "        'Real NI & All NI': sits.apply(lambda x: ((x['Unew>Uprev']==1) & (x['Ui>Uprev']==1)).all()).sum(),\n",
    "        'Real NI & All LNI': sits.apply(lambda x: ((x['Unew>Uprev']==1) & (x['Uloci>Ulocprev']==1)).all()).sum(),\n",
    "\n",
    "        'Real LNI': sits.apply(lambda x: (x['Ulocnew>Ulocprev']==1).all()).sum(),\n",
    "        'Real LNI & no One LNI': sits.apply(lambda x: ((x['Ulocnew>Ulocprev']==1) & (x['Uloci>Ulocprev']==0)).all()).sum(),\n",
    "        'Real LNI & no One NI': sits.apply(lambda x: ((x['Ulocnew>Ulocprev']==1) & (x['Ui>Uprev']==0)).all()).sum(),\n",
    "        'One LNI vs Real LNI %': mydiv( sits.apply(lambda x: ((x['Ulocnew>Ulocprev']==1) & (x['Uloci>Ulocprev']==1)).sum()>=1).sum(),\n",
    "                                     sits.apply(lambda x: ((x['Ulocnew>Ulocprev']==0) & (x['Uloci>Ulocprev']==1)).sum()>=1).sum() ),\n",
    "        'Two LNI vs Real LNI %': mydiv( sits.apply(lambda x: ((x['Ulocnew>Ulocprev']==1) & (x['Uloci>Ulocprev']==1)).sum()>=2).sum(),\n",
    "                                     sits.apply(lambda x: ((x['Ulocnew>Ulocprev']==0) & (x['Uloci>Ulocprev']==1)).sum()>=2).sum() ),\n",
    "        'All LNI vs Real LNI %': mydiv( sits.apply(lambda x: ((x['Ulocnew>Ulocprev']==1) & (x['Uloci>Ulocprev']==1)).all()).sum(),\n",
    "                                     sits.apply(lambda x: ((x['Ulocnew>Ulocprev']==0) & (x['Uloci>Ulocprev']==1)).all()).sum() ),\n",
    "        'Real LNI & All LNI': sits.apply(lambda x: ((x['Ulocnew>Ulocprev']==1) & (x['Uloci>Ulocprev']==1)).all()).sum(),\n",
    "        'Real LNI & All NI': sits.apply(lambda x: ((x['Ulocnew>Ulocprev']==1) & (x['Ui>Uprev']==1)).all()).sum(),\n",
    "\n",
    "        'One TBR vs Real NI %' : mydiv( sits.apply(lambda x: ((x['Unew>Uprev']==1) & (x['twbr']==1)).sum()>=1).sum(),\n",
    "                                    sits.apply(lambda x: ((x['Unew>Uprev']==0) & (x['twbr']==1)).sum()>=1).sum() ),\n",
    "        'One ACB vs Real NI %' : mydiv( sits.apply(lambda x: ((x['Unew>Uprev']==1) & (x['iscb0']==1)).sum()>=1).sum(),\n",
    "                                     sits.apply(lambda x: ((x['Unew>Uprev']==0) & (x['iscb0']==1)).sum()>=1).sum() ),\n",
    "\n",
    "        'One TBR vs Real LNI %' : mydiv( sits.apply(lambda x: ((x['Ulocnew>Ulocprev']==1) & (x['twbr']==1)).sum()>=1).sum(),\n",
    "                                      sits.apply(lambda x: ((x['Ulocnew>Ulocprev']==0) & (x['twbr']==1)).sum()>=1).sum() ),\n",
    "        'One ACB vs Real LNI %' : mydiv( sits.apply(lambda x: ((x['Ulocnew>Ulocprev']==1) & (x['iscb0']==1)).sum()>=1).sum(),\n",
    "                                      sits.apply(lambda x: ((x['Ulocnew>Ulocprev']==0) & (x['iscb0']==1)).sum()>=1).sum() ),\n",
    "        \n",
    "        'All LNI & All NI': sits.apply(lambda x: ((x['Uloci>Ulocprev']==1) & (x['Ui>Uprev']==1)).all()).sum(),\n",
    "        'All LNI & All NI': sits.apply(lambda x: ((x['Uloci>Ulocprev']==1) & (x['Ui>Uprev']==1)).all()).sum(),\n",
    "        'Real LNI & All LNI & Real NI': sits.apply(lambda x: ((x['Ulocnew>Ulocprev']==1) & (x['Uloci>Ulocprev']==1) & (x['Unew>Uprev']==1)).all()).sum(),\n",
    "        'Real LNI & All LNI & not Real NI': sits.apply(lambda x: ((x['Ulocnew>Ulocprev']==1) & (x['Uloci>Ulocprev']==1) & (x['Unew>Uprev']==0)).all()).sum(),\n",
    "\n",
    "    }\n",
    "    return results"
   ]
  },
  {
   "cell_type": "code",
   "execution_count": 38,
   "metadata": {},
   "outputs": [
    {
     "data": {
      "text/plain": [
       "{'games': 10,\n",
       " 'total situations': 256,\n",
       " 'All BR(1)': 0,\n",
       " 'One BR(1)': 2,\n",
       " 'All Toward BR': 4,\n",
       " 'One TBR': 135,\n",
       " 'All Agree CB': 4,\n",
       " 'One ACB': 127,\n",
       " 'All Waiting CB(1)\\\\ACB': 33,\n",
       " 'One Waiting CB(1)\\\\ACB': 53,\n",
       " 'All Rational WCB(1)\\\\ACB': 0,\n",
       " 'One Rational WCB(1)\\\\ACB': 4}"
      ]
     },
     "execution_count": 38,
     "metadata": {},
     "output_type": "execute_result"
    }
   ],
   "source": [
    "situations(GLData)"
   ]
  },
  {
   "cell_type": "code",
   "execution_count": 55,
   "metadata": {},
   "outputs": [
    {
     "data": {
      "text/html": [
       "<div>\n",
       "<style scoped>\n",
       "    .dataframe tbody tr th:only-of-type {\n",
       "        vertical-align: middle;\n",
       "    }\n",
       "\n",
       "    .dataframe tbody tr th {\n",
       "        vertical-align: top;\n",
       "    }\n",
       "\n",
       "    .dataframe thead th {\n",
       "        text-align: right;\n",
       "    }\n",
       "</style>\n",
       "<table border=\"1\" class=\"dataframe\">\n",
       "  <thead>\n",
       "    <tr style=\"text-align: right;\">\n",
       "      <th></th>\n",
       "      <th>All games</th>\n",
       "      <th>Not Consensus</th>\n",
       "      <th>Consensus</th>\n",
       "    </tr>\n",
       "  </thead>\n",
       "  <tbody>\n",
       "    <tr>\n",
       "      <th>games</th>\n",
       "      <td>10</td>\n",
       "      <td>5</td>\n",
       "      <td>5</td>\n",
       "    </tr>\n",
       "    <tr>\n",
       "      <th>total situations</th>\n",
       "      <td>256</td>\n",
       "      <td>135</td>\n",
       "      <td>121</td>\n",
       "    </tr>\n",
       "    <tr>\n",
       "      <th>One Rtnl</th>\n",
       "      <td>220</td>\n",
       "      <td>117</td>\n",
       "      <td>103</td>\n",
       "    </tr>\n",
       "    <tr>\n",
       "      <th>All Rtnl</th>\n",
       "      <td>36</td>\n",
       "      <td>19</td>\n",
       "      <td>17</td>\n",
       "    </tr>\n",
       "    <tr>\n",
       "      <th>One BR(1)</th>\n",
       "      <td>2</td>\n",
       "      <td>2</td>\n",
       "      <td>0</td>\n",
       "    </tr>\n",
       "    <tr>\n",
       "      <th>Two BR(1)</th>\n",
       "      <td>0</td>\n",
       "      <td>0</td>\n",
       "      <td>0</td>\n",
       "    </tr>\n",
       "    <tr>\n",
       "      <th>All BR(1)</th>\n",
       "      <td>0</td>\n",
       "      <td>0</td>\n",
       "      <td>0</td>\n",
       "    </tr>\n",
       "    <tr>\n",
       "      <th>One TBR</th>\n",
       "      <td>135</td>\n",
       "      <td>63</td>\n",
       "      <td>72</td>\n",
       "    </tr>\n",
       "    <tr>\n",
       "      <th>Two TBR</th>\n",
       "      <td>37</td>\n",
       "      <td>20</td>\n",
       "      <td>17</td>\n",
       "    </tr>\n",
       "    <tr>\n",
       "      <th>All TBR</th>\n",
       "      <td>4</td>\n",
       "      <td>3</td>\n",
       "      <td>1</td>\n",
       "    </tr>\n",
       "    <tr>\n",
       "      <th>One ACB</th>\n",
       "      <td>127</td>\n",
       "      <td>69</td>\n",
       "      <td>58</td>\n",
       "    </tr>\n",
       "    <tr>\n",
       "      <th>Two ACB</th>\n",
       "      <td>42</td>\n",
       "      <td>20</td>\n",
       "      <td>22</td>\n",
       "    </tr>\n",
       "    <tr>\n",
       "      <th>All ACB</th>\n",
       "      <td>4</td>\n",
       "      <td>0</td>\n",
       "      <td>4</td>\n",
       "    </tr>\n",
       "    <tr>\n",
       "      <th>One Waiting CB(1)</th>\n",
       "      <td>158</td>\n",
       "      <td>85</td>\n",
       "      <td>73</td>\n",
       "    </tr>\n",
       "    <tr>\n",
       "      <th>Two Waiting CB(1)</th>\n",
       "      <td>58</td>\n",
       "      <td>32</td>\n",
       "      <td>26</td>\n",
       "    </tr>\n",
       "    <tr>\n",
       "      <th>All Waiting CB(1)</th>\n",
       "      <td>12</td>\n",
       "      <td>6</td>\n",
       "      <td>6</td>\n",
       "    </tr>\n",
       "    <tr>\n",
       "      <th>One Waiting CB(1)\\ACB</th>\n",
       "      <td>53</td>\n",
       "      <td>34</td>\n",
       "      <td>19</td>\n",
       "    </tr>\n",
       "    <tr>\n",
       "      <th>Two Waiting CB(1)\\ACB</th>\n",
       "      <td>2</td>\n",
       "      <td>0</td>\n",
       "      <td>2</td>\n",
       "    </tr>\n",
       "    <tr>\n",
       "      <th>All Waiting CB(1)\\ACB</th>\n",
       "      <td>0</td>\n",
       "      <td>0</td>\n",
       "      <td>0</td>\n",
       "    </tr>\n",
       "    <tr>\n",
       "      <th>One Rational WCB(1)\\ACB</th>\n",
       "      <td>4</td>\n",
       "      <td>1</td>\n",
       "      <td>3</td>\n",
       "    </tr>\n",
       "    <tr>\n",
       "      <th>Two Rational WCB(1)\\ACB</th>\n",
       "      <td>0</td>\n",
       "      <td>0</td>\n",
       "      <td>0</td>\n",
       "    </tr>\n",
       "    <tr>\n",
       "      <th>All Rational WCB(1)\\ACB</th>\n",
       "      <td>0</td>\n",
       "      <td>0</td>\n",
       "      <td>0</td>\n",
       "    </tr>\n",
       "  </tbody>\n",
       "</table>\n",
       "</div>"
      ],
      "text/plain": [
       "                         All games  Not Consensus  Consensus\n",
       "games                           10              5          5\n",
       "total situations               256            135        121\n",
       "One Rtnl                       220            117        103\n",
       "All Rtnl                        36             19         17\n",
       "One BR(1)                        2              2          0\n",
       "Two BR(1)                        0              0          0\n",
       "All BR(1)                        0              0          0\n",
       "One TBR                        135             63         72\n",
       "Two TBR                         37             20         17\n",
       "All TBR                          4              3          1\n",
       "One ACB                        127             69         58\n",
       "Two ACB                         42             20         22\n",
       "All ACB                          4              0          4\n",
       "One Waiting CB(1)              158             85         73\n",
       "Two Waiting CB(1)               58             32         26\n",
       "All Waiting CB(1)               12              6          6\n",
       "One Waiting CB(1)\\ACB           53             34         19\n",
       "Two Waiting CB(1)\\ACB            2              0          2\n",
       "All Waiting CB(1)\\ACB            0              0          0\n",
       "One Rational WCB(1)\\ACB          4              1          3\n",
       "Two Rational WCB(1)\\ACB          0              0          0\n",
       "All Rational WCB(1)\\ACB          0              0          0"
      ]
     },
     "execution_count": 55,
     "metadata": {},
     "output_type": "execute_result"
    }
   ],
   "source": [
    "sittable = getSituationsTable(situations,GLData, GLConsensusGames)\n",
    "sittable"
   ]
  },
  {
   "cell_type": "code",
   "execution_count": 56,
   "metadata": {},
   "outputs": [],
   "source": [
    "sittable.to_csv('GLNash_Situations.csv',sep=';')"
   ]
  },
  {
   "cell_type": "code",
   "execution_count": 57,
   "metadata": {},
   "outputs": [
    {
     "data": {
      "text/html": [
       "<div>\n",
       "<style scoped>\n",
       "    .dataframe tbody tr th:only-of-type {\n",
       "        vertical-align: middle;\n",
       "    }\n",
       "\n",
       "    .dataframe tbody tr th {\n",
       "        vertical-align: top;\n",
       "    }\n",
       "\n",
       "    .dataframe thead th {\n",
       "        text-align: right;\n",
       "    }\n",
       "</style>\n",
       "<table border=\"1\" class=\"dataframe\">\n",
       "  <thead>\n",
       "    <tr style=\"text-align: right;\">\n",
       "      <th></th>\n",
       "      <th>All games</th>\n",
       "      <th>Not Consensus</th>\n",
       "      <th>Consensus</th>\n",
       "    </tr>\n",
       "  </thead>\n",
       "  <tbody>\n",
       "    <tr>\n",
       "      <th>games</th>\n",
       "      <td>10</td>\n",
       "      <td>5</td>\n",
       "      <td>5</td>\n",
       "    </tr>\n",
       "    <tr>\n",
       "      <th>total situations</th>\n",
       "      <td>256</td>\n",
       "      <td>135</td>\n",
       "      <td>121</td>\n",
       "    </tr>\n",
       "    <tr>\n",
       "      <th>One NI</th>\n",
       "      <td>194</td>\n",
       "      <td>101</td>\n",
       "      <td>93</td>\n",
       "    </tr>\n",
       "    <tr>\n",
       "      <th>Two NI</th>\n",
       "      <td>81</td>\n",
       "      <td>47</td>\n",
       "      <td>34</td>\n",
       "    </tr>\n",
       "    <tr>\n",
       "      <th>All NI</th>\n",
       "      <td>10</td>\n",
       "      <td>6</td>\n",
       "      <td>4</td>\n",
       "    </tr>\n",
       "    <tr>\n",
       "      <th>One NI\\WCB(1)</th>\n",
       "      <td>183</td>\n",
       "      <td>92</td>\n",
       "      <td>91</td>\n",
       "    </tr>\n",
       "    <tr>\n",
       "      <th>Two NI\\WCB(1)</th>\n",
       "      <td>72</td>\n",
       "      <td>41</td>\n",
       "      <td>31</td>\n",
       "    </tr>\n",
       "    <tr>\n",
       "      <th>All NI\\WCB(1)</th>\n",
       "      <td>5</td>\n",
       "      <td>3</td>\n",
       "      <td>2</td>\n",
       "    </tr>\n",
       "    <tr>\n",
       "      <th>One Rational NI\\WCB(1)</th>\n",
       "      <td>75</td>\n",
       "      <td>41</td>\n",
       "      <td>34</td>\n",
       "    </tr>\n",
       "    <tr>\n",
       "      <th>Two Rational NI\\WCB(1)</th>\n",
       "      <td>13</td>\n",
       "      <td>8</td>\n",
       "      <td>5</td>\n",
       "    </tr>\n",
       "    <tr>\n",
       "      <th>All Rational NI\\WCB(1)</th>\n",
       "      <td>0</td>\n",
       "      <td>0</td>\n",
       "      <td>0</td>\n",
       "    </tr>\n",
       "    <tr>\n",
       "      <th>One Local NI</th>\n",
       "      <td>19</td>\n",
       "      <td>6</td>\n",
       "      <td>13</td>\n",
       "    </tr>\n",
       "    <tr>\n",
       "      <th>Two Local NI</th>\n",
       "      <td>0</td>\n",
       "      <td>0</td>\n",
       "      <td>0</td>\n",
       "    </tr>\n",
       "    <tr>\n",
       "      <th>All Local NI</th>\n",
       "      <td>0</td>\n",
       "      <td>0</td>\n",
       "      <td>0</td>\n",
       "    </tr>\n",
       "    <tr>\n",
       "      <th>Real NI</th>\n",
       "      <td>117</td>\n",
       "      <td>60</td>\n",
       "      <td>57</td>\n",
       "    </tr>\n",
       "    <tr>\n",
       "      <th>Real LNI</th>\n",
       "      <td>6</td>\n",
       "      <td>2</td>\n",
       "      <td>4</td>\n",
       "    </tr>\n",
       "    <tr>\n",
       "      <th>Real LNI &amp; Real NI</th>\n",
       "      <td>6</td>\n",
       "      <td>2</td>\n",
       "      <td>4</td>\n",
       "    </tr>\n",
       "    <tr>\n",
       "      <th>Real LNI &amp; All LNI</th>\n",
       "      <td>0</td>\n",
       "      <td>0</td>\n",
       "      <td>0</td>\n",
       "    </tr>\n",
       "    <tr>\n",
       "      <th>Real LNI &amp; All LNI &amp; Real NI</th>\n",
       "      <td>0</td>\n",
       "      <td>0</td>\n",
       "      <td>0</td>\n",
       "    </tr>\n",
       "    <tr>\n",
       "      <th>LNI\\WCB(1)</th>\n",
       "      <td>19</td>\n",
       "      <td>6</td>\n",
       "      <td>13</td>\n",
       "    </tr>\n",
       "    <tr>\n",
       "      <th>Rational LNI\\WCB(1)</th>\n",
       "      <td>7</td>\n",
       "      <td>3</td>\n",
       "      <td>4</td>\n",
       "    </tr>\n",
       "    <tr>\n",
       "      <th>LNI\\NI</th>\n",
       "      <td>19</td>\n",
       "      <td>6</td>\n",
       "      <td>13</td>\n",
       "    </tr>\n",
       "    <tr>\n",
       "      <th>LNI&amp;LN&gt;0</th>\n",
       "      <td>19</td>\n",
       "      <td>6</td>\n",
       "      <td>13</td>\n",
       "    </tr>\n",
       "    <tr>\n",
       "      <th>LNI&gt;0\\WCB(1)</th>\n",
       "      <td>19</td>\n",
       "      <td>6</td>\n",
       "      <td>13</td>\n",
       "    </tr>\n",
       "  </tbody>\n",
       "</table>\n",
       "</div>"
      ],
      "text/plain": [
       "                              All games  Not Consensus  Consensus\n",
       "games                                10              5          5\n",
       "total situations                    256            135        121\n",
       "One NI                              194            101         93\n",
       "Two NI                               81             47         34\n",
       "All NI                               10              6          4\n",
       "One NI\\WCB(1)                       183             92         91\n",
       "Two NI\\WCB(1)                        72             41         31\n",
       "All NI\\WCB(1)                         5              3          2\n",
       "One Rational NI\\WCB(1)               75             41         34\n",
       "Two Rational NI\\WCB(1)               13              8          5\n",
       "All Rational NI\\WCB(1)                0              0          0\n",
       "One Local NI                         19              6         13\n",
       "Two Local NI                          0              0          0\n",
       "All Local NI                          0              0          0\n",
       "Real NI                             117             60         57\n",
       "Real LNI                              6              2          4\n",
       "Real LNI & Real NI                    6              2          4\n",
       "Real LNI & All LNI                    0              0          0\n",
       "Real LNI & All LNI & Real NI          0              0          0\n",
       "LNI\\WCB(1)                           19              6         13\n",
       "Rational LNI\\WCB(1)                   7              3          4\n",
       "LNI\\NI                               19              6         13\n",
       "LNI&LN>0                             19              6         13\n",
       "LNI>0\\WCB(1)                         19              6         13"
      ]
     },
     "execution_count": 57,
     "metadata": {},
     "output_type": "execute_result"
    }
   ],
   "source": [
    "nashsittable = getSituationsTable(Nash_situations, GLData, GLConsensusGames)\n",
    "nashsittable"
   ]
  },
  {
   "cell_type": "code",
   "execution_count": 58,
   "metadata": {},
   "outputs": [],
   "source": [
    "nashsittable.to_csv('GLNash_NashSituations.csv',sep=';')"
   ]
  },
  {
   "cell_type": "code",
   "execution_count": 34,
   "metadata": {},
   "outputs": [
    {
     "data": {
      "text/html": [
       "<div>\n",
       "<style scoped>\n",
       "    .dataframe tbody tr th:only-of-type {\n",
       "        vertical-align: middle;\n",
       "    }\n",
       "\n",
       "    .dataframe tbody tr th {\n",
       "        vertical-align: top;\n",
       "    }\n",
       "\n",
       "    .dataframe thead th {\n",
       "        text-align: right;\n",
       "    }\n",
       "</style>\n",
       "<table border=\"1\" class=\"dataframe\">\n",
       "  <thead>\n",
       "    <tr style=\"text-align: right;\">\n",
       "      <th></th>\n",
       "      <th>All games</th>\n",
       "      <th>Not Consensus</th>\n",
       "      <th>Consensus</th>\n",
       "    </tr>\n",
       "  </thead>\n",
       "  <tbody>\n",
       "    <tr>\n",
       "      <th>games</th>\n",
       "      <td>10</td>\n",
       "      <td>5</td>\n",
       "      <td>5</td>\n",
       "    </tr>\n",
       "    <tr>\n",
       "      <th>total situations</th>\n",
       "      <td>256</td>\n",
       "      <td>135</td>\n",
       "      <td>121</td>\n",
       "    </tr>\n",
       "    <tr>\n",
       "      <th>Real NI</th>\n",
       "      <td>117</td>\n",
       "      <td>60</td>\n",
       "      <td>57</td>\n",
       "    </tr>\n",
       "    <tr>\n",
       "      <th>Real NI &amp; no One NI</th>\n",
       "      <td>1</td>\n",
       "      <td>1</td>\n",
       "      <td>0</td>\n",
       "    </tr>\n",
       "    <tr>\n",
       "      <th>Real NI &amp; no One LNI</th>\n",
       "      <td>15</td>\n",
       "      <td>12</td>\n",
       "      <td>3</td>\n",
       "    </tr>\n",
       "    <tr>\n",
       "      <th>One NI vs Real NI %</th>\n",
       "      <td>148</td>\n",
       "      <td>140</td>\n",
       "      <td>158</td>\n",
       "    </tr>\n",
       "    <tr>\n",
       "      <th>Two NI vs Real NI %</th>\n",
       "      <td>478</td>\n",
       "      <td>422</td>\n",
       "      <td>580</td>\n",
       "    </tr>\n",
       "    <tr>\n",
       "      <th>All NI vs Real NI %</th>\n",
       "      <td>-1</td>\n",
       "      <td>-1</td>\n",
       "      <td>-1</td>\n",
       "    </tr>\n",
       "    <tr>\n",
       "      <th>Real NI &amp; All NI</th>\n",
       "      <td>10</td>\n",
       "      <td>6</td>\n",
       "      <td>4</td>\n",
       "    </tr>\n",
       "    <tr>\n",
       "      <th>Real NI &amp; All LNI</th>\n",
       "      <td>62</td>\n",
       "      <td>27</td>\n",
       "      <td>35</td>\n",
       "    </tr>\n",
       "    <tr>\n",
       "      <th>Real LNI</th>\n",
       "      <td>121</td>\n",
       "      <td>58</td>\n",
       "      <td>63</td>\n",
       "    </tr>\n",
       "    <tr>\n",
       "      <th>Real LNI &amp; no One LNI</th>\n",
       "      <td>0</td>\n",
       "      <td>0</td>\n",
       "      <td>0</td>\n",
       "    </tr>\n",
       "    <tr>\n",
       "      <th>Real LNI &amp; no One NI</th>\n",
       "      <td>27</td>\n",
       "      <td>11</td>\n",
       "      <td>16</td>\n",
       "    </tr>\n",
       "    <tr>\n",
       "      <th>One LNI vs Real LNI %</th>\n",
       "      <td>139</td>\n",
       "      <td>138</td>\n",
       "      <td>140</td>\n",
       "    </tr>\n",
       "    <tr>\n",
       "      <th>Two LNI vs Real LNI %</th>\n",
       "      <td>175</td>\n",
       "      <td>170</td>\n",
       "      <td>180</td>\n",
       "    </tr>\n",
       "    <tr>\n",
       "      <th>All LNI vs Real LNI %</th>\n",
       "      <td>641</td>\n",
       "      <td>566</td>\n",
       "      <td>725</td>\n",
       "    </tr>\n",
       "    <tr>\n",
       "      <th>Real LNI &amp; All LNI</th>\n",
       "      <td>109</td>\n",
       "      <td>51</td>\n",
       "      <td>58</td>\n",
       "    </tr>\n",
       "    <tr>\n",
       "      <th>Real LNI &amp; All NI</th>\n",
       "      <td>5</td>\n",
       "      <td>3</td>\n",
       "      <td>2</td>\n",
       "    </tr>\n",
       "    <tr>\n",
       "      <th>One TBR vs Real NI %</th>\n",
       "      <td>107</td>\n",
       "      <td>117</td>\n",
       "      <td>100</td>\n",
       "    </tr>\n",
       "    <tr>\n",
       "      <th>One ACB vs Real NI %</th>\n",
       "      <td>69</td>\n",
       "      <td>68</td>\n",
       "      <td>70</td>\n",
       "    </tr>\n",
       "    <tr>\n",
       "      <th>One TBR vs Real LNI %</th>\n",
       "      <td>86</td>\n",
       "      <td>77</td>\n",
       "      <td>97</td>\n",
       "    </tr>\n",
       "    <tr>\n",
       "      <th>One ACB vs Real LNI %</th>\n",
       "      <td>95</td>\n",
       "      <td>67</td>\n",
       "      <td>143</td>\n",
       "    </tr>\n",
       "    <tr>\n",
       "      <th>All LNI &amp; All NI</th>\n",
       "      <td>6</td>\n",
       "      <td>3</td>\n",
       "      <td>3</td>\n",
       "    </tr>\n",
       "    <tr>\n",
       "      <th>Real LNI &amp; All LNI &amp; Real NI</th>\n",
       "      <td>52</td>\n",
       "      <td>23</td>\n",
       "      <td>29</td>\n",
       "    </tr>\n",
       "    <tr>\n",
       "      <th>Real LNI &amp; All LNI &amp; not Real NI</th>\n",
       "      <td>57</td>\n",
       "      <td>28</td>\n",
       "      <td>29</td>\n",
       "    </tr>\n",
       "  </tbody>\n",
       "</table>\n",
       "</div>"
      ],
      "text/plain": [
       "                                  All games  Not Consensus  Consensus\n",
       "games                                    10              5          5\n",
       "total situations                        256            135        121\n",
       "Real NI                                 117             60         57\n",
       "Real NI & no One NI                       1              1          0\n",
       "Real NI & no One LNI                     15             12          3\n",
       "One NI vs Real NI %                     148            140        158\n",
       "Two NI vs Real NI %                     478            422        580\n",
       "All NI vs Real NI %                      -1             -1         -1\n",
       "Real NI & All NI                         10              6          4\n",
       "Real NI & All LNI                        62             27         35\n",
       "Real LNI                                121             58         63\n",
       "Real LNI & no One LNI                     0              0          0\n",
       "Real LNI & no One NI                     27             11         16\n",
       "One LNI vs Real LNI %                   139            138        140\n",
       "Two LNI vs Real LNI %                   175            170        180\n",
       "All LNI vs Real LNI %                   641            566        725\n",
       "Real LNI & All LNI                      109             51         58\n",
       "Real LNI & All NI                         5              3          2\n",
       "One TBR vs Real NI %                    107            117        100\n",
       "One ACB vs Real NI %                     69             68         70\n",
       "One TBR vs Real LNI %                    86             77         97\n",
       "One ACB vs Real LNI %                    95             67        143\n",
       "All LNI & All NI                          6              3          3\n",
       "Real LNI & All LNI & Real NI             52             23         29\n",
       "Real LNI & All LNI & not Real NI         57             28         29"
      ]
     },
     "execution_count": 34,
     "metadata": {},
     "output_type": "execute_result"
    }
   ],
   "source": [
    "nashsit2 = getSituationsTable(RealNash_situations_origins)\n",
    "nashsit2"
   ]
  },
  {
   "cell_type": "code",
   "execution_count": 101,
   "metadata": {},
   "outputs": [],
   "source": [
    "nashsit2.to_csv('GLNash_RealNashSituations.csv',sep=';')"
   ]
  },
  {
   "cell_type": "markdown",
   "metadata": {},
   "source": [
    "### Regression"
   ]
  },
  {
   "cell_type": "code",
   "execution_count": 102,
   "metadata": {},
   "outputs": [],
   "source": [
    "def dataForRegression(data):\n",
    "    def builder(x):\n",
    "        #print( x )\n",
    "        return pd.Series([(x['Ui>Uprev']==1).sum()==1, (x['Ui>Uprev']==1).sum()==2, (x['Ui>Uprev']==1).all(),\n",
    "                (x['Uloci>Ulocprev']==1).sum()==1, (x['Uloci>Ulocprev']==1).sum()==2, (x['Uloci>Ulocprev']==1).all(),\n",
    "                (x['twbr']==1).sum()==1, (x['twbr']==1).sum()==2, (x['iscb0']==1).sum()==1, (x['iscb0']==1).sum()==2,\n",
    "                x['Unew>Uprev'].iloc[0], x['Ulocnew>Ulocprev'].iloc[0] ])*1\n",
    "    dec = data[data.Time>2]\n",
    "    sits = dec.groupby(['Game','Time'])\n",
    "    res = sits.apply(builder)\n",
    "    res.columns = ['oneNI', 'twoNI', 'allNI', 'oneLNI', 'twoLNI', 'allLNI', 'oneTWBR', 'twoTWBR', 'oneACB', 'twoACB', 'RealNI', 'RealLNI' ]\n",
    "    return res"
   ]
  },
  {
   "cell_type": "code",
   "execution_count": 104,
   "metadata": {},
   "outputs": [
    {
     "data": {
      "text/html": [
       "<div>\n",
       "<style scoped>\n",
       "    .dataframe tbody tr th:only-of-type {\n",
       "        vertical-align: middle;\n",
       "    }\n",
       "\n",
       "    .dataframe tbody tr th {\n",
       "        vertical-align: top;\n",
       "    }\n",
       "\n",
       "    .dataframe thead th {\n",
       "        text-align: right;\n",
       "    }\n",
       "</style>\n",
       "<table border=\"1\" class=\"dataframe\">\n",
       "  <thead>\n",
       "    <tr style=\"text-align: right;\">\n",
       "      <th></th>\n",
       "      <th>oneNI</th>\n",
       "      <th>twoNI</th>\n",
       "      <th>allNI</th>\n",
       "      <th>oneLNI</th>\n",
       "      <th>twoLNI</th>\n",
       "      <th>allLNI</th>\n",
       "      <th>oneTWBR</th>\n",
       "      <th>twoTWBR</th>\n",
       "      <th>oneACB</th>\n",
       "      <th>twoACB</th>\n",
       "      <th>RealNI</th>\n",
       "      <th>RealLNI</th>\n",
       "    </tr>\n",
       "  </thead>\n",
       "  <tbody>\n",
       "    <tr>\n",
       "      <th>count</th>\n",
       "      <td>246.000000</td>\n",
       "      <td>246.000000</td>\n",
       "      <td>246.000000</td>\n",
       "      <td>246.000000</td>\n",
       "      <td>246.000000</td>\n",
       "      <td>246.000000</td>\n",
       "      <td>246.000000</td>\n",
       "      <td>246.000000</td>\n",
       "      <td>246.000000</td>\n",
       "      <td>246.000000</td>\n",
       "      <td>246.000000</td>\n",
       "      <td>246.000000</td>\n",
       "    </tr>\n",
       "    <tr>\n",
       "      <th>mean</th>\n",
       "      <td>0.443089</td>\n",
       "      <td>0.284553</td>\n",
       "      <td>0.040650</td>\n",
       "      <td>0.073171</td>\n",
       "      <td>0.260163</td>\n",
       "      <td>0.512195</td>\n",
       "      <td>0.382114</td>\n",
       "      <td>0.126016</td>\n",
       "      <td>0.333333</td>\n",
       "      <td>0.150407</td>\n",
       "      <td>0.475610</td>\n",
       "      <td>0.491870</td>\n",
       "    </tr>\n",
       "    <tr>\n",
       "      <th>std</th>\n",
       "      <td>0.497763</td>\n",
       "      <td>0.452121</td>\n",
       "      <td>0.197882</td>\n",
       "      <td>0.260947</td>\n",
       "      <td>0.439618</td>\n",
       "      <td>0.500870</td>\n",
       "      <td>0.486895</td>\n",
       "      <td>0.332544</td>\n",
       "      <td>0.472366</td>\n",
       "      <td>0.358198</td>\n",
       "      <td>0.500423</td>\n",
       "      <td>0.500953</td>\n",
       "    </tr>\n",
       "    <tr>\n",
       "      <th>min</th>\n",
       "      <td>0.000000</td>\n",
       "      <td>0.000000</td>\n",
       "      <td>0.000000</td>\n",
       "      <td>0.000000</td>\n",
       "      <td>0.000000</td>\n",
       "      <td>0.000000</td>\n",
       "      <td>0.000000</td>\n",
       "      <td>0.000000</td>\n",
       "      <td>0.000000</td>\n",
       "      <td>0.000000</td>\n",
       "      <td>0.000000</td>\n",
       "      <td>0.000000</td>\n",
       "    </tr>\n",
       "    <tr>\n",
       "      <th>25%</th>\n",
       "      <td>0.000000</td>\n",
       "      <td>0.000000</td>\n",
       "      <td>0.000000</td>\n",
       "      <td>0.000000</td>\n",
       "      <td>0.000000</td>\n",
       "      <td>0.000000</td>\n",
       "      <td>0.000000</td>\n",
       "      <td>0.000000</td>\n",
       "      <td>0.000000</td>\n",
       "      <td>0.000000</td>\n",
       "      <td>0.000000</td>\n",
       "      <td>0.000000</td>\n",
       "    </tr>\n",
       "    <tr>\n",
       "      <th>50%</th>\n",
       "      <td>0.000000</td>\n",
       "      <td>0.000000</td>\n",
       "      <td>0.000000</td>\n",
       "      <td>0.000000</td>\n",
       "      <td>0.000000</td>\n",
       "      <td>1.000000</td>\n",
       "      <td>0.000000</td>\n",
       "      <td>0.000000</td>\n",
       "      <td>0.000000</td>\n",
       "      <td>0.000000</td>\n",
       "      <td>0.000000</td>\n",
       "      <td>0.000000</td>\n",
       "    </tr>\n",
       "    <tr>\n",
       "      <th>75%</th>\n",
       "      <td>1.000000</td>\n",
       "      <td>1.000000</td>\n",
       "      <td>0.000000</td>\n",
       "      <td>0.000000</td>\n",
       "      <td>1.000000</td>\n",
       "      <td>1.000000</td>\n",
       "      <td>1.000000</td>\n",
       "      <td>0.000000</td>\n",
       "      <td>1.000000</td>\n",
       "      <td>0.000000</td>\n",
       "      <td>1.000000</td>\n",
       "      <td>1.000000</td>\n",
       "    </tr>\n",
       "    <tr>\n",
       "      <th>max</th>\n",
       "      <td>1.000000</td>\n",
       "      <td>1.000000</td>\n",
       "      <td>1.000000</td>\n",
       "      <td>1.000000</td>\n",
       "      <td>1.000000</td>\n",
       "      <td>1.000000</td>\n",
       "      <td>1.000000</td>\n",
       "      <td>1.000000</td>\n",
       "      <td>1.000000</td>\n",
       "      <td>1.000000</td>\n",
       "      <td>1.000000</td>\n",
       "      <td>1.000000</td>\n",
       "    </tr>\n",
       "  </tbody>\n",
       "</table>\n",
       "</div>"
      ],
      "text/plain": [
       "            oneNI       twoNI       allNI      oneLNI      twoLNI      allLNI  \\\n",
       "count  246.000000  246.000000  246.000000  246.000000  246.000000  246.000000   \n",
       "mean     0.443089    0.284553    0.040650    0.073171    0.260163    0.512195   \n",
       "std      0.497763    0.452121    0.197882    0.260947    0.439618    0.500870   \n",
       "min      0.000000    0.000000    0.000000    0.000000    0.000000    0.000000   \n",
       "25%      0.000000    0.000000    0.000000    0.000000    0.000000    0.000000   \n",
       "50%      0.000000    0.000000    0.000000    0.000000    0.000000    1.000000   \n",
       "75%      1.000000    1.000000    0.000000    0.000000    1.000000    1.000000   \n",
       "max      1.000000    1.000000    1.000000    1.000000    1.000000    1.000000   \n",
       "\n",
       "          oneTWBR     twoTWBR      oneACB      twoACB      RealNI     RealLNI  \n",
       "count  246.000000  246.000000  246.000000  246.000000  246.000000  246.000000  \n",
       "mean     0.382114    0.126016    0.333333    0.150407    0.475610    0.491870  \n",
       "std      0.486895    0.332544    0.472366    0.358198    0.500423    0.500953  \n",
       "min      0.000000    0.000000    0.000000    0.000000    0.000000    0.000000  \n",
       "25%      0.000000    0.000000    0.000000    0.000000    0.000000    0.000000  \n",
       "50%      0.000000    0.000000    0.000000    0.000000    0.000000    0.000000  \n",
       "75%      1.000000    0.000000    1.000000    0.000000    1.000000    1.000000  \n",
       "max      1.000000    1.000000    1.000000    1.000000    1.000000    1.000000  "
      ]
     },
     "execution_count": 104,
     "metadata": {},
     "output_type": "execute_result"
    }
   ],
   "source": [
    "rawdata = dataForRegression(GLData)\n",
    "rawdata.describe()"
   ]
  },
  {
   "cell_type": "code",
   "execution_count": 94,
   "metadata": {},
   "outputs": [],
   "source": [
    "from sklearn.model_selection import train_test_split\n",
    "from sklearn.metrics import mean_squared_error, r2_score\n",
    "from sklearn import linear_model"
   ]
  },
  {
   "cell_type": "code",
   "execution_count": 105,
   "metadata": {},
   "outputs": [],
   "source": [
    "X = rawdata.iloc[:,0:-2]\n",
    "y1 = rawdata['RealNI']\n",
    "y2 = rawdata['RealLNI']"
   ]
  },
  {
   "cell_type": "code",
   "execution_count": 127,
   "metadata": {},
   "outputs": [
    {
     "name": "stdout",
     "output_type": "stream",
     "text": [
      "Coefficients: \n",
      " [ 0.59110569  0.96647452  1.24730877 -0.19496872 -0.05729674 -0.05229652\n",
      "  0.05292476  0.07882126  0.1635234   0.35468832]\n",
      "Mean squared error: 0.17\n",
      "Coefficient of determination: 0.31\n"
     ]
    }
   ],
   "source": [
    "X1_train, X1_test, y1_train, y1_test = train_test_split(X, y1, test_size=0.4)\n",
    "\n",
    "# Create linear regression object\n",
    "regr = linear_model.LinearRegression()\n",
    "# Train the model using the training sets\n",
    "regr.fit(X1_train, y1_train)\n",
    "# Make predictions using the testing set\n",
    "y1_pred = regr.predict(X1_test)\n",
    "# The coefficients\n",
    "print('Coefficients: \\n', regr.coef_)\n",
    "# The mean squared error\n",
    "print('Mean squared error: %.2f'\n",
    "      % mean_squared_error(y1_test, y1_pred))\n",
    "# The coefficient of determination: 1 is perfect prediction\n",
    "print('Coefficient of determination: %.2f'\n",
    "      % r2_score(y1_test, y1_pred))"
   ]
  },
  {
   "cell_type": "code",
   "execution_count": 153,
   "metadata": {},
   "outputs": [
    {
     "name": "stdout",
     "output_type": "stream",
     "text": [
      "Coefficients: \n",
      " [-0.02925053 -0.0799782  -0.24832478  0.0250185   0.20966351  0.88689629\n",
      "  0.04562312  0.07027637 -0.03475439  0.01016417]\n",
      "Mean squared error: 0.11\n",
      "Coefficient of determination: 0.54\n"
     ]
    }
   ],
   "source": [
    "X2_train, X2_test, y2_train, y2_test = train_test_split(X, y2, test_size=0.2)#, random_state=0)\n",
    "\n",
    "# Create linear regression object\n",
    "regr2 = linear_model.LinearRegression()\n",
    "# Train the model using the training sets\n",
    "regr2.fit(X2_train, y2_train)\n",
    "# Make predictions using the testing set\n",
    "y2_pred = regr2.predict(X2_test)\n",
    "# The coefficients\n",
    "print('Coefficients: \\n', regr2.coef_)\n",
    "# The mean squared error\n",
    "print('Mean squared error: %.2f'\n",
    "      % mean_squared_error(y2_test, y2_pred))\n",
    "# The coefficient of determination: 1 is perfect prediction\n",
    "print('Coefficient of determination: %.2f'\n",
    "      % r2_score(y2_test, y2_pred))"
   ]
  },
  {
   "cell_type": "code",
   "execution_count": 144,
   "metadata": {},
   "outputs": [
    {
     "data": {
      "text/plain": [
       "Index(['oneNI', 'twoNI', 'allNI', 'oneLNI', 'twoLNI', 'allLNI', 'oneTWBR',\n",
       "       'twoTWBR', 'oneACB', 'twoACB', 'RealNI', 'RealLNI'],\n",
       "      dtype='object')"
      ]
     },
     "execution_count": 144,
     "metadata": {},
     "output_type": "execute_result"
    }
   ],
   "source": [
    "rawdata.columns"
   ]
  },
  {
   "cell_type": "markdown",
   "metadata": {},
   "source": [
    "### NBS and end of games"
   ]
  },
  {
   "cell_type": "code",
   "execution_count": 82,
   "metadata": {},
   "outputs": [],
   "source": [
    "def Nash_endof_games(data):\n",
    "    def builder(x):\n",
    "        return pd.Series([(x['iscb0']==1).sum()>=2,(x['Ui>Uprev']==1).all(),(x['Ui>Uprev']==1).any(), (x['Uloci>Ulocprev']==1).all(),(x['Uloci>Ulocprev']==1).any(), \n",
    "                          (x['Unew>Uprev']==1).any(), (x['Ulocnew>Ulocprev']==1).any()]) * 1\n",
    "    \n",
    "    def columnagg(c):\n",
    "        last_step = c.index[-1]\n",
    "        t = c[c > 0]\n",
    "        if t.size > 0:\n",
    "            if t.size > 1 and t.index[-1] == last_step:\n",
    "                return t.index[-2]\n",
    "            return t.index[-1]\n",
    "        return 1000\n",
    "    \n",
    "    dec = data[data.Time>2]\n",
    "    sits = dec.groupby(['Game','Time'])\n",
    "    \n",
    "    results = sits.apply(builder)\n",
    "    results.columns = ['Two ACB','All NI', 'One NI', 'All LNI', 'One LNI', 'Real NI', 'Real LNI']\n",
    "    \n",
    "    res2 = results.reset_index().set_index('Time').groupby('Game')\n",
    "    \n",
    "    res3 = res2.agg(columnagg)\n",
    "    res3['length'] = res2.apply(lambda x: x.index[-1])\n",
    "    return res3"
   ]
  },
  {
   "cell_type": "code",
   "execution_count": 83,
   "metadata": {},
   "outputs": [
    {
     "data": {
      "text/html": [
       "<div>\n",
       "<style scoped>\n",
       "    .dataframe tbody tr th:only-of-type {\n",
       "        vertical-align: middle;\n",
       "    }\n",
       "\n",
       "    .dataframe tbody tr th {\n",
       "        vertical-align: top;\n",
       "    }\n",
       "\n",
       "    .dataframe thead th {\n",
       "        text-align: right;\n",
       "    }\n",
       "</style>\n",
       "<table border=\"1\" class=\"dataframe\">\n",
       "  <thead>\n",
       "    <tr style=\"text-align: right;\">\n",
       "      <th></th>\n",
       "      <th>Two ACB</th>\n",
       "      <th>All NI</th>\n",
       "      <th>One NI</th>\n",
       "      <th>All LNI</th>\n",
       "      <th>One LNI</th>\n",
       "      <th>Real NI</th>\n",
       "      <th>Real LNI</th>\n",
       "      <th>length</th>\n",
       "    </tr>\n",
       "    <tr>\n",
       "      <th>Game</th>\n",
       "      <th></th>\n",
       "      <th></th>\n",
       "      <th></th>\n",
       "      <th></th>\n",
       "      <th></th>\n",
       "      <th></th>\n",
       "      <th></th>\n",
       "      <th></th>\n",
       "    </tr>\n",
       "  </thead>\n",
       "  <tbody>\n",
       "    <tr>\n",
       "      <th>48</th>\n",
       "      <td>20</td>\n",
       "      <td>1000</td>\n",
       "      <td>20</td>\n",
       "      <td>19</td>\n",
       "      <td>19</td>\n",
       "      <td>20</td>\n",
       "      <td>19</td>\n",
       "      <td>21</td>\n",
       "    </tr>\n",
       "    <tr>\n",
       "      <th>49</th>\n",
       "      <td>27</td>\n",
       "      <td>14</td>\n",
       "      <td>27</td>\n",
       "      <td>27</td>\n",
       "      <td>27</td>\n",
       "      <td>27</td>\n",
       "      <td>27</td>\n",
       "      <td>28</td>\n",
       "    </tr>\n",
       "    <tr>\n",
       "      <th>51</th>\n",
       "      <td>44</td>\n",
       "      <td>19</td>\n",
       "      <td>42</td>\n",
       "      <td>44</td>\n",
       "      <td>44</td>\n",
       "      <td>41</td>\n",
       "      <td>44</td>\n",
       "      <td>45</td>\n",
       "    </tr>\n",
       "    <tr>\n",
       "      <th>68</th>\n",
       "      <td>34</td>\n",
       "      <td>21</td>\n",
       "      <td>39</td>\n",
       "      <td>34</td>\n",
       "      <td>37</td>\n",
       "      <td>39</td>\n",
       "      <td>34</td>\n",
       "      <td>40</td>\n",
       "    </tr>\n",
       "    <tr>\n",
       "      <th>69</th>\n",
       "      <td>39</td>\n",
       "      <td>26</td>\n",
       "      <td>30</td>\n",
       "      <td>35</td>\n",
       "      <td>35</td>\n",
       "      <td>27</td>\n",
       "      <td>35</td>\n",
       "      <td>40</td>\n",
       "    </tr>\n",
       "    <tr>\n",
       "      <th>72</th>\n",
       "      <td>23</td>\n",
       "      <td>1000</td>\n",
       "      <td>23</td>\n",
       "      <td>23</td>\n",
       "      <td>23</td>\n",
       "      <td>23</td>\n",
       "      <td>23</td>\n",
       "      <td>24</td>\n",
       "    </tr>\n",
       "    <tr>\n",
       "      <th>83</th>\n",
       "      <td>1000</td>\n",
       "      <td>14</td>\n",
       "      <td>19</td>\n",
       "      <td>19</td>\n",
       "      <td>19</td>\n",
       "      <td>18</td>\n",
       "      <td>19</td>\n",
       "      <td>20</td>\n",
       "    </tr>\n",
       "    <tr>\n",
       "      <th>84</th>\n",
       "      <td>17</td>\n",
       "      <td>1000</td>\n",
       "      <td>19</td>\n",
       "      <td>17</td>\n",
       "      <td>19</td>\n",
       "      <td>19</td>\n",
       "      <td>17</td>\n",
       "      <td>20</td>\n",
       "    </tr>\n",
       "    <tr>\n",
       "      <th>85</th>\n",
       "      <td>1000</td>\n",
       "      <td>6</td>\n",
       "      <td>19</td>\n",
       "      <td>18</td>\n",
       "      <td>19</td>\n",
       "      <td>19</td>\n",
       "      <td>18</td>\n",
       "      <td>20</td>\n",
       "    </tr>\n",
       "    <tr>\n",
       "      <th>107</th>\n",
       "      <td>8</td>\n",
       "      <td>1000</td>\n",
       "      <td>7</td>\n",
       "      <td>7</td>\n",
       "      <td>7</td>\n",
       "      <td>7</td>\n",
       "      <td>7</td>\n",
       "      <td>8</td>\n",
       "    </tr>\n",
       "  </tbody>\n",
       "</table>\n",
       "</div>"
      ],
      "text/plain": [
       "      Two ACB  All NI  One NI  All LNI  One LNI  Real NI  Real LNI  length\n",
       "Game                                                                      \n",
       "48         20    1000      20       19       19       20        19      21\n",
       "49         27      14      27       27       27       27        27      28\n",
       "51         44      19      42       44       44       41        44      45\n",
       "68         34      21      39       34       37       39        34      40\n",
       "69         39      26      30       35       35       27        35      40\n",
       "72         23    1000      23       23       23       23        23      24\n",
       "83       1000      14      19       19       19       18        19      20\n",
       "84         17    1000      19       17       19       19        17      20\n",
       "85       1000       6      19       18       19       19        18      20\n",
       "107         8    1000       7        7        7        7         7       8"
      ]
     },
     "execution_count": 83,
     "metadata": {},
     "output_type": "execute_result"
    }
   ],
   "source": [
    "tbl = Nash_endof_games(GLData)\n",
    "tbl"
   ]
  },
  {
   "cell_type": "code",
   "execution_count": 84,
   "metadata": {},
   "outputs": [],
   "source": [
    "tbl.to_csv('GLNash_Nash_endof_games.csv',sep=';')"
   ]
  },
  {
   "cell_type": "code",
   "execution_count": 58,
   "metadata": {
    "tags": []
   },
   "outputs": [
    {
     "data": {
      "text/html": [
       "<div>\n",
       "<style scoped>\n",
       "    .dataframe tbody tr th:only-of-type {\n",
       "        vertical-align: middle;\n",
       "    }\n",
       "\n",
       "    .dataframe tbody tr th {\n",
       "        vertical-align: top;\n",
       "    }\n",
       "\n",
       "    .dataframe thead th {\n",
       "        text-align: right;\n",
       "    }\n",
       "</style>\n",
       "<table border=\"1\" class=\"dataframe\">\n",
       "  <thead>\n",
       "    <tr style=\"text-align: right;\">\n",
       "      <th></th>\n",
       "      <th>Unew&gt;Uprev</th>\n",
       "      <th>Ui&gt;Uprev</th>\n",
       "      <th>Ulocnew&gt;Ulocprev</th>\n",
       "      <th>Uloci&gt;Ulocprev</th>\n",
       "    </tr>\n",
       "  </thead>\n",
       "  <tbody>\n",
       "    <tr>\n",
       "      <th>648</th>\n",
       "      <td>0.0</td>\n",
       "      <td>1.0</td>\n",
       "      <td>1.0</td>\n",
       "      <td>1.0</td>\n",
       "    </tr>\n",
       "    <tr>\n",
       "      <th>649</th>\n",
       "      <td>0.0</td>\n",
       "      <td>1.0</td>\n",
       "      <td>1.0</td>\n",
       "      <td>1.0</td>\n",
       "    </tr>\n",
       "    <tr>\n",
       "      <th>650</th>\n",
       "      <td>0.0</td>\n",
       "      <td>0.0</td>\n",
       "      <td>1.0</td>\n",
       "      <td>1.0</td>\n",
       "    </tr>\n",
       "    <tr>\n",
       "      <th>651</th>\n",
       "      <td>1.0</td>\n",
       "      <td>1.0</td>\n",
       "      <td>1.0</td>\n",
       "      <td>1.0</td>\n",
       "    </tr>\n",
       "    <tr>\n",
       "      <th>652</th>\n",
       "      <td>1.0</td>\n",
       "      <td>0.0</td>\n",
       "      <td>1.0</td>\n",
       "      <td>1.0</td>\n",
       "    </tr>\n",
       "    <tr>\n",
       "      <th>653</th>\n",
       "      <td>1.0</td>\n",
       "      <td>1.0</td>\n",
       "      <td>1.0</td>\n",
       "      <td>1.0</td>\n",
       "    </tr>\n",
       "    <tr>\n",
       "      <th>708</th>\n",
       "      <td>1.0</td>\n",
       "      <td>1.0</td>\n",
       "      <td>0.0</td>\n",
       "      <td>0.0</td>\n",
       "    </tr>\n",
       "    <tr>\n",
       "      <th>709</th>\n",
       "      <td>1.0</td>\n",
       "      <td>0.0</td>\n",
       "      <td>0.0</td>\n",
       "      <td>1.0</td>\n",
       "    </tr>\n",
       "    <tr>\n",
       "      <th>710</th>\n",
       "      <td>1.0</td>\n",
       "      <td>1.0</td>\n",
       "      <td>0.0</td>\n",
       "      <td>1.0</td>\n",
       "    </tr>\n",
       "    <tr>\n",
       "      <th>711</th>\n",
       "      <td>1.0</td>\n",
       "      <td>0.0</td>\n",
       "      <td>1.0</td>\n",
       "      <td>1.0</td>\n",
       "    </tr>\n",
       "    <tr>\n",
       "      <th>712</th>\n",
       "      <td>1.0</td>\n",
       "      <td>0.0</td>\n",
       "      <td>1.0</td>\n",
       "      <td>1.0</td>\n",
       "    </tr>\n",
       "    <tr>\n",
       "      <th>713</th>\n",
       "      <td>1.0</td>\n",
       "      <td>1.0</td>\n",
       "      <td>1.0</td>\n",
       "      <td>1.0</td>\n",
       "    </tr>\n",
       "    <tr>\n",
       "      <th>768</th>\n",
       "      <td>1.0</td>\n",
       "      <td>1.0</td>\n",
       "      <td>0.0</td>\n",
       "      <td>0.0</td>\n",
       "    </tr>\n",
       "    <tr>\n",
       "      <th>769</th>\n",
       "      <td>1.0</td>\n",
       "      <td>1.0</td>\n",
       "      <td>0.0</td>\n",
       "      <td>1.0</td>\n",
       "    </tr>\n",
       "    <tr>\n",
       "      <th>770</th>\n",
       "      <td>1.0</td>\n",
       "      <td>0.0</td>\n",
       "      <td>0.0</td>\n",
       "      <td>1.0</td>\n",
       "    </tr>\n",
       "    <tr>\n",
       "      <th>771</th>\n",
       "      <td>1.0</td>\n",
       "      <td>0.0</td>\n",
       "      <td>1.0</td>\n",
       "      <td>1.0</td>\n",
       "    </tr>\n",
       "    <tr>\n",
       "      <th>772</th>\n",
       "      <td>1.0</td>\n",
       "      <td>0.0</td>\n",
       "      <td>1.0</td>\n",
       "      <td>1.0</td>\n",
       "    </tr>\n",
       "    <tr>\n",
       "      <th>773</th>\n",
       "      <td>1.0</td>\n",
       "      <td>1.0</td>\n",
       "      <td>1.0</td>\n",
       "      <td>1.0</td>\n",
       "    </tr>\n",
       "  </tbody>\n",
       "</table>\n",
       "</div>"
      ],
      "text/plain": [
       "     Unew>Uprev  Ui>Uprev  Ulocnew>Ulocprev  Uloci>Ulocprev\n",
       "648         0.0       1.0               1.0             1.0\n",
       "649         0.0       1.0               1.0             1.0\n",
       "650         0.0       0.0               1.0             1.0\n",
       "651         1.0       1.0               1.0             1.0\n",
       "652         1.0       0.0               1.0             1.0\n",
       "653         1.0       1.0               1.0             1.0\n",
       "708         1.0       1.0               0.0             0.0\n",
       "709         1.0       0.0               0.0             1.0\n",
       "710         1.0       1.0               0.0             1.0\n",
       "711         1.0       0.0               1.0             1.0\n",
       "712         1.0       0.0               1.0             1.0\n",
       "713         1.0       1.0               1.0             1.0\n",
       "768         1.0       1.0               0.0             0.0\n",
       "769         1.0       1.0               0.0             1.0\n",
       "770         1.0       0.0               0.0             1.0\n",
       "771         1.0       0.0               1.0             1.0\n",
       "772         1.0       0.0               1.0             1.0\n",
       "773         1.0       1.0               1.0             1.0"
      ]
     },
     "execution_count": 58,
     "metadata": {},
     "output_type": "execute_result"
    }
   ],
   "source": [
    "GLData[GLData.Game.isin([83,84,85])].groupby('Game').tail(6)[['Unew>Uprev','Ui>Uprev','Ulocnew>Ulocprev','Uloci>Ulocprev']]"
   ]
  },
  {
   "cell_type": "markdown",
   "metadata": {
    "tags": []
   },
   "source": [
    "# ADMM"
   ]
  },
  {
   "cell_type": "raw",
   "metadata": {},
   "source": [
    " - 44 взломана - ушла в минус по выигрышам\n",
    " + 45 норм\n",
    " + 46 норм\n",
    " - 47 слишком коротка - два шага\n",
    " -+ 63 подозрительная - играл только один, остальные 38.3 - взять только одного?\n",
    " - 64 короткая - два шага\n",
    " + 65 норм (в целом) - третий взломал на последних шагах\n",
    " - 66 норм? - три шага\n",
    " + 67 ушли в минус (только в конце второй прыгнул) - второй пытался взломать\n",
    " - 78 ушли в минус - коллективный взлом\n",
    " - 79 ненорм - коллективный взлом\n",
    " + 80 норм\n",
    " + 81 норм\n",
    " + 82 норм (только в конце второй прыгнул)- второй взломал в конце"
   ]
  },
  {
   "cell_type": "code",
   "execution_count": 2,
   "metadata": {},
   "outputs": [
    {
     "data": {
      "text/plain": [
       "(477, 18)"
      ]
     },
     "execution_count": 2,
     "metadata": {},
     "output_type": "execute_result"
    }
   ],
   "source": [
    "ADMMGoodGames = [45, 46, 65, 67, 80, 81, 82]\n",
    "ADMMData = Alldata[Alldata.Game.isin(ADMMGoodGames)]\n",
    "\n",
    "ADMMNonConsensusGames = [65, 67, 82]\n",
    "ADMMConsensusGames = [45,46,80,81]\n",
    "\n",
    "ADMMData.shape"
   ]
  },
  {
   "cell_type": "code",
   "execution_count": 3,
   "metadata": {},
   "outputs": [],
   "source": [
    "ADMMMechanism = ADMMMechanismClass(game,{'beta':0.0005},\n",
    "                                   lambda s,g: s, lambda s,g,m: s, lambda df: s\n",
    "                                  )"
   ]
  },
  {
   "cell_type": "code",
   "execution_count": 4,
   "metadata": {},
   "outputs": [
    {
     "data": {
      "text/plain": [
       "Index(['Game', 'Time', 'Subject', 'Group', 'GrSubject', 'Type', 'Gain',\n",
       "       'Penalty', 'x', 's1', 's2', 's3', 'AcceptAdvice', 'CalcCount',\n",
       "       'CalcAdviceCount', 'UseHelp', 'Unnamed: 16', 'Util'],\n",
       "      dtype='object')"
      ]
     },
     "execution_count": 4,
     "metadata": {},
     "output_type": "execute_result"
    }
   ],
   "source": [
    "ADMMData.columns"
   ]
  },
  {
   "cell_type": "markdown",
   "metadata": {
    "hidden": true,
    "tags": []
   },
   "source": [
    "## Добавляем столбец является ли шаг константным поведением"
   ]
  },
  {
   "cell_type": "code",
   "execution_count": 19,
   "metadata": {
    "hidden": true
   },
   "outputs": [],
   "source": [
    "# Считает несколько секунд\n",
    "cb = getCBwithEps(ADMMData,eps=0)\n",
    "ADMMData = DataMarkedCB(ADMMData,cb,'iscb0')\n",
    "cb = getCBwithEps(ADMMData,eps=0.51)\n",
    "ADMMData = DataMarkedCB(ADMMData,cb,'iscb0.5')\n",
    "cb = getCBwithEps(ADMMData,eps=1.01)\n",
    "ADMMData = DataMarkedCB(ADMMData,cb,'iscb1')\n",
    "del cb"
   ]
  },
  {
   "cell_type": "code",
   "execution_count": 20,
   "metadata": {},
   "outputs": [
    {
     "data": {
      "text/html": [
       "<div>\n",
       "<style scoped>\n",
       "    .dataframe tbody tr th:only-of-type {\n",
       "        vertical-align: middle;\n",
       "    }\n",
       "\n",
       "    .dataframe tbody tr th {\n",
       "        vertical-align: top;\n",
       "    }\n",
       "\n",
       "    .dataframe thead th {\n",
       "        text-align: right;\n",
       "    }\n",
       "</style>\n",
       "<table border=\"1\" class=\"dataframe\">\n",
       "  <thead>\n",
       "    <tr style=\"text-align: right;\">\n",
       "      <th></th>\n",
       "      <th>Game</th>\n",
       "      <th>Time</th>\n",
       "      <th>Subject</th>\n",
       "      <th>Group</th>\n",
       "      <th>GrSubject</th>\n",
       "      <th>Type</th>\n",
       "      <th>Gain</th>\n",
       "      <th>Penalty</th>\n",
       "      <th>x</th>\n",
       "      <th>s1</th>\n",
       "      <th>...</th>\n",
       "      <th>s3</th>\n",
       "      <th>AcceptAdvice</th>\n",
       "      <th>CalcCount</th>\n",
       "      <th>CalcAdviceCount</th>\n",
       "      <th>UseHelp</th>\n",
       "      <th>Unnamed: 16</th>\n",
       "      <th>Util</th>\n",
       "      <th>iscb0</th>\n",
       "      <th>iscb0.5</th>\n",
       "      <th>iscb1</th>\n",
       "    </tr>\n",
       "  </thead>\n",
       "  <tbody>\n",
       "    <tr>\n",
       "      <th>3053</th>\n",
       "      <td>45</td>\n",
       "      <td>1</td>\n",
       "      <td>6</td>\n",
       "      <td>2</td>\n",
       "      <td>1</td>\n",
       "      <td>1</td>\n",
       "      <td>6.262846</td>\n",
       "      <td>0.006125</td>\n",
       "      <td>38.3</td>\n",
       "      <td>NaN</td>\n",
       "      <td>...</td>\n",
       "      <td>NaN</td>\n",
       "      <td>NaN</td>\n",
       "      <td>0.0</td>\n",
       "      <td>NaN</td>\n",
       "      <td>NaN</td>\n",
       "      <td>NaN</td>\n",
       "      <td>6.268971</td>\n",
       "      <td>0.0</td>\n",
       "      <td>0.0</td>\n",
       "      <td>0.0</td>\n",
       "    </tr>\n",
       "    <tr>\n",
       "      <th>3052</th>\n",
       "      <td>45</td>\n",
       "      <td>1</td>\n",
       "      <td>4</td>\n",
       "      <td>2</td>\n",
       "      <td>2</td>\n",
       "      <td>9</td>\n",
       "      <td>7.514953</td>\n",
       "      <td>0.100820</td>\n",
       "      <td>49.0</td>\n",
       "      <td>NaN</td>\n",
       "      <td>...</td>\n",
       "      <td>NaN</td>\n",
       "      <td>NaN</td>\n",
       "      <td>0.0</td>\n",
       "      <td>NaN</td>\n",
       "      <td>NaN</td>\n",
       "      <td>NaN</td>\n",
       "      <td>7.615773</td>\n",
       "      <td>0.0</td>\n",
       "      <td>0.0</td>\n",
       "      <td>0.0</td>\n",
       "    </tr>\n",
       "    <tr>\n",
       "      <th>3051</th>\n",
       "      <td>45</td>\n",
       "      <td>1</td>\n",
       "      <td>5</td>\n",
       "      <td>2</td>\n",
       "      <td>3</td>\n",
       "      <td>25</td>\n",
       "      <td>7.950005</td>\n",
       "      <td>0.006125</td>\n",
       "      <td>38.3</td>\n",
       "      <td>NaN</td>\n",
       "      <td>...</td>\n",
       "      <td>NaN</td>\n",
       "      <td>NaN</td>\n",
       "      <td>0.0</td>\n",
       "      <td>NaN</td>\n",
       "      <td>NaN</td>\n",
       "      <td>NaN</td>\n",
       "      <td>7.956130</td>\n",
       "      <td>0.0</td>\n",
       "      <td>0.0</td>\n",
       "      <td>0.0</td>\n",
       "    </tr>\n",
       "    <tr>\n",
       "      <th>3055</th>\n",
       "      <td>45</td>\n",
       "      <td>2</td>\n",
       "      <td>6</td>\n",
       "      <td>2</td>\n",
       "      <td>1</td>\n",
       "      <td>1</td>\n",
       "      <td>6.364697</td>\n",
       "      <td>0.038427</td>\n",
       "      <td>40.0</td>\n",
       "      <td>NaN</td>\n",
       "      <td>...</td>\n",
       "      <td>NaN</td>\n",
       "      <td>NaN</td>\n",
       "      <td>1.0</td>\n",
       "      <td>NaN</td>\n",
       "      <td>NaN</td>\n",
       "      <td>NaN</td>\n",
       "      <td>6.403124</td>\n",
       "      <td>0.0</td>\n",
       "      <td>0.0</td>\n",
       "      <td>0.0</td>\n",
       "    </tr>\n",
       "    <tr>\n",
       "      <th>3054</th>\n",
       "      <td>45</td>\n",
       "      <td>2</td>\n",
       "      <td>4</td>\n",
       "      <td>2</td>\n",
       "      <td>2</td>\n",
       "      <td>9</td>\n",
       "      <td>7.407930</td>\n",
       "      <td>0.008269</td>\n",
       "      <td>46.0</td>\n",
       "      <td>NaN</td>\n",
       "      <td>...</td>\n",
       "      <td>NaN</td>\n",
       "      <td>NaN</td>\n",
       "      <td>2.0</td>\n",
       "      <td>NaN</td>\n",
       "      <td>NaN</td>\n",
       "      <td>NaN</td>\n",
       "      <td>7.416198</td>\n",
       "      <td>0.0</td>\n",
       "      <td>0.0</td>\n",
       "      <td>0.0</td>\n",
       "    </tr>\n",
       "    <tr>\n",
       "      <th>...</th>\n",
       "      <td>...</td>\n",
       "      <td>...</td>\n",
       "      <td>...</td>\n",
       "      <td>...</td>\n",
       "      <td>...</td>\n",
       "      <td>...</td>\n",
       "      <td>...</td>\n",
       "      <td>...</td>\n",
       "      <td>...</td>\n",
       "      <td>...</td>\n",
       "      <td>...</td>\n",
       "      <td>...</td>\n",
       "      <td>...</td>\n",
       "      <td>...</td>\n",
       "      <td>...</td>\n",
       "      <td>...</td>\n",
       "      <td>...</td>\n",
       "      <td>...</td>\n",
       "      <td>...</td>\n",
       "      <td>...</td>\n",
       "      <td>...</td>\n",
       "    </tr>\n",
       "    <tr>\n",
       "      <th>5406</th>\n",
       "      <td>82</td>\n",
       "      <td>19</td>\n",
       "      <td>7</td>\n",
       "      <td>3</td>\n",
       "      <td>2</td>\n",
       "      <td>9</td>\n",
       "      <td>-518.156042</td>\n",
       "      <td>549.920802</td>\n",
       "      <td>1000.0</td>\n",
       "      <td>NaN</td>\n",
       "      <td>...</td>\n",
       "      <td>NaN</td>\n",
       "      <td>NaN</td>\n",
       "      <td>2.0</td>\n",
       "      <td>NaN</td>\n",
       "      <td>1.0</td>\n",
       "      <td>NaN</td>\n",
       "      <td>31.764760</td>\n",
       "      <td>0.0</td>\n",
       "      <td>0.0</td>\n",
       "      <td>0.0</td>\n",
       "    </tr>\n",
       "    <tr>\n",
       "      <th>5407</th>\n",
       "      <td>82</td>\n",
       "      <td>19</td>\n",
       "      <td>8</td>\n",
       "      <td>3</td>\n",
       "      <td>3</td>\n",
       "      <td>25</td>\n",
       "      <td>2.619110</td>\n",
       "      <td>4.089094</td>\n",
       "      <td>20.0</td>\n",
       "      <td>NaN</td>\n",
       "      <td>...</td>\n",
       "      <td>NaN</td>\n",
       "      <td>NaN</td>\n",
       "      <td>13.0</td>\n",
       "      <td>NaN</td>\n",
       "      <td>1.0</td>\n",
       "      <td>NaN</td>\n",
       "      <td>6.708204</td>\n",
       "      <td>0.0</td>\n",
       "      <td>0.0</td>\n",
       "      <td>0.0</td>\n",
       "    </tr>\n",
       "    <tr>\n",
       "      <th>5411</th>\n",
       "      <td>82</td>\n",
       "      <td>20</td>\n",
       "      <td>9</td>\n",
       "      <td>3</td>\n",
       "      <td>1</td>\n",
       "      <td>1</td>\n",
       "      <td>-262.146789</td>\n",
       "      <td>268.742242</td>\n",
       "      <td>42.5</td>\n",
       "      <td>NaN</td>\n",
       "      <td>...</td>\n",
       "      <td>NaN</td>\n",
       "      <td>NaN</td>\n",
       "      <td>0.0</td>\n",
       "      <td>NaN</td>\n",
       "      <td>1.0</td>\n",
       "      <td>NaN</td>\n",
       "      <td>6.595453</td>\n",
       "      <td>0.0</td>\n",
       "      <td>0.0</td>\n",
       "      <td>0.0</td>\n",
       "    </tr>\n",
       "    <tr>\n",
       "      <th>5409</th>\n",
       "      <td>82</td>\n",
       "      <td>20</td>\n",
       "      <td>7</td>\n",
       "      <td>3</td>\n",
       "      <td>2</td>\n",
       "      <td>9</td>\n",
       "      <td>16.837608</td>\n",
       "      <td>0.454009</td>\n",
       "      <td>290.0</td>\n",
       "      <td>NaN</td>\n",
       "      <td>...</td>\n",
       "      <td>NaN</td>\n",
       "      <td>NaN</td>\n",
       "      <td>20.0</td>\n",
       "      <td>NaN</td>\n",
       "      <td>1.0</td>\n",
       "      <td>NaN</td>\n",
       "      <td>17.291616</td>\n",
       "      <td>0.0</td>\n",
       "      <td>0.0</td>\n",
       "      <td>0.0</td>\n",
       "    </tr>\n",
       "    <tr>\n",
       "      <th>5410</th>\n",
       "      <td>82</td>\n",
       "      <td>20</td>\n",
       "      <td>8</td>\n",
       "      <td>3</td>\n",
       "      <td>3</td>\n",
       "      <td>25</td>\n",
       "      <td>-267.190472</td>\n",
       "      <td>273.898676</td>\n",
       "      <td>20.0</td>\n",
       "      <td>NaN</td>\n",
       "      <td>...</td>\n",
       "      <td>NaN</td>\n",
       "      <td>NaN</td>\n",
       "      <td>0.0</td>\n",
       "      <td>NaN</td>\n",
       "      <td>1.0</td>\n",
       "      <td>NaN</td>\n",
       "      <td>6.708204</td>\n",
       "      <td>1.0</td>\n",
       "      <td>1.0</td>\n",
       "      <td>1.0</td>\n",
       "    </tr>\n",
       "  </tbody>\n",
       "</table>\n",
       "<p>477 rows × 21 columns</p>\n",
       "</div>"
      ],
      "text/plain": [
       "      Game  Time  Subject  Group  GrSubject  Type        Gain     Penalty  \\\n",
       "3053    45     1        6      2          1     1    6.262846    0.006125   \n",
       "3052    45     1        4      2          2     9    7.514953    0.100820   \n",
       "3051    45     1        5      2          3    25    7.950005    0.006125   \n",
       "3055    45     2        6      2          1     1    6.364697    0.038427   \n",
       "3054    45     2        4      2          2     9    7.407930    0.008269   \n",
       "...    ...   ...      ...    ...        ...   ...         ...         ...   \n",
       "5406    82    19        7      3          2     9 -518.156042  549.920802   \n",
       "5407    82    19        8      3          3    25    2.619110    4.089094   \n",
       "5411    82    20        9      3          1     1 -262.146789  268.742242   \n",
       "5409    82    20        7      3          2     9   16.837608    0.454009   \n",
       "5410    82    20        8      3          3    25 -267.190472  273.898676   \n",
       "\n",
       "           x  s1  ...  s3  AcceptAdvice  CalcCount  CalcAdviceCount  UseHelp  \\\n",
       "3053    38.3 NaN  ... NaN           NaN        0.0              NaN      NaN   \n",
       "3052    49.0 NaN  ... NaN           NaN        0.0              NaN      NaN   \n",
       "3051    38.3 NaN  ... NaN           NaN        0.0              NaN      NaN   \n",
       "3055    40.0 NaN  ... NaN           NaN        1.0              NaN      NaN   \n",
       "3054    46.0 NaN  ... NaN           NaN        2.0              NaN      NaN   \n",
       "...      ...  ..  ...  ..           ...        ...              ...      ...   \n",
       "5406  1000.0 NaN  ... NaN           NaN        2.0              NaN      1.0   \n",
       "5407    20.0 NaN  ... NaN           NaN       13.0              NaN      1.0   \n",
       "5411    42.5 NaN  ... NaN           NaN        0.0              NaN      1.0   \n",
       "5409   290.0 NaN  ... NaN           NaN       20.0              NaN      1.0   \n",
       "5410    20.0 NaN  ... NaN           NaN        0.0              NaN      1.0   \n",
       "\n",
       "      Unnamed: 16       Util  iscb0  iscb0.5  iscb1  \n",
       "3053          NaN   6.268971    0.0      0.0    0.0  \n",
       "3052          NaN   7.615773    0.0      0.0    0.0  \n",
       "3051          NaN   7.956130    0.0      0.0    0.0  \n",
       "3055          NaN   6.403124    0.0      0.0    0.0  \n",
       "3054          NaN   7.416198    0.0      0.0    0.0  \n",
       "...           ...        ...    ...      ...    ...  \n",
       "5406          NaN  31.764760    0.0      0.0    0.0  \n",
       "5407          NaN   6.708204    0.0      0.0    0.0  \n",
       "5411          NaN   6.595453    0.0      0.0    0.0  \n",
       "5409          NaN  17.291616    0.0      0.0    0.0  \n",
       "5410          NaN   6.708204    1.0      1.0    1.0  \n",
       "\n",
       "[477 rows x 21 columns]"
      ]
     },
     "execution_count": 20,
     "metadata": {},
     "output_type": "execute_result"
    }
   ],
   "source": [
    "ADMMData"
   ]
  },
  {
   "cell_type": "code",
   "execution_count": 21,
   "metadata": {},
   "outputs": [
    {
     "data": {
      "text/plain": [
       "Index(['Game', 'Time', 'Subject', 'Group', 'GrSubject', 'Type', 'Gain',\n",
       "       'Penalty', 'x', 's1', 's2', 's3', 'AcceptAdvice', 'CalcCount',\n",
       "       'CalcAdviceCount', 'UseHelp', 'Unnamed: 16', 'Util', 'iscb0', 'iscb0.5',\n",
       "       'iscb1'],\n",
       "      dtype='object')"
      ]
     },
     "execution_count": 21,
     "metadata": {},
     "output_type": "execute_result"
    }
   ],
   "source": [
    "ADMMData.columns"
   ]
  },
  {
   "cell_type": "markdown",
   "metadata": {
    "hidden": true
   },
   "source": [
    "## Nash bargaining\n",
    "\n",
    "Fi>Fprev == Uiloc == LNI"
   ]
  },
  {
   "cell_type": "code",
   "execution_count": 22,
   "metadata": {
    "hidden": true
   },
   "outputs": [
    {
     "data": {
      "text/html": [
       "<div>\n",
       "<style scoped>\n",
       "    .dataframe tbody tr th:only-of-type {\n",
       "        vertical-align: middle;\n",
       "    }\n",
       "\n",
       "    .dataframe tbody tr th {\n",
       "        vertical-align: top;\n",
       "    }\n",
       "\n",
       "    .dataframe thead th {\n",
       "        text-align: right;\n",
       "    }\n",
       "</style>\n",
       "<table border=\"1\" class=\"dataframe\">\n",
       "  <thead>\n",
       "    <tr style=\"text-align: right;\">\n",
       "      <th></th>\n",
       "      <th>Game</th>\n",
       "      <th>Time</th>\n",
       "      <th>Subject</th>\n",
       "      <th>Group</th>\n",
       "      <th>GrSubject</th>\n",
       "      <th>Type</th>\n",
       "      <th>Gain</th>\n",
       "      <th>Penalty</th>\n",
       "      <th>x</th>\n",
       "      <th>s1</th>\n",
       "      <th>...</th>\n",
       "      <th>Unew&gt;Uprev</th>\n",
       "      <th>Fnew&gt;Fprev</th>\n",
       "      <th>Fi&gt;Fprev</th>\n",
       "      <th>Fii&gt;Fiprev</th>\n",
       "      <th>Ui</th>\n",
       "      <th>Uloci</th>\n",
       "      <th>Unew</th>\n",
       "      <th>Uprev</th>\n",
       "      <th>Ulocnew</th>\n",
       "      <th>Ulocnew&gt;Ulocprev</th>\n",
       "    </tr>\n",
       "  </thead>\n",
       "  <tbody>\n",
       "    <tr>\n",
       "      <th>0</th>\n",
       "      <td>45</td>\n",
       "      <td>1</td>\n",
       "      <td>6</td>\n",
       "      <td>2</td>\n",
       "      <td>1</td>\n",
       "      <td>1</td>\n",
       "      <td>6.262846</td>\n",
       "      <td>0.006125</td>\n",
       "      <td>38.3</td>\n",
       "      <td>NaN</td>\n",
       "      <td>...</td>\n",
       "      <td>NaN</td>\n",
       "      <td>NaN</td>\n",
       "      <td>NaN</td>\n",
       "      <td>NaN</td>\n",
       "      <td>NaN</td>\n",
       "      <td>NaN</td>\n",
       "      <td>NaN</td>\n",
       "      <td>NaN</td>\n",
       "      <td>NaN</td>\n",
       "      <td>NaN</td>\n",
       "    </tr>\n",
       "    <tr>\n",
       "      <th>1</th>\n",
       "      <td>45</td>\n",
       "      <td>1</td>\n",
       "      <td>4</td>\n",
       "      <td>2</td>\n",
       "      <td>2</td>\n",
       "      <td>9</td>\n",
       "      <td>7.514953</td>\n",
       "      <td>0.100820</td>\n",
       "      <td>49.0</td>\n",
       "      <td>NaN</td>\n",
       "      <td>...</td>\n",
       "      <td>NaN</td>\n",
       "      <td>NaN</td>\n",
       "      <td>NaN</td>\n",
       "      <td>NaN</td>\n",
       "      <td>NaN</td>\n",
       "      <td>NaN</td>\n",
       "      <td>NaN</td>\n",
       "      <td>NaN</td>\n",
       "      <td>NaN</td>\n",
       "      <td>NaN</td>\n",
       "    </tr>\n",
       "    <tr>\n",
       "      <th>2</th>\n",
       "      <td>45</td>\n",
       "      <td>1</td>\n",
       "      <td>5</td>\n",
       "      <td>2</td>\n",
       "      <td>3</td>\n",
       "      <td>25</td>\n",
       "      <td>7.950005</td>\n",
       "      <td>0.006125</td>\n",
       "      <td>38.3</td>\n",
       "      <td>NaN</td>\n",
       "      <td>...</td>\n",
       "      <td>NaN</td>\n",
       "      <td>NaN</td>\n",
       "      <td>NaN</td>\n",
       "      <td>NaN</td>\n",
       "      <td>NaN</td>\n",
       "      <td>NaN</td>\n",
       "      <td>NaN</td>\n",
       "      <td>NaN</td>\n",
       "      <td>NaN</td>\n",
       "      <td>NaN</td>\n",
       "    </tr>\n",
       "    <tr>\n",
       "      <th>3</th>\n",
       "      <td>45</td>\n",
       "      <td>2</td>\n",
       "      <td>6</td>\n",
       "      <td>2</td>\n",
       "      <td>1</td>\n",
       "      <td>1</td>\n",
       "      <td>6.364697</td>\n",
       "      <td>0.038427</td>\n",
       "      <td>40.0</td>\n",
       "      <td>NaN</td>\n",
       "      <td>...</td>\n",
       "      <td>1.0</td>\n",
       "      <td>0.0</td>\n",
       "      <td>0.0</td>\n",
       "      <td>1.0</td>\n",
       "      <td>72.189431</td>\n",
       "      <td>-1.0</td>\n",
       "      <td>71.505146</td>\n",
       "      <td>70.096548</td>\n",
       "      <td>-0.000805</td>\n",
       "      <td>-1.0</td>\n",
       "    </tr>\n",
       "    <tr>\n",
       "      <th>4</th>\n",
       "      <td>45</td>\n",
       "      <td>2</td>\n",
       "      <td>4</td>\n",
       "      <td>2</td>\n",
       "      <td>2</td>\n",
       "      <td>9</td>\n",
       "      <td>7.407930</td>\n",
       "      <td>0.008269</td>\n",
       "      <td>46.0</td>\n",
       "      <td>NaN</td>\n",
       "      <td>...</td>\n",
       "      <td>1.0</td>\n",
       "      <td>0.0</td>\n",
       "      <td>0.0</td>\n",
       "      <td>0.0</td>\n",
       "      <td>67.754348</td>\n",
       "      <td>-1.0</td>\n",
       "      <td>71.505146</td>\n",
       "      <td>70.096548</td>\n",
       "      <td>-0.000805</td>\n",
       "      <td>-1.0</td>\n",
       "    </tr>\n",
       "  </tbody>\n",
       "</table>\n",
       "<p>5 rows × 34 columns</p>\n",
       "</div>"
      ],
      "text/plain": [
       "   Game  Time  Subject  Group  GrSubject  Type      Gain   Penalty     x  s1  \\\n",
       "0    45     1        6      2          1     1  6.262846  0.006125  38.3 NaN   \n",
       "1    45     1        4      2          2     9  7.514953  0.100820  49.0 NaN   \n",
       "2    45     1        5      2          3    25  7.950005  0.006125  38.3 NaN   \n",
       "3    45     2        6      2          1     1  6.364697  0.038427  40.0 NaN   \n",
       "4    45     2        4      2          2     9  7.407930  0.008269  46.0 NaN   \n",
       "\n",
       "   ...  Unew>Uprev  Fnew>Fprev  Fi>Fprev  Fii>Fiprev         Ui  Uloci  \\\n",
       "0  ...         NaN         NaN       NaN         NaN        NaN    NaN   \n",
       "1  ...         NaN         NaN       NaN         NaN        NaN    NaN   \n",
       "2  ...         NaN         NaN       NaN         NaN        NaN    NaN   \n",
       "3  ...         1.0         0.0       0.0         1.0  72.189431   -1.0   \n",
       "4  ...         1.0         0.0       0.0         0.0  67.754348   -1.0   \n",
       "\n",
       "        Unew      Uprev   Ulocnew  Ulocnew>Ulocprev  \n",
       "0        NaN        NaN       NaN               NaN  \n",
       "1        NaN        NaN       NaN               NaN  \n",
       "2        NaN        NaN       NaN               NaN  \n",
       "3  71.505146  70.096548 -0.000805              -1.0  \n",
       "4  71.505146  70.096548 -0.000805              -1.0  \n",
       "\n",
       "[5 rows x 34 columns]"
      ]
     },
     "execution_count": 22,
     "metadata": {},
     "output_type": "execute_result"
    }
   ],
   "source": [
    "ADMMNB = NashData_bySubjects(ADMMMechanism, ADMMData, [0,0,0], True)\n",
    "ADMMData = pd.merge(ADMMData, ADMMNB, on=['Game', 'Time','GrSubject'], how='outer')\n",
    "ADMMData.head()"
   ]
  },
  {
   "cell_type": "markdown",
   "metadata": {
    "hidden": true
   },
   "source": [
    "## Добавляем столбец с Наилучшим ответом и гамма (вел-на шага в индикаторном поведении)"
   ]
  },
  {
   "cell_type": "code",
   "execution_count": 23,
   "metadata": {
    "hidden": true
   },
   "outputs": [
    {
     "data": {
      "text/html": [
       "<div>\n",
       "<style scoped>\n",
       "    .dataframe tbody tr th:only-of-type {\n",
       "        vertical-align: middle;\n",
       "    }\n",
       "\n",
       "    .dataframe tbody tr th {\n",
       "        vertical-align: top;\n",
       "    }\n",
       "\n",
       "    .dataframe thead th {\n",
       "        text-align: right;\n",
       "    }\n",
       "</style>\n",
       "<table border=\"1\" class=\"dataframe\">\n",
       "  <thead>\n",
       "    <tr style=\"text-align: right;\">\n",
       "      <th></th>\n",
       "      <th>Game</th>\n",
       "      <th>Time</th>\n",
       "      <th>GrSubject</th>\n",
       "      <th>br</th>\n",
       "      <th>twbr</th>\n",
       "    </tr>\n",
       "  </thead>\n",
       "  <tbody>\n",
       "    <tr>\n",
       "      <th>0</th>\n",
       "      <td>45</td>\n",
       "      <td>2</td>\n",
       "      <td>1</td>\n",
       "      <td>82.437918</td>\n",
       "      <td>1</td>\n",
       "    </tr>\n",
       "    <tr>\n",
       "      <th>1</th>\n",
       "      <td>45</td>\n",
       "      <td>2</td>\n",
       "      <td>2</td>\n",
       "      <td>88.926562</td>\n",
       "      <td>0</td>\n",
       "    </tr>\n",
       "    <tr>\n",
       "      <th>2</th>\n",
       "      <td>45</td>\n",
       "      <td>2</td>\n",
       "      <td>3</td>\n",
       "      <td>77.166918</td>\n",
       "      <td>1</td>\n",
       "    </tr>\n",
       "    <tr>\n",
       "      <th>3</th>\n",
       "      <td>45</td>\n",
       "      <td>3</td>\n",
       "      <td>1</td>\n",
       "      <td>80.762549</td>\n",
       "      <td>1</td>\n",
       "    </tr>\n",
       "    <tr>\n",
       "      <th>4</th>\n",
       "      <td>45</td>\n",
       "      <td>3</td>\n",
       "      <td>2</td>\n",
       "      <td>83.464242</td>\n",
       "      <td>0</td>\n",
       "    </tr>\n",
       "  </tbody>\n",
       "</table>\n",
       "</div>"
      ],
      "text/plain": [
       "   Game  Time  GrSubject         br  twbr\n",
       "0    45     2          1  82.437918     1\n",
       "1    45     2          2  88.926562     0\n",
       "2    45     2          3  77.166918     1\n",
       "3    45     3          1  80.762549     1\n",
       "4    45     3          2  83.464242     0"
      ]
     },
     "execution_count": 23,
     "metadata": {},
     "output_type": "execute_result"
    }
   ],
   "source": [
    "csvfile = ospath.join('.','BR_for_ADMM.csv')\n",
    "BRdata = pd.read_csv(csvfile)[['Game','Time','GrSubject','br','twbr']]\n",
    "BRdata.head()"
   ]
  },
  {
   "cell_type": "code",
   "execution_count": 24,
   "metadata": {
    "hidden": true
   },
   "outputs": [
    {
     "data": {
      "text/html": [
       "<div>\n",
       "<style scoped>\n",
       "    .dataframe tbody tr th:only-of-type {\n",
       "        vertical-align: middle;\n",
       "    }\n",
       "\n",
       "    .dataframe tbody tr th {\n",
       "        vertical-align: top;\n",
       "    }\n",
       "\n",
       "    .dataframe thead th {\n",
       "        text-align: right;\n",
       "    }\n",
       "</style>\n",
       "<table border=\"1\" class=\"dataframe\">\n",
       "  <thead>\n",
       "    <tr style=\"text-align: right;\">\n",
       "      <th></th>\n",
       "      <th>Game</th>\n",
       "      <th>Time</th>\n",
       "      <th>Subject</th>\n",
       "      <th>Group</th>\n",
       "      <th>GrSubject</th>\n",
       "      <th>Type</th>\n",
       "      <th>Gain</th>\n",
       "      <th>Penalty</th>\n",
       "      <th>x</th>\n",
       "      <th>s1</th>\n",
       "      <th>...</th>\n",
       "      <th>Fi&gt;Fprev</th>\n",
       "      <th>Fii&gt;Fiprev</th>\n",
       "      <th>Ui</th>\n",
       "      <th>Uloci</th>\n",
       "      <th>Unew</th>\n",
       "      <th>Uprev</th>\n",
       "      <th>Ulocnew</th>\n",
       "      <th>Ulocnew&gt;Ulocprev</th>\n",
       "      <th>br</th>\n",
       "      <th>twbr</th>\n",
       "    </tr>\n",
       "  </thead>\n",
       "  <tbody>\n",
       "    <tr>\n",
       "      <th>0</th>\n",
       "      <td>45</td>\n",
       "      <td>1</td>\n",
       "      <td>6</td>\n",
       "      <td>2</td>\n",
       "      <td>1</td>\n",
       "      <td>1</td>\n",
       "      <td>6.262846</td>\n",
       "      <td>0.006125</td>\n",
       "      <td>38.3</td>\n",
       "      <td>NaN</td>\n",
       "      <td>...</td>\n",
       "      <td>NaN</td>\n",
       "      <td>NaN</td>\n",
       "      <td>NaN</td>\n",
       "      <td>NaN</td>\n",
       "      <td>NaN</td>\n",
       "      <td>NaN</td>\n",
       "      <td>NaN</td>\n",
       "      <td>NaN</td>\n",
       "      <td>NaN</td>\n",
       "      <td>NaN</td>\n",
       "    </tr>\n",
       "    <tr>\n",
       "      <th>1</th>\n",
       "      <td>45</td>\n",
       "      <td>1</td>\n",
       "      <td>4</td>\n",
       "      <td>2</td>\n",
       "      <td>2</td>\n",
       "      <td>9</td>\n",
       "      <td>7.514953</td>\n",
       "      <td>0.100820</td>\n",
       "      <td>49.0</td>\n",
       "      <td>NaN</td>\n",
       "      <td>...</td>\n",
       "      <td>NaN</td>\n",
       "      <td>NaN</td>\n",
       "      <td>NaN</td>\n",
       "      <td>NaN</td>\n",
       "      <td>NaN</td>\n",
       "      <td>NaN</td>\n",
       "      <td>NaN</td>\n",
       "      <td>NaN</td>\n",
       "      <td>NaN</td>\n",
       "      <td>NaN</td>\n",
       "    </tr>\n",
       "    <tr>\n",
       "      <th>2</th>\n",
       "      <td>45</td>\n",
       "      <td>1</td>\n",
       "      <td>5</td>\n",
       "      <td>2</td>\n",
       "      <td>3</td>\n",
       "      <td>25</td>\n",
       "      <td>7.950005</td>\n",
       "      <td>0.006125</td>\n",
       "      <td>38.3</td>\n",
       "      <td>NaN</td>\n",
       "      <td>...</td>\n",
       "      <td>NaN</td>\n",
       "      <td>NaN</td>\n",
       "      <td>NaN</td>\n",
       "      <td>NaN</td>\n",
       "      <td>NaN</td>\n",
       "      <td>NaN</td>\n",
       "      <td>NaN</td>\n",
       "      <td>NaN</td>\n",
       "      <td>NaN</td>\n",
       "      <td>NaN</td>\n",
       "    </tr>\n",
       "    <tr>\n",
       "      <th>3</th>\n",
       "      <td>45</td>\n",
       "      <td>2</td>\n",
       "      <td>6</td>\n",
       "      <td>2</td>\n",
       "      <td>1</td>\n",
       "      <td>1</td>\n",
       "      <td>6.364697</td>\n",
       "      <td>0.038427</td>\n",
       "      <td>40.0</td>\n",
       "      <td>NaN</td>\n",
       "      <td>...</td>\n",
       "      <td>0.0</td>\n",
       "      <td>1.0</td>\n",
       "      <td>72.189431</td>\n",
       "      <td>-1.0</td>\n",
       "      <td>71.505146</td>\n",
       "      <td>70.096548</td>\n",
       "      <td>-0.000805</td>\n",
       "      <td>-1.0</td>\n",
       "      <td>82.437918</td>\n",
       "      <td>1.0</td>\n",
       "    </tr>\n",
       "    <tr>\n",
       "      <th>4</th>\n",
       "      <td>45</td>\n",
       "      <td>2</td>\n",
       "      <td>4</td>\n",
       "      <td>2</td>\n",
       "      <td>2</td>\n",
       "      <td>9</td>\n",
       "      <td>7.407930</td>\n",
       "      <td>0.008269</td>\n",
       "      <td>46.0</td>\n",
       "      <td>NaN</td>\n",
       "      <td>...</td>\n",
       "      <td>0.0</td>\n",
       "      <td>0.0</td>\n",
       "      <td>67.754348</td>\n",
       "      <td>-1.0</td>\n",
       "      <td>71.505146</td>\n",
       "      <td>70.096548</td>\n",
       "      <td>-0.000805</td>\n",
       "      <td>-1.0</td>\n",
       "      <td>88.926562</td>\n",
       "      <td>0.0</td>\n",
       "    </tr>\n",
       "  </tbody>\n",
       "</table>\n",
       "<p>5 rows × 36 columns</p>\n",
       "</div>"
      ],
      "text/plain": [
       "   Game  Time  Subject  Group  GrSubject  Type      Gain   Penalty     x  s1  \\\n",
       "0    45     1        6      2          1     1  6.262846  0.006125  38.3 NaN   \n",
       "1    45     1        4      2          2     9  7.514953  0.100820  49.0 NaN   \n",
       "2    45     1        5      2          3    25  7.950005  0.006125  38.3 NaN   \n",
       "3    45     2        6      2          1     1  6.364697  0.038427  40.0 NaN   \n",
       "4    45     2        4      2          2     9  7.407930  0.008269  46.0 NaN   \n",
       "\n",
       "   ...  Fi>Fprev  Fii>Fiprev         Ui  Uloci       Unew      Uprev  \\\n",
       "0  ...       NaN         NaN        NaN    NaN        NaN        NaN   \n",
       "1  ...       NaN         NaN        NaN    NaN        NaN        NaN   \n",
       "2  ...       NaN         NaN        NaN    NaN        NaN        NaN   \n",
       "3  ...       0.0         1.0  72.189431   -1.0  71.505146  70.096548   \n",
       "4  ...       0.0         0.0  67.754348   -1.0  71.505146  70.096548   \n",
       "\n",
       "    Ulocnew  Ulocnew>Ulocprev         br  twbr  \n",
       "0       NaN               NaN        NaN   NaN  \n",
       "1       NaN               NaN        NaN   NaN  \n",
       "2       NaN               NaN        NaN   NaN  \n",
       "3 -0.000805              -1.0  82.437918   1.0  \n",
       "4 -0.000805              -1.0  88.926562   0.0  \n",
       "\n",
       "[5 rows x 36 columns]"
      ]
     },
     "execution_count": 24,
     "metadata": {},
     "output_type": "execute_result"
    }
   ],
   "source": [
    "ADMMData = pd.merge(ADMMData, BRdata[BRdata.Game.isin(ADMMGoodGames)], on=['Game', 'Time','GrSubject'], how='outer')\n",
    "ADMMData.head()"
   ]
  },
  {
   "cell_type": "code",
   "execution_count": 25,
   "metadata": {
    "hidden": true
   },
   "outputs": [],
   "source": [
    "tmps,tmpbr = ADMMData['s2'],ADMMData['br']\n",
    "\n",
    "ADMMData['br0'] = ((tmps-tmpbr).abs() < 0.01).astype('float64')\n",
    "ADMMData['br0.5'] = ((tmps-tmpbr).abs() < 0.51).astype('float64')\n",
    "ADMMData['br1'] = ((tmps-tmpbr).abs() < 1.01).astype('float64')"
   ]
  },
  {
   "cell_type": "code",
   "execution_count": 26,
   "metadata": {},
   "outputs": [
    {
     "data": {
      "text/plain": [
       "Index(['Game', 'Time', 'Subject', 'Group', 'GrSubject', 'Type', 'Gain',\n",
       "       'Penalty', 'x', 's1', 's2', 's3', 'AcceptAdvice', 'CalcCount',\n",
       "       'CalcAdviceCount', 'UseHelp', 'Unnamed: 16', 'Util', 'iscb0', 'iscb0.5',\n",
       "       'iscb1', 'Ui>Uprev', 'Uloci>Ulocprev', 'Uall>Uprev', 'Unew>Uprev',\n",
       "       'Fnew>Fprev', 'Fi>Fprev', 'Fii>Fiprev', 'Ui', 'Uloci', 'Unew', 'Uprev',\n",
       "       'Ulocnew', 'Ulocnew>Ulocprev', 'br', 'twbr', 'br0', 'br0.5', 'br1'],\n",
       "      dtype='object')"
      ]
     },
     "execution_count": 26,
     "metadata": {},
     "output_type": "execute_result"
    }
   ],
   "source": [
    "ADMMData.columns"
   ]
  },
  {
   "cell_type": "code",
   "execution_count": 39,
   "metadata": {
    "hidden": true
   },
   "outputs": [],
   "source": [
    "ADMMData.to_csv('ADMM_BR_CB_NB_data_2021aug11.csv',sep=';')"
   ]
  },
  {
   "cell_type": "code",
   "execution_count": 5,
   "metadata": {},
   "outputs": [],
   "source": [
    "# import from csv\n",
    "ADMMData = pd.read_csv('ADMM_BR_CB_NB_data_2021aug11.csv',sep=';',)"
   ]
  },
  {
   "cell_type": "code",
   "execution_count": 6,
   "metadata": {},
   "outputs": [
    {
     "data": {
      "text/plain": [
       "Index(['Unnamed: 0', 'Game', 'Time', 'Subject', 'Group', 'GrSubject', 'Type',\n",
       "       'Gain', 'Penalty', 'x', 's1', 's2', 's3', 'AcceptAdvice', 'CalcCount',\n",
       "       'CalcAdviceCount', 'UseHelp', 'Unnamed: 16', 'Util', 'iscb0', 'iscb0.5',\n",
       "       'iscb1', 'Ui>Uprev', 'Uloci>Ulocprev', 'Uall>Uprev', 'Unew>Uprev',\n",
       "       'Fnew>Fprev', 'Fi>Fprev', 'Fii>Fiprev', 'Ui', 'Uloci', 'Unew', 'Uprev',\n",
       "       'Ulocnew', 'Ulocnew>Ulocprev', 'br', 'twbr', 'br0', 'br0.5', 'br1'],\n",
       "      dtype='object')"
      ]
     },
     "execution_count": 6,
     "metadata": {},
     "output_type": "execute_result"
    }
   ],
   "source": [
    "ADMMData.columns"
   ]
  },
  {
   "cell_type": "code",
   "execution_count": null,
   "metadata": {},
   "outputs": [],
   "source": []
  },
  {
   "cell_type": "code",
   "execution_count": null,
   "metadata": {},
   "outputs": [],
   "source": []
  },
  {
   "cell_type": "code",
   "execution_count": 28,
   "metadata": {},
   "outputs": [
    {
     "data": {
      "text/html": [
       "<div>\n",
       "<style scoped>\n",
       "    .dataframe tbody tr th:only-of-type {\n",
       "        vertical-align: middle;\n",
       "    }\n",
       "\n",
       "    .dataframe tbody tr th {\n",
       "        vertical-align: top;\n",
       "    }\n",
       "\n",
       "    .dataframe thead th {\n",
       "        text-align: right;\n",
       "    }\n",
       "</style>\n",
       "<table border=\"1\" class=\"dataframe\">\n",
       "  <thead>\n",
       "    <tr style=\"text-align: right;\">\n",
       "      <th></th>\n",
       "      <th>All games</th>\n",
       "      <th>Not Consensus</th>\n",
       "      <th>Consensus</th>\n",
       "    </tr>\n",
       "  </thead>\n",
       "  <tbody>\n",
       "    <tr>\n",
       "      <th>games</th>\n",
       "      <td>7</td>\n",
       "      <td>3</td>\n",
       "      <td>4</td>\n",
       "    </tr>\n",
       "    <tr>\n",
       "      <th>total iterations</th>\n",
       "      <td>152</td>\n",
       "      <td>57</td>\n",
       "      <td>95</td>\n",
       "    </tr>\n",
       "    <tr>\n",
       "      <th>total decisions</th>\n",
       "      <td>456</td>\n",
       "      <td>171</td>\n",
       "      <td>285</td>\n",
       "    </tr>\n",
       "    <tr>\n",
       "      <th>Rtnl</th>\n",
       "      <td>213</td>\n",
       "      <td>78</td>\n",
       "      <td>135</td>\n",
       "    </tr>\n",
       "    <tr>\n",
       "      <th>Toward BR</th>\n",
       "      <td>223</td>\n",
       "      <td>85</td>\n",
       "      <td>138</td>\n",
       "    </tr>\n",
       "    <tr>\n",
       "      <th>BR(1)</th>\n",
       "      <td>27</td>\n",
       "      <td>12</td>\n",
       "      <td>15</td>\n",
       "    </tr>\n",
       "    <tr>\n",
       "      <th>Agree CB</th>\n",
       "      <td>130</td>\n",
       "      <td>47</td>\n",
       "      <td>83</td>\n",
       "    </tr>\n",
       "    <tr>\n",
       "      <th>Waiting CB(1)\\ACB</th>\n",
       "      <td>60</td>\n",
       "      <td>30</td>\n",
       "      <td>30</td>\n",
       "    </tr>\n",
       "    <tr>\n",
       "      <th>Rational WCB(1)\\ACB</th>\n",
       "      <td>41</td>\n",
       "      <td>17</td>\n",
       "      <td>24</td>\n",
       "    </tr>\n",
       "    <tr>\n",
       "      <th>NI</th>\n",
       "      <td>198</td>\n",
       "      <td>63</td>\n",
       "      <td>135</td>\n",
       "    </tr>\n",
       "    <tr>\n",
       "      <th>NI\\WCB(1)</th>\n",
       "      <td>116</td>\n",
       "      <td>32</td>\n",
       "      <td>84</td>\n",
       "    </tr>\n",
       "    <tr>\n",
       "      <th>Rational NI\\WCB(1)</th>\n",
       "      <td>88</td>\n",
       "      <td>25</td>\n",
       "      <td>63</td>\n",
       "    </tr>\n",
       "    <tr>\n",
       "      <th>Local NI</th>\n",
       "      <td>62</td>\n",
       "      <td>17</td>\n",
       "      <td>45</td>\n",
       "    </tr>\n",
       "    <tr>\n",
       "      <th>Local NI &amp; NI</th>\n",
       "      <td>49</td>\n",
       "      <td>12</td>\n",
       "      <td>37</td>\n",
       "    </tr>\n",
       "    <tr>\n",
       "      <th>LNI\\WCB(1)</th>\n",
       "      <td>25</td>\n",
       "      <td>8</td>\n",
       "      <td>17</td>\n",
       "    </tr>\n",
       "    <tr>\n",
       "      <th>LNI\\NI</th>\n",
       "      <td>13</td>\n",
       "      <td>5</td>\n",
       "      <td>8</td>\n",
       "    </tr>\n",
       "    <tr>\n",
       "      <th>LNI\\NI\\WCB(1)</th>\n",
       "      <td>6</td>\n",
       "      <td>3</td>\n",
       "      <td>3</td>\n",
       "    </tr>\n",
       "    <tr>\n",
       "      <th>Rational LNI\\WCB(1)</th>\n",
       "      <td>23</td>\n",
       "      <td>8</td>\n",
       "      <td>15</td>\n",
       "    </tr>\n",
       "    <tr>\n",
       "      <th>LN&gt;LNprev&amp;LNI</th>\n",
       "      <td>36</td>\n",
       "      <td>14</td>\n",
       "      <td>22</td>\n",
       "    </tr>\n",
       "    <tr>\n",
       "      <th>LN&gt;LNprev\\WCB(1)</th>\n",
       "      <td>17</td>\n",
       "      <td>6</td>\n",
       "      <td>11</td>\n",
       "    </tr>\n",
       "    <tr>\n",
       "      <th>LN&gt;LNprev\\NI</th>\n",
       "      <td>6</td>\n",
       "      <td>3</td>\n",
       "      <td>3</td>\n",
       "    </tr>\n",
       "  </tbody>\n",
       "</table>\n",
       "</div>"
      ],
      "text/plain": [
       "                     All games  Not Consensus  Consensus\n",
       "games                        7              3          4\n",
       "total iterations           152             57         95\n",
       "total decisions            456            171        285\n",
       "Rtnl                       213             78        135\n",
       "Toward BR                  223             85        138\n",
       "BR(1)                       27             12         15\n",
       "Agree CB                   130             47         83\n",
       "Waiting CB(1)\\ACB           60             30         30\n",
       "Rational WCB(1)\\ACB         41             17         24\n",
       "NI                         198             63        135\n",
       "NI\\WCB(1)                  116             32         84\n",
       "Rational NI\\WCB(1)          88             25         63\n",
       "Local NI                    62             17         45\n",
       "Local NI & NI               49             12         37\n",
       "LNI\\WCB(1)                  25              8         17\n",
       "LNI\\NI                      13              5          8\n",
       "LNI\\NI\\WCB(1)                6              3          3\n",
       "Rational LNI\\WCB(1)         23              8         15\n",
       "LN>LNprev&LNI               36             14         22\n",
       "LN>LNprev\\WCB(1)            17              6         11\n",
       "LN>LNprev\\NI                 6              3          3"
      ]
     },
     "execution_count": 28,
     "metadata": {},
     "output_type": "execute_result"
    }
   ],
   "source": [
    "IndDecADMM = getSituationsTable(individual_decisions, ADMMData, ADMMConsensusGames)\n",
    "IndDecADMM"
   ]
  },
  {
   "cell_type": "code",
   "execution_count": 29,
   "metadata": {},
   "outputs": [],
   "source": [
    "IndDecADMM.to_csv('ADMM_IndividualDecisions.csv',sep=';')"
   ]
  },
  {
   "cell_type": "code",
   "execution_count": null,
   "metadata": {},
   "outputs": [],
   "source": []
  },
  {
   "cell_type": "code",
   "execution_count": 10,
   "metadata": {},
   "outputs": [
    {
     "data": {
      "text/html": [
       "<div>\n",
       "<style scoped>\n",
       "    .dataframe tbody tr th:only-of-type {\n",
       "        vertical-align: middle;\n",
       "    }\n",
       "\n",
       "    .dataframe tbody tr th {\n",
       "        vertical-align: top;\n",
       "    }\n",
       "\n",
       "    .dataframe thead th {\n",
       "        text-align: right;\n",
       "    }\n",
       "</style>\n",
       "<table border=\"1\" class=\"dataframe\">\n",
       "  <thead>\n",
       "    <tr style=\"text-align: right;\">\n",
       "      <th></th>\n",
       "      <th>All games</th>\n",
       "      <th>Not Consensus</th>\n",
       "      <th>Consensus</th>\n",
       "    </tr>\n",
       "  </thead>\n",
       "  <tbody>\n",
       "    <tr>\n",
       "      <th>games</th>\n",
       "      <td>7</td>\n",
       "      <td>3</td>\n",
       "      <td>4</td>\n",
       "    </tr>\n",
       "    <tr>\n",
       "      <th>total situations</th>\n",
       "      <td>152</td>\n",
       "      <td>57</td>\n",
       "      <td>95</td>\n",
       "    </tr>\n",
       "    <tr>\n",
       "      <th>One Rtnl</th>\n",
       "      <td>124</td>\n",
       "      <td>49</td>\n",
       "      <td>75</td>\n",
       "    </tr>\n",
       "    <tr>\n",
       "      <th>All Rtnl</th>\n",
       "      <td>25</td>\n",
       "      <td>6</td>\n",
       "      <td>19</td>\n",
       "    </tr>\n",
       "    <tr>\n",
       "      <th>One BR(1)</th>\n",
       "      <td>25</td>\n",
       "      <td>10</td>\n",
       "      <td>15</td>\n",
       "    </tr>\n",
       "    <tr>\n",
       "      <th>Two BR(1)</th>\n",
       "      <td>2</td>\n",
       "      <td>2</td>\n",
       "      <td>0</td>\n",
       "    </tr>\n",
       "    <tr>\n",
       "      <th>All BR(1)</th>\n",
       "      <td>0</td>\n",
       "      <td>0</td>\n",
       "      <td>0</td>\n",
       "    </tr>\n",
       "    <tr>\n",
       "      <th>One TBR</th>\n",
       "      <td>128</td>\n",
       "      <td>50</td>\n",
       "      <td>78</td>\n",
       "    </tr>\n",
       "    <tr>\n",
       "      <th>Two TBR</th>\n",
       "      <td>76</td>\n",
       "      <td>28</td>\n",
       "      <td>48</td>\n",
       "    </tr>\n",
       "    <tr>\n",
       "      <th>All TBR</th>\n",
       "      <td>19</td>\n",
       "      <td>7</td>\n",
       "      <td>12</td>\n",
       "    </tr>\n",
       "    <tr>\n",
       "      <th>One ACB</th>\n",
       "      <td>100</td>\n",
       "      <td>41</td>\n",
       "      <td>59</td>\n",
       "    </tr>\n",
       "    <tr>\n",
       "      <th>Two ACB</th>\n",
       "      <td>26</td>\n",
       "      <td>6</td>\n",
       "      <td>20</td>\n",
       "    </tr>\n",
       "    <tr>\n",
       "      <th>All ACB</th>\n",
       "      <td>4</td>\n",
       "      <td>0</td>\n",
       "      <td>4</td>\n",
       "    </tr>\n",
       "    <tr>\n",
       "      <th>One Waiting CB(1)</th>\n",
       "      <td>120</td>\n",
       "      <td>49</td>\n",
       "      <td>71</td>\n",
       "    </tr>\n",
       "    <tr>\n",
       "      <th>Two Waiting CB(1)</th>\n",
       "      <td>62</td>\n",
       "      <td>26</td>\n",
       "      <td>36</td>\n",
       "    </tr>\n",
       "    <tr>\n",
       "      <th>All Waiting CB(1)</th>\n",
       "      <td>8</td>\n",
       "      <td>2</td>\n",
       "      <td>6</td>\n",
       "    </tr>\n",
       "    <tr>\n",
       "      <th>One Waiting CB(1)\\ACB</th>\n",
       "      <td>51</td>\n",
       "      <td>24</td>\n",
       "      <td>27</td>\n",
       "    </tr>\n",
       "    <tr>\n",
       "      <th>Two Waiting CB(1)\\ACB</th>\n",
       "      <td>9</td>\n",
       "      <td>6</td>\n",
       "      <td>3</td>\n",
       "    </tr>\n",
       "    <tr>\n",
       "      <th>All Waiting CB(1)\\ACB</th>\n",
       "      <td>0</td>\n",
       "      <td>0</td>\n",
       "      <td>0</td>\n",
       "    </tr>\n",
       "    <tr>\n",
       "      <th>One Rational WCB(1)\\ACB</th>\n",
       "      <td>34</td>\n",
       "      <td>13</td>\n",
       "      <td>21</td>\n",
       "    </tr>\n",
       "    <tr>\n",
       "      <th>Two Rational WCB(1)\\ACB</th>\n",
       "      <td>7</td>\n",
       "      <td>4</td>\n",
       "      <td>3</td>\n",
       "    </tr>\n",
       "    <tr>\n",
       "      <th>All Rational WCB(1)\\ACB</th>\n",
       "      <td>0</td>\n",
       "      <td>0</td>\n",
       "      <td>0</td>\n",
       "    </tr>\n",
       "  </tbody>\n",
       "</table>\n",
       "</div>"
      ],
      "text/plain": [
       "                         All games  Not Consensus  Consensus\n",
       "games                            7              3          4\n",
       "total situations               152             57         95\n",
       "One Rtnl                       124             49         75\n",
       "All Rtnl                        25              6         19\n",
       "One BR(1)                       25             10         15\n",
       "Two BR(1)                        2              2          0\n",
       "All BR(1)                        0              0          0\n",
       "One TBR                        128             50         78\n",
       "Two TBR                         76             28         48\n",
       "All TBR                         19              7         12\n",
       "One ACB                        100             41         59\n",
       "Two ACB                         26              6         20\n",
       "All ACB                          4              0          4\n",
       "One Waiting CB(1)              120             49         71\n",
       "Two Waiting CB(1)               62             26         36\n",
       "All Waiting CB(1)                8              2          6\n",
       "One Waiting CB(1)\\ACB           51             24         27\n",
       "Two Waiting CB(1)\\ACB            9              6          3\n",
       "All Waiting CB(1)\\ACB            0              0          0\n",
       "One Rational WCB(1)\\ACB         34             13         21\n",
       "Two Rational WCB(1)\\ACB          7              4          3\n",
       "All Rational WCB(1)\\ACB          0              0          0"
      ]
     },
     "execution_count": 10,
     "metadata": {},
     "output_type": "execute_result"
    }
   ],
   "source": [
    "ADMMsittable = getSituationsTable(situations,ADMMData, ADMMConsensusGames)\n",
    "ADMMsittable"
   ]
  },
  {
   "cell_type": "code",
   "execution_count": 11,
   "metadata": {},
   "outputs": [],
   "source": [
    "ADMMsittable.to_csv('ADMM_Situations.csv',sep=';')"
   ]
  },
  {
   "cell_type": "code",
   "execution_count": 12,
   "metadata": {},
   "outputs": [
    {
     "data": {
      "text/html": [
       "<div>\n",
       "<style scoped>\n",
       "    .dataframe tbody tr th:only-of-type {\n",
       "        vertical-align: middle;\n",
       "    }\n",
       "\n",
       "    .dataframe tbody tr th {\n",
       "        vertical-align: top;\n",
       "    }\n",
       "\n",
       "    .dataframe thead th {\n",
       "        text-align: right;\n",
       "    }\n",
       "</style>\n",
       "<table border=\"1\" class=\"dataframe\">\n",
       "  <thead>\n",
       "    <tr style=\"text-align: right;\">\n",
       "      <th></th>\n",
       "      <th>All games</th>\n",
       "      <th>Not Consensus</th>\n",
       "      <th>Consensus</th>\n",
       "    </tr>\n",
       "  </thead>\n",
       "  <tbody>\n",
       "    <tr>\n",
       "      <th>games</th>\n",
       "      <td>7</td>\n",
       "      <td>3</td>\n",
       "      <td>4</td>\n",
       "    </tr>\n",
       "    <tr>\n",
       "      <th>total situations</th>\n",
       "      <td>152</td>\n",
       "      <td>57</td>\n",
       "      <td>95</td>\n",
       "    </tr>\n",
       "    <tr>\n",
       "      <th>One NI</th>\n",
       "      <td>80</td>\n",
       "      <td>24</td>\n",
       "      <td>56</td>\n",
       "    </tr>\n",
       "    <tr>\n",
       "      <th>Two NI</th>\n",
       "      <td>64</td>\n",
       "      <td>22</td>\n",
       "      <td>42</td>\n",
       "    </tr>\n",
       "    <tr>\n",
       "      <th>All NI</th>\n",
       "      <td>54</td>\n",
       "      <td>17</td>\n",
       "      <td>37</td>\n",
       "    </tr>\n",
       "    <tr>\n",
       "      <th>One NI\\WCB(1)</th>\n",
       "      <td>73</td>\n",
       "      <td>22</td>\n",
       "      <td>51</td>\n",
       "    </tr>\n",
       "    <tr>\n",
       "      <th>Two NI\\WCB(1)</th>\n",
       "      <td>30</td>\n",
       "      <td>8</td>\n",
       "      <td>22</td>\n",
       "    </tr>\n",
       "    <tr>\n",
       "      <th>All NI\\WCB(1)</th>\n",
       "      <td>13</td>\n",
       "      <td>2</td>\n",
       "      <td>11</td>\n",
       "    </tr>\n",
       "    <tr>\n",
       "      <th>One Rational NI\\WCB(1)</th>\n",
       "      <td>64</td>\n",
       "      <td>19</td>\n",
       "      <td>45</td>\n",
       "    </tr>\n",
       "    <tr>\n",
       "      <th>Two Rational NI\\WCB(1)</th>\n",
       "      <td>22</td>\n",
       "      <td>6</td>\n",
       "      <td>16</td>\n",
       "    </tr>\n",
       "    <tr>\n",
       "      <th>All Rational NI\\WCB(1)</th>\n",
       "      <td>2</td>\n",
       "      <td>0</td>\n",
       "      <td>2</td>\n",
       "    </tr>\n",
       "    <tr>\n",
       "      <th>One Local NI</th>\n",
       "      <td>25</td>\n",
       "      <td>7</td>\n",
       "      <td>18</td>\n",
       "    </tr>\n",
       "    <tr>\n",
       "      <th>Two Local NI</th>\n",
       "      <td>20</td>\n",
       "      <td>6</td>\n",
       "      <td>14</td>\n",
       "    </tr>\n",
       "    <tr>\n",
       "      <th>All Local NI</th>\n",
       "      <td>17</td>\n",
       "      <td>4</td>\n",
       "      <td>13</td>\n",
       "    </tr>\n",
       "    <tr>\n",
       "      <th>Real NI</th>\n",
       "      <td>71</td>\n",
       "      <td>21</td>\n",
       "      <td>50</td>\n",
       "    </tr>\n",
       "    <tr>\n",
       "      <th>Real LNI</th>\n",
       "      <td>25</td>\n",
       "      <td>6</td>\n",
       "      <td>19</td>\n",
       "    </tr>\n",
       "    <tr>\n",
       "      <th>Real LNI &amp; Real NI</th>\n",
       "      <td>22</td>\n",
       "      <td>5</td>\n",
       "      <td>17</td>\n",
       "    </tr>\n",
       "    <tr>\n",
       "      <th>Real LNI &amp; All LNI</th>\n",
       "      <td>17</td>\n",
       "      <td>4</td>\n",
       "      <td>13</td>\n",
       "    </tr>\n",
       "    <tr>\n",
       "      <th>Real LNI &amp; All LNI &amp; Real NI</th>\n",
       "      <td>14</td>\n",
       "      <td>3</td>\n",
       "      <td>11</td>\n",
       "    </tr>\n",
       "    <tr>\n",
       "      <th>LNI\\WCB(1)</th>\n",
       "      <td>21</td>\n",
       "      <td>6</td>\n",
       "      <td>15</td>\n",
       "    </tr>\n",
       "    <tr>\n",
       "      <th>Rational LNI\\WCB(1)</th>\n",
       "      <td>19</td>\n",
       "      <td>6</td>\n",
       "      <td>13</td>\n",
       "    </tr>\n",
       "    <tr>\n",
       "      <th>LNI\\NI</th>\n",
       "      <td>21</td>\n",
       "      <td>6</td>\n",
       "      <td>15</td>\n",
       "    </tr>\n",
       "    <tr>\n",
       "      <th>LNI&amp;LN&gt;0</th>\n",
       "      <td>16</td>\n",
       "      <td>6</td>\n",
       "      <td>10</td>\n",
       "    </tr>\n",
       "    <tr>\n",
       "      <th>LNI&gt;0\\WCB(1)</th>\n",
       "      <td>15</td>\n",
       "      <td>5</td>\n",
       "      <td>10</td>\n",
       "    </tr>\n",
       "  </tbody>\n",
       "</table>\n",
       "</div>"
      ],
      "text/plain": [
       "                              All games  Not Consensus  Consensus\n",
       "games                                 7              3          4\n",
       "total situations                    152             57         95\n",
       "One NI                               80             24         56\n",
       "Two NI                               64             22         42\n",
       "All NI                               54             17         37\n",
       "One NI\\WCB(1)                        73             22         51\n",
       "Two NI\\WCB(1)                        30              8         22\n",
       "All NI\\WCB(1)                        13              2         11\n",
       "One Rational NI\\WCB(1)               64             19         45\n",
       "Two Rational NI\\WCB(1)               22              6         16\n",
       "All Rational NI\\WCB(1)                2              0          2\n",
       "One Local NI                         25              7         18\n",
       "Two Local NI                         20              6         14\n",
       "All Local NI                         17              4         13\n",
       "Real NI                              71             21         50\n",
       "Real LNI                             25              6         19\n",
       "Real LNI & Real NI                   22              5         17\n",
       "Real LNI & All LNI                   17              4         13\n",
       "Real LNI & All LNI & Real NI         14              3         11\n",
       "LNI\\WCB(1)                           21              6         15\n",
       "Rational LNI\\WCB(1)                  19              6         13\n",
       "LNI\\NI                               21              6         15\n",
       "LNI&LN>0                             16              6         10\n",
       "LNI>0\\WCB(1)                         15              5         10"
      ]
     },
     "execution_count": 12,
     "metadata": {},
     "output_type": "execute_result"
    }
   ],
   "source": [
    "ADMMnashsittable = getSituationsTable(Nash_situations, ADMMData, ADMMConsensusGames)\n",
    "ADMMnashsittable"
   ]
  },
  {
   "cell_type": "code",
   "execution_count": 13,
   "metadata": {},
   "outputs": [],
   "source": [
    "ADMMnashsittable.to_csv('ADMM_NashSituations.csv',sep=';')"
   ]
  },
  {
   "cell_type": "code",
   "execution_count": null,
   "metadata": {},
   "outputs": [],
   "source": []
  },
  {
   "cell_type": "code",
   "execution_count": null,
   "metadata": {},
   "outputs": [],
   "source": []
  },
  {
   "cell_type": "code",
   "execution_count": null,
   "metadata": {},
   "outputs": [],
   "source": []
  },
  {
   "cell_type": "markdown",
   "metadata": {
    "heading_collapsed": "true",
    "tags": []
   },
   "source": [
    "## Число поведений, отсчёт от конца"
   ]
  },
  {
   "cell_type": "code",
   "execution_count": 23,
   "metadata": {
    "hidden": true
   },
   "outputs": [],
   "source": [
    "res = []\n",
    "for name,group in YHData.groupby('Game'):\n",
    "    t = group.copy()\n",
    "    t['Time'] = t.Time.copy() - t['Time'].max()\n",
    "    res.append(t)\n",
    "timegrp = pd.concat(res).groupby('Time')"
   ]
  },
  {
   "cell_type": "code",
   "execution_count": 24,
   "metadata": {
    "hidden": true
   },
   "outputs": [],
   "source": [
    "def bhvrcount(x):\n",
    "    return pd.Series([x[x['br0.5']>0].shape[0], x[x.twbr>0].shape[0],x[x['iscb0.5']>0].shape[0],x[x['Ui>U']>0].shape[0]],\n",
    "                     index=['br0.5','twbr','cb0.5','twNB'])"
   ]
  },
  {
   "cell_type": "code",
   "execution_count": 25,
   "metadata": {
    "hidden": true
   },
   "outputs": [
    {
     "data": {
      "image/png": "[encoded data removed]",
      "text/plain": [
       "<Figure size 432x288 with 1 Axes>"
      ]
     },
     "metadata": {
      "needs_background": "light"
     },
     "output_type": "display_data"
    }
   ],
   "source": [
    "endbhvr = timegrp.apply(bhvrcount).sort_index(ascending=False)\n",
    "endbhvr.to_csv('EndBehavior.csv')\n",
    "endbhvr.plot();"
   ]
  },
  {
   "cell_type": "code",
   "execution_count": 27,
   "metadata": {
    "hidden": true
   },
   "outputs": [
    {
     "data": {
      "image/png": "[encoded data removed]",
      "text/plain": [
       "<Figure size 432x288 with 1 Axes>"
      ]
     },
     "metadata": {
      "needs_background": "light"
     },
     "output_type": "display_data"
    }
   ],
   "source": [
    "endbhvrLenMore2 = timegrp.filter(lambda x: x.Time.max() < -1).groupby('Time').apply(bhvrcount)\n",
    "endbhvrLenMore2.to_csv('EndBehavior,gamelen more 2.csv')\n",
    "endbhvrLenMore2.plot();"
   ]
  },
  {
   "cell_type": "code",
   "execution_count": 28,
   "metadata": {
    "hidden": true
   },
   "outputs": [
    {
     "data": {
      "image/png": "[encoded data removed]",
      "text/plain": [
       "<Figure size 432x288 with 1 Axes>"
      ]
     },
     "metadata": {
      "needs_background": "light"
     },
     "output_type": "display_data"
    }
   ],
   "source": [
    "endbhvrLenMore6 = timegrp.filter(lambda x: x.Time.max() < -5).groupby('Time').apply(bhvrcount)\n",
    "endbhvrLenMore6.to_csv('EndBehavior,gamelen more 6.csv')\n",
    "endbhvrLenMore6.plot();"
   ]
  },
  {
   "cell_type": "code",
   "execution_count": 31,
   "metadata": {
    "hidden": true,
    "scrolled": true
   },
   "outputs": [
    {
     "ename": "NameError",
     "evalue": "name 'timegrp' is not defined",
     "output_type": "error",
     "traceback": [
      "\u001b[1;31m---------------------------------------------------------------------------\u001b[0m",
      "\u001b[1;31mNameError\u001b[0m                                 Traceback (most recent call last)",
      "\u001b[1;32m<ipython-input-31-3ce7a9349258>\u001b[0m in \u001b[0;36m<module>\u001b[1;34m\u001b[0m\n\u001b[1;32m----> 1\u001b[1;33m \u001b[0mtimegrp\u001b[0m\u001b[1;33m.\u001b[0m\u001b[0mfilter\u001b[0m\u001b[1;33m(\u001b[0m\u001b[1;32mlambda\u001b[0m \u001b[0mx\u001b[0m\u001b[1;33m:\u001b[0m \u001b[0mx\u001b[0m\u001b[1;33m.\u001b[0m\u001b[0mTime\u001b[0m\u001b[1;33m.\u001b[0m\u001b[0mmax\u001b[0m\u001b[1;33m(\u001b[0m\u001b[1;33m)\u001b[0m \u001b[1;33m<\u001b[0m \u001b[1;33m-\u001b[0m\u001b[1;36m5\u001b[0m\u001b[1;33m)\u001b[0m\u001b[1;33m.\u001b[0m\u001b[0mGame\u001b[0m\u001b[1;33m.\u001b[0m\u001b[0munique\u001b[0m\u001b[1;33m(\u001b[0m\u001b[1;33m)\u001b[0m\u001b[1;33m\u001b[0m\u001b[1;33m\u001b[0m\u001b[0m\n\u001b[0m",
      "\u001b[1;31mNameError\u001b[0m: name 'timegrp' is not defined"
     ]
    }
   ],
   "source": [
    "timegrp.filter(lambda x: x.Time.max() < -5).Game.unique()"
   ]
  },
  {
   "cell_type": "markdown",
   "metadata": {
    "heading_collapsed": "true",
    "hidden": true
   },
   "source": [
    "### График длин игр"
   ]
  },
  {
   "cell_type": "code",
   "execution_count": 5,
   "metadata": {
    "hidden": true
   },
   "outputs": [],
   "source": [
    "gamelength=YHData[['Game','Time']].groupby('Game').max()"
   ]
  },
  {
   "cell_type": "code",
   "execution_count": 6,
   "metadata": {
    "hidden": true
   },
   "outputs": [],
   "source": [
    "a=gamelength.sort_values(by='Time')"
   ]
  },
  {
   "cell_type": "code",
   "execution_count": 7,
   "metadata": {
    "hidden": true
   },
   "outputs": [],
   "source": [
    "a['Game']=range(1,14)"
   ]
  },
  {
   "cell_type": "code",
   "execution_count": 8,
   "metadata": {
    "hidden": true
   },
   "outputs": [],
   "source": [
    "b=a.rename(columns={'Time':'Продолжительность игр','Game':'Игра'})"
   ]
  },
  {
   "cell_type": "code",
   "execution_count": 9,
   "metadata": {
    "hidden": true
   },
   "outputs": [
    {
     "data": {
      "image/png": "[encoded data removed]",
      "text/plain": [
       "<Figure size 432x288 with 1 Axes>"
      ]
     },
     "metadata": {
      "needs_background": "light"
     },
     "output_type": "display_data"
    }
   ],
   "source": [
    "p=b.plot.scatter(x='Игра',y='Продолжительность игр',c='black')"
   ]
  },
  {
   "cell_type": "code",
   "execution_count": 28,
   "metadata": {
    "hidden": true
   },
   "outputs": [],
   "source": [
    "p.get_figure().savefig('Gameslen.png',dpi=100)"
   ]
  },
  {
   "cell_type": "code",
   "execution_count": 32,
   "metadata": {
    "hidden": true
   },
   "outputs": [
    {
     "data": {
      "text/plain": [
       "[Int64Index([   0,    1,    2,    3,    4,    5,    6,    7,    8,    9,\n",
       "             ...\n",
       "             1547, 1548, 1549, 1550, 1551, 1552, 1553, 1554, 1555, 1556],\n",
       "            dtype='int64', length=1557),\n",
       " Index(['Game', 'Time', 'Subject', 'Group', 'GrSubject', 'Type', 'Gain',\n",
       "        'Penalty', 'x', 's1', 's2', 's3', 'AcceptAdvice', 'CalcCount',\n",
       "        'CalcAdviceCount', 'UseHelp', 'Util', 'iscb0', 'iscb0.5', 'iscb1',\n",
       "        'Ui>U', 'Uall>U', 'Unew>U', 'Fnew>F', 'Fi>Fprev', 'Ui', 'Unew', 'U',\n",
       "        'Uloc', 'Uloc>Ulocprev', 'BR1', 'BR2', 'BR3'],\n",
       "       dtype='object')]"
      ]
     },
     "execution_count": 32,
     "metadata": {},
     "output_type": "execute_result"
    }
   ],
   "source": [
    "GLData.axes"
   ]
  },
  {
   "cell_type": "code",
   "execution_count": 33,
   "metadata": {
    "hidden": true
   },
   "outputs": [
    {
     "data": {
      "text/plain": [
       "1557"
      ]
     },
     "execution_count": 33,
     "metadata": {},
     "output_type": "execute_result"
    }
   ],
   "source": [
    "GLData.shape[0]"
   ]
  },
  {
   "cell_type": "markdown",
   "metadata": {
    "heading_collapsed": "true",
    "tags": []
   },
   "source": [
    "## Доля КП в данных игр"
   ]
  },
  {
   "cell_type": "code",
   "execution_count": 34,
   "metadata": {
    "hidden": true
   },
   "outputs": [
    {
     "data": {
      "text/plain": [
       "(2349, 17)"
      ]
     },
     "execution_count": 34,
     "metadata": {},
     "output_type": "execute_result"
    }
   ],
   "source": [
    "GLGames = Games[(Games.Mechname=='gl') & (Games.GameMech=='agree') & (Games.GamersCount==3) & (Games.Parametr1_alfa==1)\n",
    "               & (Games.Parametr2_beta==0.0005)]\n",
    "GLData = Alldata[Alldata.Game.isin(GLGames.Game)].copy()\n",
    "\n",
    "GLEGames = Games[(Games.Mechname=='gl') & (Games.GameMech=='exp') ]\n",
    "GLEData = Alldata[Alldata.Game.isin(GLEGames.Game)]\n",
    "\n",
    "GLData.shape"
   ]
  },
  {
   "cell_type": "code",
   "execution_count": 10,
   "metadata": {
    "hidden": true
   },
   "outputs": [],
   "source": [
    "YHEGames = Games[(Games.Mechname=='yh') & (Games.GameMech=='exp')]\n",
    "YHEData = Alldata[Alldata.Game.isin(YHEGames.Game)]"
   ]
  },
  {
   "cell_type": "code",
   "execution_count": 4,
   "metadata": {
    "hidden": true
   },
   "outputs": [],
   "source": [
    "def calcCBCounts(games,data,dimens=1):\n",
    "    counts = getCBofAllGames(data,dim=dimens)\n",
    "    counts['Steps Count %'] = counts['Steps Count']/((data.shape[0])/100)#-games.shape[0])/100)\n",
    "    return counts"
   ]
  },
  {
   "cell_type": "markdown",
   "metadata": {
    "hidden": true
   },
   "source": [
    "### Доля КП в GL"
   ]
  },
  {
   "cell_type": "code",
   "execution_count": 35,
   "metadata": {
    "hidden": true
   },
   "outputs": [
    {
     "ename": "NameError",
     "evalue": "name 'calcCBCounts' is not defined",
     "output_type": "error",
     "traceback": [
      "\u001b[1;31m---------------------------------------------------------------------------\u001b[0m",
      "\u001b[1;31mNameError\u001b[0m                                 Traceback (most recent call last)",
      "\u001b[1;32m<ipython-input-35-6269f7cce8e9>\u001b[0m in \u001b[0;36m<module>\u001b[1;34m\u001b[0m\n\u001b[1;32m----> 1\u001b[1;33m \u001b[0mGLCounts\u001b[0m \u001b[1;33m=\u001b[0m \u001b[0mcalcCBCounts\u001b[0m\u001b[1;33m(\u001b[0m\u001b[0mGLGames\u001b[0m\u001b[1;33m,\u001b[0m\u001b[0mGLData\u001b[0m\u001b[1;33m,\u001b[0m\u001b[1;36m3\u001b[0m\u001b[1;33m)\u001b[0m\u001b[1;33m\u001b[0m\u001b[1;33m\u001b[0m\u001b[0m\n\u001b[0m\u001b[0;32m      2\u001b[0m \u001b[0mGLCounts\u001b[0m\u001b[1;33m\u001b[0m\u001b[1;33m\u001b[0m\u001b[0m\n",
      "\u001b[1;31mNameError\u001b[0m: name 'calcCBCounts' is not defined"
     ]
    }
   ],
   "source": [
    "GLCounts = calcCBCounts(GLGames,GLData,3)\n",
    "GLCounts"
   ]
  },
  {
   "cell_type": "code",
   "execution_count": 10,
   "metadata": {
    "hidden": true
   },
   "outputs": [],
   "source": [
    "GLCounts.to_clipboard()"
   ]
  },
  {
   "cell_type": "code",
   "execution_count": 36,
   "metadata": {
    "hidden": true
   },
   "outputs": [
    {
     "ename": "NameError",
     "evalue": "name 'calcCBCounts' is not defined",
     "output_type": "error",
     "traceback": [
      "\u001b[1;31m---------------------------------------------------------------------------\u001b[0m",
      "\u001b[1;31mNameError\u001b[0m                                 Traceback (most recent call last)",
      "\u001b[1;32m<ipython-input-36-d8a490ae0fd6>\u001b[0m in \u001b[0;36m<module>\u001b[1;34m\u001b[0m\n\u001b[1;32m----> 1\u001b[1;33m \u001b[0mGLECounts\u001b[0m \u001b[1;33m=\u001b[0m \u001b[0mcalcCBCounts\u001b[0m\u001b[1;33m(\u001b[0m\u001b[0mGLEGames\u001b[0m\u001b[1;33m,\u001b[0m\u001b[0mGLEData\u001b[0m\u001b[1;33m,\u001b[0m\u001b[1;36m3\u001b[0m\u001b[1;33m)\u001b[0m\u001b[1;33m\u001b[0m\u001b[1;33m\u001b[0m\u001b[0m\n\u001b[0m\u001b[0;32m      2\u001b[0m \u001b[0mGLECounts\u001b[0m\u001b[1;33m\u001b[0m\u001b[1;33m\u001b[0m\u001b[0m\n",
      "\u001b[1;31mNameError\u001b[0m: name 'calcCBCounts' is not defined"
     ]
    }
   ],
   "source": [
    "GLECounts = calcCBCounts(GLEGames,GLEData,3)\n",
    "GLECounts"
   ]
  },
  {
   "cell_type": "code",
   "execution_count": 37,
   "metadata": {
    "hidden": true
   },
   "outputs": [
    {
     "ename": "NameError",
     "evalue": "name 'GLCounts' is not defined",
     "output_type": "error",
     "traceback": [
      "\u001b[1;31m---------------------------------------------------------------------------\u001b[0m",
      "\u001b[1;31mNameError\u001b[0m                                 Traceback (most recent call last)",
      "\u001b[1;32m<ipython-input-37-0c381960bf09>\u001b[0m in \u001b[0;36m<module>\u001b[1;34m\u001b[0m\n\u001b[1;32m----> 1\u001b[1;33m \u001b[0mGLEcmp\u001b[0m \u001b[1;33m=\u001b[0m \u001b[0mpd\u001b[0m\u001b[1;33m.\u001b[0m\u001b[0mconcat\u001b[0m\u001b[1;33m(\u001b[0m\u001b[1;33m[\u001b[0m\u001b[0mGLCounts\u001b[0m\u001b[1;33m[\u001b[0m\u001b[1;34m'Steps Count %'\u001b[0m\u001b[1;33m]\u001b[0m\u001b[1;33m,\u001b[0m\u001b[0mGLECounts\u001b[0m\u001b[1;33m[\u001b[0m\u001b[1;34m'Steps Count %'\u001b[0m\u001b[1;33m]\u001b[0m\u001b[1;33m]\u001b[0m\u001b[1;33m,\u001b[0m\u001b[0maxis\u001b[0m\u001b[1;33m=\u001b[0m\u001b[1;36m1\u001b[0m\u001b[1;33m)\u001b[0m\u001b[1;33m\u001b[0m\u001b[1;33m\u001b[0m\u001b[0m\n\u001b[0m\u001b[0;32m      2\u001b[0m \u001b[0mGLEcmp\u001b[0m\u001b[1;33m.\u001b[0m\u001b[0mplot\u001b[0m\u001b[1;33m(\u001b[0m\u001b[1;33m)\u001b[0m\u001b[1;33m\u001b[0m\u001b[1;33m\u001b[0m\u001b[0m\n",
      "\u001b[1;31mNameError\u001b[0m: name 'GLCounts' is not defined"
     ]
    }
   ],
   "source": [
    "GLEcmp = pd.concat([GLCounts['Steps Count %'],GLECounts['Steps Count %']],axis=1)\n",
    "GLEcmp.plot()"
   ]
  },
  {
   "cell_type": "code",
   "execution_count": 38,
   "metadata": {
    "hidden": true
   },
   "outputs": [],
   "source": [
    "GLEcmp.columns = [\"Базовый, % КП шагов\", \"Эксперим., % КП шагов\"]"
   ]
  },
  {
   "cell_type": "code",
   "execution_count": 38,
   "metadata": {
    "hidden": true
   },
   "outputs": [
    {
     "ename": "NameError",
     "evalue": "name 'plGLEcmp' is not defined",
     "output_type": "error",
     "traceback": [
      "\u001b[1;31m---------------------------------------------------------------------------\u001b[0m",
      "\u001b[1;31mNameError\u001b[0m                                 Traceback (most recent call last)",
      "\u001b[1;32m<ipython-input-38-52ceeb70e1e1>\u001b[0m in \u001b[0;36m<module>\u001b[1;34m\u001b[0m\n\u001b[1;32m----> 1\u001b[1;33m \u001b[0mplGLEcmp\u001b[0m\u001b[1;33m.\u001b[0m\u001b[0mplot\u001b[0m\u001b[1;33m(\u001b[0m\u001b[1;33m)\u001b[0m\u001b[1;33m\u001b[0m\u001b[1;33m\u001b[0m\u001b[0m\n\u001b[0m",
      "\u001b[1;31mNameError\u001b[0m: name 'plGLEcmp' is not defined"
     ]
    }
   ],
   "source": [
    "plGLEcmp.plot()"
   ]
  },
  {
   "cell_type": "code",
   "execution_count": 39,
   "metadata": {
    "hidden": true
   },
   "outputs": [
    {
     "ename": "NameError",
     "evalue": "name 'calcCBCounts' is not defined",
     "output_type": "error",
     "traceback": [
      "\u001b[1;31m---------------------------------------------------------------------------\u001b[0m",
      "\u001b[1;31mNameError\u001b[0m                                 Traceback (most recent call last)",
      "\u001b[1;32m<ipython-input-39-60a50080e5e9>\u001b[0m in \u001b[0;36m<module>\u001b[1;34m\u001b[0m\n\u001b[1;32m----> 1\u001b[1;33m \u001b[0mcalcCBCounts\u001b[0m\u001b[1;33m(\u001b[0m\u001b[0mADMMGames\u001b[0m\u001b[1;33m,\u001b[0m\u001b[0mADMMData\u001b[0m\u001b[1;33m)\u001b[0m\u001b[1;33m\u001b[0m\u001b[1;33m\u001b[0m\u001b[0m\n\u001b[0m",
      "\u001b[1;31mNameError\u001b[0m: name 'calcCBCounts' is not defined"
     ]
    }
   ],
   "source": [
    "calcCBCounts(ADMMGames,ADMMData)"
   ]
  },
  {
   "cell_type": "code",
   "execution_count": 40,
   "metadata": {
    "hidden": true
   },
   "outputs": [
    {
     "ename": "NameError",
     "evalue": "name 'calcCBCounts' is not defined",
     "output_type": "error",
     "traceback": [
      "\u001b[1;31m---------------------------------------------------------------------------\u001b[0m",
      "\u001b[1;31mNameError\u001b[0m                                 Traceback (most recent call last)",
      "\u001b[1;32m<ipython-input-40-cc946a5a107f>\u001b[0m in \u001b[0;36m<module>\u001b[1;34m\u001b[0m\n\u001b[1;32m----> 1\u001b[1;33m \u001b[0mcalcCBCounts\u001b[0m\u001b[1;33m(\u001b[0m\u001b[0mADMMEGames\u001b[0m\u001b[1;33m,\u001b[0m\u001b[0mADMMEData\u001b[0m\u001b[1;33m)\u001b[0m\u001b[1;33m\u001b[0m\u001b[1;33m\u001b[0m\u001b[0m\n\u001b[0m",
      "\u001b[1;31mNameError\u001b[0m: name 'calcCBCounts' is not defined"
     ]
    }
   ],
   "source": [
    "calcCBCounts(ADMMEGames,ADMMEData)"
   ]
  },
  {
   "cell_type": "code",
   "execution_count": 41,
   "metadata": {
    "hidden": true
   },
   "outputs": [
    {
     "ename": "NameError",
     "evalue": "name 'calcCBCounts' is not defined",
     "output_type": "error",
     "traceback": [
      "\u001b[1;31m---------------------------------------------------------------------------\u001b[0m",
      "\u001b[1;31mNameError\u001b[0m                                 Traceback (most recent call last)",
      "\u001b[1;32m<ipython-input-41-87f58699eb5a>\u001b[0m in \u001b[0;36m<module>\u001b[1;34m\u001b[0m\n\u001b[1;32m----> 1\u001b[1;33m \u001b[0mcalcCBCounts\u001b[0m\u001b[1;33m(\u001b[0m\u001b[0mGLRGames\u001b[0m\u001b[1;33m,\u001b[0m\u001b[0mGLRData\u001b[0m\u001b[1;33m)\u001b[0m\u001b[1;33m\u001b[0m\u001b[1;33m\u001b[0m\u001b[0m\n\u001b[0m",
      "\u001b[1;31mNameError\u001b[0m: name 'calcCBCounts' is not defined"
     ]
    }
   ],
   "source": [
    "calcCBCounts(GLRGames,GLRData)"
   ]
  },
  {
   "cell_type": "markdown",
   "metadata": {
    "hidden": true
   },
   "source": [
    "### Доля КП в YH"
   ]
  },
  {
   "cell_type": "code",
   "execution_count": 11,
   "metadata": {
    "hidden": true
   },
   "outputs": [
    {
     "name": "stdout",
     "output_type": "stream",
     "text": [
      "(978, 17) (90, 17)\n"
     ]
    }
   ],
   "source": [
    "print(YHData.shape,YHEData.shape)"
   ]
  },
  {
   "cell_type": "code",
   "execution_count": 42,
   "metadata": {
    "hidden": true
   },
   "outputs": [
    {
     "ename": "NameError",
     "evalue": "name 'calcCBCounts' is not defined",
     "output_type": "error",
     "traceback": [
      "\u001b[1;31m---------------------------------------------------------------------------\u001b[0m",
      "\u001b[1;31mNameError\u001b[0m                                 Traceback (most recent call last)",
      "\u001b[1;32m<ipython-input-42-83eadb5edc03>\u001b[0m in \u001b[0;36m<module>\u001b[1;34m\u001b[0m\n\u001b[1;32m----> 1\u001b[1;33m \u001b[0mcalcCBCounts\u001b[0m\u001b[1;33m(\u001b[0m\u001b[0mYHGames\u001b[0m\u001b[1;33m,\u001b[0m\u001b[0mYHData\u001b[0m\u001b[1;33m)\u001b[0m\u001b[1;33m\u001b[0m\u001b[1;33m\u001b[0m\u001b[0m\n\u001b[0m",
      "\u001b[1;31mNameError\u001b[0m: name 'calcCBCounts' is not defined"
     ]
    }
   ],
   "source": [
    "calcCBCounts(YHGames,YHData)"
   ]
  },
  {
   "cell_type": "code",
   "execution_count": 16,
   "metadata": {
    "hidden": true
   },
   "outputs": [],
   "source": [
    "Out[12].to_clipboard()"
   ]
  },
  {
   "cell_type": "code",
   "execution_count": 43,
   "metadata": {
    "hidden": true
   },
   "outputs": [
    {
     "ename": "NameError",
     "evalue": "name 'calcCBCounts' is not defined",
     "output_type": "error",
     "traceback": [
      "\u001b[1;31m---------------------------------------------------------------------------\u001b[0m",
      "\u001b[1;31mNameError\u001b[0m                                 Traceback (most recent call last)",
      "\u001b[1;32m<ipython-input-43-a469bb1c97d5>\u001b[0m in \u001b[0;36m<module>\u001b[1;34m\u001b[0m\n\u001b[1;32m----> 1\u001b[1;33m \u001b[0mcalcCBCounts\u001b[0m\u001b[1;33m(\u001b[0m\u001b[0mYHEGames\u001b[0m\u001b[1;33m,\u001b[0m\u001b[0mYHEData\u001b[0m\u001b[1;33m)\u001b[0m\u001b[1;33m\u001b[0m\u001b[1;33m\u001b[0m\u001b[0m\n\u001b[0m",
      "\u001b[1;31mNameError\u001b[0m: name 'calcCBCounts' is not defined"
     ]
    }
   ],
   "source": [
    "calcCBCounts(YHEGames,YHEData)"
   ]
  },
  {
   "cell_type": "code",
   "execution_count": 15,
   "metadata": {
    "hidden": true
   },
   "outputs": [],
   "source": [
    "Out[13].to_clipboard()"
   ]
  },
  {
   "cell_type": "code",
   "execution_count": 44,
   "metadata": {
    "hidden": true,
    "scrolled": true
   },
   "outputs": [
    {
     "data": {
      "text/html": [
       "<div>\n",
       "<style scoped>\n",
       "    .dataframe tbody tr th:only-of-type {\n",
       "        vertical-align: middle;\n",
       "    }\n",
       "\n",
       "    .dataframe tbody tr th {\n",
       "        vertical-align: top;\n",
       "    }\n",
       "\n",
       "    .dataframe thead th {\n",
       "        text-align: right;\n",
       "    }\n",
       "</style>\n",
       "<table border=\"1\" class=\"dataframe\">\n",
       "  <thead>\n",
       "    <tr style=\"text-align: right;\">\n",
       "      <th></th>\n",
       "      <th>ts</th>\n",
       "      <th>te</th>\n",
       "      <th>subject</th>\n",
       "      <th>game</th>\n",
       "      <th>gamelength</th>\n",
       "    </tr>\n",
       "  </thead>\n",
       "  <tbody>\n",
       "    <tr>\n",
       "      <th>30</th>\n",
       "      <td>1</td>\n",
       "      <td>3</td>\n",
       "      <td>2</td>\n",
       "      <td>40</td>\n",
       "      <td>60</td>\n",
       "    </tr>\n",
       "    <tr>\n",
       "      <th>82</th>\n",
       "      <td>1</td>\n",
       "      <td>3</td>\n",
       "      <td>3</td>\n",
       "      <td>40</td>\n",
       "      <td>60</td>\n",
       "    </tr>\n",
       "    <tr>\n",
       "      <th>83</th>\n",
       "      <td>6</td>\n",
       "      <td>8</td>\n",
       "      <td>3</td>\n",
       "      <td>40</td>\n",
       "      <td>60</td>\n",
       "    </tr>\n",
       "    <tr>\n",
       "      <th>31</th>\n",
       "      <td>7</td>\n",
       "      <td>9</td>\n",
       "      <td>2</td>\n",
       "      <td>40</td>\n",
       "      <td>60</td>\n",
       "    </tr>\n",
       "    <tr>\n",
       "      <th>32</th>\n",
       "      <td>11</td>\n",
       "      <td>12</td>\n",
       "      <td>2</td>\n",
       "      <td>40</td>\n",
       "      <td>60</td>\n",
       "    </tr>\n",
       "  </tbody>\n",
       "</table>\n",
       "</div>"
      ],
      "text/plain": [
       "    ts  te  subject  game  gamelength\n",
       "30   1   3        2    40          60\n",
       "82   1   3        3    40          60\n",
       "83   6   8        3    40          60\n",
       "31   7   9        2    40          60\n",
       "32  11  12        2    40          60"
      ]
     },
     "execution_count": 44,
     "metadata": {},
     "output_type": "execute_result"
    }
   ],
   "source": [
    "YHCB = getCBwithEps(YHData,eps=0.0)\n",
    "YHCB.sort_values(by=['game','ts']).head()"
   ]
  },
  {
   "cell_type": "code",
   "execution_count": 45,
   "metadata": {
    "hidden": true
   },
   "outputs": [
    {
     "data": {
      "text/plain": [
       "(131, 5)"
      ]
     },
     "execution_count": 45,
     "metadata": {},
     "output_type": "execute_result"
    }
   ],
   "source": [
    "YHCB.shape"
   ]
  },
  {
   "cell_type": "code",
   "execution_count": 11,
   "metadata": {
    "hidden": true
   },
   "outputs": [],
   "source": [
    "YHCB.to_csv(\"yhcb\")"
   ]
  },
  {
   "cell_type": "code",
   "execution_count": 55,
   "metadata": {
    "hidden": true
   },
   "outputs": [
    {
     "ename": "NameError",
     "evalue": "name 'YHCB' is not defined",
     "output_type": "error",
     "traceback": [
      "\u001b[1;31m---------------------------------------------------------------------------\u001b[0m",
      "\u001b[1;31mNameError\u001b[0m                                 Traceback (most recent call last)",
      "\u001b[1;32m<ipython-input-55-3906e42b6529>\u001b[0m in \u001b[0;36m<module>\u001b[1;34m()\u001b[0m\n\u001b[1;32m----> 1\u001b[1;33m \u001b[1;33m(\u001b[0m\u001b[0mYHCB\u001b[0m\u001b[1;33m[\u001b[0m\u001b[1;34m'te'\u001b[0m\u001b[1;33m]\u001b[0m\u001b[1;33m-\u001b[0m\u001b[0mYHCB\u001b[0m\u001b[1;33m[\u001b[0m\u001b[1;34m'ts'\u001b[0m\u001b[1;33m]\u001b[0m\u001b[1;33m)\u001b[0m\u001b[1;33m.\u001b[0m\u001b[0msum\u001b[0m\u001b[1;33m(\u001b[0m\u001b[1;33m)\u001b[0m\u001b[1;33m\u001b[0m\u001b[0m\n\u001b[0m",
      "\u001b[1;31mNameError\u001b[0m: name 'YHCB' is not defined"
     ]
    }
   ],
   "source": [
    "(YHCB['te']-YHCB['ts']).sum()"
   ]
  },
  {
   "cell_type": "code",
   "execution_count": 10,
   "metadata": {
    "hidden": true
   },
   "outputs": [],
   "source": [
    "def cbStepsCount(cbdata,sh=0):\n",
    "    return (cbdata['te']-cbdata['ts']+sh).sum()"
   ]
  },
  {
   "cell_type": "code",
   "execution_count": 46,
   "metadata": {
    "hidden": true
   },
   "outputs": [
    {
     "ename": "NameError",
     "evalue": "name 'cbStepsCount' is not defined",
     "output_type": "error",
     "traceback": [
      "\u001b[1;31m---------------------------------------------------------------------------\u001b[0m",
      "\u001b[1;31mNameError\u001b[0m                                 Traceback (most recent call last)",
      "\u001b[1;32m<ipython-input-46-8885dd87d7c8>\u001b[0m in \u001b[0;36m<module>\u001b[1;34m\u001b[0m\n\u001b[1;32m----> 1\u001b[1;33m pd.DataFrame(data=[cbStepsCount(getCBwithEps(YHData,e),0) for e in [0,0.5,1]],\n\u001b[0m\u001b[0;32m      2\u001b[0m              columns=['Steps count'], index=['CB(0)','CB(0.5)','CB(1)'])\n",
      "\u001b[1;32m<ipython-input-46-8885dd87d7c8>\u001b[0m in \u001b[0;36m<listcomp>\u001b[1;34m(.0)\u001b[0m\n\u001b[1;32m----> 1\u001b[1;33m pd.DataFrame(data=[cbStepsCount(getCBwithEps(YHData,e),0) for e in [0,0.5,1]],\n\u001b[0m\u001b[0;32m      2\u001b[0m              columns=['Steps count'], index=['CB(0)','CB(0.5)','CB(1)'])\n",
      "\u001b[1;31mNameError\u001b[0m: name 'cbStepsCount' is not defined"
     ]
    }
   ],
   "source": [
    "pd.DataFrame(data=[cbStepsCount(getCBwithEps(YHData,e),0) for e in [0,0.5,1]],\n",
    "             columns=['Steps count'], index=['CB(0)','CB(0.5)','CB(1)'])"
   ]
  },
  {
   "cell_type": "code",
   "execution_count": 68,
   "metadata": {
    "hidden": true,
    "scrolled": true
   },
   "outputs": [],
   "source": [
    "dcb = DataMarkedCB(YHData,YHCB)"
   ]
  },
  {
   "cell_type": "code",
   "execution_count": 35,
   "metadata": {
    "hidden": true
   },
   "outputs": [
    {
     "name": "stdout",
     "output_type": "stream",
     "text": [
      "Stored 'dcb' (DataFrame)\n"
     ]
    }
   ],
   "source": [
    "%store dcb"
   ]
  },
  {
   "cell_type": "code",
   "execution_count": 47,
   "metadata": {
    "hidden": true,
    "scrolled": true
   },
   "outputs": [
    {
     "ename": "NameError",
     "evalue": "name 'dcb' is not defined",
     "output_type": "error",
     "traceback": [
      "\u001b[1;31m---------------------------------------------------------------------------\u001b[0m",
      "\u001b[1;31mNameError\u001b[0m                                 Traceback (most recent call last)",
      "\u001b[1;32m<ipython-input-47-7ae56644ea06>\u001b[0m in \u001b[0;36m<module>\u001b[1;34m\u001b[0m\n\u001b[1;32m----> 1\u001b[1;33m \u001b[0mdcb\u001b[0m\u001b[1;33m.\u001b[0m\u001b[0mhead\u001b[0m\u001b[1;33m(\u001b[0m\u001b[1;36m6\u001b[0m\u001b[1;33m)\u001b[0m\u001b[1;33m\u001b[0m\u001b[1;33m\u001b[0m\u001b[0m\n\u001b[0m",
      "\u001b[1;31mNameError\u001b[0m: name 'dcb' is not defined"
     ]
    }
   ],
   "source": [
    "dcb.head(6)"
   ]
  },
  {
   "cell_type": "code",
   "execution_count": 48,
   "metadata": {
    "hidden": true
   },
   "outputs": [
    {
     "ename": "NameError",
     "evalue": "name 'dcb' is not defined",
     "output_type": "error",
     "traceback": [
      "\u001b[1;31m---------------------------------------------------------------------------\u001b[0m",
      "\u001b[1;31mNameError\u001b[0m                                 Traceback (most recent call last)",
      "\u001b[1;32m<ipython-input-48-4049009d5c33>\u001b[0m in \u001b[0;36m<module>\u001b[1;34m\u001b[0m\n\u001b[1;32m----> 1\u001b[1;33m \u001b[0mdcb\u001b[0m\u001b[1;33m[\u001b[0m\u001b[0mdcb\u001b[0m\u001b[1;33m[\u001b[0m\u001b[1;34m'iscb'\u001b[0m\u001b[1;33m]\u001b[0m\u001b[1;33m>\u001b[0m\u001b[1;36m0\u001b[0m\u001b[1;33m]\u001b[0m\u001b[1;33m.\u001b[0m\u001b[0mcount\u001b[0m\u001b[1;33m(\u001b[0m\u001b[1;33m)\u001b[0m\u001b[1;33m\u001b[0m\u001b[1;33m\u001b[0m\u001b[0m\n\u001b[0m",
      "\u001b[1;31mNameError\u001b[0m: name 'dcb' is not defined"
     ]
    }
   ],
   "source": [
    "dcb[dcb['iscb']>0].count()"
   ]
  },
  {
   "cell_type": "code",
   "execution_count": 49,
   "metadata": {
    "hidden": true
   },
   "outputs": [
    {
     "ename": "NameError",
     "evalue": "name 'dcb' is not defined",
     "output_type": "error",
     "traceback": [
      "\u001b[1;31m---------------------------------------------------------------------------\u001b[0m",
      "\u001b[1;31mNameError\u001b[0m                                 Traceback (most recent call last)",
      "\u001b[1;32m<ipython-input-49-2fa4af0a1762>\u001b[0m in \u001b[0;36m<module>\u001b[1;34m\u001b[0m\n\u001b[1;32m----> 1\u001b[1;33m \u001b[0mdcb\u001b[0m\u001b[1;33m[\u001b[0m\u001b[0mdcb\u001b[0m\u001b[1;33m[\u001b[0m\u001b[1;34m'iscb'\u001b[0m\u001b[1;33m]\u001b[0m\u001b[1;33m<\u001b[0m\u001b[1;36m1\u001b[0m\u001b[1;33m]\u001b[0m\u001b[1;33m.\u001b[0m\u001b[0mcount\u001b[0m\u001b[1;33m(\u001b[0m\u001b[1;33m)\u001b[0m\u001b[1;33m\u001b[0m\u001b[1;33m\u001b[0m\u001b[0m\n\u001b[0m",
      "\u001b[1;31mNameError\u001b[0m: name 'dcb' is not defined"
     ]
    }
   ],
   "source": [
    "dcb[dcb['iscb']<1].count()"
   ]
  },
  {
   "cell_type": "code",
   "execution_count": 50,
   "metadata": {
    "hidden": true
   },
   "outputs": [
    {
     "data": {
      "text/plain": [
       "Index(['Game', 'Time', 'Subject', 'Group', 'GrSubject', 'Type', 'Gain',\n",
       "       'Penalty', 'x', 's1', 's2', 's3', 'AcceptAdvice', 'CalcCount',\n",
       "       'CalcAdviceCount', 'UseHelp', 'Util'],\n",
       "      dtype='object')"
      ]
     },
     "execution_count": 50,
     "metadata": {},
     "output_type": "execute_result"
    }
   ],
   "source": [
    "YHData.columns"
   ]
  },
  {
   "cell_type": "code",
   "execution_count": 109,
   "metadata": {
    "hidden": true
   },
   "outputs": [
    {
     "data": {
      "text/html": [
       "<div>\n",
       "<style scoped>\n",
       "    .dataframe tbody tr th:only-of-type {\n",
       "        vertical-align: middle;\n",
       "    }\n",
       "\n",
       "    .dataframe tbody tr th {\n",
       "        vertical-align: top;\n",
       "    }\n",
       "\n",
       "    .dataframe thead th {\n",
       "        text-align: right;\n",
       "    }\n",
       "</style>\n",
       "<table border=\"1\" class=\"dataframe\">\n",
       "  <thead>\n",
       "    <tr style=\"text-align: right;\">\n",
       "      <th></th>\n",
       "      <th>Game</th>\n",
       "      <th>Time</th>\n",
       "      <th>Subject</th>\n",
       "      <th>Group</th>\n",
       "      <th>GrSubject</th>\n",
       "      <th>Type</th>\n",
       "      <th>Gain</th>\n",
       "      <th>Penalty</th>\n",
       "      <th>x</th>\n",
       "      <th>s1</th>\n",
       "      <th>...</th>\n",
       "      <th>Unew&gt;U</th>\n",
       "      <th>Fnew&gt;F</th>\n",
       "      <th>Fi&gt;Fprev</th>\n",
       "      <th>Ui</th>\n",
       "      <th>Unew</th>\n",
       "      <th>U</th>\n",
       "      <th>Uloc</th>\n",
       "      <th>Uloc&gt;Ulocprev</th>\n",
       "      <th>g</th>\n",
       "      <th>br</th>\n",
       "    </tr>\n",
       "  </thead>\n",
       "  <tbody>\n",
       "    <tr>\n",
       "      <th>92</th>\n",
       "      <td>40</td>\n",
       "      <td>31</td>\n",
       "      <td>11.0</td>\n",
       "      <td>1.0</td>\n",
       "      <td>1</td>\n",
       "      <td>1.0</td>\n",
       "      <td>1.623527</td>\n",
       "      <td>0.0325</td>\n",
       "      <td>1.742424</td>\n",
       "      <td>NaN</td>\n",
       "      <td>...</td>\n",
       "      <td>NaN</td>\n",
       "      <td>NaN</td>\n",
       "      <td>NaN</td>\n",
       "      <td>NaN</td>\n",
       "      <td>NaN</td>\n",
       "      <td>NaN</td>\n",
       "      <td>NaN</td>\n",
       "      <td>NaN</td>\n",
       "      <td>-0.001724</td>\n",
       "      <td>59.096433</td>\n",
       "    </tr>\n",
       "    <tr>\n",
       "      <th>95</th>\n",
       "      <td>40</td>\n",
       "      <td>32</td>\n",
       "      <td>11.0</td>\n",
       "      <td>1.0</td>\n",
       "      <td>1</td>\n",
       "      <td>1.0</td>\n",
       "      <td>5.393992</td>\n",
       "      <td>1.3000</td>\n",
       "      <td>43.809524</td>\n",
       "      <td>NaN</td>\n",
       "      <td>...</td>\n",
       "      <td>NaN</td>\n",
       "      <td>NaN</td>\n",
       "      <td>NaN</td>\n",
       "      <td>NaN</td>\n",
       "      <td>NaN</td>\n",
       "      <td>NaN</td>\n",
       "      <td>NaN</td>\n",
       "      <td>NaN</td>\n",
       "      <td>0.671298</td>\n",
       "      <td>59.096433</td>\n",
       "    </tr>\n",
       "    <tr>\n",
       "      <th>98</th>\n",
       "      <td>40</td>\n",
       "      <td>33</td>\n",
       "      <td>11.0</td>\n",
       "      <td>1.0</td>\n",
       "      <td>1</td>\n",
       "      <td>1.0</td>\n",
       "      <td>5.046249</td>\n",
       "      <td>1.4400</td>\n",
       "      <td>41.071429</td>\n",
       "      <td>NaN</td>\n",
       "      <td>...</td>\n",
       "      <td>NaN</td>\n",
       "      <td>NaN</td>\n",
       "      <td>NaN</td>\n",
       "      <td>NaN</td>\n",
       "      <td>NaN</td>\n",
       "      <td>NaN</td>\n",
       "      <td>NaN</td>\n",
       "      <td>NaN</td>\n",
       "      <td>0.000000</td>\n",
       "      <td>59.096433</td>\n",
       "    </tr>\n",
       "    <tr>\n",
       "      <th>101</th>\n",
       "      <td>40</td>\n",
       "      <td>34</td>\n",
       "      <td>11.0</td>\n",
       "      <td>1.0</td>\n",
       "      <td>1</td>\n",
       "      <td>1.0</td>\n",
       "      <td>4.935892</td>\n",
       "      <td>1.4430</td>\n",
       "      <td>39.690265</td>\n",
       "      <td>NaN</td>\n",
       "      <td>...</td>\n",
       "      <td>NaN</td>\n",
       "      <td>NaN</td>\n",
       "      <td>NaN</td>\n",
       "      <td>NaN</td>\n",
       "      <td>NaN</td>\n",
       "      <td>NaN</td>\n",
       "      <td>NaN</td>\n",
       "      <td>NaN</td>\n",
       "      <td>-0.066595</td>\n",
       "      <td>55.016061</td>\n",
       "    </tr>\n",
       "  </tbody>\n",
       "</table>\n",
       "<p>4 rows × 29 columns</p>\n",
       "</div>"
      ],
      "text/plain": [
       "     Game  Time  Subject  Group  GrSubject  Type      Gain  Penalty  \\\n",
       "92     40    31     11.0    1.0          1   1.0  1.623527   0.0325   \n",
       "95     40    32     11.0    1.0          1   1.0  5.393992   1.3000   \n",
       "98     40    33     11.0    1.0          1   1.0  5.046249   1.4400   \n",
       "101    40    34     11.0    1.0          1   1.0  4.935892   1.4430   \n",
       "\n",
       "             x  s1  ...  Unew>U  Fnew>F  Fi>Fprev  Ui  Unew   U  Uloc  \\\n",
       "92    1.742424 NaN  ...     NaN     NaN       NaN NaN   NaN NaN   NaN   \n",
       "95   43.809524 NaN  ...     NaN     NaN       NaN NaN   NaN NaN   NaN   \n",
       "98   41.071429 NaN  ...     NaN     NaN       NaN NaN   NaN NaN   NaN   \n",
       "101  39.690265 NaN  ...     NaN     NaN       NaN NaN   NaN NaN   NaN   \n",
       "\n",
       "     Uloc>Ulocprev         g         br  \n",
       "92             NaN -0.001724  59.096433  \n",
       "95             NaN  0.671298  59.096433  \n",
       "98             NaN  0.000000  59.096433  \n",
       "101            NaN -0.066595  55.016061  \n",
       "\n",
       "[4 rows x 29 columns]"
      ]
     },
     "execution_count": 109,
     "metadata": {},
     "output_type": "execute_result"
    }
   ],
   "source": [
    "YHData[(YHData['Game']==40) & (YHData['GrSubject']==1) & (YHData['Time']>=31) & (YHData['Time']<=34)]"
   ]
  },
  {
   "cell_type": "code",
   "execution_count": 52,
   "metadata": {
    "hidden": true
   },
   "outputs": [
    {
     "data": {
      "text/plain": [
       "295"
      ]
     },
     "execution_count": 52,
     "metadata": {},
     "output_type": "execute_result"
    }
   ],
   "source": [
    "(YHCB['te']-YHCB['ts']).sum()"
   ]
  },
  {
   "cell_type": "code",
   "execution_count": 53,
   "metadata": {
    "hidden": true
   },
   "outputs": [
    {
     "data": {
      "text/plain": [
       "(978, 17)"
      ]
     },
     "execution_count": 53,
     "metadata": {},
     "output_type": "execute_result"
    }
   ],
   "source": [
    "YHData.shape"
   ]
  },
  {
   "cell_type": "code",
   "execution_count": 54,
   "metadata": {
    "hidden": true
   },
   "outputs": [
    {
     "ename": "NameError",
     "evalue": "name 'Counts' is not defined",
     "output_type": "error",
     "traceback": [
      "\u001b[1;31m---------------------------------------------------------------------------\u001b[0m",
      "\u001b[1;31mNameError\u001b[0m                                 Traceback (most recent call last)",
      "\u001b[1;32m<ipython-input-54-ede42bb713e3>\u001b[0m in \u001b[0;36m<module>\u001b[1;34m\u001b[0m\n\u001b[1;32m----> 1\u001b[1;33m \u001b[0mCounts\u001b[0m\u001b[1;33m.\u001b[0m\u001b[0mto_clipboard\u001b[0m\u001b[1;33m(\u001b[0m\u001b[1;33m)\u001b[0m\u001b[1;33m\u001b[0m\u001b[1;33m\u001b[0m\u001b[0m\n\u001b[0m",
      "\u001b[1;31mNameError\u001b[0m: name 'Counts' is not defined"
     ]
    }
   ],
   "source": [
    "Counts.to_clipboard()"
   ]
  },
  {
   "cell_type": "code",
   "execution_count": 55,
   "metadata": {
    "hidden": true
   },
   "outputs": [
    {
     "ename": "NameError",
     "evalue": "name 'Counts' is not defined",
     "output_type": "error",
     "traceback": [
      "\u001b[1;31m---------------------------------------------------------------------------\u001b[0m",
      "\u001b[1;31mNameError\u001b[0m                                 Traceback (most recent call last)",
      "\u001b[1;32m<ipython-input-55-9642bf4090bd>\u001b[0m in \u001b[0;36m<module>\u001b[1;34m\u001b[0m\n\u001b[0;32m      2\u001b[0m \u001b[0maxes\u001b[0m\u001b[1;33m[\u001b[0m\u001b[1;36m0\u001b[0m\u001b[1;33m]\u001b[0m\u001b[1;33m.\u001b[0m\u001b[0mset_title\u001b[0m\u001b[1;33m(\u001b[0m\u001b[1;34m'CB Count'\u001b[0m\u001b[1;33m)\u001b[0m\u001b[1;33m\u001b[0m\u001b[1;33m\u001b[0m\u001b[0m\n\u001b[0;32m      3\u001b[0m \u001b[0maxes\u001b[0m\u001b[1;33m[\u001b[0m\u001b[1;36m1\u001b[0m\u001b[1;33m]\u001b[0m\u001b[1;33m.\u001b[0m\u001b[0mset_title\u001b[0m\u001b[1;33m(\u001b[0m\u001b[1;34m'Steps Count'\u001b[0m\u001b[1;33m)\u001b[0m\u001b[1;33m\u001b[0m\u001b[1;33m\u001b[0m\u001b[0m\n\u001b[1;32m----> 4\u001b[1;33m \u001b[0mCounts\u001b[0m\u001b[1;33m[\u001b[0m\u001b[1;34m'CB Count'\u001b[0m\u001b[1;33m]\u001b[0m\u001b[1;33m.\u001b[0m\u001b[0mplot\u001b[0m\u001b[1;33m(\u001b[0m\u001b[0max\u001b[0m\u001b[1;33m=\u001b[0m\u001b[0maxes\u001b[0m\u001b[1;33m[\u001b[0m\u001b[1;36m0\u001b[0m\u001b[1;33m]\u001b[0m\u001b[1;33m)\u001b[0m\u001b[1;33m\u001b[0m\u001b[1;33m\u001b[0m\u001b[0m\n\u001b[0m\u001b[0;32m      5\u001b[0m \u001b[0mCounts\u001b[0m\u001b[1;33m[\u001b[0m\u001b[1;34m'Steps Count'\u001b[0m\u001b[1;33m]\u001b[0m\u001b[1;33m.\u001b[0m\u001b[0mplot\u001b[0m\u001b[1;33m(\u001b[0m\u001b[0max\u001b[0m\u001b[1;33m=\u001b[0m\u001b[0maxes\u001b[0m\u001b[1;33m[\u001b[0m\u001b[1;36m1\u001b[0m\u001b[1;33m]\u001b[0m\u001b[1;33m)\u001b[0m\u001b[1;33m\u001b[0m\u001b[1;33m\u001b[0m\u001b[0m\n\u001b[0;32m      6\u001b[0m \u001b[0mfig\u001b[0m\u001b[1;33m.\u001b[0m\u001b[0mtight_layout\u001b[0m\u001b[1;33m(\u001b[0m\u001b[0mh_pad\u001b[0m\u001b[1;33m=\u001b[0m\u001b[1;36m0.1\u001b[0m\u001b[1;33m)\u001b[0m\u001b[1;33m\u001b[0m\u001b[1;33m\u001b[0m\u001b[0m\n",
      "\u001b[1;31mNameError\u001b[0m: name 'Counts' is not defined"
     ]
    },
    {
     "data": {
      "image/png": "[encoded data removed]",
      "text/plain": [
       "<Figure size 432x288 with 2 Axes>"
      ]
     },
     "metadata": {
      "needs_background": "light"
     },
     "output_type": "display_data"
    }
   ],
   "source": [
    "fig, axes = plt.subplots(nrows=2, ncols=1)\n",
    "axes[0].set_title('CB Count')\n",
    "axes[1].set_title('Steps Count')\n",
    "Counts['CB Count'].plot(ax=axes[0])\n",
    "Counts['Steps Count'].plot(ax=axes[1])\n",
    "fig.tight_layout(h_pad=0.1)\n",
    "fig.savefig('CB_StepsCount.png',dpi=100)"
   ]
  },
  {
   "cell_type": "markdown",
   "metadata": {
    "heading_collapsed": "true",
    "tags": []
   },
   "source": [
    "## Для графиков числа КП и шагов в них"
   ]
  },
  {
   "cell_type": "code",
   "execution_count": 16,
   "metadata": {
    "hidden": true
   },
   "outputs": [],
   "source": [
    "Meta={'basecount':YHData.shape[0],'expcount':YHEData.shape[0]}"
   ]
  },
  {
   "cell_type": "markdown",
   "metadata": {
    "hidden": true,
    "tags": []
   },
   "source": [
    "### Для статьи \"КП итог\""
   ]
  },
  {
   "cell_type": "code",
   "execution_count": 27,
   "metadata": {
    "hidden": true
   },
   "outputs": [
    {
     "data": {
      "image/png": "[encoded data removed]",
      "text/plain": [
       "<Figure size 720x360 with 4 Axes>"
      ]
     },
     "metadata": {},
     "output_type": "display_data"
    }
   ],
   "source": [
    "fig, axes = plt.subplots(nrows=2, ncols=2)\n",
    "axes[0,0].set_title('YH - CB Count')\n",
    "axes[1,0].set_title('Experim. YH - CB Count')\n",
    "axes[0,1].set_title('YH - Steps Count (%)')\n",
    "axes[1,1].set_title('Experim. YH - Steps Count (%)')\n",
    "CountsExp['CB Count'].plot(ax=axes[1,0])\n",
    "(CountsExp['Steps Count']/(Meta['expcount']/100)).plot(ax=axes[1,1])\n",
    "Counts['CB Count'].plot(ax=axes[0,0])\n",
    "(Counts['Steps Count']/(Meta['basecount']/100)).plot(ax=axes[0,1])\n",
    "fig.tight_layout(h_pad=0.1)\n",
    "fig.set_size_inches((10,5))\n",
    "fig.savefig('YHE_CB_StepsCount.png',dpi=150)"
   ]
  },
  {
   "cell_type": "markdown",
   "metadata": {
    "hidden": true,
    "tags": []
   },
   "source": [
    "### Для презентации на УБС-2018"
   ]
  },
  {
   "cell_type": "code",
   "execution_count": 15,
   "metadata": {
    "hidden": true
   },
   "outputs": [
    {
     "data": {
      "image/png": "[encoded data removed]",
      "text/plain": [
       "<Figure size 432x288 with 2 Axes>"
      ]
     },
     "metadata": {
      "needs_background": "light"
     },
     "output_type": "display_data"
    }
   ],
   "source": [
    "fig, axes = plt.subplots(nrows=2, ncols=1)\n",
    "#axes[0,0].set_title('YH - CB Count')\n",
    "#axes[1,0].set_title('Experim. YH - CB Count')\n",
    "axes[0].set_title('YH - Steps Count (%)')\n",
    "axes[1].set_title('Experim. YH - Steps Count (%)')\n",
    "#CountsExp['CB Count'].plot(ax=axes[1,0])\n",
    "CountsExp['Steps Count'].plot(ax=axes[1])\n",
    "#Counts['CB Count'].plot(ax=axes[0,0])\n",
    "Counts['Steps Count'].plot(ax=axes[0])\n",
    "fig.tight_layout(h_pad=0.1)\n",
    "#fig.set_size_inches((10,5))\n",
    "fig.savefig('YHE_CB_StepsCount.png',dpi=150)"
   ]
  },
  {
   "cell_type": "code",
   "execution_count": 56,
   "metadata": {
    "hidden": true
   },
   "outputs": [
    {
     "ename": "NameError",
     "evalue": "name 'CountsExp' is not defined",
     "output_type": "error",
     "traceback": [
      "\u001b[1;31m---------------------------------------------------------------------------\u001b[0m",
      "\u001b[1;31mNameError\u001b[0m                                 Traceback (most recent call last)",
      "\u001b[1;32m<ipython-input-56-c246e0ad8c89>\u001b[0m in \u001b[0;36m<module>\u001b[1;34m\u001b[0m\n\u001b[1;32m----> 1\u001b[1;33m \u001b[0mCountsExp\u001b[0m\u001b[1;33m[\u001b[0m\u001b[1;34m'Steps Count'\u001b[0m\u001b[1;33m]\u001b[0m\u001b[1;33m/\u001b[0m\u001b[1;36m75\u001b[0m\u001b[1;33m\u001b[0m\u001b[1;33m\u001b[0m\u001b[0m\n\u001b[0m",
      "\u001b[1;31mNameError\u001b[0m: name 'CountsExp' is not defined"
     ]
    }
   ],
   "source": [
    "CountsExp['Steps Count']/75"
   ]
  },
  {
   "cell_type": "code",
   "execution_count": 57,
   "metadata": {
    "hidden": true
   },
   "outputs": [
    {
     "ename": "NameError",
     "evalue": "name 'CountsExp' is not defined",
     "output_type": "error",
     "traceback": [
      "\u001b[1;31m---------------------------------------------------------------------------\u001b[0m",
      "\u001b[1;31mNameError\u001b[0m                                 Traceback (most recent call last)",
      "\u001b[1;32m<ipython-input-57-dd1ed4cb1b17>\u001b[0m in \u001b[0;36m<module>\u001b[1;34m\u001b[0m\n\u001b[0;32m      1\u001b[0m \u001b[0mfig\u001b[0m\u001b[1;33m,\u001b[0m \u001b[0maxes\u001b[0m \u001b[1;33m=\u001b[0m \u001b[0mplt\u001b[0m\u001b[1;33m.\u001b[0m\u001b[0msubplots\u001b[0m\u001b[1;33m(\u001b[0m\u001b[0mnrows\u001b[0m\u001b[1;33m=\u001b[0m\u001b[1;36m2\u001b[0m\u001b[1;33m,\u001b[0m \u001b[0mncols\u001b[0m\u001b[1;33m=\u001b[0m\u001b[1;36m1\u001b[0m\u001b[1;33m)\u001b[0m\u001b[1;33m\u001b[0m\u001b[1;33m\u001b[0m\u001b[0m\n\u001b[1;32m----> 2\u001b[1;33m \u001b[0mCountsExp\u001b[0m\u001b[1;33m[\u001b[0m\u001b[1;34m'CB Count'\u001b[0m\u001b[1;33m]\u001b[0m\u001b[1;33m.\u001b[0m\u001b[0mplot\u001b[0m\u001b[1;33m(\u001b[0m\u001b[0max\u001b[0m\u001b[1;33m=\u001b[0m\u001b[0maxes\u001b[0m\u001b[1;33m[\u001b[0m\u001b[1;36m0\u001b[0m\u001b[1;33m]\u001b[0m\u001b[1;33m)\u001b[0m\u001b[1;33m\u001b[0m\u001b[1;33m\u001b[0m\u001b[0m\n\u001b[0m\u001b[0;32m      3\u001b[0m \u001b[0mCountsExp\u001b[0m\u001b[1;33m[\u001b[0m\u001b[1;34m'Steps Count'\u001b[0m\u001b[1;33m]\u001b[0m\u001b[1;33m.\u001b[0m\u001b[0mplot\u001b[0m\u001b[1;33m(\u001b[0m\u001b[0max\u001b[0m\u001b[1;33m=\u001b[0m\u001b[0maxes\u001b[0m\u001b[1;33m[\u001b[0m\u001b[1;36m1\u001b[0m\u001b[1;33m]\u001b[0m\u001b[1;33m)\u001b[0m\u001b[1;33m\u001b[0m\u001b[1;33m\u001b[0m\u001b[0m\n\u001b[0;32m      4\u001b[0m \u001b[0mfig\u001b[0m\u001b[1;33m.\u001b[0m\u001b[0msavefig\u001b[0m\u001b[1;33m(\u001b[0m\u001b[1;34m'YHE_CB_StepsCount.png'\u001b[0m\u001b[1;33m,\u001b[0m\u001b[0mdpi\u001b[0m\u001b[1;33m=\u001b[0m\u001b[1;36m100\u001b[0m\u001b[1;33m)\u001b[0m\u001b[1;33m\u001b[0m\u001b[1;33m\u001b[0m\u001b[0m\n",
      "\u001b[1;31mNameError\u001b[0m: name 'CountsExp' is not defined"
     ]
    },
    {
     "data": {
      "image/png": "[encoded data removed]",
      "text/plain": [
       "<Figure size 432x288 with 2 Axes>"
      ]
     },
     "metadata": {
      "needs_background": "light"
     },
     "output_type": "display_data"
    }
   ],
   "source": [
    "fig, axes = plt.subplots(nrows=2, ncols=1)\n",
    "CountsExp['CB Count'].plot(ax=axes[0])\n",
    "CountsExp['Steps Count'].plot(ax=axes[1])\n",
    "fig.savefig('YHE_CB_StepsCount.png',dpi=100)"
   ]
  },
  {
   "cell_type": "code",
   "execution_count": 58,
   "metadata": {
    "hidden": true
   },
   "outputs": [
    {
     "data": {
      "text/html": [
       "<div>\n",
       "<style scoped>\n",
       "    .dataframe tbody tr th:only-of-type {\n",
       "        vertical-align: middle;\n",
       "    }\n",
       "\n",
       "    .dataframe tbody tr th {\n",
       "        vertical-align: top;\n",
       "    }\n",
       "\n",
       "    .dataframe thead th {\n",
       "        text-align: right;\n",
       "    }\n",
       "</style>\n",
       "<table border=\"1\" class=\"dataframe\">\n",
       "  <thead>\n",
       "    <tr style=\"text-align: right;\">\n",
       "      <th></th>\n",
       "      <th>Time</th>\n",
       "      <th>x</th>\n",
       "    </tr>\n",
       "  </thead>\n",
       "  <tbody>\n",
       "    <tr>\n",
       "      <th>6414</th>\n",
       "      <td>8</td>\n",
       "      <td>22.133333</td>\n",
       "    </tr>\n",
       "    <tr>\n",
       "      <th>6415</th>\n",
       "      <td>8</td>\n",
       "      <td>42.333333</td>\n",
       "    </tr>\n",
       "    <tr>\n",
       "      <th>6416</th>\n",
       "      <td>8</td>\n",
       "      <td>50.533333</td>\n",
       "    </tr>\n",
       "  </tbody>\n",
       "</table>\n",
       "</div>"
      ],
      "text/plain": [
       "      Time          x\n",
       "6414     8  22.133333\n",
       "6415     8  42.333333\n",
       "6416     8  50.533333"
      ]
     },
     "execution_count": 58,
     "metadata": {},
     "output_type": "execute_result"
    }
   ],
   "source": [
    "GLData[['Time','x']].iloc[-3:]"
   ]
  },
  {
   "cell_type": "markdown",
   "metadata": {
    "hidden": true,
    "tags": []
   },
   "source": [
    "### Распределение, эфф-е по Нэш-торгам"
   ]
  },
  {
   "cell_type": "markdown",
   "metadata": {
    "hidden": true
   },
   "source": [
    "NashOpt - оптимальное распределение ресурсов для максимизации функции торгов Нэша $ \\Pi_i (u_i(x_i)-u_i(0)) $ :"
   ]
  },
  {
   "cell_type": "code",
   "execution_count": null,
   "metadata": {
    "hidden": true
   },
   "outputs": [],
   "source": [
    "NashOpt=[32.0724,39.1355,43.7921]"
   ]
  },
  {
   "cell_type": "code",
   "execution_count": 115,
   "metadata": {
    "hidden": true
   },
   "outputs": [],
   "source": [
    "gamegroups = GLData.groupby('Game')\n",
    "\n",
    "a = []\n",
    "for g,data in gamegroups:\n",
    "    data.sort_values(by=['Time','GrSubject'])\n",
    "    a.append( data['x'].iloc[-3:].values )"
   ]
  },
  {
   "cell_type": "code",
   "execution_count": 59,
   "metadata": {
    "hidden": true
   },
   "outputs": [
    {
     "ename": "NameError",
     "evalue": "name 'a' is not defined",
     "output_type": "error",
     "traceback": [
      "\u001b[1;31m---------------------------------------------------------------------------\u001b[0m",
      "\u001b[1;31mNameError\u001b[0m                                 Traceback (most recent call last)",
      "\u001b[1;32m<ipython-input-59-3f786850e387>\u001b[0m in \u001b[0;36m<module>\u001b[1;34m\u001b[0m\n\u001b[1;32m----> 1\u001b[1;33m \u001b[0ma\u001b[0m\u001b[1;33m\u001b[0m\u001b[1;33m\u001b[0m\u001b[0m\n\u001b[0m",
      "\u001b[1;31mNameError\u001b[0m: name 'a' is not defined"
     ]
    }
   ],
   "source": [
    "a"
   ]
  },
  {
   "cell_type": "code",
   "execution_count": 81,
   "metadata": {
    "hidden": true
   },
   "outputs": [],
   "source": [
    "from scipy.spatial import distance"
   ]
  },
  {
   "cell_type": "code",
   "execution_count": 62,
   "metadata": {
    "hidden": true
   },
   "outputs": [
    {
     "ename": "NameError",
     "evalue": "name 'a' is not defined",
     "output_type": "error",
     "traceback": [
      "\u001b[1;31m---------------------------------------------------------------------------\u001b[0m",
      "\u001b[1;31mNameError\u001b[0m                                 Traceback (most recent call last)",
      "\u001b[1;32m<ipython-input-62-f16d7b1458bd>\u001b[0m in \u001b[0;36m<module>\u001b[1;34m\u001b[0m\n\u001b[1;32m----> 1\u001b[1;33m \u001b[0mnpd\u001b[0m \u001b[1;33m=\u001b[0m \u001b[0mdistance\u001b[0m\u001b[1;33m.\u001b[0m\u001b[0mcdist\u001b[0m\u001b[1;33m(\u001b[0m\u001b[0ma\u001b[0m\u001b[1;33m,\u001b[0m\u001b[1;33m[\u001b[0m\u001b[1;33m[\u001b[0m\u001b[1;36m115\u001b[0m\u001b[1;33m/\u001b[0m\u001b[1;36m3\u001b[0m\u001b[1;33m,\u001b[0m\u001b[1;36m115\u001b[0m\u001b[1;33m/\u001b[0m\u001b[1;36m3\u001b[0m\u001b[1;33m,\u001b[0m\u001b[1;36m115\u001b[0m\u001b[1;33m/\u001b[0m\u001b[1;36m3\u001b[0m\u001b[1;33m]\u001b[0m\u001b[1;33m,\u001b[0m\u001b[1;33m[\u001b[0m\u001b[1;36m49\u001b[0m\u001b[1;33m,\u001b[0m\u001b[1;36m41\u001b[0m\u001b[1;33m,\u001b[0m\u001b[1;36m25\u001b[0m\u001b[1;33m]\u001b[0m\u001b[1;33m,\u001b[0m\u001b[1;33m[\u001b[0m\u001b[1;36m32.0724\u001b[0m\u001b[1;33m,\u001b[0m \u001b[1;36m39.1355\u001b[0m\u001b[1;33m,\u001b[0m \u001b[1;36m43.7921\u001b[0m\u001b[1;33m]\u001b[0m\u001b[1;33m]\u001b[0m\u001b[1;33m,\u001b[0m\u001b[1;34m'cityblock'\u001b[0m\u001b[1;33m)\u001b[0m\u001b[1;33m\u001b[0m\u001b[1;33m\u001b[0m\u001b[0m\n\u001b[0m\u001b[0;32m      2\u001b[0m \u001b[0mnpd2\u001b[0m \u001b[1;33m=\u001b[0m \u001b[0mdistance\u001b[0m\u001b[1;33m.\u001b[0m\u001b[0mcdist\u001b[0m\u001b[1;33m(\u001b[0m\u001b[0ma\u001b[0m\u001b[1;33m,\u001b[0m\u001b[1;33m[\u001b[0m\u001b[1;33m[\u001b[0m\u001b[1;36m115\u001b[0m\u001b[1;33m/\u001b[0m\u001b[1;36m3\u001b[0m\u001b[1;33m,\u001b[0m\u001b[1;36m115\u001b[0m\u001b[1;33m/\u001b[0m\u001b[1;36m3\u001b[0m\u001b[1;33m,\u001b[0m\u001b[1;36m115\u001b[0m\u001b[1;33m/\u001b[0m\u001b[1;36m3\u001b[0m\u001b[1;33m]\u001b[0m\u001b[1;33m,\u001b[0m\u001b[1;33m[\u001b[0m\u001b[1;36m49\u001b[0m\u001b[1;33m,\u001b[0m\u001b[1;36m41\u001b[0m\u001b[1;33m,\u001b[0m\u001b[1;36m25\u001b[0m\u001b[1;33m]\u001b[0m\u001b[1;33m,\u001b[0m\u001b[1;33m[\u001b[0m\u001b[1;36m32.0724\u001b[0m\u001b[1;33m,\u001b[0m \u001b[1;36m39.1355\u001b[0m\u001b[1;33m,\u001b[0m \u001b[1;36m43.7921\u001b[0m\u001b[1;33m]\u001b[0m\u001b[1;33m]\u001b[0m\u001b[1;33m,\u001b[0m\u001b[1;34m'euclidean'\u001b[0m\u001b[1;33m)\u001b[0m\u001b[1;33m\u001b[0m\u001b[1;33m\u001b[0m\u001b[0m\n\u001b[0;32m      3\u001b[0m \u001b[1;33m\u001b[0m\u001b[0m\n\u001b[0;32m      4\u001b[0m \u001b[1;33m[\u001b[0m\u001b[0mnp\u001b[0m\u001b[1;33m.\u001b[0m\u001b[0mmean\u001b[0m\u001b[1;33m(\u001b[0m\u001b[0mnpd\u001b[0m\u001b[1;33m,\u001b[0m\u001b[0maxis\u001b[0m\u001b[1;33m=\u001b[0m\u001b[1;36m0\u001b[0m\u001b[1;33m)\u001b[0m\u001b[1;33m,\u001b[0m\u001b[0mnp\u001b[0m\u001b[1;33m.\u001b[0m\u001b[0mmean\u001b[0m\u001b[1;33m(\u001b[0m\u001b[0mnpd2\u001b[0m\u001b[1;33m,\u001b[0m\u001b[0maxis\u001b[0m\u001b[1;33m=\u001b[0m\u001b[1;36m0\u001b[0m\u001b[1;33m)\u001b[0m\u001b[1;33m]\u001b[0m\u001b[1;33m\u001b[0m\u001b[1;33m\u001b[0m\u001b[0m\n",
      "\u001b[1;31mNameError\u001b[0m: name 'a' is not defined"
     ]
    }
   ],
   "source": [
    "npd = distance.cdist(a,[[115/3,115/3,115/3],[49,41,25],[32.0724, 39.1355, 43.7921]],'cityblock')\n",
    "npd2 = distance.cdist(a,[[115/3,115/3,115/3],[49,41,25],[32.0724, 39.1355, 43.7921]],'euclidean')\n",
    "\n",
    "[np.mean(npd,axis=0),np.mean(npd2,axis=0)]"
   ]
  },
  {
   "cell_type": "code",
   "execution_count": 96,
   "metadata": {
    "hidden": true
   },
   "outputs": [],
   "source": [
    "gamegroups = YHData.groupby('Game')"
   ]
  },
  {
   "cell_type": "code",
   "execution_count": 97,
   "metadata": {
    "hidden": true
   },
   "outputs": [],
   "source": [
    "a = []\n",
    "for g,data in gamegroups:\n",
    "    data.sort_values(by=['Time','GrSubject'])\n",
    "    a.append( data['x'].iloc[-3:].values )"
   ]
  },
  {
   "cell_type": "code",
   "execution_count": 99,
   "metadata": {
    "hidden": true
   },
   "outputs": [],
   "source": [
    "npd = distance.cdist(a,[[49,41,25],[22.81,115/3,53.85]],'cityblock')\n",
    "npd2 = distance.cdist(a,[[49,41,25],[22.81,115/3,53.85]],'euclidean')"
   ]
  },
  {
   "cell_type": "code",
   "execution_count": 64,
   "metadata": {
    "hidden": true
   },
   "outputs": [
    {
     "ename": "NameError",
     "evalue": "name 'npd' is not defined",
     "output_type": "error",
     "traceback": [
      "\u001b[1;31m---------------------------------------------------------------------------\u001b[0m",
      "\u001b[1;31mNameError\u001b[0m                                 Traceback (most recent call last)",
      "\u001b[1;32m<ipython-input-64-38e1c0fb3cc0>\u001b[0m in \u001b[0;36m<module>\u001b[1;34m\u001b[0m\n\u001b[1;32m----> 1\u001b[1;33m \u001b[0mnp\u001b[0m\u001b[1;33m.\u001b[0m\u001b[0mmean\u001b[0m\u001b[1;33m(\u001b[0m\u001b[0mnpd\u001b[0m\u001b[1;33m,\u001b[0m\u001b[0maxis\u001b[0m\u001b[1;33m=\u001b[0m\u001b[1;36m0\u001b[0m\u001b[1;33m)\u001b[0m\u001b[1;33m\u001b[0m\u001b[1;33m\u001b[0m\u001b[0m\n\u001b[0m",
      "\u001b[1;31mNameError\u001b[0m: name 'npd' is not defined"
     ]
    }
   ],
   "source": [
    "np.mean(npd,axis=0)"
   ]
  },
  {
   "cell_type": "code",
   "execution_count": 63,
   "metadata": {
    "hidden": true
   },
   "outputs": [
    {
     "ename": "NameError",
     "evalue": "name 'npd2' is not defined",
     "output_type": "error",
     "traceback": [
      "\u001b[1;31m---------------------------------------------------------------------------\u001b[0m",
      "\u001b[1;31mNameError\u001b[0m                                 Traceback (most recent call last)",
      "\u001b[1;32m<ipython-input-63-e15671ecd03e>\u001b[0m in \u001b[0;36m<module>\u001b[1;34m\u001b[0m\n\u001b[1;32m----> 1\u001b[1;33m \u001b[0mnp\u001b[0m\u001b[1;33m.\u001b[0m\u001b[0mmean\u001b[0m\u001b[1;33m(\u001b[0m\u001b[0mnpd2\u001b[0m\u001b[1;33m,\u001b[0m\u001b[0maxis\u001b[0m\u001b[1;33m=\u001b[0m\u001b[1;36m0\u001b[0m\u001b[1;33m)\u001b[0m\u001b[1;33m\u001b[0m\u001b[1;33m\u001b[0m\u001b[0m\n\u001b[0m",
      "\u001b[1;31mNameError\u001b[0m: name 'npd2' is not defined"
     ]
    }
   ],
   "source": [
    "np.mean(npd2,axis=0)"
   ]
  },
  {
   "cell_type": "code",
   "execution_count": 60,
   "metadata": {
    "hidden": true
   },
   "outputs": [
    {
     "ename": "NameError",
     "evalue": "name 'a' is not defined",
     "output_type": "error",
     "traceback": [
      "\u001b[1;31m---------------------------------------------------------------------------\u001b[0m",
      "\u001b[1;31mNameError\u001b[0m                                 Traceback (most recent call last)",
      "\u001b[1;32m<ipython-input-60-3f786850e387>\u001b[0m in \u001b[0;36m<module>\u001b[1;34m\u001b[0m\n\u001b[1;32m----> 1\u001b[1;33m \u001b[0ma\u001b[0m\u001b[1;33m\u001b[0m\u001b[1;33m\u001b[0m\u001b[0m\n\u001b[0m",
      "\u001b[1;31mNameError\u001b[0m: name 'a' is not defined"
     ]
    }
   ],
   "source": [
    "a"
   ]
  },
  {
   "cell_type": "code",
   "execution_count": 102,
   "metadata": {
    "hidden": true
   },
   "outputs": [],
   "source": [
    "def f(x,r):\n",
    "    import math\n",
    "    return math.sqrt(r+x)-math.sqrt(r)"
   ]
  },
  {
   "cell_type": "code",
   "execution_count": 103,
   "metadata": {
    "hidden": true
   },
   "outputs": [],
   "source": [
    "def Nf(x,r):\n",
    "    return f(x[0],r[0])*f(x[1],r[1])*f(x[2],r[2])"
   ]
  },
  {
   "cell_type": "code",
   "execution_count": 65,
   "metadata": {
    "hidden": true
   },
   "outputs": [
    {
     "ename": "NameError",
     "evalue": "name 'Nf' is not defined",
     "output_type": "error",
     "traceback": [
      "\u001b[1;31m---------------------------------------------------------------------------\u001b[0m",
      "\u001b[1;31mNameError\u001b[0m                                 Traceback (most recent call last)",
      "\u001b[1;32m<ipython-input-65-b6359a1a0ece>\u001b[0m in \u001b[0;36m<module>\u001b[1;34m\u001b[0m\n\u001b[1;32m----> 1\u001b[1;33m \u001b[0mNf\u001b[0m\u001b[1;33m(\u001b[0m\u001b[1;33m[\u001b[0m\u001b[1;36m22.81\u001b[0m\u001b[1;33m,\u001b[0m\u001b[1;36m115\u001b[0m\u001b[1;33m/\u001b[0m\u001b[1;36m3\u001b[0m\u001b[1;33m,\u001b[0m\u001b[1;36m53.85\u001b[0m\u001b[1;33m]\u001b[0m\u001b[1;33m,\u001b[0m\u001b[1;33m[\u001b[0m\u001b[1;36m1\u001b[0m\u001b[1;33m,\u001b[0m\u001b[1;36m9\u001b[0m\u001b[1;33m,\u001b[0m\u001b[1;36m25\u001b[0m\u001b[1;33m]\u001b[0m\u001b[1;33m)\u001b[0m\u001b[1;33m\u001b[0m\u001b[1;33m\u001b[0m\u001b[0m\n\u001b[0m",
      "\u001b[1;31mNameError\u001b[0m: name 'Nf' is not defined"
     ]
    }
   ],
   "source": [
    "Nf([22.81,115/3,53.85],[1,9,25])"
   ]
  },
  {
   "cell_type": "code",
   "execution_count": 66,
   "metadata": {
    "hidden": true
   },
   "outputs": [
    {
     "ename": "NameError",
     "evalue": "name 'Nf' is not defined",
     "output_type": "error",
     "traceback": [
      "\u001b[1;31m---------------------------------------------------------------------------\u001b[0m",
      "\u001b[1;31mNameError\u001b[0m                                 Traceback (most recent call last)",
      "\u001b[1;32m<ipython-input-66-5b57362bf2f3>\u001b[0m in \u001b[0;36m<module>\u001b[1;34m\u001b[0m\n\u001b[1;32m----> 1\u001b[1;33m \u001b[0mNf\u001b[0m\u001b[1;33m(\u001b[0m\u001b[1;33m[\u001b[0m\u001b[1;36m20\u001b[0m\u001b[1;33m,\u001b[0m\u001b[1;36m40\u001b[0m\u001b[1;33m,\u001b[0m\u001b[1;36m55\u001b[0m\u001b[1;33m]\u001b[0m\u001b[1;33m,\u001b[0m\u001b[1;33m[\u001b[0m\u001b[1;36m1\u001b[0m\u001b[1;33m,\u001b[0m\u001b[1;36m9\u001b[0m\u001b[1;33m,\u001b[0m\u001b[1;36m25\u001b[0m\u001b[1;33m]\u001b[0m\u001b[1;33m)\u001b[0m\u001b[1;33m\u001b[0m\u001b[1;33m\u001b[0m\u001b[0m\n\u001b[0m",
      "\u001b[1;31mNameError\u001b[0m: name 'Nf' is not defined"
     ]
    }
   ],
   "source": [
    "Nf([20,40,55],[1,9,25])"
   ]
  },
  {
   "cell_type": "code",
   "execution_count": 67,
   "metadata": {
    "hidden": true
   },
   "outputs": [
    {
     "ename": "NameError",
     "evalue": "name 'Nf' is not defined",
     "output_type": "error",
     "traceback": [
      "\u001b[1;31m---------------------------------------------------------------------------\u001b[0m",
      "\u001b[1;31mNameError\u001b[0m                                 Traceback (most recent call last)",
      "\u001b[1;32m<ipython-input-67-ffa0b8897dfd>\u001b[0m in \u001b[0;36m<module>\u001b[1;34m\u001b[0m\n\u001b[1;32m----> 1\u001b[1;33m \u001b[0mNf\u001b[0m\u001b[1;33m(\u001b[0m\u001b[1;33m[\u001b[0m\u001b[1;36m115\u001b[0m\u001b[1;33m/\u001b[0m\u001b[1;36m3\u001b[0m\u001b[1;33m,\u001b[0m\u001b[1;36m115\u001b[0m\u001b[1;33m/\u001b[0m\u001b[1;36m3\u001b[0m\u001b[1;33m,\u001b[0m\u001b[1;36m115\u001b[0m\u001b[1;33m/\u001b[0m\u001b[1;36m3\u001b[0m\u001b[1;33m]\u001b[0m\u001b[1;33m,\u001b[0m\u001b[1;33m[\u001b[0m\u001b[1;36m1\u001b[0m\u001b[1;33m,\u001b[0m\u001b[1;36m9\u001b[0m\u001b[1;33m,\u001b[0m\u001b[1;36m25\u001b[0m\u001b[1;33m]\u001b[0m\u001b[1;33m)\u001b[0m\u001b[1;33m\u001b[0m\u001b[1;33m\u001b[0m\u001b[0m\n\u001b[0m",
      "\u001b[1;31mNameError\u001b[0m: name 'Nf' is not defined"
     ]
    }
   ],
   "source": [
    "Nf([115/3,115/3,115/3],[1,9,25])"
   ]
  },
  {
   "cell_type": "code",
   "execution_count": 68,
   "metadata": {
    "hidden": true
   },
   "outputs": [
    {
     "data": {
      "text/plain": [
       "114.99333333333334"
      ]
     },
     "execution_count": 68,
     "metadata": {},
     "output_type": "execute_result"
    }
   ],
   "source": [
    "22.81+115/3+53.85"
   ]
  },
  {
   "cell_type": "code",
   "execution_count": 69,
   "metadata": {
    "hidden": true
   },
   "outputs": [
    {
     "ename": "NameError",
     "evalue": "name 'Nf' is not defined",
     "output_type": "error",
     "traceback": [
      "\u001b[1;31m---------------------------------------------------------------------------\u001b[0m",
      "\u001b[1;31mNameError\u001b[0m                                 Traceback (most recent call last)",
      "\u001b[1;32m<ipython-input-69-5b621478827d>\u001b[0m in \u001b[0;36m<module>\u001b[1;34m\u001b[0m\n\u001b[1;32m----> 1\u001b[1;33m \u001b[0mNf\u001b[0m\u001b[1;33m(\u001b[0m\u001b[1;33m[\u001b[0m\u001b[1;36m32.0724\u001b[0m\u001b[1;33m,\u001b[0m \u001b[1;36m39.1355\u001b[0m\u001b[1;33m,\u001b[0m \u001b[1;36m43.7921\u001b[0m\u001b[1;33m]\u001b[0m\u001b[1;33m,\u001b[0m\u001b[1;33m[\u001b[0m\u001b[1;36m1\u001b[0m\u001b[1;33m,\u001b[0m\u001b[1;36m9\u001b[0m\u001b[1;33m,\u001b[0m\u001b[1;36m25\u001b[0m\u001b[1;33m]\u001b[0m\u001b[1;33m)\u001b[0m\u001b[1;33m\u001b[0m\u001b[1;33m\u001b[0m\u001b[0m\n\u001b[0m",
      "\u001b[1;31mNameError\u001b[0m: name 'Nf' is not defined"
     ]
    }
   ],
   "source": [
    "Nf([32.0724, 39.1355, 43.7921],[1,9,25])"
   ]
  },
  {
   "cell_type": "code",
   "execution_count": 70,
   "metadata": {
    "hidden": true
   },
   "outputs": [
    {
     "ename": "NameError",
     "evalue": "name 'Nf' is not defined",
     "output_type": "error",
     "traceback": [
      "\u001b[1;31m---------------------------------------------------------------------------\u001b[0m",
      "\u001b[1;31mNameError\u001b[0m                                 Traceback (most recent call last)",
      "\u001b[1;32m<ipython-input-70-2a4a0f1ba78c>\u001b[0m in \u001b[0;36m<module>\u001b[1;34m\u001b[0m\n\u001b[1;32m----> 1\u001b[1;33m \u001b[0mNf\u001b[0m\u001b[1;33m(\u001b[0m\u001b[1;33m[\u001b[0m\u001b[1;36m49\u001b[0m\u001b[1;33m,\u001b[0m\u001b[1;36m41\u001b[0m\u001b[1;33m,\u001b[0m\u001b[1;36m25\u001b[0m\u001b[1;33m]\u001b[0m\u001b[1;33m,\u001b[0m\u001b[1;33m[\u001b[0m\u001b[1;36m1\u001b[0m\u001b[1;33m,\u001b[0m\u001b[1;36m9\u001b[0m\u001b[1;33m,\u001b[0m\u001b[1;36m25\u001b[0m\u001b[1;33m]\u001b[0m\u001b[1;33m)\u001b[0m\u001b[1;33m\u001b[0m\u001b[1;33m\u001b[0m\u001b[0m\n\u001b[0m",
      "\u001b[1;31mNameError\u001b[0m: name 'Nf' is not defined"
     ]
    }
   ],
   "source": [
    "Nf([49,41,25],[1,9,25])"
   ]
  },
  {
   "cell_type": "markdown",
   "metadata": {
    "heading_collapsed": "true",
    "tags": []
   },
   "source": [
    "## Оценка распределения длин КП"
   ]
  },
  {
   "cell_type": "code",
   "execution_count": 2,
   "metadata": {
    "hidden": true
   },
   "outputs": [],
   "source": [
    "cbs = getCBwithEps(YHData)"
   ]
  },
  {
   "cell_type": "code",
   "execution_count": 3,
   "metadata": {
    "hidden": true
   },
   "outputs": [],
   "source": [
    "notStoppedCbs = cbs[cbs['te']!=cbs['gamelength']]"
   ]
  },
  {
   "cell_type": "code",
   "execution_count": 4,
   "metadata": {
    "hidden": true
   },
   "outputs": [],
   "source": [
    "lengths = (notStoppedCbs['te']-notStoppedCbs['ts'])"
   ]
  },
  {
   "cell_type": "code",
   "execution_count": 61,
   "metadata": {
    "hidden": true
   },
   "outputs": [
    {
     "ename": "NameError",
     "evalue": "name 'lengths' is not defined",
     "output_type": "error",
     "traceback": [
      "\u001b[1;31m---------------------------------------------------------------------------\u001b[0m",
      "\u001b[1;31mNameError\u001b[0m                                 Traceback (most recent call last)",
      "\u001b[1;32m<ipython-input-61-cb14c81a2b8f>\u001b[0m in \u001b[0;36m<module>\u001b[1;34m\u001b[0m\n\u001b[1;32m----> 1\u001b[1;33m \u001b[0mlengths\u001b[0m\u001b[1;33m.\u001b[0m\u001b[0mvalues\u001b[0m\u001b[1;33m\u001b[0m\u001b[1;33m\u001b[0m\u001b[0m\n\u001b[0m",
      "\u001b[1;31mNameError\u001b[0m: name 'lengths' is not defined"
     ]
    }
   ],
   "source": [
    "lengths.values"
   ]
  },
  {
   "cell_type": "code",
   "execution_count": 6,
   "metadata": {
    "hidden": true
   },
   "outputs": [
    {
     "data": {
      "image/png": "[encoded data removed]",
      "text/plain": [
       "<Figure size 432x288 with 1 Axes>"
      ]
     },
     "metadata": {
      "needs_background": "light"
     },
     "output_type": "display_data"
    }
   ],
   "source": [
    "plt.rcParams.update({'font.size': 16})\n",
    "a,b = np.histogram(lengths)\n",
    "\n",
    "#labels = ['G1', 'G2', 'G3', 'G4', 'G5']\n",
    "labels = b[0:10]\n",
    "x = np.arange(len(labels))  # the label locations\n",
    "width = 0.8  # the width of the bars\n",
    "fig, ax = plt.subplots()\n",
    "rects1 = ax.bar(x, a, width,color='xkcd:grey')\n",
    "\n",
    "# Add some text for labels, title and custom x-axis tick labels, etc.\n",
    "ax.set_xlabel('Длина КП')\n",
    "ax.set_ylabel('Количество КП')\n",
    "ax.set_xticks(x)\n",
    "ax.set_xticklabels(b.astype(int))\n",
    "\n",
    "def autolabel(rects):\n",
    "    \"\"\"Attach a text label above each bar in *rects*, displaying its height.\"\"\"\n",
    "    # Get y-axis height to calculate label position from.\n",
    "    (y_bottom, y_top) = ax.get_ylim()\n",
    "    y_height = y_top - y_bottom\n",
    "    \n",
    "    for rect in rects:\n",
    "        height = rect.get_height()\n",
    "        \n",
    "        # Fraction of axis height taken up by this rectangle\n",
    "        p_height = (height / y_height)\n",
    "\n",
    "        # If we can fit the label above the column, do that;\n",
    "        # otherwise, put it inside the column.\n",
    "        if p_height > 0.95: # arbitrary; 95% looked good to me.\n",
    "            label_position = height - (y_height * 0.09)\n",
    "        else:\n",
    "            label_position = height + (y_height * 0.01)\n",
    "\n",
    "        ax.text(rect.get_x() + rect.get_width()/2., label_position,\n",
    "                '%d' % int(height),\n",
    "                ha='center', va='bottom')\n",
    "\n",
    "autolabel(rects1)\n",
    "fig.tight_layout()\n",
    "\n",
    "#plt.show()\n",
    "plt.savefig(\"1\")"
   ]
  },
  {
   "cell_type": "code",
   "execution_count": 8,
   "metadata": {
    "hidden": true
   },
   "outputs": [],
   "source": [
    "from scipy import stats\n",
    "from scipy.stats import logser\n",
    "from statsmodels.base.model import GenericLikelihoodModel"
   ]
  },
  {
   "cell_type": "code",
   "execution_count": 15,
   "metadata": {
    "hidden": true
   },
   "outputs": [],
   "source": [
    "class LogFit(GenericLikelihoodModel):\n",
    "    def __init__(self, endog, exog=None, **kwds):\n",
    "        if exog is None:\n",
    "            exog = np.zeros_like(endog)\n",
    "            \n",
    "        super(LogFit, self).__init__(endog, exog, **kwds)\n",
    "    \n",
    "    def nloglikeobs(self, params):\n",
    "\n",
    "        return -np.log(logser.pmf(self.endog, p=params[0]))\n",
    "    \n",
    "    def fit(self, start_params=None, maxiter=10000, maxfun=5000, **kwds):\n",
    "        if start_params is None:\n",
    "            excess_zeros = 0.5 #(self.endog == 0).mean() - stats.poisson.pmf(0, lambda_start)\n",
    "            \n",
    "            start_params = np.array([excess_zeros])\n",
    "            \n",
    "        return super(LogFit, self).fit(start_params=start_params,\n",
    "                                                    maxiter=maxiter, maxfun=maxfun, **kwds)"
   ]
  },
  {
   "cell_type": "code",
   "execution_count": 16,
   "metadata": {
    "hidden": true
   },
   "outputs": [
    {
     "name": "stdout",
     "output_type": "stream",
     "text": [
      "Optimization terminated successfully.\n",
      "         Current function value: 1.520917\n",
      "         Iterations: 14\n",
      "         Function evaluations: 28\n"
     ]
    }
   ],
   "source": [
    "results = LogFit(lengths.values.tolist()).fit()"
   ]
  },
  {
   "cell_type": "code",
   "execution_count": 17,
   "metadata": {
    "hidden": true
   },
   "outputs": [],
   "source": [
    "plog = results.params.item()"
   ]
  },
  {
   "cell_type": "code",
   "execution_count": 71,
   "metadata": {
    "hidden": true
   },
   "outputs": [
    {
     "ename": "NameError",
     "evalue": "name 'plog' is not defined",
     "output_type": "error",
     "traceback": [
      "\u001b[1;31m---------------------------------------------------------------------------\u001b[0m",
      "\u001b[1;31mNameError\u001b[0m                                 Traceback (most recent call last)",
      "\u001b[1;32m<ipython-input-71-59d8114758aa>\u001b[0m in \u001b[0;36m<module>\u001b[1;34m\u001b[0m\n\u001b[1;32m----> 1\u001b[1;33m \u001b[0mplog\u001b[0m\u001b[1;33m\u001b[0m\u001b[1;33m\u001b[0m\u001b[0m\n\u001b[0m",
      "\u001b[1;31mNameError\u001b[0m: name 'plog' is not defined"
     ]
    }
   ],
   "source": [
    "plog"
   ]
  },
  {
   "cell_type": "code",
   "execution_count": 72,
   "metadata": {
    "hidden": true
   },
   "outputs": [
    {
     "ename": "NameError",
     "evalue": "name 'notStoppedCbs' is not defined",
     "output_type": "error",
     "traceback": [
      "\u001b[1;31m---------------------------------------------------------------------------\u001b[0m",
      "\u001b[1;31mNameError\u001b[0m                                 Traceback (most recent call last)",
      "\u001b[1;32m<ipython-input-72-4afdf721e271>\u001b[0m in \u001b[0;36m<module>\u001b[1;34m\u001b[0m\n\u001b[1;32m----> 1\u001b[1;33m \u001b[0mnotStoppedCbs\u001b[0m\u001b[1;33m.\u001b[0m\u001b[0mshape\u001b[0m\u001b[1;33m\u001b[0m\u001b[1;33m\u001b[0m\u001b[0m\n\u001b[0m",
      "\u001b[1;31mNameError\u001b[0m: name 'notStoppedCbs' is not defined"
     ]
    }
   ],
   "source": [
    "notStoppedCbs.shape"
   ]
  },
  {
   "cell_type": "code",
   "execution_count": 73,
   "metadata": {
    "hidden": true
   },
   "outputs": [
    {
     "ename": "NameError",
     "evalue": "name 'logser' is not defined",
     "output_type": "error",
     "traceback": [
      "\u001b[1;31m---------------------------------------------------------------------------\u001b[0m",
      "\u001b[1;31mNameError\u001b[0m                                 Traceback (most recent call last)",
      "\u001b[1;32m<ipython-input-73-517505c91ee9>\u001b[0m in \u001b[0;36m<module>\u001b[1;34m\u001b[0m\n\u001b[1;32m----> 1\u001b[1;33m \u001b[1;36m118\u001b[0m\u001b[1;33m*\u001b[0m\u001b[1;33m(\u001b[0m\u001b[1;36m1\u001b[0m\u001b[1;33m-\u001b[0m\u001b[0mlogser\u001b[0m\u001b[1;33m.\u001b[0m\u001b[0mpmf\u001b[0m\u001b[1;33m(\u001b[0m\u001b[1;36m1\u001b[0m\u001b[1;33m,\u001b[0m\u001b[0mplog\u001b[0m\u001b[1;33m)\u001b[0m\u001b[1;33m-\u001b[0m\u001b[0mlogser\u001b[0m\u001b[1;33m.\u001b[0m\u001b[0mpmf\u001b[0m\u001b[1;33m(\u001b[0m\u001b[1;36m2\u001b[0m\u001b[1;33m,\u001b[0m\u001b[0mplog\u001b[0m\u001b[1;33m)\u001b[0m\u001b[1;33m-\u001b[0m\u001b[0mlogser\u001b[0m\u001b[1;33m.\u001b[0m\u001b[0mpmf\u001b[0m\u001b[1;33m(\u001b[0m\u001b[1;36m3\u001b[0m\u001b[1;33m,\u001b[0m\u001b[0mplog\u001b[0m\u001b[1;33m)\u001b[0m\u001b[1;33m-\u001b[0m\u001b[0mlogser\u001b[0m\u001b[1;33m.\u001b[0m\u001b[0mpmf\u001b[0m\u001b[1;33m(\u001b[0m\u001b[1;36m4\u001b[0m\u001b[1;33m,\u001b[0m\u001b[0mplog\u001b[0m\u001b[1;33m)\u001b[0m\u001b[1;33m-\u001b[0m\u001b[0mlogser\u001b[0m\u001b[1;33m.\u001b[0m\u001b[0mpmf\u001b[0m\u001b[1;33m(\u001b[0m\u001b[1;36m5\u001b[0m\u001b[1;33m,\u001b[0m\u001b[0mplog\u001b[0m\u001b[1;33m)\u001b[0m\u001b[1;33m-\u001b[0m\u001b[0mlogser\u001b[0m\u001b[1;33m.\u001b[0m\u001b[0mpmf\u001b[0m\u001b[1;33m(\u001b[0m\u001b[1;36m6\u001b[0m\u001b[1;33m,\u001b[0m\u001b[0mplog\u001b[0m\u001b[1;33m)\u001b[0m\u001b[1;33m)\u001b[0m \u001b[1;31m#smallclass\u001b[0m\u001b[1;33m\u001b[0m\u001b[1;33m\u001b[0m\u001b[0m\n\u001b[0m",
      "\u001b[1;31mNameError\u001b[0m: name 'logser' is not defined"
     ]
    }
   ],
   "source": [
    "118*(1-logser.pmf(1,plog)-logser.pmf(2,plog)-logser.pmf(3,plog)-logser.pmf(4,plog)-logser.pmf(5,plog)-logser.pmf(6,plog)) #smallclass"
   ]
  },
  {
   "cell_type": "markdown",
   "metadata": {
    "hidden": true
   },
   "source": [
    "smallclass <~ 5 then use classes 1,2,3,4,5,[6,...]"
   ]
  },
  {
   "cell_type": "code",
   "execution_count": 19,
   "metadata": {
    "hidden": true
   },
   "outputs": [],
   "source": [
    "def myclass(a):\n",
    "    if a > 4:\n",
    "        return 5\n",
    "    else:\n",
    "        return a"
   ]
  },
  {
   "cell_type": "code",
   "execution_count": 74,
   "metadata": {
    "hidden": true
   },
   "outputs": [
    {
     "ename": "NameError",
     "evalue": "name 'lengths' is not defined",
     "output_type": "error",
     "traceback": [
      "\u001b[1;31m---------------------------------------------------------------------------\u001b[0m",
      "\u001b[1;31mNameError\u001b[0m                                 Traceback (most recent call last)",
      "\u001b[1;32m<ipython-input-74-0178484de111>\u001b[0m in \u001b[0;36m<module>\u001b[1;34m\u001b[0m\n\u001b[1;32m----> 1\u001b[1;33m \u001b[0mlengths\u001b[0m\u001b[1;33m.\u001b[0m\u001b[0mindex\u001b[0m \u001b[1;33m=\u001b[0m \u001b[0mlengths\u001b[0m\u001b[1;33m.\u001b[0m\u001b[0mvalues\u001b[0m\u001b[1;33m\u001b[0m\u001b[1;33m\u001b[0m\u001b[0m\n\u001b[0m\u001b[0;32m      2\u001b[0m \u001b[0mhistclasses\u001b[0m \u001b[1;33m=\u001b[0m \u001b[0mlengths\u001b[0m\u001b[1;33m.\u001b[0m\u001b[0mgroupby\u001b[0m\u001b[1;33m(\u001b[0m\u001b[0mmyclass\u001b[0m\u001b[1;33m)\u001b[0m\u001b[1;33m.\u001b[0m\u001b[0mcount\u001b[0m\u001b[1;33m(\u001b[0m\u001b[1;33m)\u001b[0m\u001b[1;33m\u001b[0m\u001b[1;33m\u001b[0m\u001b[0m\n\u001b[0;32m      3\u001b[0m \u001b[0mhistclasses\u001b[0m\u001b[1;33m\u001b[0m\u001b[1;33m\u001b[0m\u001b[0m\n",
      "\u001b[1;31mNameError\u001b[0m: name 'lengths' is not defined"
     ]
    }
   ],
   "source": [
    "lengths.index = lengths.values\n",
    "histclasses = lengths.groupby(myclass).count()\n",
    "histclasses"
   ]
  },
  {
   "cell_type": "code",
   "execution_count": 21,
   "metadata": {
    "hidden": true
   },
   "outputs": [],
   "source": [
    "expclassesp = [logser.pmf(1,plog),logser.pmf(2,plog),logser.pmf(3,plog),logser.pmf(4,plog)]\n",
    "expclassesp.append( 1 - np.sum(expclassesp) )"
   ]
  },
  {
   "cell_type": "code",
   "execution_count": 22,
   "metadata": {
    "hidden": true
   },
   "outputs": [],
   "source": [
    "expclasses = np.multiply(118,expclassesp)"
   ]
  },
  {
   "cell_type": "code",
   "execution_count": 75,
   "metadata": {
    "hidden": true
   },
   "outputs": [
    {
     "ename": "NameError",
     "evalue": "name 'stats' is not defined",
     "output_type": "error",
     "traceback": [
      "\u001b[1;31m---------------------------------------------------------------------------\u001b[0m",
      "\u001b[1;31mNameError\u001b[0m                                 Traceback (most recent call last)",
      "\u001b[1;32m<ipython-input-75-35b4bb29db2f>\u001b[0m in \u001b[0;36m<module>\u001b[1;34m\u001b[0m\n\u001b[1;32m----> 1\u001b[1;33m \u001b[0mstats\u001b[0m\u001b[1;33m.\u001b[0m\u001b[0mchisquare\u001b[0m\u001b[1;33m(\u001b[0m\u001b[0mhistclasses\u001b[0m\u001b[1;33m.\u001b[0m\u001b[0mvalues\u001b[0m\u001b[1;33m,\u001b[0m\u001b[0mexpclasses\u001b[0m\u001b[1;33m,\u001b[0m\u001b[1;36m1\u001b[0m\u001b[1;33m)\u001b[0m\u001b[1;33m\u001b[0m\u001b[1;33m\u001b[0m\u001b[0m\n\u001b[0m",
      "\u001b[1;31mNameError\u001b[0m: name 'stats' is not defined"
     ]
    }
   ],
   "source": [
    "stats.chisquare(histclasses.values,expclasses,1)"
   ]
  },
  {
   "cell_type": "markdown",
   "metadata": {
    "hidden": true
   },
   "source": [
    "### Гипотеза падения выигрышей"
   ]
  },
  {
   "cell_type": "code",
   "execution_count": 67,
   "metadata": {
    "hidden": true
   },
   "outputs": [],
   "source": [
    "arr = np.loadtxt('2.txt')"
   ]
  },
  {
   "cell_type": "code",
   "execution_count": 76,
   "metadata": {
    "hidden": true
   },
   "outputs": [
    {
     "ename": "NameError",
     "evalue": "name 'arr' is not defined",
     "output_type": "error",
     "traceback": [
      "\u001b[1;31m---------------------------------------------------------------------------\u001b[0m",
      "\u001b[1;31mNameError\u001b[0m                                 Traceback (most recent call last)",
      "\u001b[1;32m<ipython-input-76-7cc0eb5f4b5a>\u001b[0m in \u001b[0;36m<module>\u001b[1;34m\u001b[0m\n\u001b[1;32m----> 1\u001b[1;33m \u001b[0mnp\u001b[0m\u001b[1;33m.\u001b[0m\u001b[0mshape\u001b[0m\u001b[1;33m(\u001b[0m\u001b[0marr\u001b[0m\u001b[1;33m)\u001b[0m\u001b[1;33m\u001b[0m\u001b[1;33m\u001b[0m\u001b[0m\n\u001b[0m",
      "\u001b[1;31mNameError\u001b[0m: name 'arr' is not defined"
     ]
    }
   ],
   "source": [
    "np.shape(arr)"
   ]
  },
  {
   "cell_type": "code",
   "execution_count": 78,
   "metadata": {
    "hidden": true
   },
   "outputs": [
    {
     "ename": "NameError",
     "evalue": "name 'stats' is not defined",
     "output_type": "error",
     "traceback": [
      "\u001b[1;31m---------------------------------------------------------------------------\u001b[0m",
      "\u001b[1;31mNameError\u001b[0m                                 Traceback (most recent call last)",
      "\u001b[1;32m<ipython-input-78-72e5295d2399>\u001b[0m in \u001b[0;36m<module>\u001b[1;34m\u001b[0m\n\u001b[1;32m----> 1\u001b[1;33m \u001b[0mstats\u001b[0m\u001b[1;33m.\u001b[0m\u001b[0mwilcoxon\u001b[0m\u001b[1;33m(\u001b[0m\u001b[0marr\u001b[0m\u001b[1;33m[\u001b[0m\u001b[1;36m0\u001b[0m\u001b[1;33m]\u001b[0m\u001b[1;33m,\u001b[0m\u001b[0marr\u001b[0m\u001b[1;33m[\u001b[0m\u001b[1;36m1\u001b[0m\u001b[1;33m]\u001b[0m\u001b[1;33m,\u001b[0m\u001b[0mzero_method\u001b[0m\u001b[1;33m=\u001b[0m\u001b[1;34m'wilcox'\u001b[0m\u001b[1;33m)\u001b[0m\u001b[1;33m\u001b[0m\u001b[1;33m\u001b[0m\u001b[0m\n\u001b[0m",
      "\u001b[1;31mNameError\u001b[0m: name 'stats' is not defined"
     ]
    }
   ],
   "source": [
    "stats.wilcoxon(arr[0],arr[1],zero_method='wilcox')"
   ]
  },
  {
   "cell_type": "code",
   "execution_count": 23,
   "metadata": {
    "hidden": true
   },
   "outputs": [],
   "source": [
    "d=pd.DataFrame(arr[0]-arr[1])"
   ]
  },
  {
   "cell_type": "code",
   "execution_count": 25,
   "metadata": {
    "hidden": true
   },
   "outputs": [],
   "source": [
    "d['abs']=abs(d[0])"
   ]
  },
  {
   "cell_type": "code",
   "execution_count": 30,
   "metadata": {
    "hidden": true
   },
   "outputs": [],
   "source": [
    "dsrt = d.sort_values(by='abs')"
   ]
  },
  {
   "cell_type": "code",
   "execution_count": 39,
   "metadata": {
    "hidden": true
   },
   "outputs": [],
   "source": [
    "dsrtnn = dsrt[dsrt['abs']>0].copy()"
   ]
  },
  {
   "cell_type": "code",
   "execution_count": 40,
   "metadata": {
    "hidden": true
   },
   "outputs": [],
   "source": [
    "dsrtnn['rank'] = range(1,dsrtnn.shape[0]+1)"
   ]
  },
  {
   "cell_type": "code",
   "execution_count": 77,
   "metadata": {
    "hidden": true
   },
   "outputs": [
    {
     "ename": "NameError",
     "evalue": "name 'dsrtnn' is not defined",
     "output_type": "error",
     "traceback": [
      "\u001b[1;31m---------------------------------------------------------------------------\u001b[0m",
      "\u001b[1;31mNameError\u001b[0m                                 Traceback (most recent call last)",
      "\u001b[1;32m<ipython-input-77-ec96cc911fe6>\u001b[0m in \u001b[0;36m<module>\u001b[1;34m\u001b[0m\n\u001b[1;32m----> 1\u001b[1;33m \u001b[0mdsrtnn\u001b[0m\u001b[1;33m[\u001b[0m\u001b[0mdsrtnn\u001b[0m\u001b[1;33m[\u001b[0m\u001b[1;36m0\u001b[0m\u001b[1;33m]\u001b[0m\u001b[1;33m<\u001b[0m\u001b[1;36m0\u001b[0m\u001b[1;33m]\u001b[0m\u001b[1;33m[\u001b[0m\u001b[1;34m'rank'\u001b[0m\u001b[1;33m]\u001b[0m\u001b[1;33m.\u001b[0m\u001b[0msum\u001b[0m\u001b[1;33m(\u001b[0m\u001b[1;33m)\u001b[0m\u001b[1;33m\u001b[0m\u001b[1;33m\u001b[0m\u001b[0m\n\u001b[0m",
      "\u001b[1;31mNameError\u001b[0m: name 'dsrtnn' is not defined"
     ]
    }
   ],
   "source": [
    "dsrtnn[dsrtnn[0]<0]['rank'].sum()"
   ]
  },
  {
   "cell_type": "code",
   "execution_count": 79,
   "metadata": {
    "hidden": true
   },
   "outputs": [
    {
     "ename": "NameError",
     "evalue": "name 'dsrtnn' is not defined",
     "output_type": "error",
     "traceback": [
      "\u001b[1;31m---------------------------------------------------------------------------\u001b[0m",
      "\u001b[1;31mNameError\u001b[0m                                 Traceback (most recent call last)",
      "\u001b[1;32m<ipython-input-79-d1ddac095869>\u001b[0m in \u001b[0;36m<module>\u001b[1;34m\u001b[0m\n\u001b[1;32m----> 1\u001b[1;33m \u001b[1;33m(\u001b[0m\u001b[0mnp\u001b[0m\u001b[1;33m.\u001b[0m\u001b[0msign\u001b[0m\u001b[1;33m(\u001b[0m\u001b[0mdsrtnn\u001b[0m\u001b[1;33m[\u001b[0m\u001b[1;36m0\u001b[0m\u001b[1;33m]\u001b[0m\u001b[1;33m)\u001b[0m\u001b[1;33m*\u001b[0m\u001b[0mdsrtnn\u001b[0m\u001b[1;33m[\u001b[0m\u001b[1;34m'rank'\u001b[0m\u001b[1;33m]\u001b[0m\u001b[1;33m)\u001b[0m\u001b[1;33m.\u001b[0m\u001b[0msum\u001b[0m\u001b[1;33m(\u001b[0m\u001b[1;33m)\u001b[0m\u001b[1;33m\u001b[0m\u001b[1;33m\u001b[0m\u001b[0m\n\u001b[0m",
      "\u001b[1;31mNameError\u001b[0m: name 'dsrtnn' is not defined"
     ]
    }
   ],
   "source": [
    "(np.sign(dsrtnn[0])*dsrtnn['rank']).sum()"
   ]
  },
  {
   "cell_type": "code",
   "execution_count": 52,
   "metadata": {
    "hidden": true
   },
   "outputs": [],
   "source": [
    "from math import sqrt"
   ]
  },
  {
   "cell_type": "code",
   "execution_count": 53,
   "metadata": {
    "hidden": true
   },
   "outputs": [],
   "source": [
    "n = 125\n",
    "sigma = sqrt( n*(n+1)*(2*n+1)/6 )"
   ]
  },
  {
   "cell_type": "code",
   "execution_count": 80,
   "metadata": {
    "hidden": true
   },
   "outputs": [
    {
     "ename": "NameError",
     "evalue": "name 'sigma' is not defined",
     "output_type": "error",
     "traceback": [
      "\u001b[1;31m---------------------------------------------------------------------------\u001b[0m",
      "\u001b[1;31mNameError\u001b[0m                                 Traceback (most recent call last)",
      "\u001b[1;32m<ipython-input-80-bc0b719fd29e>\u001b[0m in \u001b[0;36m<module>\u001b[1;34m\u001b[0m\n\u001b[1;32m----> 1\u001b[1;33m \u001b[0msigma\u001b[0m\u001b[1;33m\u001b[0m\u001b[1;33m\u001b[0m\u001b[0m\n\u001b[0m",
      "\u001b[1;31mNameError\u001b[0m: name 'sigma' is not defined"
     ]
    }
   ],
   "source": [
    "sigma"
   ]
  },
  {
   "cell_type": "code",
   "execution_count": 81,
   "metadata": {
    "hidden": true
   },
   "outputs": [
    {
     "ename": "NameError",
     "evalue": "name 'sigma' is not defined",
     "output_type": "error",
     "traceback": [
      "\u001b[1;31m---------------------------------------------------------------------------\u001b[0m",
      "\u001b[1;31mNameError\u001b[0m                                 Traceback (most recent call last)",
      "\u001b[1;32m<ipython-input-81-8671c997c222>\u001b[0m in \u001b[0;36m<module>\u001b[1;34m\u001b[0m\n\u001b[1;32m----> 1\u001b[1;33m \u001b[0msigma\u001b[0m\u001b[1;33m*\u001b[0m\u001b[1;36m1.96\u001b[0m\u001b[1;33m\u001b[0m\u001b[1;33m\u001b[0m\u001b[0m\n\u001b[0m",
      "\u001b[1;31mNameError\u001b[0m: name 'sigma' is not defined"
     ]
    }
   ],
   "source": [
    "sigma*1.96"
   ]
  },
  {
   "cell_type": "code",
   "execution_count": 82,
   "metadata": {
    "hidden": true
   },
   "outputs": [
    {
     "ename": "NameError",
     "evalue": "name 'stats' is not defined",
     "output_type": "error",
     "traceback": [
      "\u001b[1;31m---------------------------------------------------------------------------\u001b[0m",
      "\u001b[1;31mNameError\u001b[0m                                 Traceback (most recent call last)",
      "\u001b[1;32m<ipython-input-82-d4693a50fa94>\u001b[0m in \u001b[0;36m<module>\u001b[1;34m\u001b[0m\n\u001b[1;32m----> 1\u001b[1;33m \u001b[1;36m2\u001b[0m\u001b[1;33m*\u001b[0m\u001b[1;33m(\u001b[0m\u001b[1;36m1\u001b[0m\u001b[1;33m-\u001b[0m\u001b[0mstats\u001b[0m\u001b[1;33m.\u001b[0m\u001b[0mnorm\u001b[0m\u001b[1;33m.\u001b[0m\u001b[0mcdf\u001b[0m\u001b[1;33m(\u001b[0m\u001b[1;36m3655.0\u001b[0m\u001b[1;33m/\u001b[0m\u001b[0msigma\u001b[0m\u001b[1;33m)\u001b[0m\u001b[1;33m)\u001b[0m\u001b[1;33m\u001b[0m\u001b[1;33m\u001b[0m\u001b[0m\n\u001b[0m",
      "\u001b[1;31mNameError\u001b[0m: name 'stats' is not defined"
     ]
    }
   ],
   "source": [
    "2*(1-stats.norm.cdf(3655.0/sigma))"
   ]
  },
  {
   "cell_type": "code",
   "execution_count": 83,
   "metadata": {
    "hidden": true
   },
   "outputs": [
    {
     "ename": "NameError",
     "evalue": "name 'stats' is not defined",
     "output_type": "error",
     "traceback": [
      "\u001b[1;31m---------------------------------------------------------------------------\u001b[0m",
      "\u001b[1;31mNameError\u001b[0m                                 Traceback (most recent call last)",
      "\u001b[1;32m<ipython-input-83-cc9df598ec33>\u001b[0m in \u001b[0;36m<module>\u001b[1;34m\u001b[0m\n\u001b[1;32m----> 1\u001b[1;33m \u001b[0mstats\u001b[0m\u001b[1;33m.\u001b[0m\u001b[0mmannwhitneyu\u001b[0m\u001b[1;33m(\u001b[0m\u001b[0marr\u001b[0m\u001b[1;33m[\u001b[0m\u001b[1;36m0\u001b[0m\u001b[1;33m]\u001b[0m\u001b[1;33m,\u001b[0m\u001b[0marr\u001b[0m\u001b[1;33m[\u001b[0m\u001b[1;36m1\u001b[0m\u001b[1;33m]\u001b[0m\u001b[1;33m,\u001b[0m\u001b[0malternative\u001b[0m\u001b[1;33m=\u001b[0m\u001b[1;34m'less'\u001b[0m\u001b[1;33m)\u001b[0m\u001b[1;33m\u001b[0m\u001b[1;33m\u001b[0m\u001b[0m\n\u001b[0m",
      "\u001b[1;31mNameError\u001b[0m: name 'stats' is not defined"
     ]
    }
   ],
   "source": [
    "stats.mannwhitneyu(arr[0],arr[1],alternative='less')"
   ]
  }
 ],
 "metadata": {
  "kernelspec": {
   "display_name": "Python 3 (ipykernel)",
   "language": "python",
   "name": "python3"
  },
  "language_info": {
   "codemirror_mode": {
    "name": "ipython",
    "version": 3
   },
   "file_extension": ".py",
   "mimetype": "text/x-python",
   "name": "python",
   "nbconvert_exporter": "python",
   "pygments_lexer": "ipython3",
   "version": "3.7.10"
  }
 },
 "nbformat": 4,
 "nbformat_minor": 4
}
